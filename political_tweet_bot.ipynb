{
 "cells": [
  {
   "cell_type": "markdown",
   "metadata": {
    "id": "UmYctjknFwYq"
   },
   "source": [
    "# 0. Initialize"
   ]
  },
  {
   "cell_type": "markdown",
   "metadata": {
    "id": "zi4RmGMbFwY1"
   },
   "source": [
    "## 0.1. Import Libraries"
   ]
  },
  {
   "cell_type": "code",
   "execution_count": null,
   "metadata": {
    "ExecuteTime": {
     "end_time": "2022-12-29T19:51:16.327348Z",
     "start_time": "2022-12-29T19:51:16.300408Z"
    },
    "id": "4gSxULDvFwY3"
   },
   "outputs": [],
   "source": [
    "%matplotlib inline\n",
    "%load_ext autoreload\n",
    "%autoreload 2\n",
    "import os, sys, glob\n",
    "import gzip\n",
    "import random\n",
    "import tqdm\n",
    "import json\n",
    "import numpy as np\n",
    "import pandas as pd\n",
    "pd.set_option(\"display.max_columns\", None)\n",
    "\n",
    "from IPython import display\n",
    "import matplotlib as mpl\n",
    "from matplotlib import pyplot as plt"
   ]
  },
  {
   "cell_type": "markdown",
   "metadata": {
    "id": "MkNF8Z7qFwY7"
   },
   "source": [
    "## 0.2. DEFINE VARIABLES "
   ]
  },
  {
   "cell_type": "code",
   "execution_count": null,
   "metadata": {
    "colab": {
     "base_uri": "https://localhost:8080/"
    },
    "id": "JS18EhCW0R1b",
    "outputId": "7ef21fc9-8a9d-4132-ef21-be810b2a3d1a"
   },
   "outputs": [
    {
     "name": "stdout",
     "output_type": "stream",
     "text": [
      "Mounted at /content/drive/\n"
     ]
    }
   ],
   "source": [
    "from google.colab import drive\n",
    "drive.mount('/content/drive/') "
   ]
  },
  {
   "cell_type": "code",
   "execution_count": null,
   "metadata": {
    "ExecuteTime": {
     "end_time": "2022-12-29T19:51:18.531817Z",
     "start_time": "2022-12-29T19:51:18.502380Z"
    },
    "collapsed": true,
    "id": "1S0tP7M1FwZA"
   },
   "outputs": [],
   "source": [
    "DATA_PATH = '/content/drive/MyDrive/Datas/raw_data/' # '<insert-your-training-data-path-here>'\n",
    "\n",
    "ROUND = 3 # This project will have 3 rounds of predictions: 1,2,3\n",
    "STUDENT_ID = '28061'#'<insert-your-id-here>'\n",
    "PROJECT_CODE = 'CS412e601e2294722'#'<insert-your-code-here>' # Same code for the annotation eg. CS412xxxxx"
   ]
  },
  {
   "cell_type": "markdown",
   "metadata": {
    "id": "Czw6tW6GFwZE"
   },
   "source": [
    "## 0.3. Read Training & Evaluation Data"
   ]
  },
  {
   "cell_type": "markdown",
   "metadata": {
    "id": "62uwtRwFFwZH"
   },
   "source": [
    "### 0.3.1. Get the labels for tweets"
   ]
  },
  {
   "cell_type": "code",
   "execution_count": null,
   "metadata": {
    "ExecuteTime": {
     "end_time": "2022-12-29T19:51:21.373018Z",
     "start_time": "2022-12-29T19:51:21.289213Z"
    },
    "colab": {
     "base_uri": "https://localhost:8080/",
     "height": 424
    },
    "id": "zpSotPxgFwZI",
    "outputId": "6a67f8de-9755-4f72-e3a3-542cc40d049b",
    "scrolled": false
   },
   "outputs": [
    {
     "data": {
      "text/html": [
       "\n",
       "  <div id=\"df-58f99ee1-2ed6-45cd-bf90-37c813228bbe\">\n",
       "    <div class=\"colab-df-container\">\n",
       "      <div>\n",
       "<style scoped>\n",
       "    .dataframe tbody tr th:only-of-type {\n",
       "        vertical-align: middle;\n",
       "    }\n",
       "\n",
       "    .dataframe tbody tr th {\n",
       "        vertical-align: top;\n",
       "    }\n",
       "\n",
       "    .dataframe thead th {\n",
       "        text-align: right;\n",
       "    }\n",
       "</style>\n",
       "<table border=\"1\" class=\"dataframe\">\n",
       "  <thead>\n",
       "    <tr style=\"text-align: right;\">\n",
       "      <th></th>\n",
       "      <th>tweet_id</th>\n",
       "      <th>isPolitical</th>\n",
       "    </tr>\n",
       "  </thead>\n",
       "  <tbody>\n",
       "    <tr>\n",
       "      <th>0</th>\n",
       "      <td>1597170281545551872</td>\n",
       "      <td>Yes</td>\n",
       "    </tr>\n",
       "    <tr>\n",
       "      <th>1</th>\n",
       "      <td>1431700027471192069</td>\n",
       "      <td>No</td>\n",
       "    </tr>\n",
       "    <tr>\n",
       "      <th>2</th>\n",
       "      <td>1566035577090281472</td>\n",
       "      <td>Yes</td>\n",
       "    </tr>\n",
       "    <tr>\n",
       "      <th>3</th>\n",
       "      <td>1591538690869940225</td>\n",
       "      <td>Yes</td>\n",
       "    </tr>\n",
       "    <tr>\n",
       "      <th>4</th>\n",
       "      <td>1583898169238167554</td>\n",
       "      <td>Yes</td>\n",
       "    </tr>\n",
       "    <tr>\n",
       "      <th>...</th>\n",
       "      <td>...</td>\n",
       "      <td>...</td>\n",
       "    </tr>\n",
       "    <tr>\n",
       "      <th>2995</th>\n",
       "      <td>1593539327623151619</td>\n",
       "      <td>Yes</td>\n",
       "    </tr>\n",
       "    <tr>\n",
       "      <th>2996</th>\n",
       "      <td>1393886554062524418</td>\n",
       "      <td>No</td>\n",
       "    </tr>\n",
       "    <tr>\n",
       "      <th>2997</th>\n",
       "      <td>1597925615092764672</td>\n",
       "      <td>Yes</td>\n",
       "    </tr>\n",
       "    <tr>\n",
       "      <th>2998</th>\n",
       "      <td>1585291418616176640</td>\n",
       "      <td>Yes</td>\n",
       "    </tr>\n",
       "    <tr>\n",
       "      <th>2999</th>\n",
       "      <td>1594775287622995971</td>\n",
       "      <td>Yes</td>\n",
       "    </tr>\n",
       "  </tbody>\n",
       "</table>\n",
       "<p>3000 rows × 2 columns</p>\n",
       "</div>\n",
       "      <button class=\"colab-df-convert\" onclick=\"convertToInteractive('df-58f99ee1-2ed6-45cd-bf90-37c813228bbe')\"\n",
       "              title=\"Convert this dataframe to an interactive table.\"\n",
       "              style=\"display:none;\">\n",
       "        \n",
       "  <svg xmlns=\"http://www.w3.org/2000/svg\" height=\"24px\"viewBox=\"0 0 24 24\"\n",
       "       width=\"24px\">\n",
       "    <path d=\"M0 0h24v24H0V0z\" fill=\"none\"/>\n",
       "    <path d=\"M18.56 5.44l.94 2.06.94-2.06 2.06-.94-2.06-.94-.94-2.06-.94 2.06-2.06.94zm-11 1L8.5 8.5l.94-2.06 2.06-.94-2.06-.94L8.5 2.5l-.94 2.06-2.06.94zm10 10l.94 2.06.94-2.06 2.06-.94-2.06-.94-.94-2.06-.94 2.06-2.06.94z\"/><path d=\"M17.41 7.96l-1.37-1.37c-.4-.4-.92-.59-1.43-.59-.52 0-1.04.2-1.43.59L10.3 9.45l-7.72 7.72c-.78.78-.78 2.05 0 2.83L4 21.41c.39.39.9.59 1.41.59.51 0 1.02-.2 1.41-.59l7.78-7.78 2.81-2.81c.8-.78.8-2.07 0-2.86zM5.41 20L4 18.59l7.72-7.72 1.47 1.35L5.41 20z\"/>\n",
       "  </svg>\n",
       "      </button>\n",
       "      \n",
       "  <style>\n",
       "    .colab-df-container {\n",
       "      display:flex;\n",
       "      flex-wrap:wrap;\n",
       "      gap: 12px;\n",
       "    }\n",
       "\n",
       "    .colab-df-convert {\n",
       "      background-color: #E8F0FE;\n",
       "      border: none;\n",
       "      border-radius: 50%;\n",
       "      cursor: pointer;\n",
       "      display: none;\n",
       "      fill: #1967D2;\n",
       "      height: 32px;\n",
       "      padding: 0 0 0 0;\n",
       "      width: 32px;\n",
       "    }\n",
       "\n",
       "    .colab-df-convert:hover {\n",
       "      background-color: #E2EBFA;\n",
       "      box-shadow: 0px 1px 2px rgba(60, 64, 67, 0.3), 0px 1px 3px 1px rgba(60, 64, 67, 0.15);\n",
       "      fill: #174EA6;\n",
       "    }\n",
       "\n",
       "    [theme=dark] .colab-df-convert {\n",
       "      background-color: #3B4455;\n",
       "      fill: #D2E3FC;\n",
       "    }\n",
       "\n",
       "    [theme=dark] .colab-df-convert:hover {\n",
       "      background-color: #434B5C;\n",
       "      box-shadow: 0px 1px 3px 1px rgba(0, 0, 0, 0.15);\n",
       "      filter: drop-shadow(0px 1px 2px rgba(0, 0, 0, 0.3));\n",
       "      fill: #FFFFFF;\n",
       "    }\n",
       "  </style>\n",
       "\n",
       "      <script>\n",
       "        const buttonEl =\n",
       "          document.querySelector('#df-58f99ee1-2ed6-45cd-bf90-37c813228bbe button.colab-df-convert');\n",
       "        buttonEl.style.display =\n",
       "          google.colab.kernel.accessAllowed ? 'block' : 'none';\n",
       "\n",
       "        async function convertToInteractive(key) {\n",
       "          const element = document.querySelector('#df-58f99ee1-2ed6-45cd-bf90-37c813228bbe');\n",
       "          const dataTable =\n",
       "            await google.colab.kernel.invokeFunction('convertToInteractive',\n",
       "                                                     [key], {});\n",
       "          if (!dataTable) return;\n",
       "\n",
       "          const docLinkHtml = 'Like what you see? Visit the ' +\n",
       "            '<a target=\"_blank\" href=https://colab.research.google.com/notebooks/data_table.ipynb>data table notebook</a>'\n",
       "            + ' to learn more about interactive tables.';\n",
       "          element.innerHTML = '';\n",
       "          dataTable['output_type'] = 'display_data';\n",
       "          await google.colab.output.renderOutput(dataTable, element);\n",
       "          const docLink = document.createElement('div');\n",
       "          docLink.innerHTML = docLinkHtml;\n",
       "          element.appendChild(docLink);\n",
       "        }\n",
       "      </script>\n",
       "    </div>\n",
       "  </div>\n",
       "  "
      ],
      "text/plain": [
       "                 tweet_id isPolitical\n",
       "0     1597170281545551872         Yes\n",
       "1     1431700027471192069          No\n",
       "2     1566035577090281472         Yes\n",
       "3     1591538690869940225         Yes\n",
       "4     1583898169238167554         Yes\n",
       "...                   ...         ...\n",
       "2995  1593539327623151619         Yes\n",
       "2996  1393886554062524418          No\n",
       "2997  1597925615092764672         Yes\n",
       "2998  1585291418616176640         Yes\n",
       "2999  1594775287622995971         Yes\n",
       "\n",
       "[3000 rows x 2 columns]"
      ]
     },
     "execution_count": 4,
     "metadata": {},
     "output_type": "execute_result"
    }
   ],
   "source": [
    "trainingTweetDf = pd.read_csv('{}training-tweet.csv'.format(DATA_PATH), dtype={'tweet_id': str, 'isPolitical': str})\n",
    "trainingTweetDf"
   ]
  },
  {
   "cell_type": "code",
   "execution_count": null,
   "metadata": {
    "ExecuteTime": {
     "end_time": "2022-12-29T19:51:24.272948Z",
     "start_time": "2022-12-29T19:51:24.242672Z"
    },
    "colab": {
     "base_uri": "https://localhost:8080/"
    },
    "id": "bVFbM4TzFwZK",
    "outputId": "c7439194-a219-464b-e2e7-416db160f863"
   },
   "outputs": [
    {
     "data": {
      "text/plain": [
       "Yes    2003\n",
       "No      997\n",
       "Name: isPolitical, dtype: int64"
      ]
     },
     "execution_count": 5,
     "metadata": {},
     "output_type": "execute_result"
    }
   ],
   "source": [
    "trainingTweetDf.isPolitical.value_counts()"
   ]
  },
  {
   "cell_type": "markdown",
   "metadata": {
    "id": "Xjbgo85SFwZL"
   },
   "source": [
    "### 0.3.2. Get the labels for users"
   ]
  },
  {
   "cell_type": "code",
   "execution_count": null,
   "metadata": {
    "ExecuteTime": {
     "end_time": "2022-12-29T19:51:26.780981Z",
     "start_time": "2022-12-29T19:51:26.746390Z"
    },
    "colab": {
     "base_uri": "https://localhost:8080/",
     "height": 424
    },
    "id": "wgvmL9pTFwZL",
    "outputId": "ee70477b-69f4-4bf2-f2b9-a705d883f13b",
    "scrolled": true
   },
   "outputs": [
    {
     "data": {
      "text/html": [
       "\n",
       "  <div id=\"df-6f4c9e5d-6dff-4925-baac-03e49a78b7a6\">\n",
       "    <div class=\"colab-df-container\">\n",
       "      <div>\n",
       "<style scoped>\n",
       "    .dataframe tbody tr th:only-of-type {\n",
       "        vertical-align: middle;\n",
       "    }\n",
       "\n",
       "    .dataframe tbody tr th {\n",
       "        vertical-align: top;\n",
       "    }\n",
       "\n",
       "    .dataframe thead th {\n",
       "        text-align: right;\n",
       "    }\n",
       "</style>\n",
       "<table border=\"1\" class=\"dataframe\">\n",
       "  <thead>\n",
       "    <tr style=\"text-align: right;\">\n",
       "      <th></th>\n",
       "      <th>screen_name</th>\n",
       "      <th>isBot</th>\n",
       "    </tr>\n",
       "  </thead>\n",
       "  <tbody>\n",
       "    <tr>\n",
       "      <th>0</th>\n",
       "      <td>koftecancaddy</td>\n",
       "      <td>No</td>\n",
       "    </tr>\n",
       "    <tr>\n",
       "      <th>1</th>\n",
       "      <td>ahaber</td>\n",
       "      <td>No</td>\n",
       "    </tr>\n",
       "    <tr>\n",
       "      <th>2</th>\n",
       "      <td>selahat03949652</td>\n",
       "      <td>No</td>\n",
       "    </tr>\n",
       "    <tr>\n",
       "      <th>3</th>\n",
       "      <td>erdin06357062</td>\n",
       "      <td>No</td>\n",
       "    </tr>\n",
       "    <tr>\n",
       "      <th>4</th>\n",
       "      <td>bhct__necatii</td>\n",
       "      <td>No</td>\n",
       "    </tr>\n",
       "    <tr>\n",
       "      <th>...</th>\n",
       "      <td>...</td>\n",
       "      <td>...</td>\n",
       "    </tr>\n",
       "    <tr>\n",
       "      <th>2995</th>\n",
       "      <td>djblumenberg</td>\n",
       "      <td>No</td>\n",
       "    </tr>\n",
       "    <tr>\n",
       "      <th>2996</th>\n",
       "      <td>mel1sq</td>\n",
       "      <td>No</td>\n",
       "    </tr>\n",
       "    <tr>\n",
       "      <th>2997</th>\n",
       "      <td>eren_yz1</td>\n",
       "      <td>Yes</td>\n",
       "    </tr>\n",
       "    <tr>\n",
       "      <th>2998</th>\n",
       "      <td>ergnyildiz4</td>\n",
       "      <td>No</td>\n",
       "    </tr>\n",
       "    <tr>\n",
       "      <th>2999</th>\n",
       "      <td>isadal24978794</td>\n",
       "      <td>Yes</td>\n",
       "    </tr>\n",
       "  </tbody>\n",
       "</table>\n",
       "<p>3000 rows × 2 columns</p>\n",
       "</div>\n",
       "      <button class=\"colab-df-convert\" onclick=\"convertToInteractive('df-6f4c9e5d-6dff-4925-baac-03e49a78b7a6')\"\n",
       "              title=\"Convert this dataframe to an interactive table.\"\n",
       "              style=\"display:none;\">\n",
       "        \n",
       "  <svg xmlns=\"http://www.w3.org/2000/svg\" height=\"24px\"viewBox=\"0 0 24 24\"\n",
       "       width=\"24px\">\n",
       "    <path d=\"M0 0h24v24H0V0z\" fill=\"none\"/>\n",
       "    <path d=\"M18.56 5.44l.94 2.06.94-2.06 2.06-.94-2.06-.94-.94-2.06-.94 2.06-2.06.94zm-11 1L8.5 8.5l.94-2.06 2.06-.94-2.06-.94L8.5 2.5l-.94 2.06-2.06.94zm10 10l.94 2.06.94-2.06 2.06-.94-2.06-.94-.94-2.06-.94 2.06-2.06.94z\"/><path d=\"M17.41 7.96l-1.37-1.37c-.4-.4-.92-.59-1.43-.59-.52 0-1.04.2-1.43.59L10.3 9.45l-7.72 7.72c-.78.78-.78 2.05 0 2.83L4 21.41c.39.39.9.59 1.41.59.51 0 1.02-.2 1.41-.59l7.78-7.78 2.81-2.81c.8-.78.8-2.07 0-2.86zM5.41 20L4 18.59l7.72-7.72 1.47 1.35L5.41 20z\"/>\n",
       "  </svg>\n",
       "      </button>\n",
       "      \n",
       "  <style>\n",
       "    .colab-df-container {\n",
       "      display:flex;\n",
       "      flex-wrap:wrap;\n",
       "      gap: 12px;\n",
       "    }\n",
       "\n",
       "    .colab-df-convert {\n",
       "      background-color: #E8F0FE;\n",
       "      border: none;\n",
       "      border-radius: 50%;\n",
       "      cursor: pointer;\n",
       "      display: none;\n",
       "      fill: #1967D2;\n",
       "      height: 32px;\n",
       "      padding: 0 0 0 0;\n",
       "      width: 32px;\n",
       "    }\n",
       "\n",
       "    .colab-df-convert:hover {\n",
       "      background-color: #E2EBFA;\n",
       "      box-shadow: 0px 1px 2px rgba(60, 64, 67, 0.3), 0px 1px 3px 1px rgba(60, 64, 67, 0.15);\n",
       "      fill: #174EA6;\n",
       "    }\n",
       "\n",
       "    [theme=dark] .colab-df-convert {\n",
       "      background-color: #3B4455;\n",
       "      fill: #D2E3FC;\n",
       "    }\n",
       "\n",
       "    [theme=dark] .colab-df-convert:hover {\n",
       "      background-color: #434B5C;\n",
       "      box-shadow: 0px 1px 3px 1px rgba(0, 0, 0, 0.15);\n",
       "      filter: drop-shadow(0px 1px 2px rgba(0, 0, 0, 0.3));\n",
       "      fill: #FFFFFF;\n",
       "    }\n",
       "  </style>\n",
       "\n",
       "      <script>\n",
       "        const buttonEl =\n",
       "          document.querySelector('#df-6f4c9e5d-6dff-4925-baac-03e49a78b7a6 button.colab-df-convert');\n",
       "        buttonEl.style.display =\n",
       "          google.colab.kernel.accessAllowed ? 'block' : 'none';\n",
       "\n",
       "        async function convertToInteractive(key) {\n",
       "          const element = document.querySelector('#df-6f4c9e5d-6dff-4925-baac-03e49a78b7a6');\n",
       "          const dataTable =\n",
       "            await google.colab.kernel.invokeFunction('convertToInteractive',\n",
       "                                                     [key], {});\n",
       "          if (!dataTable) return;\n",
       "\n",
       "          const docLinkHtml = 'Like what you see? Visit the ' +\n",
       "            '<a target=\"_blank\" href=https://colab.research.google.com/notebooks/data_table.ipynb>data table notebook</a>'\n",
       "            + ' to learn more about interactive tables.';\n",
       "          element.innerHTML = '';\n",
       "          dataTable['output_type'] = 'display_data';\n",
       "          await google.colab.output.renderOutput(dataTable, element);\n",
       "          const docLink = document.createElement('div');\n",
       "          docLink.innerHTML = docLinkHtml;\n",
       "          element.appendChild(docLink);\n",
       "        }\n",
       "      </script>\n",
       "    </div>\n",
       "  </div>\n",
       "  "
      ],
      "text/plain": [
       "          screen_name isBot\n",
       "0       koftecancaddy    No\n",
       "1              ahaber    No\n",
       "2     selahat03949652    No\n",
       "3       erdin06357062    No\n",
       "4       bhct__necatii    No\n",
       "...               ...   ...\n",
       "2995     djblumenberg    No\n",
       "2996           mel1sq    No\n",
       "2997         eren_yz1   Yes\n",
       "2998      ergnyildiz4    No\n",
       "2999   isadal24978794   Yes\n",
       "\n",
       "[3000 rows x 2 columns]"
      ]
     },
     "execution_count": 6,
     "metadata": {},
     "output_type": "execute_result"
    }
   ],
   "source": [
    "trainingUserDf = pd.read_csv('{}training-user.csv'.format(DATA_PATH))\n",
    "trainingUserDf"
   ]
  },
  {
   "cell_type": "code",
   "execution_count": null,
   "metadata": {
    "ExecuteTime": {
     "end_time": "2022-12-29T19:51:29.432466Z",
     "start_time": "2022-12-29T19:51:29.391678Z"
    },
    "colab": {
     "base_uri": "https://localhost:8080/"
    },
    "id": "tFLHQQF5FwZM",
    "outputId": "52bf4cda-e464-42fb-e773-cceb2e1bf696"
   },
   "outputs": [
    {
     "data": {
      "text/plain": [
       "No     2424\n",
       "Yes     576\n",
       "Name: isBot, dtype: int64"
      ]
     },
     "execution_count": 7,
     "metadata": {},
     "output_type": "execute_result"
    }
   ],
   "source": [
    "trainingUserDf.isBot.value_counts()"
   ]
  },
  {
   "cell_type": "markdown",
   "metadata": {
    "id": "d3OSIrlMFwZN"
   },
   "source": [
    "### 0.3.3. Expand your dataset with metadata and tweets"
   ]
  },
  {
   "cell_type": "code",
   "execution_count": null,
   "metadata": {
    "ExecuteTime": {
     "end_time": "2022-12-29T19:06:17.870105Z",
     "start_time": "2022-12-29T19:06:17.848202Z"
    },
    "colab": {
     "base_uri": "https://localhost:8080/"
    },
    "id": "o1sD_tP8FwZN",
    "outputId": "f1b6126d-c5a8-48b8-c4ca-b8ed3219fdb9"
   },
   "outputs": [
    {
     "name": "stdout",
     "output_type": "stream",
     "text": [
      "http://www.onurvarol.com/Annotation-CS412-202201/reports/report_CS412e601e2294722.html\n"
     ]
    }
   ],
   "source": [
    "# You can also expand training data by downloading your own labeled datasets following the link\n",
    "# Download the documents under \"Link to training data\"\n",
    "\n",
    "print('http://www.onurvarol.com/Annotation-CS412-202201/reports/report_{}.html'.format(PROJECT_CODE))"
   ]
  },
  {
   "cell_type": "markdown",
   "metadata": {
    "id": "9n4yOS2dFwZO"
   },
   "source": [
    "# 1. EXTRACT FEATURES\n",
    "Under *1.1. Political Tweet Detection* and *1.2. Bot Detection*, we firstly collect raw data for processing. We then combine some of them (total_interactions = num_favorites + num_retweets) or use them to extract features (whether the tweet has one of the political entities @meralaksener, @kilicdarogluk etc.).\n",
    "\n",
    "We expect you to collect more raw data from **tweet_metadata**, **user_profiles** and **user_tweets** files by creating a function as shown in below examples such as *check_if_retweet()* and using it while iterating over data as shown under *Merge Collected Features*.\n",
    "\n",
    "We also expect you to create new variables as much as you can from the data in order to make your predictions more accurate. For example, you may want to check:\n",
    "\n",
    "- The tweet sources that a user frequently uses\n",
    "- Whether the user is a verified account or not\n",
    "\n",
    "...\n",
    "\n",
    "to assess whether **a user is a bot or not** and whether **a tweet is political or not**."
   ]
  },
  {
   "cell_type": "code",
   "execution_count": null,
   "metadata": {
    "ExecuteTime": {
     "end_time": "2022-12-29T19:51:35.984719Z",
     "start_time": "2022-12-29T19:51:35.960085Z"
    },
    "collapsed": true,
    "id": "vFOHerRbFwZP"
   },
   "outputs": [],
   "source": [
    "PATH_TO_DOWNLOADED = '/content/drive/MyDrive/Datas/raw_data/'"
   ]
  },
  {
   "cell_type": "markdown",
   "metadata": {
    "id": "s-z4fp_TFwZP"
   },
   "source": [
    "## 1.1. Political Tweet Detection\n",
    "This part stands for the feature extraction of tweets. We start with collecting the raw data from *tweet_metadata*, then use some of them to extract features."
   ]
  },
  {
   "cell_type": "markdown",
   "metadata": {
    "id": "fNJfMw-0FwZQ"
   },
   "source": [
    "### 1.1.1. Get Raw Data"
   ]
  },
  {
   "cell_type": "markdown",
   "metadata": {
    "id": "9axsmiBIFwZQ"
   },
   "source": [
    "#### 1.1.1.1. Check if Retweet"
   ]
  },
  {
   "cell_type": "code",
   "execution_count": null,
   "metadata": {
    "ExecuteTime": {
     "end_time": "2022-12-29T19:51:38.278103Z",
     "start_time": "2022-12-29T19:51:38.251310Z"
    },
    "collapsed": true,
    "id": "98czJibCFwZR"
   },
   "outputs": [],
   "source": [
    "def check_if_retweet(tweet_metadata_line):\n",
    "    is_retweet = 0\n",
    "    retweeted_username = None\n",
    "\n",
    "    try:\n",
    "        tweet_metadata_line['retweeted_status']\n",
    "        retweeted_username = tweet_metadata_line['retweeted_status']['user']['screen_name'].lower()\n",
    "        is_retweet = 1\n",
    "\n",
    "    except KeyError:\n",
    "        pass\n",
    "\n",
    "    return is_retweet, retweeted_username"
   ]
  },
  {
   "cell_type": "markdown",
   "metadata": {
    "id": "FgggEWWdFwZR"
   },
   "source": [
    "#### 1.1.1.2. Get Tweet Text"
   ]
  },
  {
   "cell_type": "code",
   "execution_count": null,
   "metadata": {
    "ExecuteTime": {
     "end_time": "2022-12-29T19:51:40.164136Z",
     "start_time": "2022-12-29T19:51:40.140464Z"
    },
    "collapsed": true,
    "id": "fXMViD73FwZU"
   },
   "outputs": [],
   "source": [
    "def get_tweet_text(tweet_metadata_line):\n",
    "    text = tweet_metadata_line['text']\n",
    "    \n",
    "    return text"
   ]
  },
  {
   "cell_type": "markdown",
   "metadata": {
    "id": "kJF-BvekFwZV"
   },
   "source": [
    "#### 1.1.1.3. Get Tweet ID"
   ]
  },
  {
   "cell_type": "code",
   "execution_count": null,
   "metadata": {
    "ExecuteTime": {
     "end_time": "2022-12-29T19:51:41.568908Z",
     "start_time": "2022-12-29T19:51:41.542671Z"
    },
    "collapsed": true,
    "id": "unfB0mdVFwZV"
   },
   "outputs": [],
   "source": [
    "def get_tweet_id(tweet_metadata_line):\n",
    "    id_str = tweet_metadata_line['id_str']\n",
    "    \n",
    "    return id_str"
   ]
  },
  {
   "cell_type": "markdown",
   "metadata": {
    "id": "xzp8HgulFwZW"
   },
   "source": [
    "#### 1.1.1.4. Get Number of Mentions and Hashtags"
   ]
  },
  {
   "cell_type": "code",
   "execution_count": null,
   "metadata": {
    "ExecuteTime": {
     "end_time": "2022-12-29T19:51:43.434204Z",
     "start_time": "2022-12-29T19:51:43.407810Z"
    },
    "collapsed": true,
    "id": "qZ1aBEugFwZW"
   },
   "outputs": [],
   "source": [
    "def get_number_mentions_hashtags(tweet_metadata_line):\n",
    "    num_mentions = len(tweet_metadata_line['entities']['user_mentions'])\n",
    "    num_hashtags = len(tweet_metadata_line['entities']['hashtags'])\n",
    "    #added round3\n",
    "    has_url = len(tweet_metadata_line['entities']['urls'])\n",
    "\n",
    "    return num_mentions, num_hashtags, has_url"
   ]
  },
  {
   "cell_type": "markdown",
   "metadata": {
    "id": "Jz1Eksa2FwZX"
   },
   "source": [
    "#### 1.1.1.5. Get Number of Retweets and Favorites"
   ]
  },
  {
   "cell_type": "code",
   "execution_count": null,
   "metadata": {
    "ExecuteTime": {
     "end_time": "2022-12-29T19:51:44.743701Z",
     "start_time": "2022-12-29T19:51:44.712534Z"
    },
    "collapsed": true,
    "id": "mZdorGdRFwZX"
   },
   "outputs": [],
   "source": [
    "def get_number_retweets_favorites(tweet_metadata_line):\n",
    "    retweet_count = tweet_metadata_line['retweet_count']\n",
    "    favorite_count = tweet_metadata_line['favorite_count']\n",
    "    \n",
    "    return retweet_count, favorite_count"
   ]
  },
  {
   "cell_type": "markdown",
   "metadata": {
    "id": "cmj_hIwUFwZY"
   },
   "source": [
    "#### 1.1.1.6. Get User Info"
   ]
  },
  {
   "cell_type": "code",
   "execution_count": null,
   "metadata": {
    "ExecuteTime": {
     "end_time": "2022-12-29T19:51:47.435465Z",
     "start_time": "2022-12-29T19:51:47.411177Z"
    },
    "collapsed": true,
    "id": "t6US-W_tFwZY"
   },
   "outputs": [],
   "source": [
    "def get_user_info(tweet_metadata_line):\n",
    "    id = tweet_metadata_line['user']['id_str']\n",
    "    screen_name = tweet_metadata_line['user']['screen_name'].lower()\n",
    "    description = tweet_metadata_line['user']['description']\n",
    "    #added round3\n",
    "    location = tweet_metadata_line['user']['location']\n",
    "    followers_count = tweet_metadata_line['user']['followers_count']\n",
    "    friends_count = tweet_metadata_line['user']['friends_count']\n",
    "    favourites_count = tweet_metadata_line['user']['favourites_count']\n",
    "    verified = tweet_metadata_line['user']['verified']\n",
    "    statuses_count = tweet_metadata_line['user']['statuses_count']\n",
    "    default_profile = tweet_metadata_line['user']['default_profile']\n",
    "    default_profile_image = tweet_metadata_line['user']['default_profile_image']\n",
    "    has_extended_profile = tweet_metadata_line['user']['has_extended_profile']\n",
    "\n",
    "    return id, screen_name, description,location,followers_count,friends_count,favourites_count,verified,statuses_count,default_profile,default_profile_image,has_extended_profile\n",
    "\n",
    "    return id, screen_name, description"
   ]
  },
  {
   "cell_type": "markdown",
   "metadata": {
    "id": "aWI6yl6JMS31"
   },
   "source": [
    "1.1.1.7 check If media (video or picture)"
   ]
  },
  {
   "cell_type": "code",
   "execution_count": null,
   "metadata": {
    "id": "NBmtISZfMfvf"
   },
   "outputs": [],
   "source": [
    "def check_if_media(tweet_metadata_line):\n",
    "  is_video = 0\n",
    "  is_photo = 0\n",
    "  try:\n",
    "    if(tweet_metadata_line['extended_entities']['media'][0]['type'] == 'video'):\n",
    "      is_video = 1\n",
    "    if(tweet_metadata_line['extended_entities']['media'][0]['type'] == 'photo'):\n",
    "      is_photo = 1\n",
    "  except KeyError:\n",
    "    pass\n",
    "  return is_video or is_photo"
   ]
  },
  {
   "cell_type": "markdown",
   "metadata": {
    "id": "E4EZZN5tkRab"
   },
   "source": [
    "1.1.1.8 other features round3"
   ]
  },
  {
   "cell_type": "code",
   "execution_count": null,
   "metadata": {
    "id": "T4yfOuIMkULx"
   },
   "outputs": [],
   "source": [
    "def created_at(tweet_metadata_line):\n",
    "    date = tweet_metadata_line[\"created_at\"]\n",
    "\n",
    "    return date\n",
    "\n",
    "\n",
    "def get_place(tweet_metadata_line):\n",
    "    place = None\n",
    "\n",
    "    try:\n",
    "        tweet_metadata_line['place']['name']\n",
    "        place = tweet_metadata_line['place']['name']\n",
    "\n",
    "    except TypeError:\n",
    "        pass\n",
    "\n",
    "    return place\n",
    "\n",
    "\n",
    "def is_sensitive(tweet_metadata_line):\n",
    "    sensitive = None\n",
    "\n",
    "    try:\n",
    "        tweet_metadata_line['possibly_sensitive']\n",
    "        sensitive = tweet_metadata_line['possibly_sensitive']\n",
    "\n",
    "\n",
    "    except KeyError:\n",
    "        pass\n",
    "\n",
    "    return sensitive\n",
    "\n",
    "def get_engagement_rate(retweet_count, favorite_count,followers_count):\n",
    "    if followers_count ==0:\n",
    "        return 0\n",
    "    eng_rate = (retweet_count + favorite_count)/followers_count\n",
    "    \n",
    "    return eng_rate\n",
    "\n",
    "def get_tweet_length(text):\n",
    "    \n",
    "    return len(text)\n",
    "\n",
    "def get_how_influential(followers_count,friends_count):\n",
    "    if friends_count ==0: return 0\n",
    "    \n",
    "    return followers_count/friends_count"
   ]
  },
  {
   "cell_type": "markdown",
   "metadata": {
    "id": "Sa5v_LfLFwZZ"
   },
   "source": [
    "### 1.1.2. Derive Manually Crafted Features"
   ]
  },
  {
   "cell_type": "markdown",
   "metadata": {
    "id": "5S-3JtR0FwZa"
   },
   "source": [
    "#### 1.1.2.1. Check for political entity in text"
   ]
  },
  {
   "cell_type": "code",
   "execution_count": null,
   "metadata": {
    "ExecuteTime": {
     "end_time": "2022-12-29T19:51:49.101699Z",
     "start_time": "2022-12-29T19:51:49.073731Z"
    },
    "collapsed": true,
    "id": "e1ghv3zIFwZa"
   },
   "outputs": [],
   "source": [
    "def check_political_ent(text):\n",
    "    \n",
    "    # the list below can be modified and some new names may be added (or removed)\n",
    "    list_of_entities = ['meral_aksener', 'kilicdarogluk', 'vekilince', 'RTErdogan', 'MevlutCavusoglu', 'umitozdag','kyk','atama','akp','chp','mhp','iyi parti','erdoğan', 'akşener' ,'kılıçdaroğlu'\n",
    "    ,'@RTErdogan','RT','Sayın','suleymansoylu','vedatbilgn','umitozdag','dbdevletbahceli','kadro','atama','tcmeb','istiyoruz','Akparti','ekrem_imamoglu','Cumhurbaşkanımız','tcbestepe','tc'\n",
    "    ,'Türkiye','Ziraat','Tayyip','Genel','Devlet','TCAytunCiray','06melihgokcek','kemal','Recep','vekilim','Mustafa_Destici','akaraismailoglu','fuatokay','bybekirbozdag','hdp','kyk']\n",
    "\n",
    "    entities_in_text = [ent for ent in list_of_entities if ent.lower() in text.lower()]\n",
    "    number_entities = len(entities_in_text)\n",
    "\n",
    "    return number_entities"
   ]
  },
  {
   "cell_type": "markdown",
   "metadata": {
    "id": "cFuNBmKKFwZa"
   },
   "source": [
    "#### 1.1.2.2. Number of total interactions"
   ]
  },
  {
   "cell_type": "code",
   "execution_count": null,
   "metadata": {
    "ExecuteTime": {
     "end_time": "2022-12-29T19:51:51.428175Z",
     "start_time": "2022-12-29T19:51:51.403663Z"
    },
    "collapsed": true,
    "id": "Koh1HQDpFwZa"
   },
   "outputs": [],
   "source": [
    "def total_interactions(retweet_count, favorite_count):\n",
    "    total_num_interactions = retweet_count + favorite_count\n",
    "    \n",
    "    return total_num_interactions"
   ]
  },
  {
   "cell_type": "markdown",
   "metadata": {
    "id": "hLNChMJNv-5e"
   },
   "source": [
    "1.1.2.3. Check for political entity in users description"
   ]
  },
  {
   "cell_type": "code",
   "execution_count": null,
   "metadata": {
    "id": "wuoZxyd0wF2F"
   },
   "outputs": [],
   "source": [
    "def check_political_description(text):\n",
    "    \n",
    "    # the list below can be modified and some new names may be added (or removed)\n",
    "    list_of_entities = ['🇹🇷','Parti','Ziraat','Ak','Türk','Başkanı','Milletvekili','Üyesi','Türkiye','Başkan','Atatürk','Ak','Genel',\n",
    "                        'Vatan','Kemal','CHP','Partisi','Komisyonu','Gençlik','Kolları','İyi','Yardımcısı']\n",
    "\n",
    "    entities_in_text = [ent for ent in list_of_entities if ent.lower() in text.lower()]\n",
    "    number_entities = len(entities_in_text)\n",
    "\n",
    "    return number_entities"
   ]
  },
  {
   "cell_type": "markdown",
   "metadata": {
    "id": "Rnxco26rFwZb"
   },
   "source": [
    "### 1.1.2. Collect data using the functions above and transform into a Pandas DataFrame"
   ]
  },
  {
   "cell_type": "code",
   "execution_count": null,
   "metadata": {
    "id": "P65GzX2skz3v"
   },
   "outputs": [],
   "source": [
    "dfPolitical = {'tweet_id':[],\n",
    "              'is_retweet':[],\n",
    "              'retweeted_username':[],\n",
    "              'text':[],\n",
    "              'num_mentions':[],\n",
    "              'num_hashtags':[],\n",
    "              'num_retweets':[],\n",
    "              'num_favorites':[],\n",
    "              #'place_name':[],\n",
    "              'is_sensitive':[],\n",
    "              'date':[],\n",
    "              'lang':[],\n",
    "              'truncated':[],\n",
    "              'user_id':[],\n",
    "              'user_screen_name':[],\n",
    "              'user_description':[],\n",
    "              'user_location':[],\n",
    "              'followers_count':[],\n",
    "              'friends_count':[],\n",
    "              'favourites_count':[],\n",
    "              'verified':[],\n",
    "              'statuses_count':[],\n",
    "              'default_profile':[],\n",
    "              'default_profile_image':[],\n",
    "              'has_extended_profile':[],\n",
    "              'has_url':[],\n",
    "              'num_political_entities':[],\n",
    "              'total_interactions':[],\n",
    "              'engagement_rate':[],\n",
    "              'tweet_length':[],\n",
    "              'how_influential':[],\n",
    "              'is_media':[],\n",
    "              'num_political_desc':[]\n",
    "              }\n",
    "\n",
    "\n",
    "with gzip.open(f\"{PATH_TO_DOWNLOADED}tweet_metadata.jsons.gz\", \"rb\") as f:\n",
    "    for line in f:\n",
    "        line = json.loads(line)\n",
    "        \n",
    "        # raw data:\n",
    "        truncated = line[\"truncated\"]\n",
    "        lang = line[\"lang\"]\n",
    "        date = created_at(line)\n",
    "        sensitive = is_sensitive(line)\n",
    "        id_str = get_tweet_id(line) \n",
    "        is_retweet, retweeted_username = check_if_retweet(line) \n",
    "        text = get_tweet_text(line)\n",
    "        num_mentions, num_hashtags, has_url = get_number_mentions_hashtags(line)\n",
    "        retweet_count, favorite_count = get_number_retweets_favorites(line)\n",
    "        place = get_place(line)\n",
    "        user_id, screen_name, description,location,followers_count,friends_count,favourites_count,verified,statuses_count,default_profile,default_profile_image,has_extended_profile= get_user_info(line)\n",
    "        \n",
    "        # manually crafted data:\n",
    "        num_political_entities = check_political_ent(text)\n",
    "        total_num_interactions = total_interactions(retweet_count, favorite_count)\n",
    "        engagement_rate = get_engagement_rate(retweet_count,favorite_count, followers_count)\n",
    "        tweet_length = get_tweet_length(text)\n",
    "        how_influential = get_how_influential(followers_count,friends_count)\n",
    "        is_media = check_if_media(line)\n",
    "        num_political_desc = check_political_description(description)\n",
    "        \n",
    "        \n",
    "        \n",
    "        dfPolitical['truncated'].append(truncated)\n",
    "        dfPolitical['lang'].append(lang)\n",
    "        dfPolitical['date'].append(date)\n",
    "        dfPolitical['is_sensitive'].append(sensitive)\n",
    "        #dfPolitical['place_name'].append(place)\n",
    "        dfPolitical['tweet_id'].append(id_str)\n",
    "        dfPolitical['is_retweet'].append(is_retweet)\n",
    "        dfPolitical['retweeted_username'].append(retweeted_username)\n",
    "        dfPolitical['text'].append(text)\n",
    "        dfPolitical['num_mentions'].append(num_mentions)\n",
    "        dfPolitical['num_hashtags'].append(num_hashtags)\n",
    "        dfPolitical['num_retweets'].append(retweet_count)\n",
    "        dfPolitical['num_favorites'].append(favorite_count)\n",
    "        dfPolitical['user_id'].append(user_id)\n",
    "        dfPolitical['user_screen_name'].append(screen_name)\n",
    "        dfPolitical['user_description'].append(description)\n",
    "        dfPolitical['user_location'].append(location)\n",
    "        dfPolitical['followers_count'].append(followers_count)\n",
    "        dfPolitical['friends_count'].append(friends_count)\n",
    "        dfPolitical['favourites_count'].append(favourites_count)\n",
    "        dfPolitical['verified'].append(verified)\n",
    "        dfPolitical['statuses_count'].append(statuses_count)\n",
    "        dfPolitical['default_profile'].append(default_profile)\n",
    "        dfPolitical['default_profile_image'].append(default_profile_image)\n",
    "        dfPolitical['has_extended_profile'].append(has_extended_profile)\n",
    "        dfPolitical['has_url'].append(has_url)\n",
    "        dfPolitical['num_political_entities'].append(num_political_entities)\n",
    "        dfPolitical['total_interactions'].append(total_num_interactions)\n",
    "        dfPolitical['engagement_rate'].append(engagement_rate)\n",
    "        dfPolitical['tweet_length'].append(tweet_length)\n",
    "        dfPolitical['how_influential'].append(how_influential)\n",
    "        dfPolitical['is_media'].append(is_media)\n",
    "        dfPolitical['num_political_desc'].append(num_political_desc)"
   ]
  },
  {
   "cell_type": "code",
   "execution_count": null,
   "metadata": {
    "ExecuteTime": {
     "end_time": "2022-12-29T19:51:55.336507Z",
     "start_time": "2022-12-29T19:51:55.207199Z"
    },
    "colab": {
     "base_uri": "https://localhost:8080/",
     "height": 1000
    },
    "id": "miwcn0WHFwZc",
    "outputId": "3a0bb47f-b3cb-4285-d73d-f0a359f5d50e",
    "scrolled": true
   },
   "outputs": [
    {
     "data": {
      "text/html": [
       "\n",
       "  <div id=\"df-d0b87ac8-25c4-4c54-b954-5aa7e8245327\">\n",
       "    <div class=\"colab-df-container\">\n",
       "      <div>\n",
       "<style scoped>\n",
       "    .dataframe tbody tr th:only-of-type {\n",
       "        vertical-align: middle;\n",
       "    }\n",
       "\n",
       "    .dataframe tbody tr th {\n",
       "        vertical-align: top;\n",
       "    }\n",
       "\n",
       "    .dataframe thead th {\n",
       "        text-align: right;\n",
       "    }\n",
       "</style>\n",
       "<table border=\"1\" class=\"dataframe\">\n",
       "  <thead>\n",
       "    <tr style=\"text-align: right;\">\n",
       "      <th></th>\n",
       "      <th>tweet_id</th>\n",
       "      <th>is_retweet</th>\n",
       "      <th>retweeted_username</th>\n",
       "      <th>text</th>\n",
       "      <th>num_mentions</th>\n",
       "      <th>num_hashtags</th>\n",
       "      <th>num_retweets</th>\n",
       "      <th>num_favorites</th>\n",
       "      <th>is_sensitive</th>\n",
       "      <th>date</th>\n",
       "      <th>lang</th>\n",
       "      <th>truncated</th>\n",
       "      <th>user_id</th>\n",
       "      <th>user_screen_name</th>\n",
       "      <th>user_description</th>\n",
       "      <th>user_location</th>\n",
       "      <th>followers_count</th>\n",
       "      <th>friends_count</th>\n",
       "      <th>favourites_count</th>\n",
       "      <th>verified</th>\n",
       "      <th>statuses_count</th>\n",
       "      <th>default_profile</th>\n",
       "      <th>default_profile_image</th>\n",
       "      <th>has_extended_profile</th>\n",
       "      <th>has_url</th>\n",
       "      <th>num_political_entities</th>\n",
       "      <th>total_interactions</th>\n",
       "      <th>engagement_rate</th>\n",
       "      <th>tweet_length</th>\n",
       "      <th>how_influential</th>\n",
       "      <th>is_media</th>\n",
       "      <th>num_political_desc</th>\n",
       "    </tr>\n",
       "  </thead>\n",
       "  <tbody>\n",
       "    <tr>\n",
       "      <th>0</th>\n",
       "      <td>1588568792984346624</td>\n",
       "      <td>0</td>\n",
       "      <td>None</td>\n",
       "      <td>Sosyal Hizmetin temelini çocuk oluşturur,çocuğ...</td>\n",
       "      <td>0</td>\n",
       "      <td>0</td>\n",
       "      <td>49</td>\n",
       "      <td>98</td>\n",
       "      <td>False</td>\n",
       "      <td>Fri Nov 04 16:28:09 +0000 2022</td>\n",
       "      <td>tr</td>\n",
       "      <td>True</td>\n",
       "      <td>920963718103650304</td>\n",
       "      <td>maviruh_</td>\n",
       "      <td>shu/\\nburaya afilli bir söz yazdığımı varsayın</td>\n",
       "      <td>Ankara</td>\n",
       "      <td>284</td>\n",
       "      <td>539</td>\n",
       "      <td>35673</td>\n",
       "      <td>False</td>\n",
       "      <td>2638</td>\n",
       "      <td>True</td>\n",
       "      <td>False</td>\n",
       "      <td>False</td>\n",
       "      <td>1</td>\n",
       "      <td>0</td>\n",
       "      <td>147</td>\n",
       "      <td>0.517606</td>\n",
       "      <td>140</td>\n",
       "      <td>0.526902</td>\n",
       "      <td>0</td>\n",
       "      <td>0</td>\n",
       "    </tr>\n",
       "    <tr>\n",
       "      <th>1</th>\n",
       "      <td>1588452263047069697</td>\n",
       "      <td>0</td>\n",
       "      <td>None</td>\n",
       "      <td>@mahirunal Gavur İzmir ya onlar, hani Cumhuriy...</td>\n",
       "      <td>1</td>\n",
       "      <td>0</td>\n",
       "      <td>0</td>\n",
       "      <td>0</td>\n",
       "      <td>None</td>\n",
       "      <td>Fri Nov 04 08:45:06 +0000 2022</td>\n",
       "      <td>tr</td>\n",
       "      <td>False</td>\n",
       "      <td>595514060</td>\n",
       "      <td>mtfdan</td>\n",
       "      <td></td>\n",
       "      <td></td>\n",
       "      <td>131</td>\n",
       "      <td>589</td>\n",
       "      <td>601</td>\n",
       "      <td>False</td>\n",
       "      <td>6647</td>\n",
       "      <td>True</td>\n",
       "      <td>False</td>\n",
       "      <td>False</td>\n",
       "      <td>0</td>\n",
       "      <td>0</td>\n",
       "      <td>0</td>\n",
       "      <td>0.000000</td>\n",
       "      <td>97</td>\n",
       "      <td>0.222411</td>\n",
       "      <td>0</td>\n",
       "      <td>0</td>\n",
       "    </tr>\n",
       "    <tr>\n",
       "      <th>2</th>\n",
       "      <td>1569589330544398336</td>\n",
       "      <td>0</td>\n",
       "      <td>None</td>\n",
       "      <td>#ŞehitAdayıUzmÇvşaKadro\\nSiz İstesenizde Istem...</td>\n",
       "      <td>0</td>\n",
       "      <td>1</td>\n",
       "      <td>0</td>\n",
       "      <td>0</td>\n",
       "      <td>None</td>\n",
       "      <td>Tue Sep 13 07:30:32 +0000 2022</td>\n",
       "      <td>tr</td>\n",
       "      <td>True</td>\n",
       "      <td>1356375754561490947</td>\n",
       "      <td>ahsucilginuzman</td>\n",
       "      <td>Vatan Sevdalisi</td>\n",
       "      <td></td>\n",
       "      <td>60</td>\n",
       "      <td>118</td>\n",
       "      <td>1230</td>\n",
       "      <td>False</td>\n",
       "      <td>2924</td>\n",
       "      <td>True</td>\n",
       "      <td>False</td>\n",
       "      <td>True</td>\n",
       "      <td>1</td>\n",
       "      <td>1</td>\n",
       "      <td>0</td>\n",
       "      <td>0.000000</td>\n",
       "      <td>140</td>\n",
       "      <td>0.508475</td>\n",
       "      <td>0</td>\n",
       "      <td>1</td>\n",
       "    </tr>\n",
       "    <tr>\n",
       "      <th>3</th>\n",
       "      <td>1570428119609139201</td>\n",
       "      <td>0</td>\n",
       "      <td>None</td>\n",
       "      <td>@ajans_muhbir Siz kaypak olmayıp onay vermesey...</td>\n",
       "      <td>1</td>\n",
       "      <td>0</td>\n",
       "      <td>0</td>\n",
       "      <td>0</td>\n",
       "      <td>None</td>\n",
       "      <td>Thu Sep 15 15:03:35 +0000 2022</td>\n",
       "      <td>tr</td>\n",
       "      <td>True</td>\n",
       "      <td>1478775431008595968</td>\n",
       "      <td>hamitelkelle</td>\n",
       "      <td>HighOne</td>\n",
       "      <td></td>\n",
       "      <td>2</td>\n",
       "      <td>69</td>\n",
       "      <td>608</td>\n",
       "      <td>False</td>\n",
       "      <td>1783</td>\n",
       "      <td>True</td>\n",
       "      <td>False</td>\n",
       "      <td>False</td>\n",
       "      <td>1</td>\n",
       "      <td>0</td>\n",
       "      <td>0</td>\n",
       "      <td>0.000000</td>\n",
       "      <td>140</td>\n",
       "      <td>0.028986</td>\n",
       "      <td>0</td>\n",
       "      <td>0</td>\n",
       "    </tr>\n",
       "    <tr>\n",
       "      <th>4</th>\n",
       "      <td>1551163840368414722</td>\n",
       "      <td>0</td>\n",
       "      <td>None</td>\n",
       "      <td>Engelli öğretmenler olarak önümüzdeki engeller...</td>\n",
       "      <td>0</td>\n",
       "      <td>0</td>\n",
       "      <td>0</td>\n",
       "      <td>0</td>\n",
       "      <td>None</td>\n",
       "      <td>Sun Jul 24 11:14:13 +0000 2022</td>\n",
       "      <td>tr</td>\n",
       "      <td>True</td>\n",
       "      <td>1511976696337113088</td>\n",
       "      <td>sed58417690</td>\n",
       "      <td></td>\n",
       "      <td></td>\n",
       "      <td>119</td>\n",
       "      <td>166</td>\n",
       "      <td>2427</td>\n",
       "      <td>False</td>\n",
       "      <td>7559</td>\n",
       "      <td>True</td>\n",
       "      <td>False</td>\n",
       "      <td>True</td>\n",
       "      <td>1</td>\n",
       "      <td>0</td>\n",
       "      <td>0</td>\n",
       "      <td>0.000000</td>\n",
       "      <td>140</td>\n",
       "      <td>0.716867</td>\n",
       "      <td>0</td>\n",
       "      <td>0</td>\n",
       "    </tr>\n",
       "    <tr>\n",
       "      <th>...</th>\n",
       "      <td>...</td>\n",
       "      <td>...</td>\n",
       "      <td>...</td>\n",
       "      <td>...</td>\n",
       "      <td>...</td>\n",
       "      <td>...</td>\n",
       "      <td>...</td>\n",
       "      <td>...</td>\n",
       "      <td>...</td>\n",
       "      <td>...</td>\n",
       "      <td>...</td>\n",
       "      <td>...</td>\n",
       "      <td>...</td>\n",
       "      <td>...</td>\n",
       "      <td>...</td>\n",
       "      <td>...</td>\n",
       "      <td>...</td>\n",
       "      <td>...</td>\n",
       "      <td>...</td>\n",
       "      <td>...</td>\n",
       "      <td>...</td>\n",
       "      <td>...</td>\n",
       "      <td>...</td>\n",
       "      <td>...</td>\n",
       "      <td>...</td>\n",
       "      <td>...</td>\n",
       "      <td>...</td>\n",
       "      <td>...</td>\n",
       "      <td>...</td>\n",
       "      <td>...</td>\n",
       "      <td>...</td>\n",
       "      <td>...</td>\n",
       "    </tr>\n",
       "    <tr>\n",
       "      <th>33528</th>\n",
       "      <td>1568595408233832448</td>\n",
       "      <td>0</td>\n",
       "      <td>None</td>\n",
       "      <td>Gerçek kimlik taşımayan hesaplara cevap vermem...</td>\n",
       "      <td>0</td>\n",
       "      <td>0</td>\n",
       "      <td>9</td>\n",
       "      <td>81</td>\n",
       "      <td>False</td>\n",
       "      <td>Sat Sep 10 13:41:03 +0000 2022</td>\n",
       "      <td>tr</td>\n",
       "      <td>True</td>\n",
       "      <td>576247173</td>\n",
       "      <td>ardanzenturk</td>\n",
       "      <td>RT ONAYLADIĞIM ANLAMINA GELMEZ\\nArtık fikirler...</td>\n",
       "      <td></td>\n",
       "      <td>171399</td>\n",
       "      <td>4147</td>\n",
       "      <td>4990</td>\n",
       "      <td>False</td>\n",
       "      <td>41342</td>\n",
       "      <td>True</td>\n",
       "      <td>False</td>\n",
       "      <td>True</td>\n",
       "      <td>1</td>\n",
       "      <td>0</td>\n",
       "      <td>90</td>\n",
       "      <td>0.000525</td>\n",
       "      <td>140</td>\n",
       "      <td>41.330842</td>\n",
       "      <td>0</td>\n",
       "      <td>0</td>\n",
       "    </tr>\n",
       "    <tr>\n",
       "      <th>33529</th>\n",
       "      <td>1584027427696959488</td>\n",
       "      <td>0</td>\n",
       "      <td>None</td>\n",
       "      <td>@umitozdag Neden Suriyelilerle ilgili bu kadar...</td>\n",
       "      <td>1</td>\n",
       "      <td>0</td>\n",
       "      <td>1</td>\n",
       "      <td>8</td>\n",
       "      <td>None</td>\n",
       "      <td>Sun Oct 23 03:42:23 +0000 2022</td>\n",
       "      <td>tr</td>\n",
       "      <td>True</td>\n",
       "      <td>162308585</td>\n",
       "      <td>ozgul_61</td>\n",
       "      <td>Bridge design engineer Yaay hesabı : dilfiruz</td>\n",
       "      <td>PAYİTAHT 🇹🇷</td>\n",
       "      <td>3936</td>\n",
       "      <td>3227</td>\n",
       "      <td>193138</td>\n",
       "      <td>False</td>\n",
       "      <td>52340</td>\n",
       "      <td>False</td>\n",
       "      <td>False</td>\n",
       "      <td>False</td>\n",
       "      <td>1</td>\n",
       "      <td>2</td>\n",
       "      <td>9</td>\n",
       "      <td>0.002287</td>\n",
       "      <td>140</td>\n",
       "      <td>1.219709</td>\n",
       "      <td>0</td>\n",
       "      <td>0</td>\n",
       "    </tr>\n",
       "    <tr>\n",
       "      <th>33530</th>\n",
       "      <td>1585945783307730945</td>\n",
       "      <td>0</td>\n",
       "      <td>None</td>\n",
       "      <td>@celebimehmeta Niye Türkiye yüzyılıda.Türkiye ...</td>\n",
       "      <td>1</td>\n",
       "      <td>0</td>\n",
       "      <td>0</td>\n",
       "      <td>1</td>\n",
       "      <td>None</td>\n",
       "      <td>Fri Oct 28 10:45:14 +0000 2022</td>\n",
       "      <td>tr</td>\n",
       "      <td>False</td>\n",
       "      <td>415025519</td>\n",
       "      <td>ladrekova</td>\n",
       "      <td></td>\n",
       "      <td></td>\n",
       "      <td>121</td>\n",
       "      <td>412</td>\n",
       "      <td>1418</td>\n",
       "      <td>False</td>\n",
       "      <td>1225</td>\n",
       "      <td>False</td>\n",
       "      <td>False</td>\n",
       "      <td>True</td>\n",
       "      <td>0</td>\n",
       "      <td>1</td>\n",
       "      <td>1</td>\n",
       "      <td>0.008264</td>\n",
       "      <td>76</td>\n",
       "      <td>0.293689</td>\n",
       "      <td>0</td>\n",
       "      <td>0</td>\n",
       "    </tr>\n",
       "    <tr>\n",
       "      <th>33531</th>\n",
       "      <td>1569748909521801221</td>\n",
       "      <td>1</td>\n",
       "      <td>muazzezeralp</td>\n",
       "      <td>RT @muazzezeralp: @Doan58213655 @denizkonur @N...</td>\n",
       "      <td>7</td>\n",
       "      <td>1</td>\n",
       "      <td>6</td>\n",
       "      <td>0</td>\n",
       "      <td>None</td>\n",
       "      <td>Tue Sep 13 18:04:39 +0000 2022</td>\n",
       "      <td>tr</td>\n",
       "      <td>False</td>\n",
       "      <td>1442125177727307781</td>\n",
       "      <td>yapikytgrivrlsn</td>\n",
       "      <td></td>\n",
       "      <td></td>\n",
       "      <td>591</td>\n",
       "      <td>1003</td>\n",
       "      <td>43990</td>\n",
       "      <td>False</td>\n",
       "      <td>153819</td>\n",
       "      <td>True</td>\n",
       "      <td>False</td>\n",
       "      <td>True</td>\n",
       "      <td>0</td>\n",
       "      <td>5</td>\n",
       "      <td>6</td>\n",
       "      <td>0.010152</td>\n",
       "      <td>140</td>\n",
       "      <td>0.589232</td>\n",
       "      <td>0</td>\n",
       "      <td>0</td>\n",
       "    </tr>\n",
       "    <tr>\n",
       "      <th>33532</th>\n",
       "      <td>1585926877675282432</td>\n",
       "      <td>0</td>\n",
       "      <td>None</td>\n",
       "      <td>@bybekirbozdag Yasal işlemlerdn dolayı( banka,...</td>\n",
       "      <td>1</td>\n",
       "      <td>0</td>\n",
       "      <td>0</td>\n",
       "      <td>0</td>\n",
       "      <td>None</td>\n",
       "      <td>Fri Oct 28 09:30:07 +0000 2022</td>\n",
       "      <td>tr</td>\n",
       "      <td>True</td>\n",
       "      <td>1180170443426320384</td>\n",
       "      <td>rodrige62822813</td>\n",
       "      <td>Canı yanan sabretsin; can yakan da yanacağı gü...</td>\n",
       "      <td></td>\n",
       "      <td>65</td>\n",
       "      <td>536</td>\n",
       "      <td>33184</td>\n",
       "      <td>False</td>\n",
       "      <td>5102</td>\n",
       "      <td>True</td>\n",
       "      <td>False</td>\n",
       "      <td>True</td>\n",
       "      <td>1</td>\n",
       "      <td>1</td>\n",
       "      <td>0</td>\n",
       "      <td>0.000000</td>\n",
       "      <td>140</td>\n",
       "      <td>0.121269</td>\n",
       "      <td>0</td>\n",
       "      <td>2</td>\n",
       "    </tr>\n",
       "  </tbody>\n",
       "</table>\n",
       "<p>33533 rows × 32 columns</p>\n",
       "</div>\n",
       "      <button class=\"colab-df-convert\" onclick=\"convertToInteractive('df-d0b87ac8-25c4-4c54-b954-5aa7e8245327')\"\n",
       "              title=\"Convert this dataframe to an interactive table.\"\n",
       "              style=\"display:none;\">\n",
       "        \n",
       "  <svg xmlns=\"http://www.w3.org/2000/svg\" height=\"24px\"viewBox=\"0 0 24 24\"\n",
       "       width=\"24px\">\n",
       "    <path d=\"M0 0h24v24H0V0z\" fill=\"none\"/>\n",
       "    <path d=\"M18.56 5.44l.94 2.06.94-2.06 2.06-.94-2.06-.94-.94-2.06-.94 2.06-2.06.94zm-11 1L8.5 8.5l.94-2.06 2.06-.94-2.06-.94L8.5 2.5l-.94 2.06-2.06.94zm10 10l.94 2.06.94-2.06 2.06-.94-2.06-.94-.94-2.06-.94 2.06-2.06.94z\"/><path d=\"M17.41 7.96l-1.37-1.37c-.4-.4-.92-.59-1.43-.59-.52 0-1.04.2-1.43.59L10.3 9.45l-7.72 7.72c-.78.78-.78 2.05 0 2.83L4 21.41c.39.39.9.59 1.41.59.51 0 1.02-.2 1.41-.59l7.78-7.78 2.81-2.81c.8-.78.8-2.07 0-2.86zM5.41 20L4 18.59l7.72-7.72 1.47 1.35L5.41 20z\"/>\n",
       "  </svg>\n",
       "      </button>\n",
       "      \n",
       "  <style>\n",
       "    .colab-df-container {\n",
       "      display:flex;\n",
       "      flex-wrap:wrap;\n",
       "      gap: 12px;\n",
       "    }\n",
       "\n",
       "    .colab-df-convert {\n",
       "      background-color: #E8F0FE;\n",
       "      border: none;\n",
       "      border-radius: 50%;\n",
       "      cursor: pointer;\n",
       "      display: none;\n",
       "      fill: #1967D2;\n",
       "      height: 32px;\n",
       "      padding: 0 0 0 0;\n",
       "      width: 32px;\n",
       "    }\n",
       "\n",
       "    .colab-df-convert:hover {\n",
       "      background-color: #E2EBFA;\n",
       "      box-shadow: 0px 1px 2px rgba(60, 64, 67, 0.3), 0px 1px 3px 1px rgba(60, 64, 67, 0.15);\n",
       "      fill: #174EA6;\n",
       "    }\n",
       "\n",
       "    [theme=dark] .colab-df-convert {\n",
       "      background-color: #3B4455;\n",
       "      fill: #D2E3FC;\n",
       "    }\n",
       "\n",
       "    [theme=dark] .colab-df-convert:hover {\n",
       "      background-color: #434B5C;\n",
       "      box-shadow: 0px 1px 3px 1px rgba(0, 0, 0, 0.15);\n",
       "      filter: drop-shadow(0px 1px 2px rgba(0, 0, 0, 0.3));\n",
       "      fill: #FFFFFF;\n",
       "    }\n",
       "  </style>\n",
       "\n",
       "      <script>\n",
       "        const buttonEl =\n",
       "          document.querySelector('#df-d0b87ac8-25c4-4c54-b954-5aa7e8245327 button.colab-df-convert');\n",
       "        buttonEl.style.display =\n",
       "          google.colab.kernel.accessAllowed ? 'block' : 'none';\n",
       "\n",
       "        async function convertToInteractive(key) {\n",
       "          const element = document.querySelector('#df-d0b87ac8-25c4-4c54-b954-5aa7e8245327');\n",
       "          const dataTable =\n",
       "            await google.colab.kernel.invokeFunction('convertToInteractive',\n",
       "                                                     [key], {});\n",
       "          if (!dataTable) return;\n",
       "\n",
       "          const docLinkHtml = 'Like what you see? Visit the ' +\n",
       "            '<a target=\"_blank\" href=https://colab.research.google.com/notebooks/data_table.ipynb>data table notebook</a>'\n",
       "            + ' to learn more about interactive tables.';\n",
       "          element.innerHTML = '';\n",
       "          dataTable['output_type'] = 'display_data';\n",
       "          await google.colab.output.renderOutput(dataTable, element);\n",
       "          const docLink = document.createElement('div');\n",
       "          docLink.innerHTML = docLinkHtml;\n",
       "          element.appendChild(docLink);\n",
       "        }\n",
       "      </script>\n",
       "    </div>\n",
       "  </div>\n",
       "  "
      ],
      "text/plain": [
       "                  tweet_id  is_retweet retweeted_username  \\\n",
       "0      1588568792984346624           0               None   \n",
       "1      1588452263047069697           0               None   \n",
       "2      1569589330544398336           0               None   \n",
       "3      1570428119609139201           0               None   \n",
       "4      1551163840368414722           0               None   \n",
       "...                    ...         ...                ...   \n",
       "33528  1568595408233832448           0               None   \n",
       "33529  1584027427696959488           0               None   \n",
       "33530  1585945783307730945           0               None   \n",
       "33531  1569748909521801221           1       muazzezeralp   \n",
       "33532  1585926877675282432           0               None   \n",
       "\n",
       "                                                    text  num_mentions  \\\n",
       "0      Sosyal Hizmetin temelini çocuk oluşturur,çocuğ...             0   \n",
       "1      @mahirunal Gavur İzmir ya onlar, hani Cumhuriy...             1   \n",
       "2      #ŞehitAdayıUzmÇvşaKadro\\nSiz İstesenizde Istem...             0   \n",
       "3      @ajans_muhbir Siz kaypak olmayıp onay vermesey...             1   \n",
       "4      Engelli öğretmenler olarak önümüzdeki engeller...             0   \n",
       "...                                                  ...           ...   \n",
       "33528  Gerçek kimlik taşımayan hesaplara cevap vermem...             0   \n",
       "33529  @umitozdag Neden Suriyelilerle ilgili bu kadar...             1   \n",
       "33530  @celebimehmeta Niye Türkiye yüzyılıda.Türkiye ...             1   \n",
       "33531  RT @muazzezeralp: @Doan58213655 @denizkonur @N...             7   \n",
       "33532  @bybekirbozdag Yasal işlemlerdn dolayı( banka,...             1   \n",
       "\n",
       "       num_hashtags  num_retweets  num_favorites is_sensitive  \\\n",
       "0                 0            49             98        False   \n",
       "1                 0             0              0         None   \n",
       "2                 1             0              0         None   \n",
       "3                 0             0              0         None   \n",
       "4                 0             0              0         None   \n",
       "...             ...           ...            ...          ...   \n",
       "33528             0             9             81        False   \n",
       "33529             0             1              8         None   \n",
       "33530             0             0              1         None   \n",
       "33531             1             6              0         None   \n",
       "33532             0             0              0         None   \n",
       "\n",
       "                                 date lang  truncated              user_id  \\\n",
       "0      Fri Nov 04 16:28:09 +0000 2022   tr       True   920963718103650304   \n",
       "1      Fri Nov 04 08:45:06 +0000 2022   tr      False            595514060   \n",
       "2      Tue Sep 13 07:30:32 +0000 2022   tr       True  1356375754561490947   \n",
       "3      Thu Sep 15 15:03:35 +0000 2022   tr       True  1478775431008595968   \n",
       "4      Sun Jul 24 11:14:13 +0000 2022   tr       True  1511976696337113088   \n",
       "...                               ...  ...        ...                  ...   \n",
       "33528  Sat Sep 10 13:41:03 +0000 2022   tr       True            576247173   \n",
       "33529  Sun Oct 23 03:42:23 +0000 2022   tr       True            162308585   \n",
       "33530  Fri Oct 28 10:45:14 +0000 2022   tr      False            415025519   \n",
       "33531  Tue Sep 13 18:04:39 +0000 2022   tr      False  1442125177727307781   \n",
       "33532  Fri Oct 28 09:30:07 +0000 2022   tr       True  1180170443426320384   \n",
       "\n",
       "      user_screen_name                                   user_description  \\\n",
       "0             maviruh_     shu/\\nburaya afilli bir söz yazdığımı varsayın   \n",
       "1               mtfdan                                                      \n",
       "2      ahsucilginuzman                                    Vatan Sevdalisi   \n",
       "3         hamitelkelle                                            HighOne   \n",
       "4          sed58417690                                                      \n",
       "...                ...                                                ...   \n",
       "33528     ardanzenturk  RT ONAYLADIĞIM ANLAMINA GELMEZ\\nArtık fikirler...   \n",
       "33529         ozgul_61      Bridge design engineer Yaay hesabı : dilfiruz   \n",
       "33530        ladrekova                                                      \n",
       "33531  yapikytgrivrlsn                                                      \n",
       "33532  rodrige62822813  Canı yanan sabretsin; can yakan da yanacağı gü...   \n",
       "\n",
       "      user_location  followers_count  friends_count  favourites_count  \\\n",
       "0            Ankara              284            539             35673   \n",
       "1                                131            589               601   \n",
       "2                                 60            118              1230   \n",
       "3                                  2             69               608   \n",
       "4                                119            166              2427   \n",
       "...             ...              ...            ...               ...   \n",
       "33528                         171399           4147              4990   \n",
       "33529   PAYİTAHT 🇹🇷             3936           3227            193138   \n",
       "33530                            121            412              1418   \n",
       "33531                            591           1003             43990   \n",
       "33532                             65            536             33184   \n",
       "\n",
       "       verified  statuses_count  default_profile  default_profile_image  \\\n",
       "0         False            2638             True                  False   \n",
       "1         False            6647             True                  False   \n",
       "2         False            2924             True                  False   \n",
       "3         False            1783             True                  False   \n",
       "4         False            7559             True                  False   \n",
       "...         ...             ...              ...                    ...   \n",
       "33528     False           41342             True                  False   \n",
       "33529     False           52340            False                  False   \n",
       "33530     False            1225            False                  False   \n",
       "33531     False          153819             True                  False   \n",
       "33532     False            5102             True                  False   \n",
       "\n",
       "       has_extended_profile  has_url  num_political_entities  \\\n",
       "0                     False        1                       0   \n",
       "1                     False        0                       0   \n",
       "2                      True        1                       1   \n",
       "3                     False        1                       0   \n",
       "4                      True        1                       0   \n",
       "...                     ...      ...                     ...   \n",
       "33528                  True        1                       0   \n",
       "33529                 False        1                       2   \n",
       "33530                  True        0                       1   \n",
       "33531                  True        0                       5   \n",
       "33532                  True        1                       1   \n",
       "\n",
       "       total_interactions  engagement_rate  tweet_length  how_influential  \\\n",
       "0                     147         0.517606           140         0.526902   \n",
       "1                       0         0.000000            97         0.222411   \n",
       "2                       0         0.000000           140         0.508475   \n",
       "3                       0         0.000000           140         0.028986   \n",
       "4                       0         0.000000           140         0.716867   \n",
       "...                   ...              ...           ...              ...   \n",
       "33528                  90         0.000525           140        41.330842   \n",
       "33529                   9         0.002287           140         1.219709   \n",
       "33530                   1         0.008264            76         0.293689   \n",
       "33531                   6         0.010152           140         0.589232   \n",
       "33532                   0         0.000000           140         0.121269   \n",
       "\n",
       "       is_media  num_political_desc  \n",
       "0             0                   0  \n",
       "1             0                   0  \n",
       "2             0                   1  \n",
       "3             0                   0  \n",
       "4             0                   0  \n",
       "...         ...                 ...  \n",
       "33528         0                   0  \n",
       "33529         0                   0  \n",
       "33530         0                   0  \n",
       "33531         0                   0  \n",
       "33532         0                   2  \n",
       "\n",
       "[33533 rows x 32 columns]"
      ]
     },
     "execution_count": 22,
     "metadata": {},
     "output_type": "execute_result"
    }
   ],
   "source": [
    "dfPolitical = pd.DataFrame(dfPolitical)\n",
    "dfPolitical"
   ]
  },
  {
   "cell_type": "code",
   "execution_count": null,
   "metadata": {
    "colab": {
     "base_uri": "https://localhost:8080/"
    },
    "id": "TFf1kFr8RU6C",
    "outputId": "8db72f34-23a6-4b98-d0c4-905eba862e62"
   },
   "outputs": [
    {
     "data": {
      "text/plain": [
       "[('@RTErdogan', 4701),\n",
       " ('RT', 4619),\n",
       " ('ve', 3663),\n",
       " ('bir', 2938),\n",
       " ('bu', 1991),\n",
       " ('için', 1711),\n",
       " ('Sayın', 1627),\n",
       " ('@kilicdarogluk', 1563),\n",
       " ('de', 1303),\n",
       " ('@drfahrettinkoca', 1293),\n",
       " ('ne', 1205),\n",
       " ('@meral_aksener', 1185),\n",
       " ('ile', 1084),\n",
       " ('da', 1056),\n",
       " ('olarak', 1000),\n",
       " ('çok', 982),\n",
       " ('Bu', 958),\n",
       " ('@suleymansoylu', 911),\n",
       " ('@vedatbilgn', 887),\n",
       " ('kadar', 802),\n",
       " ('@umitozdag', 744),\n",
       " ('atama', 735),\n",
       " ('gibi', 707),\n",
       " ('bin', 695),\n",
       " ('en', 680),\n",
       " ('@RTErdogan:', 674),\n",
       " ('olsun', 652),\n",
       " ('olan', 650),\n",
       " ('daha', 622),\n",
       " ('her', 605),\n",
       " ('var', 600),\n",
       " ('o', 567),\n",
       " ('ama', 567),\n",
       " ('@dbdevletbahceli', 555),\n",
       " ('@Akparti', 520),\n",
       " ('değil', 507),\n",
       " ('yok', 474),\n",
       " ('kadro', 469),\n",
       " ('Allah', 466),\n",
       " ('@ekrem_imamoglu', 463),\n",
       " ('biz', 463),\n",
       " ('mi', 437),\n",
       " ('ya', 429),\n",
       " ('ki', 415),\n",
       " ('artık', 415),\n",
       " ('sayın', 413),\n",
       " ('Cumhurbaşkanımız', 412),\n",
       " ('sen', 393),\n",
       " ('iyi', 390),\n",
       " ('@tcmeb', 390),\n",
       " ('diye', 389),\n",
       " ('istiyoruz', 387),\n",
       " ('@tcbestepe', 379),\n",
       " ('Bir', 373),\n",
       " ('15', 370),\n",
       " ('Biz', 369),\n",
       " ('yıl', 350),\n",
       " ('ben', 337),\n",
       " ('100', 327),\n",
       " ('zaman', 320),\n",
       " ('bile', 319),\n",
       " ('Türkiye', 315),\n",
       " ('güzel', 312),\n",
       " ('Ziraat', 309),\n",
       " ('Cumhurbaşkanı', 302),\n",
       " ('Tayyip', 301),\n",
       " ('nasıl', 300),\n",
       " ('@TCAytunCiray', 299),\n",
       " ('sonra', 298),\n",
       " ('Genel', 298),\n",
       " ('mı', 297),\n",
       " ('Ne', 296),\n",
       " ('Devlet', 295),\n",
       " ('bekliyor', 294),\n",
       " ('öğretmen', 292),\n",
       " ('siz', 291),\n",
       " ('Türk', 290),\n",
       " ('?', 290),\n",
       " ('büyük', 288),\n",
       " ('@06melihgokcek', 283),\n",
       " ('hiç', 278),\n",
       " ('bi', 277),\n",
       " ('önce', 272),\n",
       " ('neden', 270),\n",
       " ('.', 270),\n",
       " ('Kemal', 267),\n",
       " ('O', 267),\n",
       " ('@akaraismailoglu', 267),\n",
       " ('@fuatoktay', 265),\n",
       " ('Çok', 265),\n",
       " ('gün', 263),\n",
       " ('Sen', 262),\n",
       " ('2020', 261),\n",
       " ('@bybekirbozdag', 256),\n",
       " ('tek', 256),\n",
       " ('olmak', 255),\n",
       " ('@Mustafa_Destici', 254),\n",
       " ('vekilim', 251),\n",
       " ('şey', 250),\n",
       " ('Recep', 250)]"
      ]
     },
     "execution_count": 22,
     "metadata": {},
     "output_type": "execute_result"
    }
   ],
   "source": [
    "#Most occured strings\n",
    "from collections import Counter\n",
    "\n",
    "Counter(\" \".join(dfPolitical[\"text\"]).split()).most_common(100)"
   ]
  },
  {
   "cell_type": "code",
   "execution_count": null,
   "metadata": {
    "colab": {
     "base_uri": "https://localhost:8080/"
    },
    "id": "fVtLWctnuYbE",
    "outputId": "15247ae9-deeb-4da0-e08c-a6b81be35fb2"
   },
   "outputs": [
    {
     "data": {
      "text/plain": [
       "[('ve', 2441),\n",
       " ('bir', 1297),\n",
       " ('|', 935),\n",
       " ('-', 796),\n",
       " ('🇹🇷', 779),\n",
       " ('/', 597),\n",
       " ('Parti', 542),\n",
       " ('için', 488),\n",
       " ('Ziraat', 414),\n",
       " ('AK', 404),\n",
       " ('Mühendisi', 376),\n",
       " ('Türk', 324),\n",
       " ('Başkanı', 323),\n",
       " ('da', 319),\n",
       " ('•', 300),\n",
       " ('Üyesi', 293),\n",
       " ('bu', 286),\n",
       " ('de', 277),\n",
       " ('the', 276),\n",
       " ('Bir', 268),\n",
       " ('Twitter', 267),\n",
       " ('her', 264),\n",
       " ('Üniversitesi', 263),\n",
       " ('Öğretmeni', 262),\n",
       " ('and', 253),\n",
       " ('Türkiye', 247),\n",
       " ('ile', 247),\n",
       " ('kadar', 241),\n",
       " ('İlçe', 237),\n",
       " ('ne', 235),\n",
       " ('of', 234),\n",
       " ('İl', 231),\n",
       " ('mühendisi', 227),\n",
       " ('Milletvekili', 226),\n",
       " ('a', 224),\n",
       " ('.', 223),\n",
       " (',', 222),\n",
       " ('&', 220),\n",
       " ('Başkan', 218),\n",
       " ('en', 217),\n",
       " ('İstanbul', 208),\n",
       " ('Ak', 208),\n",
       " ('Ne', 207),\n",
       " ('is', 197),\n",
       " ('çok', 193),\n",
       " ('Genel', 192),\n",
       " ('Atatürk', 191),\n",
       " ('ATATÜRK', 189),\n",
       " ('takip', 184),\n",
       " ('Vatan', 182),\n",
       " ('I', 181),\n",
       " ('gibi', 181),\n",
       " ('in', 178),\n",
       " ('Her', 178),\n",
       " ('Yönetim', 175),\n",
       " ('Kemal', 175),\n",
       " ('CHP', 172),\n",
       " ('Partisi', 169),\n",
       " ('yok', 168),\n",
       " ('to', 167),\n",
       " ('PARTİ', 164),\n",
       " ('Bu', 163),\n",
       " ('Mustafa', 162),\n",
       " ('olan', 161),\n",
       " ('ben', 160),\n",
       " ('şey', 160),\n",
       " ('Resmi', 160),\n",
       " ('VE', 159),\n",
       " ('ama', 157),\n",
       " ('Komisyonu', 157),\n",
       " ('öğretmeni', 156),\n",
       " ('Allah', 154),\n",
       " ('var', 151),\n",
       " ('sadece', 150),\n",
       " ('Kolları', 150),\n",
       " ('insan', 148),\n",
       " ('Kurulu', 147),\n",
       " ('Hesabı', 145),\n",
       " ('ki', 144),\n",
       " ('tek', 143),\n",
       " ('değil', 141),\n",
       " ('o', 140),\n",
       " ('Spor', 134),\n",
       " ('Gençlik', 133),\n",
       " ('Sosyal', 133),\n",
       " ('Etkinlik', 131),\n",
       " ('olmak', 130),\n",
       " ('Kadın', 130),\n",
       " ('İYİ', 128),\n",
       " ('vatan', 122),\n",
       " ('my', 120),\n",
       " ('...', 118),\n",
       " ('Yardımcısı', 118),\n",
       " ('parti', 117),\n",
       " ('hesap', 115),\n",
       " ('Ben', 113),\n",
       " ('Haber', 113),\n",
       " ('ya', 113),\n",
       " ('Ankara', 112),\n",
       " ('hesabı', 111)]"
      ]
     },
     "execution_count": 23,
     "metadata": {},
     "output_type": "execute_result"
    }
   ],
   "source": [
    "#Most occured strings in user's descriptions\n",
    "Counter(\" \".join(dfPolitical[\"user_description\"]).split()).most_common(100)"
   ]
  },
  {
   "cell_type": "markdown",
   "metadata": {
    "id": "dsTCGY0WFwZd"
   },
   "source": [
    "## 1.2. From Users"
   ]
  },
  {
   "cell_type": "markdown",
   "metadata": {
    "id": "fkYQc2eHFwZd"
   },
   "source": [
    "### 1.2.1. Get user metadata from user_profiles.jsons.gz"
   ]
  },
  {
   "cell_type": "markdown",
   "metadata": {
    "id": "y7sE1oU0FwZf"
   },
   "source": [
    "#### 1.2.1.1. Get user info metadata"
   ]
  },
  {
   "cell_type": "code",
   "execution_count": null,
   "metadata": {
    "ExecuteTime": {
     "end_time": "2022-12-29T19:51:57.726354Z",
     "start_time": "2022-12-29T19:51:57.697428Z"
    },
    "collapsed": true,
    "id": "jL5EV22SFwZg"
   },
   "outputs": [],
   "source": [
    "def get_user_info_metadata(user_metadata_line):\n",
    "    \n",
    "    user_id = user_metadata_line['id_str']\n",
    "    user_name = user_metadata_line['name']\n",
    "    user_screen_name = user_metadata_line['screen_name'].lower()\n",
    "    user_location = user_metadata_line['location']\n",
    "    user_description = user_metadata_line['description']\n",
    "    user_followers_count = user_metadata_line['followers_count']\n",
    "    user_friends_count = user_metadata_line['friends_count']\n",
    "    #\n",
    "    verified = user_metadata_line['verified']\n",
    "    geo_enabled= user_metadata_line['geo_enabled']\n",
    "    favourites_count = user_metadata_line['favourites_count']\n",
    "    created_at = user_metadata_line['created_at']\n",
    "\n",
    "    dictionary = {'user_id':user_id, 'user_name': user_name, 'user_screen_name':user_screen_name, 'user_location':user_location,\n",
    "     'user_description':user_description, 'user_followers_count':user_followers_count, 'user_friends_count':user_friends_count, \n",
    "     'verified':verified, 'geo_enabled':geo_enabled, 'favourites_count': favourites_count,\n",
    "     'created_at': created_at}\n",
    "\n",
    "    return dictionary"
   ]
  },
  {
   "cell_type": "markdown",
   "metadata": {
    "id": "JkrDkSy-FwZg"
   },
   "source": [
    "#### 1.2.1.2. Get followers/(followers+friends) ratio"
   ]
  },
  {
   "cell_type": "code",
   "execution_count": null,
   "metadata": {
    "ExecuteTime": {
     "end_time": "2022-12-29T19:51:59.451761Z",
     "start_time": "2022-12-29T19:51:59.427527Z"
    },
    "collapsed": true,
    "id": "fG9IcWLtFwZh"
   },
   "outputs": [],
   "source": [
    "def get_followers_all_ratio(user_followers_count, user_friends_count):\n",
    "    \n",
    "    if user_friends_count + user_followers_count == 0:\n",
    "        followers_all_ratio = 0\n",
    "\n",
    "    else:\n",
    "        followers_all_ratio =  user_followers_count / (user_friends_count + user_followers_count)\n",
    "\n",
    "    return followers_all_ratio"
   ]
  },
  {
   "cell_type": "markdown",
   "metadata": {
    "id": "Y_MgVWFkFwZi"
   },
   "source": [
    "#### 1.2.1.3. Get description length"
   ]
  },
  {
   "cell_type": "code",
   "execution_count": null,
   "metadata": {
    "ExecuteTime": {
     "end_time": "2022-12-29T19:52:00.728176Z",
     "start_time": "2022-12-29T19:52:00.707177Z"
    },
    "collapsed": true,
    "id": "heXXzwy8FwZi"
   },
   "outputs": [],
   "source": [
    "def get_desc_len(user_description):\n",
    "    \n",
    "    description_len = len(user_description)\n",
    "\n",
    "    return description_len"
   ]
  },
  {
   "cell_type": "markdown",
   "metadata": {
    "id": "nvhPzrSVIBD-"
   },
   "source": [
    "1.2.1.4 Get average daily favorites"
   ]
  },
  {
   "cell_type": "code",
   "execution_count": null,
   "metadata": {
    "id": "IMEtuPFIIKQ5"
   },
   "outputs": [],
   "source": [
    "def get_daily_favorites(favourites_count, account_age_days):\n",
    "    \n",
    "    return(np.round(favorite_count / account_age_days), 3)"
   ]
  },
  {
   "cell_type": "markdown",
   "metadata": {
    "id": "U-jXU0thIIOL"
   },
   "source": [
    "1.2.1.5 Get network"
   ]
  },
  {
   "cell_type": "markdown",
   "metadata": {
    "id": "w5oSr4mVLddX"
   },
   "source": [
    "1.2.1.6 Get account age"
   ]
  },
  {
   "cell_type": "code",
   "execution_count": null,
   "metadata": {
    "id": "9YnjJGxmLfdf"
   },
   "outputs": [],
   "source": [
    "from time import strptime\n",
    "from datetime import date\n",
    "\n",
    "def get_account_age(created_at):\n",
    "    lst=(created_at.split(' '))\n",
    "    year = lst[5]\n",
    "    month= lst[1]\n",
    "    month= strptime(month,'%b').tm_mon\n",
    "    day= lst[2]\n",
    "\n",
    "    given = date(int(year), int(month), int(day))\n",
    "    now = date(2023, 1, 24)\n",
    "    delta = now- given\n",
    "    return delta\n",
    "  \n"
   ]
  },
  {
   "cell_type": "code",
   "execution_count": null,
   "metadata": {
    "id": "hN2-y0u7I2M0"
   },
   "outputs": [],
   "source": [
    "def get_network(user_friends_count, user_followers_count):\n",
    "    \n",
    "    return (user_friends_count + user_followers_count)"
   ]
  },
  {
   "cell_type": "code",
   "execution_count": null,
   "metadata": {
    "ExecuteTime": {
     "end_time": "2022-12-29T19:52:04.792897Z",
     "start_time": "2022-12-29T19:52:02.798985Z"
    },
    "collapsed": true,
    "id": "MKJQ89jDFwZm",
    "scrolled": true
   },
   "outputs": [],
   "source": [
    "dfBot = {'user_id':[],\n",
    "         'user_name':[],\n",
    "         'user_screen_name':[],\n",
    "         'user_location':[],\n",
    "         'user_description':[],\n",
    "         'user_followers_count':[],\n",
    "         'user_friends_count':[],\n",
    "         'description_len':[],\n",
    "         'followers_to_all_ratio':[],\n",
    "         'verified':[], #added\n",
    "         'geo_enabled':[],\n",
    "         'favourites_count':[],\n",
    "         'created_at': [],\n",
    "         'account_age_days':[],\n",
    "         #'avg_daily_favorites':[],\n",
    "         'network':[],\n",
    "         } \n",
    "         \n",
    "\n",
    "with gzip.open(f\"{PATH_TO_DOWNLOADED}user_profiles.jsons.gz\", \"rb\") as f:\n",
    "    for line in f:\n",
    "        line = json.loads(line)\n",
    "\n",
    "        dictionary = get_user_info_metadata(line)\n",
    "        for k,v in dictionary.items():\n",
    "            dfBot[k].append(v)\n",
    "\n",
    "        \n",
    "        # manually crafted data:\n",
    "        description_len = get_desc_len(dictionary['user_description'])\n",
    "        dfBot['description_len'].append(description_len)\n",
    "        \n",
    "        followers_all_ratio = get_followers_all_ratio(dictionary['user_followers_count'], \n",
    "                                                      dictionary['user_friends_count'])\n",
    "        dfBot['followers_to_all_ratio'].append(followers_all_ratio)\n",
    "\n",
    "        account_age_days= get_account_age(dictionary['created_at'])\n",
    "        dfBot['account_age_days'].append(account_age_days)\n",
    "\n",
    "        #avg_daily_favorites= get_daily_favorites(dictionary['favourites_count'], dictionary['account_age_days'])     \n",
    "        #dfBot['avg_daily_favorites'].append(avg_daily_favorites)\n",
    "\n",
    "        network= get_network(dictionary['user_friends_count'], \n",
    "                                                      dictionary['user_followers_count'])        \n",
    "        dfBot['network'].append(network)"
   ]
  },
  {
   "cell_type": "code",
   "execution_count": null,
   "metadata": {
    "ExecuteTime": {
     "end_time": "2022-12-29T19:52:04.868449Z",
     "start_time": "2022-12-29T19:52:04.795396Z"
    },
    "colab": {
     "base_uri": "https://localhost:8080/",
     "height": 887
    },
    "id": "aczXlfebFwZm",
    "outputId": "798ff6d7-42a4-4ae0-9d87-73abd9084597",
    "scrolled": true
   },
   "outputs": [
    {
     "data": {
      "text/html": [
       "\n",
       "  <div id=\"df-495950ec-3f6c-456b-98a5-c42536146f38\">\n",
       "    <div class=\"colab-df-container\">\n",
       "      <div>\n",
       "<style scoped>\n",
       "    .dataframe tbody tr th:only-of-type {\n",
       "        vertical-align: middle;\n",
       "    }\n",
       "\n",
       "    .dataframe tbody tr th {\n",
       "        vertical-align: top;\n",
       "    }\n",
       "\n",
       "    .dataframe thead th {\n",
       "        text-align: right;\n",
       "    }\n",
       "</style>\n",
       "<table border=\"1\" class=\"dataframe\">\n",
       "  <thead>\n",
       "    <tr style=\"text-align: right;\">\n",
       "      <th></th>\n",
       "      <th>user_id</th>\n",
       "      <th>user_name</th>\n",
       "      <th>user_screen_name</th>\n",
       "      <th>user_location</th>\n",
       "      <th>user_description</th>\n",
       "      <th>user_followers_count</th>\n",
       "      <th>user_friends_count</th>\n",
       "      <th>description_len</th>\n",
       "      <th>followers_to_all_ratio</th>\n",
       "      <th>verified</th>\n",
       "      <th>geo_enabled</th>\n",
       "      <th>favourites_count</th>\n",
       "      <th>created_at</th>\n",
       "      <th>account_age_days</th>\n",
       "      <th>network</th>\n",
       "    </tr>\n",
       "  </thead>\n",
       "  <tbody>\n",
       "    <tr>\n",
       "      <th>0</th>\n",
       "      <td>1431241870848450577</td>\n",
       "      <td>Nasreena Khan Wazir</td>\n",
       "      <td>nasreenakhan006</td>\n",
       "      <td>Islamabad, Pakistan</td>\n",
       "      <td>Student</td>\n",
       "      <td>65</td>\n",
       "      <td>185</td>\n",
       "      <td>7</td>\n",
       "      <td>0.260000</td>\n",
       "      <td>False</td>\n",
       "      <td>True</td>\n",
       "      <td>17676</td>\n",
       "      <td>Fri Aug 27 13:07:30 +0000 2021</td>\n",
       "      <td>515 days</td>\n",
       "      <td>250</td>\n",
       "    </tr>\n",
       "    <tr>\n",
       "      <th>1</th>\n",
       "      <td>1304340303080386560</td>\n",
       "      <td>fania :((((</td>\n",
       "      <td>scorpiehoez</td>\n",
       "      <td>bogor</td>\n",
       "      <td>have a holly jolly🎄</td>\n",
       "      <td>8235</td>\n",
       "      <td>3011</td>\n",
       "      <td>19</td>\n",
       "      <td>0.732260</td>\n",
       "      <td>False</td>\n",
       "      <td>True</td>\n",
       "      <td>15474</td>\n",
       "      <td>Fri Sep 11 08:45:44 +0000 2020</td>\n",
       "      <td>865 days</td>\n",
       "      <td>11246</td>\n",
       "    </tr>\n",
       "    <tr>\n",
       "      <th>2</th>\n",
       "      <td>1116042038577958914</td>\n",
       "      <td>Yusuf Aksoy</td>\n",
       "      <td>yusufak63712920</td>\n",
       "      <td></td>\n",
       "      <td>Bir şeyden pişmanlık duymak istemiyorsan,her ş...</td>\n",
       "      <td>95</td>\n",
       "      <td>399</td>\n",
       "      <td>64</td>\n",
       "      <td>0.192308</td>\n",
       "      <td>False</td>\n",
       "      <td>False</td>\n",
       "      <td>18220</td>\n",
       "      <td>Wed Apr 10 18:15:31 +0000 2019</td>\n",
       "      <td>1385 days</td>\n",
       "      <td>494</td>\n",
       "    </tr>\n",
       "    <tr>\n",
       "      <th>3</th>\n",
       "      <td>4859899931</td>\n",
       "      <td>Be (VIXX6) ama oppalarının düğününe gidemiyor</td>\n",
       "      <td>nedenburdaysam</td>\n",
       "      <td>Hufflepuff ortak salon</td>\n",
       "      <td>SMStan\\n/St☆rlight ///come on girls,this is ou...</td>\n",
       "      <td>40</td>\n",
       "      <td>83</td>\n",
       "      <td>65</td>\n",
       "      <td>0.325203</td>\n",
       "      <td>False</td>\n",
       "      <td>False</td>\n",
       "      <td>26999</td>\n",
       "      <td>Fri Jan 29 11:01:25 +0000 2016</td>\n",
       "      <td>2552 days</td>\n",
       "      <td>123</td>\n",
       "    </tr>\n",
       "    <tr>\n",
       "      <th>4</th>\n",
       "      <td>2225373636</td>\n",
       "      <td>SLMDMR</td>\n",
       "      <td>biologselim</td>\n",
       "      <td></td>\n",
       "      <td>BİYOLOG🔬🦠\\nNanoteknoloji</td>\n",
       "      <td>100</td>\n",
       "      <td>98</td>\n",
       "      <td>23</td>\n",
       "      <td>0.505051</td>\n",
       "      <td>False</td>\n",
       "      <td>False</td>\n",
       "      <td>2179</td>\n",
       "      <td>Sun Dec 01 18:16:41 +0000 2013</td>\n",
       "      <td>3341 days</td>\n",
       "      <td>198</td>\n",
       "    </tr>\n",
       "    <tr>\n",
       "      <th>...</th>\n",
       "      <td>...</td>\n",
       "      <td>...</td>\n",
       "      <td>...</td>\n",
       "      <td>...</td>\n",
       "      <td>...</td>\n",
       "      <td>...</td>\n",
       "      <td>...</td>\n",
       "      <td>...</td>\n",
       "      <td>...</td>\n",
       "      <td>...</td>\n",
       "      <td>...</td>\n",
       "      <td>...</td>\n",
       "      <td>...</td>\n",
       "      <td>...</td>\n",
       "      <td>...</td>\n",
       "    </tr>\n",
       "    <tr>\n",
       "      <th>29665</th>\n",
       "      <td>1320834618220781569</td>\n",
       "      <td>islammm</td>\n",
       "      <td>islam_mrsj</td>\n",
       "      <td></td>\n",
       "      <td></td>\n",
       "      <td>229</td>\n",
       "      <td>217</td>\n",
       "      <td>0</td>\n",
       "      <td>0.513453</td>\n",
       "      <td>False</td>\n",
       "      <td>False</td>\n",
       "      <td>10820</td>\n",
       "      <td>Mon Oct 26 21:08:22 +0000 2020</td>\n",
       "      <td>820 days</td>\n",
       "      <td>446</td>\n",
       "    </tr>\n",
       "    <tr>\n",
       "      <th>29666</th>\n",
       "      <td>111074128</td>\n",
       "      <td>Melda Onur</td>\n",
       "      <td>meldaonur</td>\n",
       "      <td></td>\n",
       "      <td>Şekersiz çay, etsiz sofra, SAVAŞSIZ dünya... 🐌...</td>\n",
       "      <td>212457</td>\n",
       "      <td>5428</td>\n",
       "      <td>100</td>\n",
       "      <td>0.975088</td>\n",
       "      <td>False</td>\n",
       "      <td>True</td>\n",
       "      <td>36671</td>\n",
       "      <td>Wed Feb 03 18:39:01 +0000 2010</td>\n",
       "      <td>4738 days</td>\n",
       "      <td>217885</td>\n",
       "    </tr>\n",
       "    <tr>\n",
       "      <th>29667</th>\n",
       "      <td>36946875</td>\n",
       "      <td>ali ydm</td>\n",
       "      <td>ali_ydm</td>\n",
       "      <td>İstanbul, Türkiye</td>\n",
       "      <td>hayat oyunsa bende jeton çok</td>\n",
       "      <td>116</td>\n",
       "      <td>141</td>\n",
       "      <td>28</td>\n",
       "      <td>0.451362</td>\n",
       "      <td>False</td>\n",
       "      <td>False</td>\n",
       "      <td>7389</td>\n",
       "      <td>Fri May 01 13:56:23 +0000 2009</td>\n",
       "      <td>5016 days</td>\n",
       "      <td>257</td>\n",
       "    </tr>\n",
       "    <tr>\n",
       "      <th>29668</th>\n",
       "      <td>2389587396</td>\n",
       "      <td>Türkan Usta</td>\n",
       "      <td>turkanusta</td>\n",
       "      <td>Ankara, Türkiye</td>\n",
       "      <td>Ustaya sormuşlar; hayatta yaptığın en büyük is...</td>\n",
       "      <td>1669</td>\n",
       "      <td>3639</td>\n",
       "      <td>116</td>\n",
       "      <td>0.314431</td>\n",
       "      <td>False</td>\n",
       "      <td>True</td>\n",
       "      <td>140095</td>\n",
       "      <td>Fri Mar 14 18:05:09 +0000 2014</td>\n",
       "      <td>3238 days</td>\n",
       "      <td>5308</td>\n",
       "    </tr>\n",
       "    <tr>\n",
       "      <th>29669</th>\n",
       "      <td>1575904134</td>\n",
       "      <td>ARAZ</td>\n",
       "      <td>ben121975</td>\n",
       "      <td></td>\n",
       "      <td>Korkak gerçek le yüzleşmeyi redd eder,hırçınla...</td>\n",
       "      <td>6026</td>\n",
       "      <td>5625</td>\n",
       "      <td>158</td>\n",
       "      <td>0.517209</td>\n",
       "      <td>False</td>\n",
       "      <td>True</td>\n",
       "      <td>39605</td>\n",
       "      <td>Sun Jul 07 19:57:01 +0000 2013</td>\n",
       "      <td>3488 days</td>\n",
       "      <td>11651</td>\n",
       "    </tr>\n",
       "  </tbody>\n",
       "</table>\n",
       "<p>29670 rows × 15 columns</p>\n",
       "</div>\n",
       "      <button class=\"colab-df-convert\" onclick=\"convertToInteractive('df-495950ec-3f6c-456b-98a5-c42536146f38')\"\n",
       "              title=\"Convert this dataframe to an interactive table.\"\n",
       "              style=\"display:none;\">\n",
       "        \n",
       "  <svg xmlns=\"http://www.w3.org/2000/svg\" height=\"24px\"viewBox=\"0 0 24 24\"\n",
       "       width=\"24px\">\n",
       "    <path d=\"M0 0h24v24H0V0z\" fill=\"none\"/>\n",
       "    <path d=\"M18.56 5.44l.94 2.06.94-2.06 2.06-.94-2.06-.94-.94-2.06-.94 2.06-2.06.94zm-11 1L8.5 8.5l.94-2.06 2.06-.94-2.06-.94L8.5 2.5l-.94 2.06-2.06.94zm10 10l.94 2.06.94-2.06 2.06-.94-2.06-.94-.94-2.06-.94 2.06-2.06.94z\"/><path d=\"M17.41 7.96l-1.37-1.37c-.4-.4-.92-.59-1.43-.59-.52 0-1.04.2-1.43.59L10.3 9.45l-7.72 7.72c-.78.78-.78 2.05 0 2.83L4 21.41c.39.39.9.59 1.41.59.51 0 1.02-.2 1.41-.59l7.78-7.78 2.81-2.81c.8-.78.8-2.07 0-2.86zM5.41 20L4 18.59l7.72-7.72 1.47 1.35L5.41 20z\"/>\n",
       "  </svg>\n",
       "      </button>\n",
       "      \n",
       "  <style>\n",
       "    .colab-df-container {\n",
       "      display:flex;\n",
       "      flex-wrap:wrap;\n",
       "      gap: 12px;\n",
       "    }\n",
       "\n",
       "    .colab-df-convert {\n",
       "      background-color: #E8F0FE;\n",
       "      border: none;\n",
       "      border-radius: 50%;\n",
       "      cursor: pointer;\n",
       "      display: none;\n",
       "      fill: #1967D2;\n",
       "      height: 32px;\n",
       "      padding: 0 0 0 0;\n",
       "      width: 32px;\n",
       "    }\n",
       "\n",
       "    .colab-df-convert:hover {\n",
       "      background-color: #E2EBFA;\n",
       "      box-shadow: 0px 1px 2px rgba(60, 64, 67, 0.3), 0px 1px 3px 1px rgba(60, 64, 67, 0.15);\n",
       "      fill: #174EA6;\n",
       "    }\n",
       "\n",
       "    [theme=dark] .colab-df-convert {\n",
       "      background-color: #3B4455;\n",
       "      fill: #D2E3FC;\n",
       "    }\n",
       "\n",
       "    [theme=dark] .colab-df-convert:hover {\n",
       "      background-color: #434B5C;\n",
       "      box-shadow: 0px 1px 3px 1px rgba(0, 0, 0, 0.15);\n",
       "      filter: drop-shadow(0px 1px 2px rgba(0, 0, 0, 0.3));\n",
       "      fill: #FFFFFF;\n",
       "    }\n",
       "  </style>\n",
       "\n",
       "      <script>\n",
       "        const buttonEl =\n",
       "          document.querySelector('#df-495950ec-3f6c-456b-98a5-c42536146f38 button.colab-df-convert');\n",
       "        buttonEl.style.display =\n",
       "          google.colab.kernel.accessAllowed ? 'block' : 'none';\n",
       "\n",
       "        async function convertToInteractive(key) {\n",
       "          const element = document.querySelector('#df-495950ec-3f6c-456b-98a5-c42536146f38');\n",
       "          const dataTable =\n",
       "            await google.colab.kernel.invokeFunction('convertToInteractive',\n",
       "                                                     [key], {});\n",
       "          if (!dataTable) return;\n",
       "\n",
       "          const docLinkHtml = 'Like what you see? Visit the ' +\n",
       "            '<a target=\"_blank\" href=https://colab.research.google.com/notebooks/data_table.ipynb>data table notebook</a>'\n",
       "            + ' to learn more about interactive tables.';\n",
       "          element.innerHTML = '';\n",
       "          dataTable['output_type'] = 'display_data';\n",
       "          await google.colab.output.renderOutput(dataTable, element);\n",
       "          const docLink = document.createElement('div');\n",
       "          docLink.innerHTML = docLinkHtml;\n",
       "          element.appendChild(docLink);\n",
       "        }\n",
       "      </script>\n",
       "    </div>\n",
       "  </div>\n",
       "  "
      ],
      "text/plain": [
       "                   user_id                                      user_name  \\\n",
       "0      1431241870848450577                            Nasreena Khan Wazir   \n",
       "1      1304340303080386560                                    fania :((((   \n",
       "2      1116042038577958914                                    Yusuf Aksoy   \n",
       "3               4859899931  Be (VIXX6) ama oppalarının düğününe gidemiyor   \n",
       "4               2225373636                                         SLMDMR   \n",
       "...                    ...                                            ...   \n",
       "29665  1320834618220781569                                        islammm   \n",
       "29666            111074128                                     Melda Onur   \n",
       "29667             36946875                                        ali ydm   \n",
       "29668           2389587396                                    Türkan Usta   \n",
       "29669           1575904134                                           ARAZ   \n",
       "\n",
       "      user_screen_name            user_location  \\\n",
       "0      nasreenakhan006      Islamabad, Pakistan   \n",
       "1          scorpiehoez                   bogor    \n",
       "2      yusufak63712920                            \n",
       "3       nedenburdaysam  Hufflepuff ortak salon    \n",
       "4          biologselim                            \n",
       "...                ...                      ...   \n",
       "29665       islam_mrsj                            \n",
       "29666        meldaonur                            \n",
       "29667          ali_ydm        İstanbul, Türkiye   \n",
       "29668       turkanusta          Ankara, Türkiye   \n",
       "29669        ben121975                            \n",
       "\n",
       "                                        user_description  \\\n",
       "0                                                Student   \n",
       "1                                    have a holly jolly🎄   \n",
       "2      Bir şeyden pişmanlık duymak istemiyorsan,her ş...   \n",
       "3      SMStan\\n/St☆rlight ///come on girls,this is ou...   \n",
       "4                               BİYOLOG🔬🦠\\nNanoteknoloji   \n",
       "...                                                  ...   \n",
       "29665                                                      \n",
       "29666  Şekersiz çay, etsiz sofra, SAVAŞSIZ dünya... 🐌...   \n",
       "29667                       hayat oyunsa bende jeton çok   \n",
       "29668  Ustaya sormuşlar; hayatta yaptığın en büyük is...   \n",
       "29669  Korkak gerçek le yüzleşmeyi redd eder,hırçınla...   \n",
       "\n",
       "       user_followers_count  user_friends_count  description_len  \\\n",
       "0                        65                 185                7   \n",
       "1                      8235                3011               19   \n",
       "2                        95                 399               64   \n",
       "3                        40                  83               65   \n",
       "4                       100                  98               23   \n",
       "...                     ...                 ...              ...   \n",
       "29665                   229                 217                0   \n",
       "29666                212457                5428              100   \n",
       "29667                   116                 141               28   \n",
       "29668                  1669                3639              116   \n",
       "29669                  6026                5625              158   \n",
       "\n",
       "       followers_to_all_ratio  verified  geo_enabled  favourites_count  \\\n",
       "0                    0.260000     False         True             17676   \n",
       "1                    0.732260     False         True             15474   \n",
       "2                    0.192308     False        False             18220   \n",
       "3                    0.325203     False        False             26999   \n",
       "4                    0.505051     False        False              2179   \n",
       "...                       ...       ...          ...               ...   \n",
       "29665                0.513453     False        False             10820   \n",
       "29666                0.975088     False         True             36671   \n",
       "29667                0.451362     False        False              7389   \n",
       "29668                0.314431     False         True            140095   \n",
       "29669                0.517209     False         True             39605   \n",
       "\n",
       "                           created_at account_age_days  network  \n",
       "0      Fri Aug 27 13:07:30 +0000 2021         515 days      250  \n",
       "1      Fri Sep 11 08:45:44 +0000 2020         865 days    11246  \n",
       "2      Wed Apr 10 18:15:31 +0000 2019        1385 days      494  \n",
       "3      Fri Jan 29 11:01:25 +0000 2016        2552 days      123  \n",
       "4      Sun Dec 01 18:16:41 +0000 2013        3341 days      198  \n",
       "...                               ...              ...      ...  \n",
       "29665  Mon Oct 26 21:08:22 +0000 2020         820 days      446  \n",
       "29666  Wed Feb 03 18:39:01 +0000 2010        4738 days   217885  \n",
       "29667  Fri May 01 13:56:23 +0000 2009        5016 days      257  \n",
       "29668  Fri Mar 14 18:05:09 +0000 2014        3238 days     5308  \n",
       "29669  Sun Jul 07 19:57:01 +0000 2013        3488 days    11651  \n",
       "\n",
       "[29670 rows x 15 columns]"
      ]
     },
     "execution_count": 30,
     "metadata": {},
     "output_type": "execute_result"
    }
   ],
   "source": [
    "dfBot = pd.DataFrame(dfBot)\n",
    "dfBot"
   ]
  },
  {
   "cell_type": "markdown",
   "metadata": {
    "id": "GLMXQaO2FwZo"
   },
   "source": [
    "### 1.2.2. Get Tweet Info of Users in user_profiles.jsons.gz"
   ]
  },
  {
   "cell_type": "markdown",
   "metadata": {
    "id": "rp54Y5pNFwZp"
   },
   "source": [
    "#### 1.2.2.1. Check ratio of retweets to all tweets"
   ]
  },
  {
   "cell_type": "code",
   "execution_count": null,
   "metadata": {
    "ExecuteTime": {
     "end_time": "2022-12-29T19:52:07.323429Z",
     "start_time": "2022-12-29T19:52:07.295798Z"
    },
    "collapsed": true,
    "id": "PWb7ylnyFwZp"
   },
   "outputs": [],
   "source": [
    "def get_retweet_tweet_ratio(line):\n",
    "    number_retweets = 0\n",
    "    number_original_tweets = 0\n",
    "\n",
    "    for tweet in line['tweets']:\n",
    "        try:\n",
    "            tweet['retweeted_status']\n",
    "            number_retweets += 1\n",
    "                \n",
    "        except:\n",
    "            number_original_tweets += 1\n",
    "            \n",
    "    total_tweets = number_retweets + number_original_tweets\n",
    "    \n",
    "    if total_tweets == 0:\n",
    "        retweet_total_ratio = None\n",
    "    else:\n",
    "        retweet_total_ratio = number_retweets/(total_tweets)\n",
    "    \n",
    "    return retweet_total_ratio"
   ]
  },
  {
   "cell_type": "markdown",
   "metadata": {
    "id": "Yjt-wdA4FwZq"
   },
   "source": [
    "#### 1.2.2.2. Check median number of favorites"
   ]
  },
  {
   "cell_type": "code",
   "execution_count": null,
   "metadata": {
    "ExecuteTime": {
     "end_time": "2022-12-29T19:52:08.882460Z",
     "start_time": "2022-12-29T19:52:08.858018Z"
    },
    "collapsed": true,
    "id": "t3YA8ZOPFwZq"
   },
   "outputs": [],
   "source": [
    "def get_median_number_favorites(line):\n",
    "    num_median_favorites = np.median([tweet['favorite_count'] for tweet in line['tweets']])\n",
    "\n",
    "    return num_median_favorites"
   ]
  },
  {
   "cell_type": "markdown",
   "metadata": {
    "id": "sAYLmWI6FwZr"
   },
   "source": [
    "### 1.2.3. Collect data using the functions above and transform into a Pandas DataFrame"
   ]
  },
  {
   "cell_type": "code",
   "execution_count": null,
   "metadata": {
    "ExecuteTime": {
     "end_time": "2022-12-29T19:58:51.844652Z",
     "start_time": "2022-12-29T19:52:10.806040Z"
    },
    "colab": {
     "base_uri": "https://localhost:8080/"
    },
    "id": "vAYQ7dHLFwZr",
    "outputId": "3b3f33d2-0248-4e5c-ce8f-3a7acf14d820",
    "scrolled": false
   },
   "outputs": [
    {
     "name": "stderr",
     "output_type": "stream",
     "text": [
      "/usr/local/lib/python3.8/dist-packages/numpy/core/fromnumeric.py:3440: RuntimeWarning: Mean of empty slice.\n",
      "  return _methods._mean(a, axis=axis, dtype=dtype,\n",
      "/usr/local/lib/python3.8/dist-packages/numpy/core/_methods.py:189: RuntimeWarning: invalid value encountered in double_scalars\n",
      "  ret = ret.dtype.type(ret / rcount)\n"
     ]
    },
    {
     "name": "stdout",
     "output_type": "stream",
     "text": [
      "1000\n",
      "2000\n",
      "3000\n",
      "4000\n",
      "5000\n",
      "6000\n",
      "7000\n",
      "8000\n",
      "9000\n",
      "10000\n",
      "11000\n",
      "12000\n",
      "13000\n",
      "14000\n",
      "15000\n",
      "16000\n",
      "17000\n",
      "18000\n",
      "19000\n",
      "20000\n",
      "21000\n",
      "22000\n",
      "23000\n",
      "24000\n",
      "25000\n",
      "26000\n",
      "27000\n",
      "28000\n"
     ]
    }
   ],
   "source": [
    "dfBotTweets = {'user_id':[],\n",
    "               'retweet_total_ratio':[],\n",
    "               'num_median_favorites':[],\n",
    "               'num_of_tweets':[],\n",
    "              }\n",
    "\n",
    "i = 0\n",
    "\n",
    "with gzip.open(f\"{PATH_TO_DOWNLOADED}user_tweets.jsons.gz\", \"rb\") as f:\n",
    "    for line in f:\n",
    "\n",
    "        line = json.loads(line)\n",
    "\n",
    "        user_id = line['user_id']\n",
    "        dfBotTweets['user_id'].append(user_id)\n",
    "        \n",
    "        retweet_total_ratio = get_retweet_tweet_ratio(line)\n",
    "        dfBotTweets['retweet_total_ratio'].append(retweet_total_ratio)\n",
    "        \n",
    "        num_median_favorites = get_median_number_favorites(line)\n",
    "        dfBotTweets['num_median_favorites'].append(num_median_favorites)\n",
    "        \n",
    "        dfBotTweets['num_of_tweets'].append(len(line['tweets']))\n",
    "\n",
    "        i += 1\n",
    "        if i % 1000 == 0:\n",
    "            print(i)"
   ]
  },
  {
   "cell_type": "code",
   "execution_count": null,
   "metadata": {
    "ExecuteTime": {
     "end_time": "2022-12-29T19:58:51.997352Z",
     "start_time": "2022-12-29T19:58:51.847603Z"
    },
    "colab": {
     "base_uri": "https://localhost:8080/",
     "height": 424
    },
    "id": "PSKLV63vFwZt",
    "outputId": "fea90837-7ee0-4531-d65a-78530a7c9f31"
   },
   "outputs": [
    {
     "data": {
      "text/html": [
       "\n",
       "  <div id=\"df-4f2b1bf9-c427-4c3e-980b-ac607ba5efd2\">\n",
       "    <div class=\"colab-df-container\">\n",
       "      <div>\n",
       "<style scoped>\n",
       "    .dataframe tbody tr th:only-of-type {\n",
       "        vertical-align: middle;\n",
       "    }\n",
       "\n",
       "    .dataframe tbody tr th {\n",
       "        vertical-align: top;\n",
       "    }\n",
       "\n",
       "    .dataframe thead th {\n",
       "        text-align: right;\n",
       "    }\n",
       "</style>\n",
       "<table border=\"1\" class=\"dataframe\">\n",
       "  <thead>\n",
       "    <tr style=\"text-align: right;\">\n",
       "      <th></th>\n",
       "      <th>user_id</th>\n",
       "      <th>retweet_total_ratio</th>\n",
       "      <th>num_median_favorites</th>\n",
       "      <th>num_of_tweets</th>\n",
       "    </tr>\n",
       "  </thead>\n",
       "  <tbody>\n",
       "    <tr>\n",
       "      <th>0</th>\n",
       "      <td>594642154</td>\n",
       "      <td>0.115000</td>\n",
       "      <td>2.0</td>\n",
       "      <td>200</td>\n",
       "    </tr>\n",
       "    <tr>\n",
       "      <th>1</th>\n",
       "      <td>525600289</td>\n",
       "      <td>0.005025</td>\n",
       "      <td>1.0</td>\n",
       "      <td>199</td>\n",
       "    </tr>\n",
       "    <tr>\n",
       "      <th>2</th>\n",
       "      <td>931895965501534209</td>\n",
       "      <td>0.900000</td>\n",
       "      <td>0.0</td>\n",
       "      <td>200</td>\n",
       "    </tr>\n",
       "    <tr>\n",
       "      <th>3</th>\n",
       "      <td>1591543462746329088</td>\n",
       "      <td>0.185000</td>\n",
       "      <td>0.0</td>\n",
       "      <td>200</td>\n",
       "    </tr>\n",
       "    <tr>\n",
       "      <th>4</th>\n",
       "      <td>734801354749796352</td>\n",
       "      <td>1.000000</td>\n",
       "      <td>0.0</td>\n",
       "      <td>200</td>\n",
       "    </tr>\n",
       "    <tr>\n",
       "      <th>...</th>\n",
       "      <td>...</td>\n",
       "      <td>...</td>\n",
       "      <td>...</td>\n",
       "      <td>...</td>\n",
       "    </tr>\n",
       "    <tr>\n",
       "      <th>28310</th>\n",
       "      <td>1591370361488252928</td>\n",
       "      <td>0.800000</td>\n",
       "      <td>0.0</td>\n",
       "      <td>200</td>\n",
       "    </tr>\n",
       "    <tr>\n",
       "      <th>28311</th>\n",
       "      <td>1475272459616235525</td>\n",
       "      <td>0.825000</td>\n",
       "      <td>0.0</td>\n",
       "      <td>200</td>\n",
       "    </tr>\n",
       "    <tr>\n",
       "      <th>28312</th>\n",
       "      <td>1096753792731750401</td>\n",
       "      <td>0.051020</td>\n",
       "      <td>1.0</td>\n",
       "      <td>196</td>\n",
       "    </tr>\n",
       "    <tr>\n",
       "      <th>28313</th>\n",
       "      <td>1269527617687953409</td>\n",
       "      <td>0.095000</td>\n",
       "      <td>2.0</td>\n",
       "      <td>200</td>\n",
       "    </tr>\n",
       "    <tr>\n",
       "      <th>28314</th>\n",
       "      <td>1483177252271570944</td>\n",
       "      <td>0.630000</td>\n",
       "      <td>0.0</td>\n",
       "      <td>200</td>\n",
       "    </tr>\n",
       "  </tbody>\n",
       "</table>\n",
       "<p>28315 rows × 4 columns</p>\n",
       "</div>\n",
       "      <button class=\"colab-df-convert\" onclick=\"convertToInteractive('df-4f2b1bf9-c427-4c3e-980b-ac607ba5efd2')\"\n",
       "              title=\"Convert this dataframe to an interactive table.\"\n",
       "              style=\"display:none;\">\n",
       "        \n",
       "  <svg xmlns=\"http://www.w3.org/2000/svg\" height=\"24px\"viewBox=\"0 0 24 24\"\n",
       "       width=\"24px\">\n",
       "    <path d=\"M0 0h24v24H0V0z\" fill=\"none\"/>\n",
       "    <path d=\"M18.56 5.44l.94 2.06.94-2.06 2.06-.94-2.06-.94-.94-2.06-.94 2.06-2.06.94zm-11 1L8.5 8.5l.94-2.06 2.06-.94-2.06-.94L8.5 2.5l-.94 2.06-2.06.94zm10 10l.94 2.06.94-2.06 2.06-.94-2.06-.94-.94-2.06-.94 2.06-2.06.94z\"/><path d=\"M17.41 7.96l-1.37-1.37c-.4-.4-.92-.59-1.43-.59-.52 0-1.04.2-1.43.59L10.3 9.45l-7.72 7.72c-.78.78-.78 2.05 0 2.83L4 21.41c.39.39.9.59 1.41.59.51 0 1.02-.2 1.41-.59l7.78-7.78 2.81-2.81c.8-.78.8-2.07 0-2.86zM5.41 20L4 18.59l7.72-7.72 1.47 1.35L5.41 20z\"/>\n",
       "  </svg>\n",
       "      </button>\n",
       "      \n",
       "  <style>\n",
       "    .colab-df-container {\n",
       "      display:flex;\n",
       "      flex-wrap:wrap;\n",
       "      gap: 12px;\n",
       "    }\n",
       "\n",
       "    .colab-df-convert {\n",
       "      background-color: #E8F0FE;\n",
       "      border: none;\n",
       "      border-radius: 50%;\n",
       "      cursor: pointer;\n",
       "      display: none;\n",
       "      fill: #1967D2;\n",
       "      height: 32px;\n",
       "      padding: 0 0 0 0;\n",
       "      width: 32px;\n",
       "    }\n",
       "\n",
       "    .colab-df-convert:hover {\n",
       "      background-color: #E2EBFA;\n",
       "      box-shadow: 0px 1px 2px rgba(60, 64, 67, 0.3), 0px 1px 3px 1px rgba(60, 64, 67, 0.15);\n",
       "      fill: #174EA6;\n",
       "    }\n",
       "\n",
       "    [theme=dark] .colab-df-convert {\n",
       "      background-color: #3B4455;\n",
       "      fill: #D2E3FC;\n",
       "    }\n",
       "\n",
       "    [theme=dark] .colab-df-convert:hover {\n",
       "      background-color: #434B5C;\n",
       "      box-shadow: 0px 1px 3px 1px rgba(0, 0, 0, 0.15);\n",
       "      filter: drop-shadow(0px 1px 2px rgba(0, 0, 0, 0.3));\n",
       "      fill: #FFFFFF;\n",
       "    }\n",
       "  </style>\n",
       "\n",
       "      <script>\n",
       "        const buttonEl =\n",
       "          document.querySelector('#df-4f2b1bf9-c427-4c3e-980b-ac607ba5efd2 button.colab-df-convert');\n",
       "        buttonEl.style.display =\n",
       "          google.colab.kernel.accessAllowed ? 'block' : 'none';\n",
       "\n",
       "        async function convertToInteractive(key) {\n",
       "          const element = document.querySelector('#df-4f2b1bf9-c427-4c3e-980b-ac607ba5efd2');\n",
       "          const dataTable =\n",
       "            await google.colab.kernel.invokeFunction('convertToInteractive',\n",
       "                                                     [key], {});\n",
       "          if (!dataTable) return;\n",
       "\n",
       "          const docLinkHtml = 'Like what you see? Visit the ' +\n",
       "            '<a target=\"_blank\" href=https://colab.research.google.com/notebooks/data_table.ipynb>data table notebook</a>'\n",
       "            + ' to learn more about interactive tables.';\n",
       "          element.innerHTML = '';\n",
       "          dataTable['output_type'] = 'display_data';\n",
       "          await google.colab.output.renderOutput(dataTable, element);\n",
       "          const docLink = document.createElement('div');\n",
       "          docLink.innerHTML = docLinkHtml;\n",
       "          element.appendChild(docLink);\n",
       "        }\n",
       "      </script>\n",
       "    </div>\n",
       "  </div>\n",
       "  "
      ],
      "text/plain": [
       "                   user_id  retweet_total_ratio  num_median_favorites  \\\n",
       "0                594642154             0.115000                   2.0   \n",
       "1                525600289             0.005025                   1.0   \n",
       "2       931895965501534209             0.900000                   0.0   \n",
       "3      1591543462746329088             0.185000                   0.0   \n",
       "4       734801354749796352             1.000000                   0.0   \n",
       "...                    ...                  ...                   ...   \n",
       "28310  1591370361488252928             0.800000                   0.0   \n",
       "28311  1475272459616235525             0.825000                   0.0   \n",
       "28312  1096753792731750401             0.051020                   1.0   \n",
       "28313  1269527617687953409             0.095000                   2.0   \n",
       "28314  1483177252271570944             0.630000                   0.0   \n",
       "\n",
       "       num_of_tweets  \n",
       "0                200  \n",
       "1                199  \n",
       "2                200  \n",
       "3                200  \n",
       "4                200  \n",
       "...              ...  \n",
       "28310            200  \n",
       "28311            200  \n",
       "28312            196  \n",
       "28313            200  \n",
       "28314            200  \n",
       "\n",
       "[28315 rows x 4 columns]"
      ]
     },
     "execution_count": 34,
     "metadata": {},
     "output_type": "execute_result"
    }
   ],
   "source": [
    "dfBotTweets = pd.DataFrame(dfBotTweets)\n",
    "dfBotTweets"
   ]
  },
  {
   "cell_type": "markdown",
   "metadata": {
    "id": "msvBWp57FwZu"
   },
   "source": [
    "### 1.2.3. Merge dfBot and dfBotTweets"
   ]
  },
  {
   "cell_type": "code",
   "execution_count": null,
   "metadata": {
    "ExecuteTime": {
     "end_time": "2022-12-29T19:58:52.117992Z",
     "start_time": "2022-12-29T19:58:52.004064Z"
    },
    "colab": {
     "base_uri": "https://localhost:8080/",
     "height": 887
    },
    "id": "I_8tqxBxFwZu",
    "outputId": "1a11e784-fb5b-4760-c3c5-59864dac8041",
    "scrolled": true
   },
   "outputs": [
    {
     "data": {
      "text/html": [
       "\n",
       "  <div id=\"df-f1f0c708-a5fb-478a-9a23-22353a866f65\">\n",
       "    <div class=\"colab-df-container\">\n",
       "      <div>\n",
       "<style scoped>\n",
       "    .dataframe tbody tr th:only-of-type {\n",
       "        vertical-align: middle;\n",
       "    }\n",
       "\n",
       "    .dataframe tbody tr th {\n",
       "        vertical-align: top;\n",
       "    }\n",
       "\n",
       "    .dataframe thead th {\n",
       "        text-align: right;\n",
       "    }\n",
       "</style>\n",
       "<table border=\"1\" class=\"dataframe\">\n",
       "  <thead>\n",
       "    <tr style=\"text-align: right;\">\n",
       "      <th></th>\n",
       "      <th>user_id</th>\n",
       "      <th>user_name</th>\n",
       "      <th>user_screen_name</th>\n",
       "      <th>user_location</th>\n",
       "      <th>user_description</th>\n",
       "      <th>user_followers_count</th>\n",
       "      <th>user_friends_count</th>\n",
       "      <th>description_len</th>\n",
       "      <th>followers_to_all_ratio</th>\n",
       "      <th>verified</th>\n",
       "      <th>geo_enabled</th>\n",
       "      <th>favourites_count</th>\n",
       "      <th>created_at</th>\n",
       "      <th>account_age_days</th>\n",
       "      <th>network</th>\n",
       "      <th>retweet_total_ratio</th>\n",
       "      <th>num_median_favorites</th>\n",
       "      <th>num_of_tweets</th>\n",
       "    </tr>\n",
       "  </thead>\n",
       "  <tbody>\n",
       "    <tr>\n",
       "      <th>0</th>\n",
       "      <td>1431241870848450577</td>\n",
       "      <td>Nasreena Khan Wazir</td>\n",
       "      <td>nasreenakhan006</td>\n",
       "      <td>Islamabad, Pakistan</td>\n",
       "      <td>Student</td>\n",
       "      <td>65</td>\n",
       "      <td>185</td>\n",
       "      <td>7</td>\n",
       "      <td>0.260000</td>\n",
       "      <td>False</td>\n",
       "      <td>True</td>\n",
       "      <td>17676</td>\n",
       "      <td>Fri Aug 27 13:07:30 +0000 2021</td>\n",
       "      <td>515 days</td>\n",
       "      <td>250</td>\n",
       "      <td>0.395939</td>\n",
       "      <td>0.0</td>\n",
       "      <td>197.0</td>\n",
       "    </tr>\n",
       "    <tr>\n",
       "      <th>1</th>\n",
       "      <td>1304340303080386560</td>\n",
       "      <td>fania :((((</td>\n",
       "      <td>scorpiehoez</td>\n",
       "      <td>bogor</td>\n",
       "      <td>have a holly jolly🎄</td>\n",
       "      <td>8235</td>\n",
       "      <td>3011</td>\n",
       "      <td>19</td>\n",
       "      <td>0.732260</td>\n",
       "      <td>False</td>\n",
       "      <td>True</td>\n",
       "      <td>15474</td>\n",
       "      <td>Fri Sep 11 08:45:44 +0000 2020</td>\n",
       "      <td>865 days</td>\n",
       "      <td>11246</td>\n",
       "      <td>0.125000</td>\n",
       "      <td>0.0</td>\n",
       "      <td>200.0</td>\n",
       "    </tr>\n",
       "    <tr>\n",
       "      <th>2</th>\n",
       "      <td>1116042038577958914</td>\n",
       "      <td>Yusuf Aksoy</td>\n",
       "      <td>yusufak63712920</td>\n",
       "      <td></td>\n",
       "      <td>Bir şeyden pişmanlık duymak istemiyorsan,her ş...</td>\n",
       "      <td>95</td>\n",
       "      <td>399</td>\n",
       "      <td>64</td>\n",
       "      <td>0.192308</td>\n",
       "      <td>False</td>\n",
       "      <td>False</td>\n",
       "      <td>18220</td>\n",
       "      <td>Wed Apr 10 18:15:31 +0000 2019</td>\n",
       "      <td>1385 days</td>\n",
       "      <td>494</td>\n",
       "      <td>0.910000</td>\n",
       "      <td>0.0</td>\n",
       "      <td>200.0</td>\n",
       "    </tr>\n",
       "    <tr>\n",
       "      <th>3</th>\n",
       "      <td>4859899931</td>\n",
       "      <td>Be (VIXX6) ama oppalarının düğününe gidemiyor</td>\n",
       "      <td>nedenburdaysam</td>\n",
       "      <td>Hufflepuff ortak salon</td>\n",
       "      <td>SMStan\\n/St☆rlight ///come on girls,this is ou...</td>\n",
       "      <td>40</td>\n",
       "      <td>83</td>\n",
       "      <td>65</td>\n",
       "      <td>0.325203</td>\n",
       "      <td>False</td>\n",
       "      <td>False</td>\n",
       "      <td>26999</td>\n",
       "      <td>Fri Jan 29 11:01:25 +0000 2016</td>\n",
       "      <td>2552 days</td>\n",
       "      <td>123</td>\n",
       "      <td>0.015306</td>\n",
       "      <td>1.0</td>\n",
       "      <td>196.0</td>\n",
       "    </tr>\n",
       "    <tr>\n",
       "      <th>4</th>\n",
       "      <td>2225373636</td>\n",
       "      <td>SLMDMR</td>\n",
       "      <td>biologselim</td>\n",
       "      <td></td>\n",
       "      <td>BİYOLOG🔬🦠\\nNanoteknoloji</td>\n",
       "      <td>100</td>\n",
       "      <td>98</td>\n",
       "      <td>23</td>\n",
       "      <td>0.505051</td>\n",
       "      <td>False</td>\n",
       "      <td>False</td>\n",
       "      <td>2179</td>\n",
       "      <td>Sun Dec 01 18:16:41 +0000 2013</td>\n",
       "      <td>3341 days</td>\n",
       "      <td>198</td>\n",
       "      <td>0.659898</td>\n",
       "      <td>0.0</td>\n",
       "      <td>197.0</td>\n",
       "    </tr>\n",
       "    <tr>\n",
       "      <th>...</th>\n",
       "      <td>...</td>\n",
       "      <td>...</td>\n",
       "      <td>...</td>\n",
       "      <td>...</td>\n",
       "      <td>...</td>\n",
       "      <td>...</td>\n",
       "      <td>...</td>\n",
       "      <td>...</td>\n",
       "      <td>...</td>\n",
       "      <td>...</td>\n",
       "      <td>...</td>\n",
       "      <td>...</td>\n",
       "      <td>...</td>\n",
       "      <td>...</td>\n",
       "      <td>...</td>\n",
       "      <td>...</td>\n",
       "      <td>...</td>\n",
       "      <td>...</td>\n",
       "    </tr>\n",
       "    <tr>\n",
       "      <th>29665</th>\n",
       "      <td>1320834618220781569</td>\n",
       "      <td>islammm</td>\n",
       "      <td>islam_mrsj</td>\n",
       "      <td></td>\n",
       "      <td></td>\n",
       "      <td>229</td>\n",
       "      <td>217</td>\n",
       "      <td>0</td>\n",
       "      <td>0.513453</td>\n",
       "      <td>False</td>\n",
       "      <td>False</td>\n",
       "      <td>10820</td>\n",
       "      <td>Mon Oct 26 21:08:22 +0000 2020</td>\n",
       "      <td>820 days</td>\n",
       "      <td>446</td>\n",
       "      <td>0.015000</td>\n",
       "      <td>1.0</td>\n",
       "      <td>200.0</td>\n",
       "    </tr>\n",
       "    <tr>\n",
       "      <th>29666</th>\n",
       "      <td>111074128</td>\n",
       "      <td>Melda Onur</td>\n",
       "      <td>meldaonur</td>\n",
       "      <td></td>\n",
       "      <td>Şekersiz çay, etsiz sofra, SAVAŞSIZ dünya... 🐌...</td>\n",
       "      <td>212457</td>\n",
       "      <td>5428</td>\n",
       "      <td>100</td>\n",
       "      <td>0.975088</td>\n",
       "      <td>False</td>\n",
       "      <td>True</td>\n",
       "      <td>36671</td>\n",
       "      <td>Wed Feb 03 18:39:01 +0000 2010</td>\n",
       "      <td>4738 days</td>\n",
       "      <td>217885</td>\n",
       "      <td>0.291457</td>\n",
       "      <td>2.0</td>\n",
       "      <td>199.0</td>\n",
       "    </tr>\n",
       "    <tr>\n",
       "      <th>29667</th>\n",
       "      <td>36946875</td>\n",
       "      <td>ali ydm</td>\n",
       "      <td>ali_ydm</td>\n",
       "      <td>İstanbul, Türkiye</td>\n",
       "      <td>hayat oyunsa bende jeton çok</td>\n",
       "      <td>116</td>\n",
       "      <td>141</td>\n",
       "      <td>28</td>\n",
       "      <td>0.451362</td>\n",
       "      <td>False</td>\n",
       "      <td>False</td>\n",
       "      <td>7389</td>\n",
       "      <td>Fri May 01 13:56:23 +0000 2009</td>\n",
       "      <td>5016 days</td>\n",
       "      <td>257</td>\n",
       "      <td>0.061538</td>\n",
       "      <td>0.0</td>\n",
       "      <td>195.0</td>\n",
       "    </tr>\n",
       "    <tr>\n",
       "      <th>29668</th>\n",
       "      <td>2389587396</td>\n",
       "      <td>Türkan Usta</td>\n",
       "      <td>turkanusta</td>\n",
       "      <td>Ankara, Türkiye</td>\n",
       "      <td>Ustaya sormuşlar; hayatta yaptığın en büyük is...</td>\n",
       "      <td>1669</td>\n",
       "      <td>3639</td>\n",
       "      <td>116</td>\n",
       "      <td>0.314431</td>\n",
       "      <td>False</td>\n",
       "      <td>True</td>\n",
       "      <td>140095</td>\n",
       "      <td>Fri Mar 14 18:05:09 +0000 2014</td>\n",
       "      <td>3238 days</td>\n",
       "      <td>5308</td>\n",
       "      <td>0.995000</td>\n",
       "      <td>0.0</td>\n",
       "      <td>200.0</td>\n",
       "    </tr>\n",
       "    <tr>\n",
       "      <th>29669</th>\n",
       "      <td>1575904134</td>\n",
       "      <td>ARAZ</td>\n",
       "      <td>ben121975</td>\n",
       "      <td></td>\n",
       "      <td>Korkak gerçek le yüzleşmeyi redd eder,hırçınla...</td>\n",
       "      <td>6026</td>\n",
       "      <td>5625</td>\n",
       "      <td>158</td>\n",
       "      <td>0.517209</td>\n",
       "      <td>False</td>\n",
       "      <td>True</td>\n",
       "      <td>39605</td>\n",
       "      <td>Sun Jul 07 19:57:01 +0000 2013</td>\n",
       "      <td>3488 days</td>\n",
       "      <td>11651</td>\n",
       "      <td>0.030000</td>\n",
       "      <td>1.0</td>\n",
       "      <td>200.0</td>\n",
       "    </tr>\n",
       "  </tbody>\n",
       "</table>\n",
       "<p>29670 rows × 18 columns</p>\n",
       "</div>\n",
       "      <button class=\"colab-df-convert\" onclick=\"convertToInteractive('df-f1f0c708-a5fb-478a-9a23-22353a866f65')\"\n",
       "              title=\"Convert this dataframe to an interactive table.\"\n",
       "              style=\"display:none;\">\n",
       "        \n",
       "  <svg xmlns=\"http://www.w3.org/2000/svg\" height=\"24px\"viewBox=\"0 0 24 24\"\n",
       "       width=\"24px\">\n",
       "    <path d=\"M0 0h24v24H0V0z\" fill=\"none\"/>\n",
       "    <path d=\"M18.56 5.44l.94 2.06.94-2.06 2.06-.94-2.06-.94-.94-2.06-.94 2.06-2.06.94zm-11 1L8.5 8.5l.94-2.06 2.06-.94-2.06-.94L8.5 2.5l-.94 2.06-2.06.94zm10 10l.94 2.06.94-2.06 2.06-.94-2.06-.94-.94-2.06-.94 2.06-2.06.94z\"/><path d=\"M17.41 7.96l-1.37-1.37c-.4-.4-.92-.59-1.43-.59-.52 0-1.04.2-1.43.59L10.3 9.45l-7.72 7.72c-.78.78-.78 2.05 0 2.83L4 21.41c.39.39.9.59 1.41.59.51 0 1.02-.2 1.41-.59l7.78-7.78 2.81-2.81c.8-.78.8-2.07 0-2.86zM5.41 20L4 18.59l7.72-7.72 1.47 1.35L5.41 20z\"/>\n",
       "  </svg>\n",
       "      </button>\n",
       "      \n",
       "  <style>\n",
       "    .colab-df-container {\n",
       "      display:flex;\n",
       "      flex-wrap:wrap;\n",
       "      gap: 12px;\n",
       "    }\n",
       "\n",
       "    .colab-df-convert {\n",
       "      background-color: #E8F0FE;\n",
       "      border: none;\n",
       "      border-radius: 50%;\n",
       "      cursor: pointer;\n",
       "      display: none;\n",
       "      fill: #1967D2;\n",
       "      height: 32px;\n",
       "      padding: 0 0 0 0;\n",
       "      width: 32px;\n",
       "    }\n",
       "\n",
       "    .colab-df-convert:hover {\n",
       "      background-color: #E2EBFA;\n",
       "      box-shadow: 0px 1px 2px rgba(60, 64, 67, 0.3), 0px 1px 3px 1px rgba(60, 64, 67, 0.15);\n",
       "      fill: #174EA6;\n",
       "    }\n",
       "\n",
       "    [theme=dark] .colab-df-convert {\n",
       "      background-color: #3B4455;\n",
       "      fill: #D2E3FC;\n",
       "    }\n",
       "\n",
       "    [theme=dark] .colab-df-convert:hover {\n",
       "      background-color: #434B5C;\n",
       "      box-shadow: 0px 1px 3px 1px rgba(0, 0, 0, 0.15);\n",
       "      filter: drop-shadow(0px 1px 2px rgba(0, 0, 0, 0.3));\n",
       "      fill: #FFFFFF;\n",
       "    }\n",
       "  </style>\n",
       "\n",
       "      <script>\n",
       "        const buttonEl =\n",
       "          document.querySelector('#df-f1f0c708-a5fb-478a-9a23-22353a866f65 button.colab-df-convert');\n",
       "        buttonEl.style.display =\n",
       "          google.colab.kernel.accessAllowed ? 'block' : 'none';\n",
       "\n",
       "        async function convertToInteractive(key) {\n",
       "          const element = document.querySelector('#df-f1f0c708-a5fb-478a-9a23-22353a866f65');\n",
       "          const dataTable =\n",
       "            await google.colab.kernel.invokeFunction('convertToInteractive',\n",
       "                                                     [key], {});\n",
       "          if (!dataTable) return;\n",
       "\n",
       "          const docLinkHtml = 'Like what you see? Visit the ' +\n",
       "            '<a target=\"_blank\" href=https://colab.research.google.com/notebooks/data_table.ipynb>data table notebook</a>'\n",
       "            + ' to learn more about interactive tables.';\n",
       "          element.innerHTML = '';\n",
       "          dataTable['output_type'] = 'display_data';\n",
       "          await google.colab.output.renderOutput(dataTable, element);\n",
       "          const docLink = document.createElement('div');\n",
       "          docLink.innerHTML = docLinkHtml;\n",
       "          element.appendChild(docLink);\n",
       "        }\n",
       "      </script>\n",
       "    </div>\n",
       "  </div>\n",
       "  "
      ],
      "text/plain": [
       "                   user_id                                      user_name  \\\n",
       "0      1431241870848450577                            Nasreena Khan Wazir   \n",
       "1      1304340303080386560                                    fania :((((   \n",
       "2      1116042038577958914                                    Yusuf Aksoy   \n",
       "3               4859899931  Be (VIXX6) ama oppalarının düğününe gidemiyor   \n",
       "4               2225373636                                         SLMDMR   \n",
       "...                    ...                                            ...   \n",
       "29665  1320834618220781569                                        islammm   \n",
       "29666            111074128                                     Melda Onur   \n",
       "29667             36946875                                        ali ydm   \n",
       "29668           2389587396                                    Türkan Usta   \n",
       "29669           1575904134                                           ARAZ   \n",
       "\n",
       "      user_screen_name            user_location  \\\n",
       "0      nasreenakhan006      Islamabad, Pakistan   \n",
       "1          scorpiehoez                   bogor    \n",
       "2      yusufak63712920                            \n",
       "3       nedenburdaysam  Hufflepuff ortak salon    \n",
       "4          biologselim                            \n",
       "...                ...                      ...   \n",
       "29665       islam_mrsj                            \n",
       "29666        meldaonur                            \n",
       "29667          ali_ydm        İstanbul, Türkiye   \n",
       "29668       turkanusta          Ankara, Türkiye   \n",
       "29669        ben121975                            \n",
       "\n",
       "                                        user_description  \\\n",
       "0                                                Student   \n",
       "1                                    have a holly jolly🎄   \n",
       "2      Bir şeyden pişmanlık duymak istemiyorsan,her ş...   \n",
       "3      SMStan\\n/St☆rlight ///come on girls,this is ou...   \n",
       "4                               BİYOLOG🔬🦠\\nNanoteknoloji   \n",
       "...                                                  ...   \n",
       "29665                                                      \n",
       "29666  Şekersiz çay, etsiz sofra, SAVAŞSIZ dünya... 🐌...   \n",
       "29667                       hayat oyunsa bende jeton çok   \n",
       "29668  Ustaya sormuşlar; hayatta yaptığın en büyük is...   \n",
       "29669  Korkak gerçek le yüzleşmeyi redd eder,hırçınla...   \n",
       "\n",
       "       user_followers_count  user_friends_count  description_len  \\\n",
       "0                        65                 185                7   \n",
       "1                      8235                3011               19   \n",
       "2                        95                 399               64   \n",
       "3                        40                  83               65   \n",
       "4                       100                  98               23   \n",
       "...                     ...                 ...              ...   \n",
       "29665                   229                 217                0   \n",
       "29666                212457                5428              100   \n",
       "29667                   116                 141               28   \n",
       "29668                  1669                3639              116   \n",
       "29669                  6026                5625              158   \n",
       "\n",
       "       followers_to_all_ratio  verified  geo_enabled  favourites_count  \\\n",
       "0                    0.260000     False         True             17676   \n",
       "1                    0.732260     False         True             15474   \n",
       "2                    0.192308     False        False             18220   \n",
       "3                    0.325203     False        False             26999   \n",
       "4                    0.505051     False        False              2179   \n",
       "...                       ...       ...          ...               ...   \n",
       "29665                0.513453     False        False             10820   \n",
       "29666                0.975088     False         True             36671   \n",
       "29667                0.451362     False        False              7389   \n",
       "29668                0.314431     False         True            140095   \n",
       "29669                0.517209     False         True             39605   \n",
       "\n",
       "                           created_at account_age_days  network  \\\n",
       "0      Fri Aug 27 13:07:30 +0000 2021         515 days      250   \n",
       "1      Fri Sep 11 08:45:44 +0000 2020         865 days    11246   \n",
       "2      Wed Apr 10 18:15:31 +0000 2019        1385 days      494   \n",
       "3      Fri Jan 29 11:01:25 +0000 2016        2552 days      123   \n",
       "4      Sun Dec 01 18:16:41 +0000 2013        3341 days      198   \n",
       "...                               ...              ...      ...   \n",
       "29665  Mon Oct 26 21:08:22 +0000 2020         820 days      446   \n",
       "29666  Wed Feb 03 18:39:01 +0000 2010        4738 days   217885   \n",
       "29667  Fri May 01 13:56:23 +0000 2009        5016 days      257   \n",
       "29668  Fri Mar 14 18:05:09 +0000 2014        3238 days     5308   \n",
       "29669  Sun Jul 07 19:57:01 +0000 2013        3488 days    11651   \n",
       "\n",
       "       retweet_total_ratio  num_median_favorites  num_of_tweets  \n",
       "0                 0.395939                   0.0          197.0  \n",
       "1                 0.125000                   0.0          200.0  \n",
       "2                 0.910000                   0.0          200.0  \n",
       "3                 0.015306                   1.0          196.0  \n",
       "4                 0.659898                   0.0          197.0  \n",
       "...                    ...                   ...            ...  \n",
       "29665             0.015000                   1.0          200.0  \n",
       "29666             0.291457                   2.0          199.0  \n",
       "29667             0.061538                   0.0          195.0  \n",
       "29668             0.995000                   0.0          200.0  \n",
       "29669             0.030000                   1.0          200.0  \n",
       "\n",
       "[29670 rows x 18 columns]"
      ]
     },
     "execution_count": 35,
     "metadata": {},
     "output_type": "execute_result"
    }
   ],
   "source": [
    "dfBotAll = dfBot.merge(dfBotTweets,\n",
    "                       how='left')\n",
    "\n",
    "dfBotAll[['retweet_total_ratio', 'num_median_favorites']] = dfBotAll[['retweet_total_ratio', 'num_median_favorites']].fillna(0)\n",
    "\n",
    "dfBotAll"
   ]
  },
  {
   "cell_type": "markdown",
   "metadata": {
    "id": "YLuO0gO1FwZv"
   },
   "source": [
    "# 2. TRAIN MODEL"
   ]
  },
  {
   "cell_type": "markdown",
   "metadata": {
    "id": "IvuktICyFwZv"
   },
   "source": [
    "## 2.1. Political Tweet Prediction"
   ]
  },
  {
   "cell_type": "code",
   "execution_count": null,
   "metadata": {
    "id": "TFIYpS3Cnvku"
   },
   "outputs": [],
   "source": [
    "import matplotlib as mpl\n",
    "from matplotlib import pyplot as plt\n",
    "import seaborn as sns\n",
    "\n",
    "from sklearn.pipeline import Pipeline\n",
    "from sklearn.preprocessing import OrdinalEncoder\n",
    "from sklearn.preprocessing import StandardScaler,MinMaxScaler\n",
    "from sklearn.compose import ColumnTransformer"
   ]
  },
  {
   "cell_type": "markdown",
   "metadata": {
    "id": "blYbJJWQFwZv"
   },
   "source": [
    "### 2.1.1. Merge dfPolitical data with labels"
   ]
  },
  {
   "cell_type": "code",
   "execution_count": null,
   "metadata": {
    "ExecuteTime": {
     "end_time": "2022-12-29T19:59:11.293718Z",
     "start_time": "2022-12-29T19:59:11.232405Z"
    },
    "colab": {
     "base_uri": "https://localhost:8080/",
     "height": 617
    },
    "id": "r9_7O4PmFwZv",
    "outputId": "836d6edf-5da4-4436-c2ef-e10c4978a218",
    "scrolled": true
   },
   "outputs": [
    {
     "data": {
      "text/html": [
       "\n",
       "  <div id=\"df-e4b83b76-6536-4de0-8928-8708fc5cab3f\">\n",
       "    <div class=\"colab-df-container\">\n",
       "      <div>\n",
       "<style scoped>\n",
       "    .dataframe tbody tr th:only-of-type {\n",
       "        vertical-align: middle;\n",
       "    }\n",
       "\n",
       "    .dataframe tbody tr th {\n",
       "        vertical-align: top;\n",
       "    }\n",
       "\n",
       "    .dataframe thead th {\n",
       "        text-align: right;\n",
       "    }\n",
       "</style>\n",
       "<table border=\"1\" class=\"dataframe\">\n",
       "  <thead>\n",
       "    <tr style=\"text-align: right;\">\n",
       "      <th></th>\n",
       "      <th>tweet_id</th>\n",
       "      <th>is_retweet</th>\n",
       "      <th>retweeted_username</th>\n",
       "      <th>text</th>\n",
       "      <th>num_mentions</th>\n",
       "      <th>num_hashtags</th>\n",
       "      <th>num_retweets</th>\n",
       "      <th>num_favorites</th>\n",
       "      <th>is_sensitive</th>\n",
       "      <th>date</th>\n",
       "      <th>lang</th>\n",
       "      <th>truncated</th>\n",
       "      <th>user_id</th>\n",
       "      <th>user_screen_name</th>\n",
       "      <th>user_description</th>\n",
       "      <th>user_location</th>\n",
       "      <th>followers_count</th>\n",
       "      <th>friends_count</th>\n",
       "      <th>favourites_count</th>\n",
       "      <th>verified</th>\n",
       "      <th>statuses_count</th>\n",
       "      <th>default_profile</th>\n",
       "      <th>default_profile_image</th>\n",
       "      <th>has_extended_profile</th>\n",
       "      <th>has_url</th>\n",
       "      <th>num_political_entities</th>\n",
       "      <th>total_interactions</th>\n",
       "      <th>engagement_rate</th>\n",
       "      <th>tweet_length</th>\n",
       "      <th>how_influential</th>\n",
       "      <th>is_media</th>\n",
       "      <th>num_political_desc</th>\n",
       "      <th>isPolitical</th>\n",
       "    </tr>\n",
       "  </thead>\n",
       "  <tbody>\n",
       "    <tr>\n",
       "      <th>0</th>\n",
       "      <td>1585955683513798656</td>\n",
       "      <td>0</td>\n",
       "      <td>None</td>\n",
       "      <td>@AvOzlemZengin YüzüncüYıla YakışanGenelAf adli...</td>\n",
       "      <td>1</td>\n",
       "      <td>0</td>\n",
       "      <td>3</td>\n",
       "      <td>2</td>\n",
       "      <td>True</td>\n",
       "      <td>Fri Oct 28 11:24:35 +0000 2022</td>\n",
       "      <td>tr</td>\n",
       "      <td>False</td>\n",
       "      <td>1564992353168941058</td>\n",
       "      <td>zehra78231638</td>\n",
       "      <td></td>\n",
       "      <td></td>\n",
       "      <td>221</td>\n",
       "      <td>113</td>\n",
       "      <td>21242</td>\n",
       "      <td>False</td>\n",
       "      <td>25730</td>\n",
       "      <td>True</td>\n",
       "      <td>False</td>\n",
       "      <td>True</td>\n",
       "      <td>0</td>\n",
       "      <td>1</td>\n",
       "      <td>5</td>\n",
       "      <td>0.022624</td>\n",
       "      <td>126</td>\n",
       "      <td>1.955752</td>\n",
       "      <td>1</td>\n",
       "      <td>0</td>\n",
       "      <td>Yes</td>\n",
       "    </tr>\n",
       "    <tr>\n",
       "      <th>1</th>\n",
       "      <td>1597631718479261696</td>\n",
       "      <td>0</td>\n",
       "      <td>None</td>\n",
       "      <td>#TCYüzyılıÜcretliÖgrtKadro\\n#TCYüzyılıÜcretliÖ...</td>\n",
       "      <td>0</td>\n",
       "      <td>2</td>\n",
       "      <td>30</td>\n",
       "      <td>28</td>\n",
       "      <td>None</td>\n",
       "      <td>Tue Nov 29 16:40:58 +0000 2022</td>\n",
       "      <td>tr</td>\n",
       "      <td>True</td>\n",
       "      <td>1324630334416297985</td>\n",
       "      <td>nurozguler</td>\n",
       "      <td></td>\n",
       "      <td>İzmir, Türkiye</td>\n",
       "      <td>455</td>\n",
       "      <td>420</td>\n",
       "      <td>11596</td>\n",
       "      <td>False</td>\n",
       "      <td>12427</td>\n",
       "      <td>True</td>\n",
       "      <td>False</td>\n",
       "      <td>True</td>\n",
       "      <td>1</td>\n",
       "      <td>3</td>\n",
       "      <td>58</td>\n",
       "      <td>0.127473</td>\n",
       "      <td>140</td>\n",
       "      <td>1.083333</td>\n",
       "      <td>0</td>\n",
       "      <td>0</td>\n",
       "      <td>Yes</td>\n",
       "    </tr>\n",
       "    <tr>\n",
       "      <th>2</th>\n",
       "      <td>1572522789948751874</td>\n",
       "      <td>0</td>\n",
       "      <td>None</td>\n",
       "      <td>Ekrem İmamoğlu davayı değerlendirdi. 'Boş işle...</td>\n",
       "      <td>0</td>\n",
       "      <td>0</td>\n",
       "      <td>5</td>\n",
       "      <td>66</td>\n",
       "      <td>False</td>\n",
       "      <td>Wed Sep 21 09:47:03 +0000 2022</td>\n",
       "      <td>tr</td>\n",
       "      <td>False</td>\n",
       "      <td>407597071</td>\n",
       "      <td>onediocom</td>\n",
       "      <td>Türkiye'nin ilk ve tek sosyal içerik sitesi ht...</td>\n",
       "      <td>Türkiye</td>\n",
       "      <td>735643</td>\n",
       "      <td>12</td>\n",
       "      <td>627</td>\n",
       "      <td>True</td>\n",
       "      <td>161123</td>\n",
       "      <td>False</td>\n",
       "      <td>False</td>\n",
       "      <td>False</td>\n",
       "      <td>1</td>\n",
       "      <td>0</td>\n",
       "      <td>71</td>\n",
       "      <td>0.000097</td>\n",
       "      <td>131</td>\n",
       "      <td>61303.583333</td>\n",
       "      <td>1</td>\n",
       "      <td>2</td>\n",
       "      <td>Yes</td>\n",
       "    </tr>\n",
       "    <tr>\n",
       "      <th>3</th>\n",
       "      <td>1591412481561624577</td>\n",
       "      <td>0</td>\n",
       "      <td>None</td>\n",
       "      <td>Sayın Bakanım @suleymansoylu POMEM önlisans er...</td>\n",
       "      <td>1</td>\n",
       "      <td>0</td>\n",
       "      <td>0</td>\n",
       "      <td>0</td>\n",
       "      <td>None</td>\n",
       "      <td>Sat Nov 12 12:47:57 +0000 2022</td>\n",
       "      <td>tr</td>\n",
       "      <td>True</td>\n",
       "      <td>1394789887073738753</td>\n",
       "      <td>buckybarnestr</td>\n",
       "      <td>...</td>\n",
       "      <td></td>\n",
       "      <td>10</td>\n",
       "      <td>45</td>\n",
       "      <td>94</td>\n",
       "      <td>False</td>\n",
       "      <td>1595</td>\n",
       "      <td>True</td>\n",
       "      <td>False</td>\n",
       "      <td>True</td>\n",
       "      <td>1</td>\n",
       "      <td>2</td>\n",
       "      <td>0</td>\n",
       "      <td>0.000000</td>\n",
       "      <td>140</td>\n",
       "      <td>0.222222</td>\n",
       "      <td>0</td>\n",
       "      <td>0</td>\n",
       "      <td>Yes</td>\n",
       "    </tr>\n",
       "    <tr>\n",
       "      <th>4</th>\n",
       "      <td>1596914274907348992</td>\n",
       "      <td>0</td>\n",
       "      <td>None</td>\n",
       "      <td>@varank Sayın bakanım,  Bodrumdaki bu araziyi ...</td>\n",
       "      <td>1</td>\n",
       "      <td>0</td>\n",
       "      <td>0</td>\n",
       "      <td>0</td>\n",
       "      <td>False</td>\n",
       "      <td>Sun Nov 27 17:10:07 +0000 2022</td>\n",
       "      <td>tr</td>\n",
       "      <td>False</td>\n",
       "      <td>1586083256088371201</td>\n",
       "      <td>sayariahmet</td>\n",
       "      <td></td>\n",
       "      <td></td>\n",
       "      <td>6</td>\n",
       "      <td>6</td>\n",
       "      <td>2526</td>\n",
       "      <td>False</td>\n",
       "      <td>1251</td>\n",
       "      <td>True</td>\n",
       "      <td>False</td>\n",
       "      <td>True</td>\n",
       "      <td>0</td>\n",
       "      <td>1</td>\n",
       "      <td>0</td>\n",
       "      <td>0.000000</td>\n",
       "      <td>87</td>\n",
       "      <td>1.000000</td>\n",
       "      <td>1</td>\n",
       "      <td>0</td>\n",
       "      <td>Yes</td>\n",
       "    </tr>\n",
       "  </tbody>\n",
       "</table>\n",
       "</div>\n",
       "      <button class=\"colab-df-convert\" onclick=\"convertToInteractive('df-e4b83b76-6536-4de0-8928-8708fc5cab3f')\"\n",
       "              title=\"Convert this dataframe to an interactive table.\"\n",
       "              style=\"display:none;\">\n",
       "        \n",
       "  <svg xmlns=\"http://www.w3.org/2000/svg\" height=\"24px\"viewBox=\"0 0 24 24\"\n",
       "       width=\"24px\">\n",
       "    <path d=\"M0 0h24v24H0V0z\" fill=\"none\"/>\n",
       "    <path d=\"M18.56 5.44l.94 2.06.94-2.06 2.06-.94-2.06-.94-.94-2.06-.94 2.06-2.06.94zm-11 1L8.5 8.5l.94-2.06 2.06-.94-2.06-.94L8.5 2.5l-.94 2.06-2.06.94zm10 10l.94 2.06.94-2.06 2.06-.94-2.06-.94-.94-2.06-.94 2.06-2.06.94z\"/><path d=\"M17.41 7.96l-1.37-1.37c-.4-.4-.92-.59-1.43-.59-.52 0-1.04.2-1.43.59L10.3 9.45l-7.72 7.72c-.78.78-.78 2.05 0 2.83L4 21.41c.39.39.9.59 1.41.59.51 0 1.02-.2 1.41-.59l7.78-7.78 2.81-2.81c.8-.78.8-2.07 0-2.86zM5.41 20L4 18.59l7.72-7.72 1.47 1.35L5.41 20z\"/>\n",
       "  </svg>\n",
       "      </button>\n",
       "      \n",
       "  <style>\n",
       "    .colab-df-container {\n",
       "      display:flex;\n",
       "      flex-wrap:wrap;\n",
       "      gap: 12px;\n",
       "    }\n",
       "\n",
       "    .colab-df-convert {\n",
       "      background-color: #E8F0FE;\n",
       "      border: none;\n",
       "      border-radius: 50%;\n",
       "      cursor: pointer;\n",
       "      display: none;\n",
       "      fill: #1967D2;\n",
       "      height: 32px;\n",
       "      padding: 0 0 0 0;\n",
       "      width: 32px;\n",
       "    }\n",
       "\n",
       "    .colab-df-convert:hover {\n",
       "      background-color: #E2EBFA;\n",
       "      box-shadow: 0px 1px 2px rgba(60, 64, 67, 0.3), 0px 1px 3px 1px rgba(60, 64, 67, 0.15);\n",
       "      fill: #174EA6;\n",
       "    }\n",
       "\n",
       "    [theme=dark] .colab-df-convert {\n",
       "      background-color: #3B4455;\n",
       "      fill: #D2E3FC;\n",
       "    }\n",
       "\n",
       "    [theme=dark] .colab-df-convert:hover {\n",
       "      background-color: #434B5C;\n",
       "      box-shadow: 0px 1px 3px 1px rgba(0, 0, 0, 0.15);\n",
       "      filter: drop-shadow(0px 1px 2px rgba(0, 0, 0, 0.3));\n",
       "      fill: #FFFFFF;\n",
       "    }\n",
       "  </style>\n",
       "\n",
       "      <script>\n",
       "        const buttonEl =\n",
       "          document.querySelector('#df-e4b83b76-6536-4de0-8928-8708fc5cab3f button.colab-df-convert');\n",
       "        buttonEl.style.display =\n",
       "          google.colab.kernel.accessAllowed ? 'block' : 'none';\n",
       "\n",
       "        async function convertToInteractive(key) {\n",
       "          const element = document.querySelector('#df-e4b83b76-6536-4de0-8928-8708fc5cab3f');\n",
       "          const dataTable =\n",
       "            await google.colab.kernel.invokeFunction('convertToInteractive',\n",
       "                                                     [key], {});\n",
       "          if (!dataTable) return;\n",
       "\n",
       "          const docLinkHtml = 'Like what you see? Visit the ' +\n",
       "            '<a target=\"_blank\" href=https://colab.research.google.com/notebooks/data_table.ipynb>data table notebook</a>'\n",
       "            + ' to learn more about interactive tables.';\n",
       "          element.innerHTML = '';\n",
       "          dataTable['output_type'] = 'display_data';\n",
       "          await google.colab.output.renderOutput(dataTable, element);\n",
       "          const docLink = document.createElement('div');\n",
       "          docLink.innerHTML = docLinkHtml;\n",
       "          element.appendChild(docLink);\n",
       "        }\n",
       "      </script>\n",
       "    </div>\n",
       "  </div>\n",
       "  "
      ],
      "text/plain": [
       "              tweet_id  is_retweet retweeted_username  \\\n",
       "0  1585955683513798656           0               None   \n",
       "1  1597631718479261696           0               None   \n",
       "2  1572522789948751874           0               None   \n",
       "3  1591412481561624577           0               None   \n",
       "4  1596914274907348992           0               None   \n",
       "\n",
       "                                                text  num_mentions  \\\n",
       "0  @AvOzlemZengin YüzüncüYıla YakışanGenelAf adli...             1   \n",
       "1  #TCYüzyılıÜcretliÖgrtKadro\\n#TCYüzyılıÜcretliÖ...             0   \n",
       "2  Ekrem İmamoğlu davayı değerlendirdi. 'Boş işle...             0   \n",
       "3  Sayın Bakanım @suleymansoylu POMEM önlisans er...             1   \n",
       "4  @varank Sayın bakanım,  Bodrumdaki bu araziyi ...             1   \n",
       "\n",
       "   num_hashtags  num_retweets  num_favorites is_sensitive  \\\n",
       "0             0             3              2         True   \n",
       "1             2            30             28         None   \n",
       "2             0             5             66        False   \n",
       "3             0             0              0         None   \n",
       "4             0             0              0        False   \n",
       "\n",
       "                             date lang  truncated              user_id  \\\n",
       "0  Fri Oct 28 11:24:35 +0000 2022   tr      False  1564992353168941058   \n",
       "1  Tue Nov 29 16:40:58 +0000 2022   tr       True  1324630334416297985   \n",
       "2  Wed Sep 21 09:47:03 +0000 2022   tr      False            407597071   \n",
       "3  Sat Nov 12 12:47:57 +0000 2022   tr       True  1394789887073738753   \n",
       "4  Sun Nov 27 17:10:07 +0000 2022   tr      False  1586083256088371201   \n",
       "\n",
       "  user_screen_name                                   user_description  \\\n",
       "0    zehra78231638                                                      \n",
       "1       nurozguler                                                      \n",
       "2        onediocom  Türkiye'nin ilk ve tek sosyal içerik sitesi ht...   \n",
       "3    buckybarnestr                                                ...   \n",
       "4      sayariahmet                                                      \n",
       "\n",
       "    user_location  followers_count  friends_count  favourites_count  verified  \\\n",
       "0                              221            113             21242     False   \n",
       "1  İzmir, Türkiye              455            420             11596     False   \n",
       "2         Türkiye           735643             12               627      True   \n",
       "3                               10             45                94     False   \n",
       "4                                6              6              2526     False   \n",
       "\n",
       "   statuses_count  default_profile  default_profile_image  \\\n",
       "0           25730             True                  False   \n",
       "1           12427             True                  False   \n",
       "2          161123            False                  False   \n",
       "3            1595             True                  False   \n",
       "4            1251             True                  False   \n",
       "\n",
       "   has_extended_profile  has_url  num_political_entities  total_interactions  \\\n",
       "0                  True        0                       1                   5   \n",
       "1                  True        1                       3                  58   \n",
       "2                 False        1                       0                  71   \n",
       "3                  True        1                       2                   0   \n",
       "4                  True        0                       1                   0   \n",
       "\n",
       "   engagement_rate  tweet_length  how_influential  is_media  \\\n",
       "0         0.022624           126         1.955752         1   \n",
       "1         0.127473           140         1.083333         0   \n",
       "2         0.000097           131     61303.583333         1   \n",
       "3         0.000000           140         0.222222         0   \n",
       "4         0.000000            87         1.000000         1   \n",
       "\n",
       "   num_political_desc isPolitical  \n",
       "0                   0         Yes  \n",
       "1                   0         Yes  \n",
       "2                   2         Yes  \n",
       "3                   0         Yes  \n",
       "4                   0         Yes  "
      ]
     },
     "execution_count": 37,
     "metadata": {},
     "output_type": "execute_result"
    }
   ],
   "source": [
    "dfPoliticalAll_train = dfPolitical.merge(trainingTweetDf,\n",
    "                                         on='tweet_id')\n",
    "\n",
    "dfPoliticalAll_train.head()"
   ]
  },
  {
   "cell_type": "markdown",
   "metadata": {
    "id": "ycIWfHXaFwZw"
   },
   "source": [
    "### 2.1.2. Separate X and y values\n",
    "We only use 3 features here to create a baseline model. However, it is not enough to get good results."
   ]
  },
  {
   "cell_type": "code",
   "execution_count": null,
   "metadata": {
    "id": "JGPuRojnmrCu"
   },
   "outputs": [],
   "source": [
    "dfPoliticalAll_train[\"user_location\"]=dfPoliticalAll_train.user_location.apply(lambda x : 1 if x!= None else 0)\n",
    "dfPoliticalAll_train.is_sensitive.fillna(dfPoliticalAll_train.is_sensitive.mode()[0],inplace=True)\n",
    "dfPoliticalAll_train[\"month\"]=pd.to_datetime(dfPoliticalAll_train.date).dt.month\n",
    "dfPoliticalAll_train.user_screen_name = dfPoliticalAll_train.user_screen_name.apply(lambda x : len(x))\n",
    "dfPoliticalAll_train.user_id = dfPoliticalAll_train.user_id.apply(lambda x : dfPoliticalAll_train.user_id.value_counts()[x])\n",
    "dfPoliticalAll_train.user_description = dfPoliticalAll_train.user_description.apply(lambda x : len(x))\n",
    "dfPoliticalAll_train.drop([\"tweet_id\",\"is_retweet\",\"retweeted_username\",\"text\",\"date\"],axis=1,inplace=True)\n"
   ]
  },
  {
   "cell_type": "code",
   "execution_count": null,
   "metadata": {
    "colab": {
     "base_uri": "https://localhost:8080/",
     "height": 427
    },
    "id": "8zsG_xklnL7S",
    "outputId": "6f0136a9-426f-486d-fd2c-71b0d1977cfa"
   },
   "outputs": [
    {
     "data": {
      "text/html": [
       "\n",
       "  <div id=\"df-66ffb62d-0151-4763-9004-8be7a20088ed\">\n",
       "    <div class=\"colab-df-container\">\n",
       "      <div>\n",
       "<style scoped>\n",
       "    .dataframe tbody tr th:only-of-type {\n",
       "        vertical-align: middle;\n",
       "    }\n",
       "\n",
       "    .dataframe tbody tr th {\n",
       "        vertical-align: top;\n",
       "    }\n",
       "\n",
       "    .dataframe thead th {\n",
       "        text-align: right;\n",
       "    }\n",
       "</style>\n",
       "<table border=\"1\" class=\"dataframe\">\n",
       "  <thead>\n",
       "    <tr style=\"text-align: right;\">\n",
       "      <th></th>\n",
       "      <th>num_mentions</th>\n",
       "      <th>num_hashtags</th>\n",
       "      <th>num_retweets</th>\n",
       "      <th>num_favorites</th>\n",
       "      <th>is_sensitive</th>\n",
       "      <th>lang</th>\n",
       "      <th>truncated</th>\n",
       "      <th>user_id</th>\n",
       "      <th>user_screen_name</th>\n",
       "      <th>user_description</th>\n",
       "      <th>user_location</th>\n",
       "      <th>followers_count</th>\n",
       "      <th>friends_count</th>\n",
       "      <th>favourites_count</th>\n",
       "      <th>verified</th>\n",
       "      <th>statuses_count</th>\n",
       "      <th>default_profile</th>\n",
       "      <th>default_profile_image</th>\n",
       "      <th>has_extended_profile</th>\n",
       "      <th>has_url</th>\n",
       "      <th>num_political_entities</th>\n",
       "      <th>total_interactions</th>\n",
       "      <th>engagement_rate</th>\n",
       "      <th>tweet_length</th>\n",
       "      <th>how_influential</th>\n",
       "      <th>is_media</th>\n",
       "      <th>num_political_desc</th>\n",
       "      <th>isPolitical</th>\n",
       "      <th>month</th>\n",
       "    </tr>\n",
       "  </thead>\n",
       "  <tbody>\n",
       "    <tr>\n",
       "      <th>0</th>\n",
       "      <td>1</td>\n",
       "      <td>0</td>\n",
       "      <td>3</td>\n",
       "      <td>2</td>\n",
       "      <td>1</td>\n",
       "      <td>tr</td>\n",
       "      <td>0</td>\n",
       "      <td>1</td>\n",
       "      <td>13</td>\n",
       "      <td>0</td>\n",
       "      <td>1</td>\n",
       "      <td>221</td>\n",
       "      <td>113</td>\n",
       "      <td>21242</td>\n",
       "      <td>0</td>\n",
       "      <td>25730</td>\n",
       "      <td>1</td>\n",
       "      <td>0</td>\n",
       "      <td>1</td>\n",
       "      <td>0</td>\n",
       "      <td>1</td>\n",
       "      <td>5</td>\n",
       "      <td>0.022624</td>\n",
       "      <td>126</td>\n",
       "      <td>1.955752</td>\n",
       "      <td>1</td>\n",
       "      <td>0</td>\n",
       "      <td>1</td>\n",
       "      <td>10</td>\n",
       "    </tr>\n",
       "    <tr>\n",
       "      <th>1</th>\n",
       "      <td>0</td>\n",
       "      <td>2</td>\n",
       "      <td>30</td>\n",
       "      <td>28</td>\n",
       "      <td>0</td>\n",
       "      <td>tr</td>\n",
       "      <td>1</td>\n",
       "      <td>1</td>\n",
       "      <td>10</td>\n",
       "      <td>0</td>\n",
       "      <td>1</td>\n",
       "      <td>455</td>\n",
       "      <td>420</td>\n",
       "      <td>11596</td>\n",
       "      <td>0</td>\n",
       "      <td>12427</td>\n",
       "      <td>1</td>\n",
       "      <td>0</td>\n",
       "      <td>1</td>\n",
       "      <td>1</td>\n",
       "      <td>3</td>\n",
       "      <td>58</td>\n",
       "      <td>0.127473</td>\n",
       "      <td>140</td>\n",
       "      <td>1.083333</td>\n",
       "      <td>0</td>\n",
       "      <td>0</td>\n",
       "      <td>1</td>\n",
       "      <td>11</td>\n",
       "    </tr>\n",
       "    <tr>\n",
       "      <th>2</th>\n",
       "      <td>0</td>\n",
       "      <td>0</td>\n",
       "      <td>5</td>\n",
       "      <td>66</td>\n",
       "      <td>0</td>\n",
       "      <td>tr</td>\n",
       "      <td>0</td>\n",
       "      <td>1</td>\n",
       "      <td>9</td>\n",
       "      <td>120</td>\n",
       "      <td>1</td>\n",
       "      <td>735643</td>\n",
       "      <td>12</td>\n",
       "      <td>627</td>\n",
       "      <td>1</td>\n",
       "      <td>161123</td>\n",
       "      <td>0</td>\n",
       "      <td>0</td>\n",
       "      <td>0</td>\n",
       "      <td>1</td>\n",
       "      <td>0</td>\n",
       "      <td>71</td>\n",
       "      <td>0.000097</td>\n",
       "      <td>131</td>\n",
       "      <td>61303.583333</td>\n",
       "      <td>1</td>\n",
       "      <td>2</td>\n",
       "      <td>1</td>\n",
       "      <td>9</td>\n",
       "    </tr>\n",
       "    <tr>\n",
       "      <th>3</th>\n",
       "      <td>1</td>\n",
       "      <td>0</td>\n",
       "      <td>0</td>\n",
       "      <td>0</td>\n",
       "      <td>0</td>\n",
       "      <td>tr</td>\n",
       "      <td>1</td>\n",
       "      <td>1</td>\n",
       "      <td>13</td>\n",
       "      <td>3</td>\n",
       "      <td>1</td>\n",
       "      <td>10</td>\n",
       "      <td>45</td>\n",
       "      <td>94</td>\n",
       "      <td>0</td>\n",
       "      <td>1595</td>\n",
       "      <td>1</td>\n",
       "      <td>0</td>\n",
       "      <td>1</td>\n",
       "      <td>1</td>\n",
       "      <td>2</td>\n",
       "      <td>0</td>\n",
       "      <td>0.000000</td>\n",
       "      <td>140</td>\n",
       "      <td>0.222222</td>\n",
       "      <td>0</td>\n",
       "      <td>0</td>\n",
       "      <td>1</td>\n",
       "      <td>11</td>\n",
       "    </tr>\n",
       "    <tr>\n",
       "      <th>4</th>\n",
       "      <td>1</td>\n",
       "      <td>0</td>\n",
       "      <td>0</td>\n",
       "      <td>0</td>\n",
       "      <td>0</td>\n",
       "      <td>tr</td>\n",
       "      <td>0</td>\n",
       "      <td>1</td>\n",
       "      <td>11</td>\n",
       "      <td>0</td>\n",
       "      <td>1</td>\n",
       "      <td>6</td>\n",
       "      <td>6</td>\n",
       "      <td>2526</td>\n",
       "      <td>0</td>\n",
       "      <td>1251</td>\n",
       "      <td>1</td>\n",
       "      <td>0</td>\n",
       "      <td>1</td>\n",
       "      <td>0</td>\n",
       "      <td>1</td>\n",
       "      <td>0</td>\n",
       "      <td>0.000000</td>\n",
       "      <td>87</td>\n",
       "      <td>1.000000</td>\n",
       "      <td>1</td>\n",
       "      <td>0</td>\n",
       "      <td>1</td>\n",
       "      <td>11</td>\n",
       "    </tr>\n",
       "    <tr>\n",
       "      <th>5</th>\n",
       "      <td>1</td>\n",
       "      <td>0</td>\n",
       "      <td>1</td>\n",
       "      <td>3</td>\n",
       "      <td>0</td>\n",
       "      <td>tr</td>\n",
       "      <td>1</td>\n",
       "      <td>1</td>\n",
       "      <td>7</td>\n",
       "      <td>26</td>\n",
       "      <td>1</td>\n",
       "      <td>174</td>\n",
       "      <td>217</td>\n",
       "      <td>6693</td>\n",
       "      <td>0</td>\n",
       "      <td>5391</td>\n",
       "      <td>1</td>\n",
       "      <td>0</td>\n",
       "      <td>1</td>\n",
       "      <td>1</td>\n",
       "      <td>0</td>\n",
       "      <td>4</td>\n",
       "      <td>0.022989</td>\n",
       "      <td>140</td>\n",
       "      <td>0.801843</td>\n",
       "      <td>0</td>\n",
       "      <td>0</td>\n",
       "      <td>1</td>\n",
       "      <td>11</td>\n",
       "    </tr>\n",
       "    <tr>\n",
       "      <th>6</th>\n",
       "      <td>3</td>\n",
       "      <td>0</td>\n",
       "      <td>0</td>\n",
       "      <td>2</td>\n",
       "      <td>0</td>\n",
       "      <td>tr</td>\n",
       "      <td>1</td>\n",
       "      <td>1</td>\n",
       "      <td>9</td>\n",
       "      <td>62</td>\n",
       "      <td>1</td>\n",
       "      <td>110</td>\n",
       "      <td>527</td>\n",
       "      <td>1361</td>\n",
       "      <td>0</td>\n",
       "      <td>3296</td>\n",
       "      <td>1</td>\n",
       "      <td>0</td>\n",
       "      <td>0</td>\n",
       "      <td>1</td>\n",
       "      <td>1</td>\n",
       "      <td>2</td>\n",
       "      <td>0.018182</td>\n",
       "      <td>140</td>\n",
       "      <td>0.208729</td>\n",
       "      <td>0</td>\n",
       "      <td>2</td>\n",
       "      <td>1</td>\n",
       "      <td>11</td>\n",
       "    </tr>\n",
       "    <tr>\n",
       "      <th>7</th>\n",
       "      <td>0</td>\n",
       "      <td>0</td>\n",
       "      <td>0</td>\n",
       "      <td>0</td>\n",
       "      <td>0</td>\n",
       "      <td>tr</td>\n",
       "      <td>0</td>\n",
       "      <td>1</td>\n",
       "      <td>6</td>\n",
       "      <td>36</td>\n",
       "      <td>1</td>\n",
       "      <td>48</td>\n",
       "      <td>272</td>\n",
       "      <td>2514</td>\n",
       "      <td>0</td>\n",
       "      <td>5763</td>\n",
       "      <td>1</td>\n",
       "      <td>0</td>\n",
       "      <td>1</td>\n",
       "      <td>0</td>\n",
       "      <td>0</td>\n",
       "      <td>0</td>\n",
       "      <td>0.000000</td>\n",
       "      <td>50</td>\n",
       "      <td>0.176471</td>\n",
       "      <td>1</td>\n",
       "      <td>2</td>\n",
       "      <td>0</td>\n",
       "      <td>6</td>\n",
       "    </tr>\n",
       "    <tr>\n",
       "      <th>8</th>\n",
       "      <td>1</td>\n",
       "      <td>0</td>\n",
       "      <td>0</td>\n",
       "      <td>1</td>\n",
       "      <td>0</td>\n",
       "      <td>tr</td>\n",
       "      <td>0</td>\n",
       "      <td>1</td>\n",
       "      <td>11</td>\n",
       "      <td>0</td>\n",
       "      <td>1</td>\n",
       "      <td>83</td>\n",
       "      <td>290</td>\n",
       "      <td>1224</td>\n",
       "      <td>0</td>\n",
       "      <td>2123</td>\n",
       "      <td>1</td>\n",
       "      <td>0</td>\n",
       "      <td>1</td>\n",
       "      <td>0</td>\n",
       "      <td>0</td>\n",
       "      <td>1</td>\n",
       "      <td>0.012048</td>\n",
       "      <td>40</td>\n",
       "      <td>0.286207</td>\n",
       "      <td>0</td>\n",
       "      <td>0</td>\n",
       "      <td>1</td>\n",
       "      <td>11</td>\n",
       "    </tr>\n",
       "    <tr>\n",
       "      <th>9</th>\n",
       "      <td>1</td>\n",
       "      <td>0</td>\n",
       "      <td>0</td>\n",
       "      <td>0</td>\n",
       "      <td>0</td>\n",
       "      <td>tr</td>\n",
       "      <td>0</td>\n",
       "      <td>1</td>\n",
       "      <td>9</td>\n",
       "      <td>105</td>\n",
       "      <td>1</td>\n",
       "      <td>163</td>\n",
       "      <td>401</td>\n",
       "      <td>7896</td>\n",
       "      <td>0</td>\n",
       "      <td>10133</td>\n",
       "      <td>0</td>\n",
       "      <td>0</td>\n",
       "      <td>0</td>\n",
       "      <td>0</td>\n",
       "      <td>0</td>\n",
       "      <td>0</td>\n",
       "      <td>0.000000</td>\n",
       "      <td>60</td>\n",
       "      <td>0.406484</td>\n",
       "      <td>0</td>\n",
       "      <td>0</td>\n",
       "      <td>0</td>\n",
       "      <td>11</td>\n",
       "    </tr>\n",
       "  </tbody>\n",
       "</table>\n",
       "</div>\n",
       "      <button class=\"colab-df-convert\" onclick=\"convertToInteractive('df-66ffb62d-0151-4763-9004-8be7a20088ed')\"\n",
       "              title=\"Convert this dataframe to an interactive table.\"\n",
       "              style=\"display:none;\">\n",
       "        \n",
       "  <svg xmlns=\"http://www.w3.org/2000/svg\" height=\"24px\"viewBox=\"0 0 24 24\"\n",
       "       width=\"24px\">\n",
       "    <path d=\"M0 0h24v24H0V0z\" fill=\"none\"/>\n",
       "    <path d=\"M18.56 5.44l.94 2.06.94-2.06 2.06-.94-2.06-.94-.94-2.06-.94 2.06-2.06.94zm-11 1L8.5 8.5l.94-2.06 2.06-.94-2.06-.94L8.5 2.5l-.94 2.06-2.06.94zm10 10l.94 2.06.94-2.06 2.06-.94-2.06-.94-.94-2.06-.94 2.06-2.06.94z\"/><path d=\"M17.41 7.96l-1.37-1.37c-.4-.4-.92-.59-1.43-.59-.52 0-1.04.2-1.43.59L10.3 9.45l-7.72 7.72c-.78.78-.78 2.05 0 2.83L4 21.41c.39.39.9.59 1.41.59.51 0 1.02-.2 1.41-.59l7.78-7.78 2.81-2.81c.8-.78.8-2.07 0-2.86zM5.41 20L4 18.59l7.72-7.72 1.47 1.35L5.41 20z\"/>\n",
       "  </svg>\n",
       "      </button>\n",
       "      \n",
       "  <style>\n",
       "    .colab-df-container {\n",
       "      display:flex;\n",
       "      flex-wrap:wrap;\n",
       "      gap: 12px;\n",
       "    }\n",
       "\n",
       "    .colab-df-convert {\n",
       "      background-color: #E8F0FE;\n",
       "      border: none;\n",
       "      border-radius: 50%;\n",
       "      cursor: pointer;\n",
       "      display: none;\n",
       "      fill: #1967D2;\n",
       "      height: 32px;\n",
       "      padding: 0 0 0 0;\n",
       "      width: 32px;\n",
       "    }\n",
       "\n",
       "    .colab-df-convert:hover {\n",
       "      background-color: #E2EBFA;\n",
       "      box-shadow: 0px 1px 2px rgba(60, 64, 67, 0.3), 0px 1px 3px 1px rgba(60, 64, 67, 0.15);\n",
       "      fill: #174EA6;\n",
       "    }\n",
       "\n",
       "    [theme=dark] .colab-df-convert {\n",
       "      background-color: #3B4455;\n",
       "      fill: #D2E3FC;\n",
       "    }\n",
       "\n",
       "    [theme=dark] .colab-df-convert:hover {\n",
       "      background-color: #434B5C;\n",
       "      box-shadow: 0px 1px 3px 1px rgba(0, 0, 0, 0.15);\n",
       "      filter: drop-shadow(0px 1px 2px rgba(0, 0, 0, 0.3));\n",
       "      fill: #FFFFFF;\n",
       "    }\n",
       "  </style>\n",
       "\n",
       "      <script>\n",
       "        const buttonEl =\n",
       "          document.querySelector('#df-66ffb62d-0151-4763-9004-8be7a20088ed button.colab-df-convert');\n",
       "        buttonEl.style.display =\n",
       "          google.colab.kernel.accessAllowed ? 'block' : 'none';\n",
       "\n",
       "        async function convertToInteractive(key) {\n",
       "          const element = document.querySelector('#df-66ffb62d-0151-4763-9004-8be7a20088ed');\n",
       "          const dataTable =\n",
       "            await google.colab.kernel.invokeFunction('convertToInteractive',\n",
       "                                                     [key], {});\n",
       "          if (!dataTable) return;\n",
       "\n",
       "          const docLinkHtml = 'Like what you see? Visit the ' +\n",
       "            '<a target=\"_blank\" href=https://colab.research.google.com/notebooks/data_table.ipynb>data table notebook</a>'\n",
       "            + ' to learn more about interactive tables.';\n",
       "          element.innerHTML = '';\n",
       "          dataTable['output_type'] = 'display_data';\n",
       "          await google.colab.output.renderOutput(dataTable, element);\n",
       "          const docLink = document.createElement('div');\n",
       "          docLink.innerHTML = docLinkHtml;\n",
       "          element.appendChild(docLink);\n",
       "        }\n",
       "      </script>\n",
       "    </div>\n",
       "  </div>\n",
       "  "
      ],
      "text/plain": [
       "   num_mentions  num_hashtags  num_retweets  num_favorites  is_sensitive lang  \\\n",
       "0             1             0             3              2             1   tr   \n",
       "1             0             2            30             28             0   tr   \n",
       "2             0             0             5             66             0   tr   \n",
       "3             1             0             0              0             0   tr   \n",
       "4             1             0             0              0             0   tr   \n",
       "5             1             0             1              3             0   tr   \n",
       "6             3             0             0              2             0   tr   \n",
       "7             0             0             0              0             0   tr   \n",
       "8             1             0             0              1             0   tr   \n",
       "9             1             0             0              0             0   tr   \n",
       "\n",
       "   truncated  user_id  user_screen_name  user_description  user_location  \\\n",
       "0          0        1                13                 0              1   \n",
       "1          1        1                10                 0              1   \n",
       "2          0        1                 9               120              1   \n",
       "3          1        1                13                 3              1   \n",
       "4          0        1                11                 0              1   \n",
       "5          1        1                 7                26              1   \n",
       "6          1        1                 9                62              1   \n",
       "7          0        1                 6                36              1   \n",
       "8          0        1                11                 0              1   \n",
       "9          0        1                 9               105              1   \n",
       "\n",
       "   followers_count  friends_count  favourites_count  verified  statuses_count  \\\n",
       "0              221            113             21242         0           25730   \n",
       "1              455            420             11596         0           12427   \n",
       "2           735643             12               627         1          161123   \n",
       "3               10             45                94         0            1595   \n",
       "4                6              6              2526         0            1251   \n",
       "5              174            217              6693         0            5391   \n",
       "6              110            527              1361         0            3296   \n",
       "7               48            272              2514         0            5763   \n",
       "8               83            290              1224         0            2123   \n",
       "9              163            401              7896         0           10133   \n",
       "\n",
       "   default_profile  default_profile_image  has_extended_profile  has_url  \\\n",
       "0                1                      0                     1        0   \n",
       "1                1                      0                     1        1   \n",
       "2                0                      0                     0        1   \n",
       "3                1                      0                     1        1   \n",
       "4                1                      0                     1        0   \n",
       "5                1                      0                     1        1   \n",
       "6                1                      0                     0        1   \n",
       "7                1                      0                     1        0   \n",
       "8                1                      0                     1        0   \n",
       "9                0                      0                     0        0   \n",
       "\n",
       "   num_political_entities  total_interactions  engagement_rate  tweet_length  \\\n",
       "0                       1                   5         0.022624           126   \n",
       "1                       3                  58         0.127473           140   \n",
       "2                       0                  71         0.000097           131   \n",
       "3                       2                   0         0.000000           140   \n",
       "4                       1                   0         0.000000            87   \n",
       "5                       0                   4         0.022989           140   \n",
       "6                       1                   2         0.018182           140   \n",
       "7                       0                   0         0.000000            50   \n",
       "8                       0                   1         0.012048            40   \n",
       "9                       0                   0         0.000000            60   \n",
       "\n",
       "   how_influential  is_media  num_political_desc  isPolitical  month  \n",
       "0         1.955752         1                   0            1     10  \n",
       "1         1.083333         0                   0            1     11  \n",
       "2     61303.583333         1                   2            1      9  \n",
       "3         0.222222         0                   0            1     11  \n",
       "4         1.000000         1                   0            1     11  \n",
       "5         0.801843         0                   0            1     11  \n",
       "6         0.208729         0                   2            1     11  \n",
       "7         0.176471         1                   2            0      6  \n",
       "8         0.286207         0                   0            1     11  \n",
       "9         0.406484         0                   0            0     11  "
      ]
     },
     "execution_count": 39,
     "metadata": {},
     "output_type": "execute_result"
    }
   ],
   "source": [
    "dfPoliticalAll_train['isPolitical'] = dfPoliticalAll_train['isPolitical'].apply(lambda x: 1 if x=='Yes' else 0)\n",
    "dfPoliticalAll_train['has_extended_profile'] = dfPoliticalAll_train['has_extended_profile'].apply(lambda x: 1 if x==True else 0)\n",
    "dfPoliticalAll_train['default_profile_image'] = dfPoliticalAll_train['default_profile_image'].apply(lambda x: 1 if x==True else 0)\n",
    "dfPoliticalAll_train['default_profile']= dfPoliticalAll_train['default_profile'].apply(lambda x: 1 if x==True else 0)\n",
    "dfPoliticalAll_train['verified'] = dfPoliticalAll_train['verified'].apply(lambda x: 1 if x==True else 0)\n",
    "dfPoliticalAll_train['truncated'] = dfPoliticalAll_train['truncated'].apply(lambda x: 1 if x==True else 0)\n",
    "dfPoliticalAll_train['is_sensitive'] = dfPoliticalAll_train['is_sensitive'].apply(lambda x: 1 if x==True else 0)\n",
    "\n",
    "dfPoliticalAll_train.head(10)"
   ]
  },
  {
   "cell_type": "code",
   "execution_count": null,
   "metadata": {
    "colab": {
     "base_uri": "https://localhost:8080/",
     "height": 384
    },
    "id": "Va7fAkVMnh6f",
    "outputId": "6b242d28-0b89-4714-eebd-590d2a419f9c"
   },
   "outputs": [
    {
     "data": {
      "text/plain": [
       "[]"
      ]
     },
     "execution_count": 80,
     "metadata": {},
     "output_type": "execute_result"
    },
    {
     "data": {
      "image/png": "[encoded data removed]",
      "text/plain": [
       "<Figure size 432x288 with 2 Axes>"
      ]
     },
     "metadata": {
      "needs_background": "light"
     },
     "output_type": "display_data"
    }
   ],
   "source": [
    "sns.heatmap(pd.DataFrame(dfPoliticalAll_train).corr())\n",
    "plt.plot()"
   ]
  },
  {
   "cell_type": "code",
   "execution_count": null,
   "metadata": {
    "colab": {
     "base_uri": "https://localhost:8080/"
    },
    "id": "272_M9eL6Uv7",
    "outputId": "e26f1aa9-3996-432d-c680-9fb14a0f77a1"
   },
   "outputs": [
    {
     "data": {
      "text/plain": [
       "isPolitical               1.000000\n",
       "month                     0.487620\n",
       "num_political_entities    0.371658\n",
       "tweet_length              0.342970\n",
       "truncated                 0.290642\n",
       "has_url                   0.247528\n",
       "num_mentions              0.207223\n",
       "default_profile           0.127050\n",
       "user_id                   0.122977\n",
       "user_screen_name          0.050307\n",
       "default_profile_image     0.042966\n",
       "is_media                  0.038275\n",
       "num_political_desc        0.034950\n",
       "num_hashtags              0.029166\n",
       "num_retweets              0.025894\n",
       "has_extended_profile      0.015593\n",
       "engagement_rate           0.014656\n",
       "is_sensitive              0.005222\n",
       "total_interactions       -0.000865\n",
       "num_favorites            -0.004138\n",
       "how_influential          -0.023892\n",
       "statuses_count           -0.024928\n",
       "followers_count          -0.032101\n",
       "friends_count            -0.044635\n",
       "verified                 -0.046945\n",
       "user_description         -0.080709\n",
       "favourites_count         -0.128922\n",
       "user_location                  NaN\n",
       "Name: isPolitical, dtype: float64"
      ]
     },
     "execution_count": 139,
     "metadata": {},
     "output_type": "execute_result"
    }
   ],
   "source": [
    "dfPoliticalAll_train.corr().isPolitical.sort_values(ascending=False)"
   ]
  },
  {
   "cell_type": "code",
   "execution_count": null,
   "metadata": {
    "colab": {
     "base_uri": "https://localhost:8080/",
     "height": 488
    },
    "id": "AS9Xr848ppiM",
    "outputId": "381b2b60-b8f0-4ff0-f768-ddc6a168e641"
   },
   "outputs": [
    {
     "data": {
      "text/html": [
       "\n",
       "  <div id=\"df-7799409e-0042-4e65-b2c7-27e055f1ae11\">\n",
       "    <div class=\"colab-df-container\">\n",
       "      <div>\n",
       "<style scoped>\n",
       "    .dataframe tbody tr th:only-of-type {\n",
       "        vertical-align: middle;\n",
       "    }\n",
       "\n",
       "    .dataframe tbody tr th {\n",
       "        vertical-align: top;\n",
       "    }\n",
       "\n",
       "    .dataframe thead th {\n",
       "        text-align: right;\n",
       "    }\n",
       "</style>\n",
       "<table border=\"1\" class=\"dataframe\">\n",
       "  <thead>\n",
       "    <tr style=\"text-align: right;\">\n",
       "      <th></th>\n",
       "      <th>num_mentions</th>\n",
       "      <th>num_hashtags</th>\n",
       "      <th>num_retweets</th>\n",
       "      <th>num_favorites</th>\n",
       "      <th>is_sensitive</th>\n",
       "      <th>lang</th>\n",
       "      <th>truncated</th>\n",
       "      <th>user_id</th>\n",
       "      <th>user_screen_name</th>\n",
       "      <th>user_description</th>\n",
       "      <th>user_location</th>\n",
       "      <th>followers_count</th>\n",
       "      <th>friends_count</th>\n",
       "      <th>favourites_count</th>\n",
       "      <th>verified</th>\n",
       "      <th>statuses_count</th>\n",
       "      <th>default_profile</th>\n",
       "      <th>default_profile_image</th>\n",
       "      <th>has_extended_profile</th>\n",
       "      <th>has_url</th>\n",
       "      <th>num_political_entities</th>\n",
       "      <th>total_interactions</th>\n",
       "      <th>engagement_rate</th>\n",
       "      <th>tweet_length</th>\n",
       "      <th>how_influential</th>\n",
       "      <th>is_media</th>\n",
       "      <th>num_political_desc</th>\n",
       "      <th>isPolitical</th>\n",
       "      <th>month</th>\n",
       "    </tr>\n",
       "  </thead>\n",
       "  <tbody>\n",
       "    <tr>\n",
       "      <th>0</th>\n",
       "      <td>1</td>\n",
       "      <td>0</td>\n",
       "      <td>3</td>\n",
       "      <td>2</td>\n",
       "      <td>1</td>\n",
       "      <td>tr</td>\n",
       "      <td>0</td>\n",
       "      <td>1</td>\n",
       "      <td>13</td>\n",
       "      <td>0</td>\n",
       "      <td>1</td>\n",
       "      <td>221</td>\n",
       "      <td>113</td>\n",
       "      <td>21242</td>\n",
       "      <td>0</td>\n",
       "      <td>25730</td>\n",
       "      <td>1</td>\n",
       "      <td>0</td>\n",
       "      <td>1</td>\n",
       "      <td>0</td>\n",
       "      <td>1</td>\n",
       "      <td>5</td>\n",
       "      <td>0.022624</td>\n",
       "      <td>126</td>\n",
       "      <td>1.955752</td>\n",
       "      <td>1</td>\n",
       "      <td>0</td>\n",
       "      <td>1</td>\n",
       "      <td>10</td>\n",
       "    </tr>\n",
       "    <tr>\n",
       "      <th>1</th>\n",
       "      <td>0</td>\n",
       "      <td>2</td>\n",
       "      <td>30</td>\n",
       "      <td>28</td>\n",
       "      <td>0</td>\n",
       "      <td>tr</td>\n",
       "      <td>1</td>\n",
       "      <td>1</td>\n",
       "      <td>10</td>\n",
       "      <td>0</td>\n",
       "      <td>1</td>\n",
       "      <td>455</td>\n",
       "      <td>420</td>\n",
       "      <td>11596</td>\n",
       "      <td>0</td>\n",
       "      <td>12427</td>\n",
       "      <td>1</td>\n",
       "      <td>0</td>\n",
       "      <td>1</td>\n",
       "      <td>1</td>\n",
       "      <td>3</td>\n",
       "      <td>58</td>\n",
       "      <td>0.127473</td>\n",
       "      <td>140</td>\n",
       "      <td>1.083333</td>\n",
       "      <td>0</td>\n",
       "      <td>0</td>\n",
       "      <td>1</td>\n",
       "      <td>11</td>\n",
       "    </tr>\n",
       "    <tr>\n",
       "      <th>2</th>\n",
       "      <td>0</td>\n",
       "      <td>0</td>\n",
       "      <td>5</td>\n",
       "      <td>66</td>\n",
       "      <td>0</td>\n",
       "      <td>tr</td>\n",
       "      <td>0</td>\n",
       "      <td>1</td>\n",
       "      <td>9</td>\n",
       "      <td>120</td>\n",
       "      <td>1</td>\n",
       "      <td>735643</td>\n",
       "      <td>12</td>\n",
       "      <td>627</td>\n",
       "      <td>1</td>\n",
       "      <td>161123</td>\n",
       "      <td>0</td>\n",
       "      <td>0</td>\n",
       "      <td>0</td>\n",
       "      <td>1</td>\n",
       "      <td>0</td>\n",
       "      <td>71</td>\n",
       "      <td>0.000097</td>\n",
       "      <td>131</td>\n",
       "      <td>61303.583333</td>\n",
       "      <td>1</td>\n",
       "      <td>2</td>\n",
       "      <td>1</td>\n",
       "      <td>9</td>\n",
       "    </tr>\n",
       "    <tr>\n",
       "      <th>3</th>\n",
       "      <td>1</td>\n",
       "      <td>0</td>\n",
       "      <td>0</td>\n",
       "      <td>0</td>\n",
       "      <td>0</td>\n",
       "      <td>tr</td>\n",
       "      <td>1</td>\n",
       "      <td>1</td>\n",
       "      <td>13</td>\n",
       "      <td>3</td>\n",
       "      <td>1</td>\n",
       "      <td>10</td>\n",
       "      <td>45</td>\n",
       "      <td>94</td>\n",
       "      <td>0</td>\n",
       "      <td>1595</td>\n",
       "      <td>1</td>\n",
       "      <td>0</td>\n",
       "      <td>1</td>\n",
       "      <td>1</td>\n",
       "      <td>2</td>\n",
       "      <td>0</td>\n",
       "      <td>0.000000</td>\n",
       "      <td>140</td>\n",
       "      <td>0.222222</td>\n",
       "      <td>0</td>\n",
       "      <td>0</td>\n",
       "      <td>1</td>\n",
       "      <td>11</td>\n",
       "    </tr>\n",
       "    <tr>\n",
       "      <th>4</th>\n",
       "      <td>1</td>\n",
       "      <td>0</td>\n",
       "      <td>0</td>\n",
       "      <td>0</td>\n",
       "      <td>0</td>\n",
       "      <td>tr</td>\n",
       "      <td>0</td>\n",
       "      <td>1</td>\n",
       "      <td>11</td>\n",
       "      <td>0</td>\n",
       "      <td>1</td>\n",
       "      <td>6</td>\n",
       "      <td>6</td>\n",
       "      <td>2526</td>\n",
       "      <td>0</td>\n",
       "      <td>1251</td>\n",
       "      <td>1</td>\n",
       "      <td>0</td>\n",
       "      <td>1</td>\n",
       "      <td>0</td>\n",
       "      <td>1</td>\n",
       "      <td>0</td>\n",
       "      <td>0.000000</td>\n",
       "      <td>87</td>\n",
       "      <td>1.000000</td>\n",
       "      <td>1</td>\n",
       "      <td>0</td>\n",
       "      <td>1</td>\n",
       "      <td>11</td>\n",
       "    </tr>\n",
       "    <tr>\n",
       "      <th>...</th>\n",
       "      <td>...</td>\n",
       "      <td>...</td>\n",
       "      <td>...</td>\n",
       "      <td>...</td>\n",
       "      <td>...</td>\n",
       "      <td>...</td>\n",
       "      <td>...</td>\n",
       "      <td>...</td>\n",
       "      <td>...</td>\n",
       "      <td>...</td>\n",
       "      <td>...</td>\n",
       "      <td>...</td>\n",
       "      <td>...</td>\n",
       "      <td>...</td>\n",
       "      <td>...</td>\n",
       "      <td>...</td>\n",
       "      <td>...</td>\n",
       "      <td>...</td>\n",
       "      <td>...</td>\n",
       "      <td>...</td>\n",
       "      <td>...</td>\n",
       "      <td>...</td>\n",
       "      <td>...</td>\n",
       "      <td>...</td>\n",
       "      <td>...</td>\n",
       "      <td>...</td>\n",
       "      <td>...</td>\n",
       "      <td>...</td>\n",
       "      <td>...</td>\n",
       "    </tr>\n",
       "    <tr>\n",
       "      <th>2995</th>\n",
       "      <td>1</td>\n",
       "      <td>0</td>\n",
       "      <td>0</td>\n",
       "      <td>0</td>\n",
       "      <td>0</td>\n",
       "      <td>tr</td>\n",
       "      <td>0</td>\n",
       "      <td>1</td>\n",
       "      <td>11</td>\n",
       "      <td>0</td>\n",
       "      <td>1</td>\n",
       "      <td>28</td>\n",
       "      <td>201</td>\n",
       "      <td>12865</td>\n",
       "      <td>0</td>\n",
       "      <td>1158</td>\n",
       "      <td>1</td>\n",
       "      <td>0</td>\n",
       "      <td>1</td>\n",
       "      <td>0</td>\n",
       "      <td>2</td>\n",
       "      <td>0</td>\n",
       "      <td>0.000000</td>\n",
       "      <td>22</td>\n",
       "      <td>0.139303</td>\n",
       "      <td>0</td>\n",
       "      <td>0</td>\n",
       "      <td>0</td>\n",
       "      <td>9</td>\n",
       "    </tr>\n",
       "    <tr>\n",
       "      <th>2996</th>\n",
       "      <td>4</td>\n",
       "      <td>0</td>\n",
       "      <td>0</td>\n",
       "      <td>0</td>\n",
       "      <td>0</td>\n",
       "      <td>tr</td>\n",
       "      <td>1</td>\n",
       "      <td>1</td>\n",
       "      <td>12</td>\n",
       "      <td>0</td>\n",
       "      <td>1</td>\n",
       "      <td>221</td>\n",
       "      <td>234</td>\n",
       "      <td>2672</td>\n",
       "      <td>0</td>\n",
       "      <td>4063</td>\n",
       "      <td>1</td>\n",
       "      <td>0</td>\n",
       "      <td>1</td>\n",
       "      <td>1</td>\n",
       "      <td>4</td>\n",
       "      <td>0</td>\n",
       "      <td>0.000000</td>\n",
       "      <td>135</td>\n",
       "      <td>0.944444</td>\n",
       "      <td>0</td>\n",
       "      <td>0</td>\n",
       "      <td>1</td>\n",
       "      <td>10</td>\n",
       "    </tr>\n",
       "    <tr>\n",
       "      <th>2997</th>\n",
       "      <td>3</td>\n",
       "      <td>0</td>\n",
       "      <td>0</td>\n",
       "      <td>0</td>\n",
       "      <td>0</td>\n",
       "      <td>tr</td>\n",
       "      <td>1</td>\n",
       "      <td>1</td>\n",
       "      <td>7</td>\n",
       "      <td>0</td>\n",
       "      <td>1</td>\n",
       "      <td>3</td>\n",
       "      <td>32</td>\n",
       "      <td>172</td>\n",
       "      <td>0</td>\n",
       "      <td>2065</td>\n",
       "      <td>1</td>\n",
       "      <td>1</td>\n",
       "      <td>1</td>\n",
       "      <td>1</td>\n",
       "      <td>4</td>\n",
       "      <td>0</td>\n",
       "      <td>0.000000</td>\n",
       "      <td>140</td>\n",
       "      <td>0.093750</td>\n",
       "      <td>0</td>\n",
       "      <td>0</td>\n",
       "      <td>1</td>\n",
       "      <td>11</td>\n",
       "    </tr>\n",
       "    <tr>\n",
       "      <th>2998</th>\n",
       "      <td>1</td>\n",
       "      <td>0</td>\n",
       "      <td>0</td>\n",
       "      <td>0</td>\n",
       "      <td>0</td>\n",
       "      <td>tr</td>\n",
       "      <td>0</td>\n",
       "      <td>1</td>\n",
       "      <td>15</td>\n",
       "      <td>0</td>\n",
       "      <td>1</td>\n",
       "      <td>19</td>\n",
       "      <td>124</td>\n",
       "      <td>2601</td>\n",
       "      <td>0</td>\n",
       "      <td>1470</td>\n",
       "      <td>1</td>\n",
       "      <td>0</td>\n",
       "      <td>1</td>\n",
       "      <td>0</td>\n",
       "      <td>1</td>\n",
       "      <td>0</td>\n",
       "      <td>0.000000</td>\n",
       "      <td>40</td>\n",
       "      <td>0.153226</td>\n",
       "      <td>0</td>\n",
       "      <td>0</td>\n",
       "      <td>1</td>\n",
       "      <td>10</td>\n",
       "    </tr>\n",
       "    <tr>\n",
       "      <th>2999</th>\n",
       "      <td>3</td>\n",
       "      <td>0</td>\n",
       "      <td>1</td>\n",
       "      <td>0</td>\n",
       "      <td>0</td>\n",
       "      <td>tr</td>\n",
       "      <td>0</td>\n",
       "      <td>1</td>\n",
       "      <td>8</td>\n",
       "      <td>0</td>\n",
       "      <td>1</td>\n",
       "      <td>295</td>\n",
       "      <td>292</td>\n",
       "      <td>31609</td>\n",
       "      <td>0</td>\n",
       "      <td>34462</td>\n",
       "      <td>1</td>\n",
       "      <td>0</td>\n",
       "      <td>1</td>\n",
       "      <td>0</td>\n",
       "      <td>5</td>\n",
       "      <td>1</td>\n",
       "      <td>0.003390</td>\n",
       "      <td>84</td>\n",
       "      <td>1.010274</td>\n",
       "      <td>0</td>\n",
       "      <td>0</td>\n",
       "      <td>1</td>\n",
       "      <td>11</td>\n",
       "    </tr>\n",
       "  </tbody>\n",
       "</table>\n",
       "<p>3000 rows × 29 columns</p>\n",
       "</div>\n",
       "      <button class=\"colab-df-convert\" onclick=\"convertToInteractive('df-7799409e-0042-4e65-b2c7-27e055f1ae11')\"\n",
       "              title=\"Convert this dataframe to an interactive table.\"\n",
       "              style=\"display:none;\">\n",
       "        \n",
       "  <svg xmlns=\"http://www.w3.org/2000/svg\" height=\"24px\"viewBox=\"0 0 24 24\"\n",
       "       width=\"24px\">\n",
       "    <path d=\"M0 0h24v24H0V0z\" fill=\"none\"/>\n",
       "    <path d=\"M18.56 5.44l.94 2.06.94-2.06 2.06-.94-2.06-.94-.94-2.06-.94 2.06-2.06.94zm-11 1L8.5 8.5l.94-2.06 2.06-.94-2.06-.94L8.5 2.5l-.94 2.06-2.06.94zm10 10l.94 2.06.94-2.06 2.06-.94-2.06-.94-.94-2.06-.94 2.06-2.06.94z\"/><path d=\"M17.41 7.96l-1.37-1.37c-.4-.4-.92-.59-1.43-.59-.52 0-1.04.2-1.43.59L10.3 9.45l-7.72 7.72c-.78.78-.78 2.05 0 2.83L4 21.41c.39.39.9.59 1.41.59.51 0 1.02-.2 1.41-.59l7.78-7.78 2.81-2.81c.8-.78.8-2.07 0-2.86zM5.41 20L4 18.59l7.72-7.72 1.47 1.35L5.41 20z\"/>\n",
       "  </svg>\n",
       "      </button>\n",
       "      \n",
       "  <style>\n",
       "    .colab-df-container {\n",
       "      display:flex;\n",
       "      flex-wrap:wrap;\n",
       "      gap: 12px;\n",
       "    }\n",
       "\n",
       "    .colab-df-convert {\n",
       "      background-color: #E8F0FE;\n",
       "      border: none;\n",
       "      border-radius: 50%;\n",
       "      cursor: pointer;\n",
       "      display: none;\n",
       "      fill: #1967D2;\n",
       "      height: 32px;\n",
       "      padding: 0 0 0 0;\n",
       "      width: 32px;\n",
       "    }\n",
       "\n",
       "    .colab-df-convert:hover {\n",
       "      background-color: #E2EBFA;\n",
       "      box-shadow: 0px 1px 2px rgba(60, 64, 67, 0.3), 0px 1px 3px 1px rgba(60, 64, 67, 0.15);\n",
       "      fill: #174EA6;\n",
       "    }\n",
       "\n",
       "    [theme=dark] .colab-df-convert {\n",
       "      background-color: #3B4455;\n",
       "      fill: #D2E3FC;\n",
       "    }\n",
       "\n",
       "    [theme=dark] .colab-df-convert:hover {\n",
       "      background-color: #434B5C;\n",
       "      box-shadow: 0px 1px 3px 1px rgba(0, 0, 0, 0.15);\n",
       "      filter: drop-shadow(0px 1px 2px rgba(0, 0, 0, 0.3));\n",
       "      fill: #FFFFFF;\n",
       "    }\n",
       "  </style>\n",
       "\n",
       "      <script>\n",
       "        const buttonEl =\n",
       "          document.querySelector('#df-7799409e-0042-4e65-b2c7-27e055f1ae11 button.colab-df-convert');\n",
       "        buttonEl.style.display =\n",
       "          google.colab.kernel.accessAllowed ? 'block' : 'none';\n",
       "\n",
       "        async function convertToInteractive(key) {\n",
       "          const element = document.querySelector('#df-7799409e-0042-4e65-b2c7-27e055f1ae11');\n",
       "          const dataTable =\n",
       "            await google.colab.kernel.invokeFunction('convertToInteractive',\n",
       "                                                     [key], {});\n",
       "          if (!dataTable) return;\n",
       "\n",
       "          const docLinkHtml = 'Like what you see? Visit the ' +\n",
       "            '<a target=\"_blank\" href=https://colab.research.google.com/notebooks/data_table.ipynb>data table notebook</a>'\n",
       "            + ' to learn more about interactive tables.';\n",
       "          element.innerHTML = '';\n",
       "          dataTable['output_type'] = 'display_data';\n",
       "          await google.colab.output.renderOutput(dataTable, element);\n",
       "          const docLink = document.createElement('div');\n",
       "          docLink.innerHTML = docLinkHtml;\n",
       "          element.appendChild(docLink);\n",
       "        }\n",
       "      </script>\n",
       "    </div>\n",
       "  </div>\n",
       "  "
      ],
      "text/plain": [
       "      num_mentions  num_hashtags  num_retweets  num_favorites  is_sensitive  \\\n",
       "0                1             0             3              2             1   \n",
       "1                0             2            30             28             0   \n",
       "2                0             0             5             66             0   \n",
       "3                1             0             0              0             0   \n",
       "4                1             0             0              0             0   \n",
       "...            ...           ...           ...            ...           ...   \n",
       "2995             1             0             0              0             0   \n",
       "2996             4             0             0              0             0   \n",
       "2997             3             0             0              0             0   \n",
       "2998             1             0             0              0             0   \n",
       "2999             3             0             1              0             0   \n",
       "\n",
       "     lang  truncated  user_id  user_screen_name  user_description  \\\n",
       "0      tr          0        1                13                 0   \n",
       "1      tr          1        1                10                 0   \n",
       "2      tr          0        1                 9               120   \n",
       "3      tr          1        1                13                 3   \n",
       "4      tr          0        1                11                 0   \n",
       "...   ...        ...      ...               ...               ...   \n",
       "2995   tr          0        1                11                 0   \n",
       "2996   tr          1        1                12                 0   \n",
       "2997   tr          1        1                 7                 0   \n",
       "2998   tr          0        1                15                 0   \n",
       "2999   tr          0        1                 8                 0   \n",
       "\n",
       "      user_location  followers_count  friends_count  favourites_count  \\\n",
       "0                 1              221            113             21242   \n",
       "1                 1              455            420             11596   \n",
       "2                 1           735643             12               627   \n",
       "3                 1               10             45                94   \n",
       "4                 1                6              6              2526   \n",
       "...             ...              ...            ...               ...   \n",
       "2995              1               28            201             12865   \n",
       "2996              1              221            234              2672   \n",
       "2997              1                3             32               172   \n",
       "2998              1               19            124              2601   \n",
       "2999              1              295            292             31609   \n",
       "\n",
       "      verified  statuses_count  default_profile  default_profile_image  \\\n",
       "0            0           25730                1                      0   \n",
       "1            0           12427                1                      0   \n",
       "2            1          161123                0                      0   \n",
       "3            0            1595                1                      0   \n",
       "4            0            1251                1                      0   \n",
       "...        ...             ...              ...                    ...   \n",
       "2995         0            1158                1                      0   \n",
       "2996         0            4063                1                      0   \n",
       "2997         0            2065                1                      1   \n",
       "2998         0            1470                1                      0   \n",
       "2999         0           34462                1                      0   \n",
       "\n",
       "      has_extended_profile  has_url  num_political_entities  \\\n",
       "0                        1        0                       1   \n",
       "1                        1        1                       3   \n",
       "2                        0        1                       0   \n",
       "3                        1        1                       2   \n",
       "4                        1        0                       1   \n",
       "...                    ...      ...                     ...   \n",
       "2995                     1        0                       2   \n",
       "2996                     1        1                       4   \n",
       "2997                     1        1                       4   \n",
       "2998                     1        0                       1   \n",
       "2999                     1        0                       5   \n",
       "\n",
       "      total_interactions  engagement_rate  tweet_length  how_influential  \\\n",
       "0                      5         0.022624           126         1.955752   \n",
       "1                     58         0.127473           140         1.083333   \n",
       "2                     71         0.000097           131     61303.583333   \n",
       "3                      0         0.000000           140         0.222222   \n",
       "4                      0         0.000000            87         1.000000   \n",
       "...                  ...              ...           ...              ...   \n",
       "2995                   0         0.000000            22         0.139303   \n",
       "2996                   0         0.000000           135         0.944444   \n",
       "2997                   0         0.000000           140         0.093750   \n",
       "2998                   0         0.000000            40         0.153226   \n",
       "2999                   1         0.003390            84         1.010274   \n",
       "\n",
       "      is_media  num_political_desc  isPolitical  month  \n",
       "0            1                   0            1     10  \n",
       "1            0                   0            1     11  \n",
       "2            1                   2            1      9  \n",
       "3            0                   0            1     11  \n",
       "4            1                   0            1     11  \n",
       "...        ...                 ...          ...    ...  \n",
       "2995         0                   0            0      9  \n",
       "2996         0                   0            1     10  \n",
       "2997         0                   0            1     11  \n",
       "2998         0                   0            1     10  \n",
       "2999         0                   0            1     11  \n",
       "\n",
       "[3000 rows x 29 columns]"
      ]
     },
     "execution_count": 140,
     "metadata": {},
     "output_type": "execute_result"
    }
   ],
   "source": [
    "dfPoliticalAll_train"
   ]
  },
  {
   "cell_type": "code",
   "execution_count": null,
   "metadata": {
    "colab": {
     "base_uri": "https://localhost:8080/"
    },
    "id": "oJWwKJ07ILKx",
    "outputId": "bf6d5dec-6fc1-478f-f114-9bd5403b2d1c"
   },
   "outputs": [
    {
     "data": {
      "text/plain": [
       "['num_mentions',\n",
       " 'num_hashtags',\n",
       " 'num_retweets',\n",
       " 'num_favorites',\n",
       " 'is_sensitive',\n",
       " 'lang',\n",
       " 'truncated',\n",
       " 'user_id',\n",
       " 'user_screen_name',\n",
       " 'user_description',\n",
       " 'user_location',\n",
       " 'followers_count',\n",
       " 'friends_count',\n",
       " 'favourites_count',\n",
       " 'verified',\n",
       " 'statuses_count',\n",
       " 'default_profile',\n",
       " 'default_profile_image',\n",
       " 'has_extended_profile',\n",
       " 'has_url',\n",
       " 'num_political_entities',\n",
       " 'total_interactions',\n",
       " 'engagement_rate',\n",
       " 'tweet_length',\n",
       " 'how_influential',\n",
       " 'is_media',\n",
       " 'num_political_desc',\n",
       " 'isPolitical',\n",
       " 'month']"
      ]
     },
     "execution_count": 40,
     "metadata": {},
     "output_type": "execute_result"
    }
   ],
   "source": [
    "list(dfPoliticalAll_train.columns)"
   ]
  },
  {
   "cell_type": "code",
   "execution_count": null,
   "metadata": {
    "id": "NtlC-zDuqqej"
   },
   "outputs": [],
   "source": [
    "X = dfPoliticalAll_train.drop(\"isPolitical\",axis=1)\n",
    "y = dfPoliticalAll_train['isPolitical']"
   ]
  },
  {
   "cell_type": "code",
   "execution_count": null,
   "metadata": {
    "colab": {
     "base_uri": "https://localhost:8080/",
     "height": 488
    },
    "id": "5OLBl7ug6i64",
    "outputId": "60cee602-eb77-4b37-8e43-2133dc3aabfc"
   },
   "outputs": [
    {
     "data": {
      "text/html": [
       "\n",
       "  <div id=\"df-43382204-2db9-4023-952e-bd0246db99a2\">\n",
       "    <div class=\"colab-df-container\">\n",
       "      <div>\n",
       "<style scoped>\n",
       "    .dataframe tbody tr th:only-of-type {\n",
       "        vertical-align: middle;\n",
       "    }\n",
       "\n",
       "    .dataframe tbody tr th {\n",
       "        vertical-align: top;\n",
       "    }\n",
       "\n",
       "    .dataframe thead th {\n",
       "        text-align: right;\n",
       "    }\n",
       "</style>\n",
       "<table border=\"1\" class=\"dataframe\">\n",
       "  <thead>\n",
       "    <tr style=\"text-align: right;\">\n",
       "      <th></th>\n",
       "      <th>num_mentions</th>\n",
       "      <th>num_hashtags</th>\n",
       "      <th>num_retweets</th>\n",
       "      <th>num_favorites</th>\n",
       "      <th>is_sensitive</th>\n",
       "      <th>truncated</th>\n",
       "      <th>user_id</th>\n",
       "      <th>user_screen_name</th>\n",
       "      <th>user_description</th>\n",
       "      <th>user_location</th>\n",
       "      <th>followers_count</th>\n",
       "      <th>friends_count</th>\n",
       "      <th>favourites_count</th>\n",
       "      <th>verified</th>\n",
       "      <th>statuses_count</th>\n",
       "      <th>default_profile</th>\n",
       "      <th>default_profile_image</th>\n",
       "      <th>has_extended_profile</th>\n",
       "      <th>has_url</th>\n",
       "      <th>num_political_entities</th>\n",
       "      <th>total_interactions</th>\n",
       "      <th>engagement_rate</th>\n",
       "      <th>tweet_length</th>\n",
       "      <th>how_influential</th>\n",
       "      <th>is_media</th>\n",
       "      <th>num_political_desc</th>\n",
       "      <th>month</th>\n",
       "      <th>da</th>\n",
       "      <th>en</th>\n",
       "      <th>es</th>\n",
       "      <th>hu</th>\n",
       "      <th>in</th>\n",
       "      <th>pt</th>\n",
       "      <th>qam</th>\n",
       "      <th>qme</th>\n",
       "      <th>tl</th>\n",
       "      <th>tr</th>\n",
       "      <th>und</th>\n",
       "    </tr>\n",
       "  </thead>\n",
       "  <tbody>\n",
       "    <tr>\n",
       "      <th>0</th>\n",
       "      <td>1</td>\n",
       "      <td>0</td>\n",
       "      <td>3</td>\n",
       "      <td>2</td>\n",
       "      <td>1</td>\n",
       "      <td>0</td>\n",
       "      <td>1</td>\n",
       "      <td>13</td>\n",
       "      <td>0</td>\n",
       "      <td>1</td>\n",
       "      <td>221</td>\n",
       "      <td>113</td>\n",
       "      <td>21242</td>\n",
       "      <td>0</td>\n",
       "      <td>25730</td>\n",
       "      <td>1</td>\n",
       "      <td>0</td>\n",
       "      <td>1</td>\n",
       "      <td>0</td>\n",
       "      <td>1</td>\n",
       "      <td>5</td>\n",
       "      <td>0.022624</td>\n",
       "      <td>126</td>\n",
       "      <td>1.955752</td>\n",
       "      <td>1</td>\n",
       "      <td>0</td>\n",
       "      <td>10</td>\n",
       "      <td>0</td>\n",
       "      <td>0</td>\n",
       "      <td>0</td>\n",
       "      <td>0</td>\n",
       "      <td>0</td>\n",
       "      <td>0</td>\n",
       "      <td>0</td>\n",
       "      <td>0</td>\n",
       "      <td>0</td>\n",
       "      <td>1</td>\n",
       "      <td>0</td>\n",
       "    </tr>\n",
       "    <tr>\n",
       "      <th>1</th>\n",
       "      <td>0</td>\n",
       "      <td>2</td>\n",
       "      <td>30</td>\n",
       "      <td>28</td>\n",
       "      <td>0</td>\n",
       "      <td>1</td>\n",
       "      <td>1</td>\n",
       "      <td>10</td>\n",
       "      <td>0</td>\n",
       "      <td>1</td>\n",
       "      <td>455</td>\n",
       "      <td>420</td>\n",
       "      <td>11596</td>\n",
       "      <td>0</td>\n",
       "      <td>12427</td>\n",
       "      <td>1</td>\n",
       "      <td>0</td>\n",
       "      <td>1</td>\n",
       "      <td>1</td>\n",
       "      <td>3</td>\n",
       "      <td>58</td>\n",
       "      <td>0.127473</td>\n",
       "      <td>140</td>\n",
       "      <td>1.083333</td>\n",
       "      <td>0</td>\n",
       "      <td>0</td>\n",
       "      <td>11</td>\n",
       "      <td>0</td>\n",
       "      <td>0</td>\n",
       "      <td>0</td>\n",
       "      <td>0</td>\n",
       "      <td>0</td>\n",
       "      <td>0</td>\n",
       "      <td>0</td>\n",
       "      <td>0</td>\n",
       "      <td>0</td>\n",
       "      <td>1</td>\n",
       "      <td>0</td>\n",
       "    </tr>\n",
       "    <tr>\n",
       "      <th>2</th>\n",
       "      <td>0</td>\n",
       "      <td>0</td>\n",
       "      <td>5</td>\n",
       "      <td>66</td>\n",
       "      <td>0</td>\n",
       "      <td>0</td>\n",
       "      <td>1</td>\n",
       "      <td>9</td>\n",
       "      <td>120</td>\n",
       "      <td>1</td>\n",
       "      <td>735643</td>\n",
       "      <td>12</td>\n",
       "      <td>627</td>\n",
       "      <td>1</td>\n",
       "      <td>161123</td>\n",
       "      <td>0</td>\n",
       "      <td>0</td>\n",
       "      <td>0</td>\n",
       "      <td>1</td>\n",
       "      <td>0</td>\n",
       "      <td>71</td>\n",
       "      <td>0.000097</td>\n",
       "      <td>131</td>\n",
       "      <td>61303.583333</td>\n",
       "      <td>1</td>\n",
       "      <td>2</td>\n",
       "      <td>9</td>\n",
       "      <td>0</td>\n",
       "      <td>0</td>\n",
       "      <td>0</td>\n",
       "      <td>0</td>\n",
       "      <td>0</td>\n",
       "      <td>0</td>\n",
       "      <td>0</td>\n",
       "      <td>0</td>\n",
       "      <td>0</td>\n",
       "      <td>1</td>\n",
       "      <td>0</td>\n",
       "    </tr>\n",
       "    <tr>\n",
       "      <th>3</th>\n",
       "      <td>1</td>\n",
       "      <td>0</td>\n",
       "      <td>0</td>\n",
       "      <td>0</td>\n",
       "      <td>0</td>\n",
       "      <td>1</td>\n",
       "      <td>1</td>\n",
       "      <td>13</td>\n",
       "      <td>3</td>\n",
       "      <td>1</td>\n",
       "      <td>10</td>\n",
       "      <td>45</td>\n",
       "      <td>94</td>\n",
       "      <td>0</td>\n",
       "      <td>1595</td>\n",
       "      <td>1</td>\n",
       "      <td>0</td>\n",
       "      <td>1</td>\n",
       "      <td>1</td>\n",
       "      <td>2</td>\n",
       "      <td>0</td>\n",
       "      <td>0.000000</td>\n",
       "      <td>140</td>\n",
       "      <td>0.222222</td>\n",
       "      <td>0</td>\n",
       "      <td>0</td>\n",
       "      <td>11</td>\n",
       "      <td>0</td>\n",
       "      <td>0</td>\n",
       "      <td>0</td>\n",
       "      <td>0</td>\n",
       "      <td>0</td>\n",
       "      <td>0</td>\n",
       "      <td>0</td>\n",
       "      <td>0</td>\n",
       "      <td>0</td>\n",
       "      <td>1</td>\n",
       "      <td>0</td>\n",
       "    </tr>\n",
       "    <tr>\n",
       "      <th>4</th>\n",
       "      <td>1</td>\n",
       "      <td>0</td>\n",
       "      <td>0</td>\n",
       "      <td>0</td>\n",
       "      <td>0</td>\n",
       "      <td>0</td>\n",
       "      <td>1</td>\n",
       "      <td>11</td>\n",
       "      <td>0</td>\n",
       "      <td>1</td>\n",
       "      <td>6</td>\n",
       "      <td>6</td>\n",
       "      <td>2526</td>\n",
       "      <td>0</td>\n",
       "      <td>1251</td>\n",
       "      <td>1</td>\n",
       "      <td>0</td>\n",
       "      <td>1</td>\n",
       "      <td>0</td>\n",
       "      <td>1</td>\n",
       "      <td>0</td>\n",
       "      <td>0.000000</td>\n",
       "      <td>87</td>\n",
       "      <td>1.000000</td>\n",
       "      <td>1</td>\n",
       "      <td>0</td>\n",
       "      <td>11</td>\n",
       "      <td>0</td>\n",
       "      <td>0</td>\n",
       "      <td>0</td>\n",
       "      <td>0</td>\n",
       "      <td>0</td>\n",
       "      <td>0</td>\n",
       "      <td>0</td>\n",
       "      <td>0</td>\n",
       "      <td>0</td>\n",
       "      <td>1</td>\n",
       "      <td>0</td>\n",
       "    </tr>\n",
       "    <tr>\n",
       "      <th>...</th>\n",
       "      <td>...</td>\n",
       "      <td>...</td>\n",
       "      <td>...</td>\n",
       "      <td>...</td>\n",
       "      <td>...</td>\n",
       "      <td>...</td>\n",
       "      <td>...</td>\n",
       "      <td>...</td>\n",
       "      <td>...</td>\n",
       "      <td>...</td>\n",
       "      <td>...</td>\n",
       "      <td>...</td>\n",
       "      <td>...</td>\n",
       "      <td>...</td>\n",
       "      <td>...</td>\n",
       "      <td>...</td>\n",
       "      <td>...</td>\n",
       "      <td>...</td>\n",
       "      <td>...</td>\n",
       "      <td>...</td>\n",
       "      <td>...</td>\n",
       "      <td>...</td>\n",
       "      <td>...</td>\n",
       "      <td>...</td>\n",
       "      <td>...</td>\n",
       "      <td>...</td>\n",
       "      <td>...</td>\n",
       "      <td>...</td>\n",
       "      <td>...</td>\n",
       "      <td>...</td>\n",
       "      <td>...</td>\n",
       "      <td>...</td>\n",
       "      <td>...</td>\n",
       "      <td>...</td>\n",
       "      <td>...</td>\n",
       "      <td>...</td>\n",
       "      <td>...</td>\n",
       "      <td>...</td>\n",
       "    </tr>\n",
       "    <tr>\n",
       "      <th>2995</th>\n",
       "      <td>1</td>\n",
       "      <td>0</td>\n",
       "      <td>0</td>\n",
       "      <td>0</td>\n",
       "      <td>0</td>\n",
       "      <td>0</td>\n",
       "      <td>1</td>\n",
       "      <td>11</td>\n",
       "      <td>0</td>\n",
       "      <td>1</td>\n",
       "      <td>28</td>\n",
       "      <td>201</td>\n",
       "      <td>12865</td>\n",
       "      <td>0</td>\n",
       "      <td>1158</td>\n",
       "      <td>1</td>\n",
       "      <td>0</td>\n",
       "      <td>1</td>\n",
       "      <td>0</td>\n",
       "      <td>2</td>\n",
       "      <td>0</td>\n",
       "      <td>0.000000</td>\n",
       "      <td>22</td>\n",
       "      <td>0.139303</td>\n",
       "      <td>0</td>\n",
       "      <td>0</td>\n",
       "      <td>9</td>\n",
       "      <td>0</td>\n",
       "      <td>0</td>\n",
       "      <td>0</td>\n",
       "      <td>0</td>\n",
       "      <td>0</td>\n",
       "      <td>0</td>\n",
       "      <td>0</td>\n",
       "      <td>0</td>\n",
       "      <td>0</td>\n",
       "      <td>1</td>\n",
       "      <td>0</td>\n",
       "    </tr>\n",
       "    <tr>\n",
       "      <th>2996</th>\n",
       "      <td>4</td>\n",
       "      <td>0</td>\n",
       "      <td>0</td>\n",
       "      <td>0</td>\n",
       "      <td>0</td>\n",
       "      <td>1</td>\n",
       "      <td>1</td>\n",
       "      <td>12</td>\n",
       "      <td>0</td>\n",
       "      <td>1</td>\n",
       "      <td>221</td>\n",
       "      <td>234</td>\n",
       "      <td>2672</td>\n",
       "      <td>0</td>\n",
       "      <td>4063</td>\n",
       "      <td>1</td>\n",
       "      <td>0</td>\n",
       "      <td>1</td>\n",
       "      <td>1</td>\n",
       "      <td>4</td>\n",
       "      <td>0</td>\n",
       "      <td>0.000000</td>\n",
       "      <td>135</td>\n",
       "      <td>0.944444</td>\n",
       "      <td>0</td>\n",
       "      <td>0</td>\n",
       "      <td>10</td>\n",
       "      <td>0</td>\n",
       "      <td>0</td>\n",
       "      <td>0</td>\n",
       "      <td>0</td>\n",
       "      <td>0</td>\n",
       "      <td>0</td>\n",
       "      <td>0</td>\n",
       "      <td>0</td>\n",
       "      <td>0</td>\n",
       "      <td>1</td>\n",
       "      <td>0</td>\n",
       "    </tr>\n",
       "    <tr>\n",
       "      <th>2997</th>\n",
       "      <td>3</td>\n",
       "      <td>0</td>\n",
       "      <td>0</td>\n",
       "      <td>0</td>\n",
       "      <td>0</td>\n",
       "      <td>1</td>\n",
       "      <td>1</td>\n",
       "      <td>7</td>\n",
       "      <td>0</td>\n",
       "      <td>1</td>\n",
       "      <td>3</td>\n",
       "      <td>32</td>\n",
       "      <td>172</td>\n",
       "      <td>0</td>\n",
       "      <td>2065</td>\n",
       "      <td>1</td>\n",
       "      <td>1</td>\n",
       "      <td>1</td>\n",
       "      <td>1</td>\n",
       "      <td>4</td>\n",
       "      <td>0</td>\n",
       "      <td>0.000000</td>\n",
       "      <td>140</td>\n",
       "      <td>0.093750</td>\n",
       "      <td>0</td>\n",
       "      <td>0</td>\n",
       "      <td>11</td>\n",
       "      <td>0</td>\n",
       "      <td>0</td>\n",
       "      <td>0</td>\n",
       "      <td>0</td>\n",
       "      <td>0</td>\n",
       "      <td>0</td>\n",
       "      <td>0</td>\n",
       "      <td>0</td>\n",
       "      <td>0</td>\n",
       "      <td>1</td>\n",
       "      <td>0</td>\n",
       "    </tr>\n",
       "    <tr>\n",
       "      <th>2998</th>\n",
       "      <td>1</td>\n",
       "      <td>0</td>\n",
       "      <td>0</td>\n",
       "      <td>0</td>\n",
       "      <td>0</td>\n",
       "      <td>0</td>\n",
       "      <td>1</td>\n",
       "      <td>15</td>\n",
       "      <td>0</td>\n",
       "      <td>1</td>\n",
       "      <td>19</td>\n",
       "      <td>124</td>\n",
       "      <td>2601</td>\n",
       "      <td>0</td>\n",
       "      <td>1470</td>\n",
       "      <td>1</td>\n",
       "      <td>0</td>\n",
       "      <td>1</td>\n",
       "      <td>0</td>\n",
       "      <td>1</td>\n",
       "      <td>0</td>\n",
       "      <td>0.000000</td>\n",
       "      <td>40</td>\n",
       "      <td>0.153226</td>\n",
       "      <td>0</td>\n",
       "      <td>0</td>\n",
       "      <td>10</td>\n",
       "      <td>0</td>\n",
       "      <td>0</td>\n",
       "      <td>0</td>\n",
       "      <td>0</td>\n",
       "      <td>0</td>\n",
       "      <td>0</td>\n",
       "      <td>0</td>\n",
       "      <td>0</td>\n",
       "      <td>0</td>\n",
       "      <td>1</td>\n",
       "      <td>0</td>\n",
       "    </tr>\n",
       "    <tr>\n",
       "      <th>2999</th>\n",
       "      <td>3</td>\n",
       "      <td>0</td>\n",
       "      <td>1</td>\n",
       "      <td>0</td>\n",
       "      <td>0</td>\n",
       "      <td>0</td>\n",
       "      <td>1</td>\n",
       "      <td>8</td>\n",
       "      <td>0</td>\n",
       "      <td>1</td>\n",
       "      <td>295</td>\n",
       "      <td>292</td>\n",
       "      <td>31609</td>\n",
       "      <td>0</td>\n",
       "      <td>34462</td>\n",
       "      <td>1</td>\n",
       "      <td>0</td>\n",
       "      <td>1</td>\n",
       "      <td>0</td>\n",
       "      <td>5</td>\n",
       "      <td>1</td>\n",
       "      <td>0.003390</td>\n",
       "      <td>84</td>\n",
       "      <td>1.010274</td>\n",
       "      <td>0</td>\n",
       "      <td>0</td>\n",
       "      <td>11</td>\n",
       "      <td>0</td>\n",
       "      <td>0</td>\n",
       "      <td>0</td>\n",
       "      <td>0</td>\n",
       "      <td>0</td>\n",
       "      <td>0</td>\n",
       "      <td>0</td>\n",
       "      <td>0</td>\n",
       "      <td>0</td>\n",
       "      <td>1</td>\n",
       "      <td>0</td>\n",
       "    </tr>\n",
       "  </tbody>\n",
       "</table>\n",
       "<p>3000 rows × 38 columns</p>\n",
       "</div>\n",
       "      <button class=\"colab-df-convert\" onclick=\"convertToInteractive('df-43382204-2db9-4023-952e-bd0246db99a2')\"\n",
       "              title=\"Convert this dataframe to an interactive table.\"\n",
       "              style=\"display:none;\">\n",
       "        \n",
       "  <svg xmlns=\"http://www.w3.org/2000/svg\" height=\"24px\"viewBox=\"0 0 24 24\"\n",
       "       width=\"24px\">\n",
       "    <path d=\"M0 0h24v24H0V0z\" fill=\"none\"/>\n",
       "    <path d=\"M18.56 5.44l.94 2.06.94-2.06 2.06-.94-2.06-.94-.94-2.06-.94 2.06-2.06.94zm-11 1L8.5 8.5l.94-2.06 2.06-.94-2.06-.94L8.5 2.5l-.94 2.06-2.06.94zm10 10l.94 2.06.94-2.06 2.06-.94-2.06-.94-.94-2.06-.94 2.06-2.06.94z\"/><path d=\"M17.41 7.96l-1.37-1.37c-.4-.4-.92-.59-1.43-.59-.52 0-1.04.2-1.43.59L10.3 9.45l-7.72 7.72c-.78.78-.78 2.05 0 2.83L4 21.41c.39.39.9.59 1.41.59.51 0 1.02-.2 1.41-.59l7.78-7.78 2.81-2.81c.8-.78.8-2.07 0-2.86zM5.41 20L4 18.59l7.72-7.72 1.47 1.35L5.41 20z\"/>\n",
       "  </svg>\n",
       "      </button>\n",
       "      \n",
       "  <style>\n",
       "    .colab-df-container {\n",
       "      display:flex;\n",
       "      flex-wrap:wrap;\n",
       "      gap: 12px;\n",
       "    }\n",
       "\n",
       "    .colab-df-convert {\n",
       "      background-color: #E8F0FE;\n",
       "      border: none;\n",
       "      border-radius: 50%;\n",
       "      cursor: pointer;\n",
       "      display: none;\n",
       "      fill: #1967D2;\n",
       "      height: 32px;\n",
       "      padding: 0 0 0 0;\n",
       "      width: 32px;\n",
       "    }\n",
       "\n",
       "    .colab-df-convert:hover {\n",
       "      background-color: #E2EBFA;\n",
       "      box-shadow: 0px 1px 2px rgba(60, 64, 67, 0.3), 0px 1px 3px 1px rgba(60, 64, 67, 0.15);\n",
       "      fill: #174EA6;\n",
       "    }\n",
       "\n",
       "    [theme=dark] .colab-df-convert {\n",
       "      background-color: #3B4455;\n",
       "      fill: #D2E3FC;\n",
       "    }\n",
       "\n",
       "    [theme=dark] .colab-df-convert:hover {\n",
       "      background-color: #434B5C;\n",
       "      box-shadow: 0px 1px 3px 1px rgba(0, 0, 0, 0.15);\n",
       "      filter: drop-shadow(0px 1px 2px rgba(0, 0, 0, 0.3));\n",
       "      fill: #FFFFFF;\n",
       "    }\n",
       "  </style>\n",
       "\n",
       "      <script>\n",
       "        const buttonEl =\n",
       "          document.querySelector('#df-43382204-2db9-4023-952e-bd0246db99a2 button.colab-df-convert');\n",
       "        buttonEl.style.display =\n",
       "          google.colab.kernel.accessAllowed ? 'block' : 'none';\n",
       "\n",
       "        async function convertToInteractive(key) {\n",
       "          const element = document.querySelector('#df-43382204-2db9-4023-952e-bd0246db99a2');\n",
       "          const dataTable =\n",
       "            await google.colab.kernel.invokeFunction('convertToInteractive',\n",
       "                                                     [key], {});\n",
       "          if (!dataTable) return;\n",
       "\n",
       "          const docLinkHtml = 'Like what you see? Visit the ' +\n",
       "            '<a target=\"_blank\" href=https://colab.research.google.com/notebooks/data_table.ipynb>data table notebook</a>'\n",
       "            + ' to learn more about interactive tables.';\n",
       "          element.innerHTML = '';\n",
       "          dataTable['output_type'] = 'display_data';\n",
       "          await google.colab.output.renderOutput(dataTable, element);\n",
       "          const docLink = document.createElement('div');\n",
       "          docLink.innerHTML = docLinkHtml;\n",
       "          element.appendChild(docLink);\n",
       "        }\n",
       "      </script>\n",
       "    </div>\n",
       "  </div>\n",
       "  "
      ],
      "text/plain": [
       "      num_mentions  num_hashtags  num_retweets  num_favorites  is_sensitive  \\\n",
       "0                1             0             3              2             1   \n",
       "1                0             2            30             28             0   \n",
       "2                0             0             5             66             0   \n",
       "3                1             0             0              0             0   \n",
       "4                1             0             0              0             0   \n",
       "...            ...           ...           ...            ...           ...   \n",
       "2995             1             0             0              0             0   \n",
       "2996             4             0             0              0             0   \n",
       "2997             3             0             0              0             0   \n",
       "2998             1             0             0              0             0   \n",
       "2999             3             0             1              0             0   \n",
       "\n",
       "      truncated  user_id  user_screen_name  user_description  user_location  \\\n",
       "0             0        1                13                 0              1   \n",
       "1             1        1                10                 0              1   \n",
       "2             0        1                 9               120              1   \n",
       "3             1        1                13                 3              1   \n",
       "4             0        1                11                 0              1   \n",
       "...         ...      ...               ...               ...            ...   \n",
       "2995          0        1                11                 0              1   \n",
       "2996          1        1                12                 0              1   \n",
       "2997          1        1                 7                 0              1   \n",
       "2998          0        1                15                 0              1   \n",
       "2999          0        1                 8                 0              1   \n",
       "\n",
       "      followers_count  friends_count  favourites_count  verified  \\\n",
       "0                 221            113             21242         0   \n",
       "1                 455            420             11596         0   \n",
       "2              735643             12               627         1   \n",
       "3                  10             45                94         0   \n",
       "4                   6              6              2526         0   \n",
       "...               ...            ...               ...       ...   \n",
       "2995               28            201             12865         0   \n",
       "2996              221            234              2672         0   \n",
       "2997                3             32               172         0   \n",
       "2998               19            124              2601         0   \n",
       "2999              295            292             31609         0   \n",
       "\n",
       "      statuses_count  default_profile  default_profile_image  \\\n",
       "0              25730                1                      0   \n",
       "1              12427                1                      0   \n",
       "2             161123                0                      0   \n",
       "3               1595                1                      0   \n",
       "4               1251                1                      0   \n",
       "...              ...              ...                    ...   \n",
       "2995            1158                1                      0   \n",
       "2996            4063                1                      0   \n",
       "2997            2065                1                      1   \n",
       "2998            1470                1                      0   \n",
       "2999           34462                1                      0   \n",
       "\n",
       "      has_extended_profile  has_url  num_political_entities  \\\n",
       "0                        1        0                       1   \n",
       "1                        1        1                       3   \n",
       "2                        0        1                       0   \n",
       "3                        1        1                       2   \n",
       "4                        1        0                       1   \n",
       "...                    ...      ...                     ...   \n",
       "2995                     1        0                       2   \n",
       "2996                     1        1                       4   \n",
       "2997                     1        1                       4   \n",
       "2998                     1        0                       1   \n",
       "2999                     1        0                       5   \n",
       "\n",
       "      total_interactions  engagement_rate  tweet_length  how_influential  \\\n",
       "0                      5         0.022624           126         1.955752   \n",
       "1                     58         0.127473           140         1.083333   \n",
       "2                     71         0.000097           131     61303.583333   \n",
       "3                      0         0.000000           140         0.222222   \n",
       "4                      0         0.000000            87         1.000000   \n",
       "...                  ...              ...           ...              ...   \n",
       "2995                   0         0.000000            22         0.139303   \n",
       "2996                   0         0.000000           135         0.944444   \n",
       "2997                   0         0.000000           140         0.093750   \n",
       "2998                   0         0.000000            40         0.153226   \n",
       "2999                   1         0.003390            84         1.010274   \n",
       "\n",
       "      is_media  num_political_desc  month  da  en  es  hu  in  pt  qam  qme  \\\n",
       "0            1                   0     10   0   0   0   0   0   0    0    0   \n",
       "1            0                   0     11   0   0   0   0   0   0    0    0   \n",
       "2            1                   2      9   0   0   0   0   0   0    0    0   \n",
       "3            0                   0     11   0   0   0   0   0   0    0    0   \n",
       "4            1                   0     11   0   0   0   0   0   0    0    0   \n",
       "...        ...                 ...    ...  ..  ..  ..  ..  ..  ..  ...  ...   \n",
       "2995         0                   0      9   0   0   0   0   0   0    0    0   \n",
       "2996         0                   0     10   0   0   0   0   0   0    0    0   \n",
       "2997         0                   0     11   0   0   0   0   0   0    0    0   \n",
       "2998         0                   0     10   0   0   0   0   0   0    0    0   \n",
       "2999         0                   0     11   0   0   0   0   0   0    0    0   \n",
       "\n",
       "      tl  tr  und  \n",
       "0      0   1    0  \n",
       "1      0   1    0  \n",
       "2      0   1    0  \n",
       "3      0   1    0  \n",
       "4      0   1    0  \n",
       "...   ..  ..  ...  \n",
       "2995   0   1    0  \n",
       "2996   0   1    0  \n",
       "2997   0   1    0  \n",
       "2998   0   1    0  \n",
       "2999   0   1    0  \n",
       "\n",
       "[3000 rows x 38 columns]"
      ]
     },
     "execution_count": 42,
     "metadata": {},
     "output_type": "execute_result"
    }
   ],
   "source": [
    "one_hot = pd.get_dummies(X['lang'])\n",
    "X = X.drop('lang',axis = 1)\n",
    "# Join the encoded df\n",
    "X = X.join(one_hot)\n",
    "X"
   ]
  },
  {
   "cell_type": "markdown",
   "metadata": {
    "id": "Xp7i4WxMFwZw"
   },
   "source": [
    "### 2.1.3. Train - validation split"
   ]
  },
  {
   "cell_type": "code",
   "execution_count": null,
   "metadata": {
    "ExecuteTime": {
     "end_time": "2022-12-29T19:59:16.802482Z",
     "start_time": "2022-12-29T19:59:15.183571Z"
    },
    "collapsed": true,
    "id": "48tEoZfPFwZw"
   },
   "outputs": [],
   "source": [
    "#while submitting uncomment this cell, dont split data\n",
    "\n",
    "X_train= X\n",
    "y_train= y\n",
    "\n",
    "scaler = StandardScaler()\n",
    "X_train = scaler.fit_transform(X_train)"
   ]
  },
  {
   "cell_type": "markdown",
   "metadata": {
    "id": "-HjbrawQEdk5"
   },
   "source": [
    "Validation COMMENT"
   ]
  },
  {
   "cell_type": "code",
   "execution_count": null,
   "metadata": {
    "id": "W6fPREZCqr2e"
   },
   "outputs": [],
   "source": [
    "#from sklearn.model_selection import train_test_split\n",
    "\n",
    "#X_train, X_val, y_train, y_val = train_test_split(X, y, test_size=0.20, random_state=42)\n",
    "#scaler = StandardScaler()\n",
    "#X_train = scaler.fit_transform(X_train)\n",
    "#X_val = scaler.fit_transform(X_val)"
   ]
  },
  {
   "cell_type": "code",
   "execution_count": null,
   "metadata": {
    "colab": {
     "base_uri": "https://localhost:8080/"
    },
    "id": "_x1TEz1hAHH8",
    "outputId": "d2603559-9b7b-4eae-b986-cbe88be97417"
   },
   "outputs": [
    {
     "data": {
      "text/plain": [
       "array([[-0.21223605, -0.29866641,  0.10877137, ..., -0.0258285 ,\n",
       "         0.2607599 , -0.11915865],\n",
       "       [-0.90657426,  3.58853201,  2.04259071, ..., -0.0258285 ,\n",
       "         0.2607599 , -0.11915865],\n",
       "       [-0.90657426, -0.29866641,  0.25201725, ..., -0.0258285 ,\n",
       "         0.2607599 , -0.11915865],\n",
       "       ...,\n",
       "       [ 1.17644038, -0.29866641, -0.10609745, ..., -0.0258285 ,\n",
       "         0.2607599 , -0.11915865],\n",
       "       [-0.21223605, -0.29866641, -0.10609745, ..., -0.0258285 ,\n",
       "         0.2607599 , -0.11915865],\n",
       "       [ 1.17644038, -0.29866641, -0.03447451, ..., -0.0258285 ,\n",
       "         0.2607599 , -0.11915865]])"
      ]
     },
     "execution_count": 44,
     "metadata": {},
     "output_type": "execute_result"
    }
   ],
   "source": [
    "X_train"
   ]
  },
  {
   "cell_type": "markdown",
   "metadata": {
    "id": "-3HDYu3_FwZw"
   },
   "source": [
    "### 2.1.4. Train the model\n",
    "\n",
    "Here, you may use different models such as neural networks, XGBoost, AdaBoost, RandomForest, Linear Regression, Logistic Regression etc. to see which model does the best. Also, you can use grid_search_cv() or a basic for loop to optimize the hyperparameters of your model."
   ]
  },
  {
   "cell_type": "code",
   "execution_count": null,
   "metadata": {
    "colab": {
     "base_uri": "https://localhost:8080/"
    },
    "id": "F7_PKoZarIay",
    "outputId": "64e7d895-b2f1-421c-f003-cea248e44ecf"
   },
   "outputs": [
    {
     "name": "stdout",
     "output_type": "stream",
     "text": [
      "MSE: 0.2 \n",
      " Accuracy Score: 0.8 \n",
      " Confusion Matrix: \n",
      " [[105 104]\n",
      " [ 16 375]]\n"
     ]
    }
   ],
   "source": [
    "#from xgboost import XGBClassifier\n",
    "\n",
    "#model = XGBClassifier()\n",
    "#model.fit(X_train, y_train)\n",
    "\n",
    "# make predictions\n",
    "#preds = model.predict(X_val)\n",
    "\n",
    "# evaluate on validation set\n",
    "#acc_score = accuracy_score(y_val, preds)\n",
    "#confusion = confusion_matrix(y_val, preds)\n",
    "#mse = mean_squared_error(y_val, preds)\n",
    "\n",
    "#print(\"MSE:\", mse, \"\\n\",\n",
    "     #\"Accuracy Score:\", acc_score, \"\\n\",\n",
    "      #\"Confusion Matrix:\", \"\\n\", confusion)"
   ]
  },
  {
   "cell_type": "code",
   "execution_count": null,
   "metadata": {
    "colab": {
     "base_uri": "https://localhost:8080/"
    },
    "id": "KpREntcVr0aV",
    "outputId": "c79105a8-df81-41e2-dd24-64efe8842860"
   },
   "outputs": [
    {
     "name": "stdout",
     "output_type": "stream",
     "text": [
      "Looking in indexes: https://pypi.org/simple, https://us-python.pkg.dev/colab-wheels/public/simple/\n",
      "Collecting optuna\n",
      "  Downloading optuna-3.1.0-py3-none-any.whl (365 kB)\n",
      "\u001b[2K     \u001b[90m━━━━━━━━━━━━━━━━━━━━━━━━━━━━━━━━━━━━━━━\u001b[0m \u001b[32m365.3/365.3 KB\u001b[0m \u001b[31m8.4 MB/s\u001b[0m eta \u001b[36m0:00:00\u001b[0m\n",
      "\u001b[?25hCollecting alembic>=1.5.0\n",
      "  Downloading alembic-1.9.2-py3-none-any.whl (210 kB)\n",
      "\u001b[2K     \u001b[90m━━━━━━━━━━━━━━━━━━━━━━━━━━━━━━━━━━━━━━\u001b[0m \u001b[32m210.6/210.6 KB\u001b[0m \u001b[31m19.0 MB/s\u001b[0m eta \u001b[36m0:00:00\u001b[0m\n",
      "\u001b[?25hCollecting cmaes>=0.9.1\n",
      "  Downloading cmaes-0.9.1-py3-none-any.whl (21 kB)\n",
      "Requirement already satisfied: packaging>=20.0 in /usr/local/lib/python3.8/dist-packages (from optuna) (21.3)\n",
      "Collecting colorlog\n",
      "  Downloading colorlog-6.7.0-py2.py3-none-any.whl (11 kB)\n",
      "Requirement already satisfied: numpy in /usr/local/lib/python3.8/dist-packages (from optuna) (1.21.6)\n",
      "Requirement already satisfied: sqlalchemy>=1.3.0 in /usr/local/lib/python3.8/dist-packages (from optuna) (1.4.46)\n",
      "Requirement already satisfied: tqdm in /usr/local/lib/python3.8/dist-packages (from optuna) (4.64.1)\n",
      "Requirement already satisfied: PyYAML in /usr/local/lib/python3.8/dist-packages (from optuna) (6.0)\n",
      "Requirement already satisfied: importlib-metadata in /usr/local/lib/python3.8/dist-packages (from alembic>=1.5.0->optuna) (6.0.0)\n",
      "Requirement already satisfied: importlib-resources in /usr/local/lib/python3.8/dist-packages (from alembic>=1.5.0->optuna) (5.10.2)\n",
      "Collecting Mako\n",
      "  Downloading Mako-1.2.4-py3-none-any.whl (78 kB)\n",
      "\u001b[2K     \u001b[90m━━━━━━━━━━━━━━━━━━━━━━━━━━━━━━━━━━━━━━━━\u001b[0m \u001b[32m78.7/78.7 KB\u001b[0m \u001b[31m9.3 MB/s\u001b[0m eta \u001b[36m0:00:00\u001b[0m\n",
      "\u001b[?25hRequirement already satisfied: pyparsing!=3.0.5,>=2.0.2 in /usr/local/lib/python3.8/dist-packages (from packaging>=20.0->optuna) (3.0.9)\n",
      "Requirement already satisfied: greenlet!=0.4.17 in /usr/local/lib/python3.8/dist-packages (from sqlalchemy>=1.3.0->optuna) (2.0.1)\n",
      "Requirement already satisfied: zipp>=0.5 in /usr/local/lib/python3.8/dist-packages (from importlib-metadata->alembic>=1.5.0->optuna) (3.11.0)\n",
      "Requirement already satisfied: MarkupSafe>=0.9.2 in /usr/local/lib/python3.8/dist-packages (from Mako->alembic>=1.5.0->optuna) (2.0.1)\n",
      "Installing collected packages: Mako, colorlog, cmaes, alembic, optuna\n",
      "Successfully installed Mako-1.2.4 alembic-1.9.2 cmaes-0.9.1 colorlog-6.7.0 optuna-3.1.0\n"
     ]
    }
   ],
   "source": [
    "pip install optuna"
   ]
  },
  {
   "cell_type": "code",
   "execution_count": null,
   "metadata": {
    "id": "vMvVR7lmr4WY"
   },
   "outputs": [],
   "source": [
    "\"\"\"def objective(trial):\n",
    "    params = {\n",
    "        'max_depth': trial.suggest_int('max_depth', 1, 25),\n",
    "        'learning_rate': trial.suggest_float('learning_rate', 0.01, 1.0),\n",
    "        'n_estimators': trial.suggest_int('n_estimators', 50, 100),\n",
    "        'min_child_weight': trial.suggest_int('min_child_weight', 1, 10),\n",
    "        'gamma': trial.suggest_float('gamma', 1e-8, 1.0),\n",
    "        'subsample': trial.suggest_float('subsample', 0.01, 1.0),\n",
    "        'colsample_bytree': trial.suggest_float('colsample_bytree', 0.01, 1.0),\n",
    "        'reg_alpha': trial.suggest_float('reg_alpha', 1e-8, 1.0),\n",
    "        'reg_lambda': trial.suggest_float('reg_lambda', 1e-8, 1.0),\n",
    "\n",
    "    }\n",
    "\n",
    "    # Fit the model\n",
    "    optuna_model = XGBClassifier(**params)\n",
    "    optuna_model.fit(X_train, y_train)\n",
    "\n",
    "    # Make predictions\n",
    "    y_pred = optuna_model.predict(X_val)\n",
    "\n",
    "    # Evaluate predictions\n",
    "    accuracy = accuracy_score(y_val, y_pred)\n",
    "    mse = mean_squared_error(y_val, preds)\n",
    "    print(accuracy, mse)\"\"\""
   ]
  },
  {
   "cell_type": "code",
   "execution_count": null,
   "metadata": {
    "colab": {
     "base_uri": "https://localhost:8080/",
     "height": 1000
    },
    "id": "dViBLmHvsM0_",
    "outputId": "643f16ef-b147-4da2-d0e7-4b84092f7787"
   },
   "outputs": [
    {
     "name": "stderr",
     "output_type": "stream",
     "text": [
      "\u001b[32m[I 2023-01-24 12:48:30,100]\u001b[0m A new study created in memory with name: no-name-f280402f-3f82-4e5f-bb02-fcca578c492a\u001b[0m\n",
      "\u001b[33m[W 2023-01-24 12:48:30,742]\u001b[0m Trial 0 failed with parameters: {'max_depth': 21, 'learning_rate': 0.8431071762016812, 'n_estimators': 84, 'min_child_weight': 10, 'gamma': 0.6376089383027745, 'subsample': 0.7947464227947241, 'colsample_bytree': 0.9054403123205749, 'reg_alpha': 0.41415802531495777, 'reg_lambda': 0.6020148979078261} because of the following error: The value None could not be cast to float..\u001b[0m\n",
      "\u001b[33m[W 2023-01-24 12:48:30,743]\u001b[0m Trial 0 failed with value None.\u001b[0m\n",
      "\u001b[33m[W 2023-01-24 12:48:30,900]\u001b[0m Trial 1 failed with parameters: {'max_depth': 6, 'learning_rate': 0.4427706137737914, 'n_estimators': 61, 'min_child_weight': 4, 'gamma': 0.2731510746994243, 'subsample': 0.6599984703742149, 'colsample_bytree': 0.141619751053954, 'reg_alpha': 0.15815794659088953, 'reg_lambda': 0.499953124550328} because of the following error: The value None could not be cast to float..\u001b[0m\n",
      "\u001b[33m[W 2023-01-24 12:48:30,901]\u001b[0m Trial 1 failed with value None.\u001b[0m\n"
     ]
    },
    {
     "name": "stdout",
     "output_type": "stream",
     "text": [
      "0.7533333333333333 0.19333333333333333\n",
      "0.7666666666666667 0.19333333333333333\n"
     ]
    },
    {
     "name": "stderr",
     "output_type": "stream",
     "text": [
      "\u001b[33m[W 2023-01-24 12:48:31,260]\u001b[0m Trial 2 failed with parameters: {'max_depth': 17, 'learning_rate': 0.6529787360514094, 'n_estimators': 52, 'min_child_weight': 2, 'gamma': 0.3230958893199733, 'subsample': 0.3885661729824339, 'colsample_bytree': 0.5868612164706624, 'reg_alpha': 0.32128879557971846, 'reg_lambda': 0.26683215047387115} because of the following error: The value None could not be cast to float..\u001b[0m\n",
      "\u001b[33m[W 2023-01-24 12:48:31,262]\u001b[0m Trial 2 failed with value None.\u001b[0m\n",
      "\u001b[33m[W 2023-01-24 12:48:31,450]\u001b[0m Trial 3 failed with parameters: {'max_depth': 19, 'learning_rate': 0.4791220389565457, 'n_estimators': 69, 'min_child_weight': 2, 'gamma': 0.2832610284481131, 'subsample': 0.14431814074925253, 'colsample_bytree': 0.2952013135523417, 'reg_alpha': 0.6822724150523225, 'reg_lambda': 0.5288103056461845} because of the following error: The value None could not be cast to float..\u001b[0m\n",
      "\u001b[33m[W 2023-01-24 12:48:31,452]\u001b[0m Trial 3 failed with value None.\u001b[0m\n"
     ]
    },
    {
     "name": "stdout",
     "output_type": "stream",
     "text": [
      "0.6666666666666666 0.19333333333333333\n",
      "0.5766666666666667 0.19333333333333333\n"
     ]
    },
    {
     "name": "stderr",
     "output_type": "stream",
     "text": [
      "\u001b[33m[W 2023-01-24 12:48:31,921]\u001b[0m Trial 4 failed with parameters: {'max_depth': 11, 'learning_rate': 0.05481923011051199, 'n_estimators': 68, 'min_child_weight': 2, 'gamma': 0.03332267943941173, 'subsample': 0.728650044032066, 'colsample_bytree': 0.41280892969009836, 'reg_alpha': 0.9606296739897663, 'reg_lambda': 0.8868165571627813} because of the following error: The value None could not be cast to float..\u001b[0m\n",
      "\u001b[33m[W 2023-01-24 12:48:31,923]\u001b[0m Trial 4 failed with value None.\u001b[0m\n"
     ]
    },
    {
     "name": "stdout",
     "output_type": "stream",
     "text": [
      "0.7933333333333333 0.19333333333333333\n"
     ]
    },
    {
     "name": "stderr",
     "output_type": "stream",
     "text": [
      "\u001b[33m[W 2023-01-24 12:48:32,252]\u001b[0m Trial 5 failed with parameters: {'max_depth': 17, 'learning_rate': 0.7518487332675531, 'n_estimators': 64, 'min_child_weight': 3, 'gamma': 0.6838896564394958, 'subsample': 0.2946026608744194, 'colsample_bytree': 0.6406188162943773, 'reg_alpha': 0.6829361209584345, 'reg_lambda': 0.5559584523091534} because of the following error: The value None could not be cast to float..\u001b[0m\n",
      "\u001b[33m[W 2023-01-24 12:48:32,255]\u001b[0m Trial 5 failed with value None.\u001b[0m\n"
     ]
    },
    {
     "name": "stdout",
     "output_type": "stream",
     "text": [
      "0.6833333333333333 0.19333333333333333\n"
     ]
    },
    {
     "name": "stderr",
     "output_type": "stream",
     "text": [
      "\u001b[33m[W 2023-01-24 12:48:32,632]\u001b[0m Trial 6 failed with parameters: {'max_depth': 16, 'learning_rate': 0.6217363695364326, 'n_estimators': 51, 'min_child_weight': 6, 'gamma': 0.8784600884701771, 'subsample': 0.63448644413904, 'colsample_bytree': 0.705456842069014, 'reg_alpha': 0.5045440845883871, 'reg_lambda': 0.9151444917144759} because of the following error: The value None could not be cast to float..\u001b[0m\n",
      "\u001b[33m[W 2023-01-24 12:48:32,633]\u001b[0m Trial 6 failed with value None.\u001b[0m\n",
      "\u001b[33m[W 2023-01-24 12:48:32,828]\u001b[0m Trial 7 failed with parameters: {'max_depth': 3, 'learning_rate': 0.9908770920367624, 'n_estimators': 85, 'min_child_weight': 6, 'gamma': 0.9552765355983357, 'subsample': 0.5574835136006588, 'colsample_bytree': 0.28811667874191216, 'reg_alpha': 0.6330003487191155, 'reg_lambda': 0.6492817359125344} because of the following error: The value None could not be cast to float..\u001b[0m\n",
      "\u001b[33m[W 2023-01-24 12:48:32,830]\u001b[0m Trial 7 failed with value None.\u001b[0m\n"
     ]
    },
    {
     "name": "stdout",
     "output_type": "stream",
     "text": [
      "0.7483333333333333 0.19333333333333333\n",
      "0.715 0.19333333333333333\n"
     ]
    },
    {
     "name": "stderr",
     "output_type": "stream",
     "text": [
      "\u001b[33m[W 2023-01-24 12:48:32,975]\u001b[0m Trial 8 failed with parameters: {'max_depth': 14, 'learning_rate': 0.2372666997485288, 'n_estimators': 64, 'min_child_weight': 8, 'gamma': 0.2821342487504057, 'subsample': 0.721452136866817, 'colsample_bytree': 0.09374051718702417, 'reg_alpha': 0.25344055298615725, 'reg_lambda': 0.9898241987847048} because of the following error: The value None could not be cast to float..\u001b[0m\n",
      "\u001b[33m[W 2023-01-24 12:48:32,977]\u001b[0m Trial 8 failed with value None.\u001b[0m\n"
     ]
    },
    {
     "name": "stdout",
     "output_type": "stream",
     "text": [
      "0.7833333333333333 0.19333333333333333\n"
     ]
    },
    {
     "name": "stderr",
     "output_type": "stream",
     "text": [
      "\u001b[33m[W 2023-01-24 12:48:33,518]\u001b[0m Trial 9 failed with parameters: {'max_depth': 24, 'learning_rate': 0.10838960214475055, 'n_estimators': 52, 'min_child_weight': 1, 'gamma': 0.3618006423028439, 'subsample': 0.551648886720123, 'colsample_bytree': 0.5972404475157359, 'reg_alpha': 0.7049446404508569, 'reg_lambda': 0.1586912697068367} because of the following error: The value None could not be cast to float..\u001b[0m\n",
      "\u001b[33m[W 2023-01-24 12:48:33,519]\u001b[0m Trial 9 failed with value None.\u001b[0m\n",
      "\u001b[33m[W 2023-01-24 12:48:33,630]\u001b[0m Trial 10 failed with parameters: {'max_depth': 20, 'learning_rate': 0.31773104459732393, 'n_estimators': 71, 'min_child_weight': 4, 'gamma': 0.6095942111318992, 'subsample': 0.29987183527412153, 'colsample_bytree': 0.0259074836744191, 'reg_alpha': 0.17555710863767, 'reg_lambda': 0.47584662842870673} because of the following error: The value None could not be cast to float..\u001b[0m\n",
      "\u001b[33m[W 2023-01-24 12:48:33,631]\u001b[0m Trial 10 failed with value None.\u001b[0m\n"
     ]
    },
    {
     "name": "stdout",
     "output_type": "stream",
     "text": [
      "0.795 0.19333333333333333\n",
      "0.7766666666666666 0.19333333333333333\n"
     ]
    },
    {
     "name": "stderr",
     "output_type": "stream",
     "text": [
      "\u001b[33m[W 2023-01-24 12:48:34,471]\u001b[0m Trial 11 failed with parameters: {'max_depth': 22, 'learning_rate': 0.16856407566867526, 'n_estimators': 94, 'min_child_weight': 2, 'gamma': 0.44731309290191346, 'subsample': 0.47728763178747, 'colsample_bytree': 0.719883890506653, 'reg_alpha': 0.6247209946066297, 'reg_lambda': 0.899595437412179} because of the following error: The value None could not be cast to float..\u001b[0m\n",
      "\u001b[33m[W 2023-01-24 12:48:34,473]\u001b[0m Trial 11 failed with value None.\u001b[0m\n"
     ]
    },
    {
     "name": "stdout",
     "output_type": "stream",
     "text": [
      "0.7816666666666666 0.19333333333333333\n"
     ]
    },
    {
     "name": "stderr",
     "output_type": "stream",
     "text": [
      "\u001b[33m[W 2023-01-24 12:48:35,091]\u001b[0m Trial 12 failed with parameters: {'max_depth': 8, 'learning_rate': 0.7582087857436814, 'n_estimators': 95, 'min_child_weight': 10, 'gamma': 0.74236925745672, 'subsample': 0.5256936266569417, 'colsample_bytree': 0.9822614885496345, 'reg_alpha': 0.03418296966562209, 'reg_lambda': 0.9509946985895912} because of the following error: The value None could not be cast to float..\u001b[0m\n",
      "\u001b[33m[W 2023-01-24 12:48:35,095]\u001b[0m Trial 12 failed with value None.\u001b[0m\n"
     ]
    },
    {
     "name": "stdout",
     "output_type": "stream",
     "text": [
      "0.72 0.19333333333333333\n"
     ]
    },
    {
     "name": "stderr",
     "output_type": "stream",
     "text": [
      "\u001b[33m[W 2023-01-24 12:48:35,604]\u001b[0m Trial 13 failed with parameters: {'max_depth': 25, 'learning_rate': 0.45189436568281693, 'n_estimators': 84, 'min_child_weight': 6, 'gamma': 0.9126703588762598, 'subsample': 0.42432037091386254, 'colsample_bytree': 0.7952774386145789, 'reg_alpha': 0.877715097104066, 'reg_lambda': 0.8661397688296744} because of the following error: The value None could not be cast to float..\u001b[0m\n",
      "\u001b[33m[W 2023-01-24 12:48:35,606]\u001b[0m Trial 13 failed with value None.\u001b[0m\n",
      "\u001b[33m[W 2023-01-24 12:48:35,798]\u001b[0m Trial 14 failed with parameters: {'max_depth': 24, 'learning_rate': 0.18225917883363038, 'n_estimators': 82, 'min_child_weight': 4, 'gamma': 0.7441558282062599, 'subsample': 0.2715657991319555, 'colsample_bytree': 0.1333434868497717, 'reg_alpha': 0.18017815903346138, 'reg_lambda': 0.4127642913243487} because of the following error: The value None could not be cast to float..\u001b[0m\n",
      "\u001b[33m[W 2023-01-24 12:48:35,801]\u001b[0m Trial 14 failed with value None.\u001b[0m\n"
     ]
    },
    {
     "name": "stdout",
     "output_type": "stream",
     "text": [
      "0.6983333333333334 0.19333333333333333\n",
      "0.78 0.19333333333333333\n"
     ]
    },
    {
     "name": "stderr",
     "output_type": "stream",
     "text": [
      "\u001b[33m[W 2023-01-24 12:48:36,070]\u001b[0m Trial 15 failed with parameters: {'max_depth': 17, 'learning_rate': 0.9150306266924698, 'n_estimators': 55, 'min_child_weight': 2, 'gamma': 0.41031009589872147, 'subsample': 0.3342612620235828, 'colsample_bytree': 0.48638965680191737, 'reg_alpha': 0.33005283308717753, 'reg_lambda': 0.7235776633571082} because of the following error: The value None could not be cast to float..\u001b[0m\n",
      "\u001b[33m[W 2023-01-24 12:48:36,071]\u001b[0m Trial 15 failed with value None.\u001b[0m\n",
      "\u001b[33m[W 2023-01-24 12:48:36,234]\u001b[0m Trial 16 failed with parameters: {'max_depth': 19, 'learning_rate': 0.11926146030942439, 'n_estimators': 85, 'min_child_weight': 7, 'gamma': 0.8779692468283848, 'subsample': 0.1755613384678101, 'colsample_bytree': 0.15116916973191646, 'reg_alpha': 0.5876167315592341, 'reg_lambda': 0.8397552773424877} because of the following error: The value None could not be cast to float..\u001b[0m\n",
      "\u001b[33m[W 2023-01-24 12:48:36,236]\u001b[0m Trial 16 failed with value None.\u001b[0m\n"
     ]
    },
    {
     "name": "stdout",
     "output_type": "stream",
     "text": [
      "0.6766666666666666 0.19333333333333333\n",
      "0.7966666666666666 0.19333333333333333\n"
     ]
    },
    {
     "name": "stderr",
     "output_type": "stream",
     "text": [
      "\u001b[33m[W 2023-01-24 12:48:36,429]\u001b[0m Trial 17 failed with parameters: {'max_depth': 17, 'learning_rate': 0.5507186140706837, 'n_estimators': 73, 'min_child_weight': 10, 'gamma': 0.723628770144555, 'subsample': 0.15249915915887538, 'colsample_bytree': 0.8676920731976182, 'reg_alpha': 0.6611746996786517, 'reg_lambda': 0.9984667786609914} because of the following error: The value None could not be cast to float..\u001b[0m\n",
      "\u001b[33m[W 2023-01-24 12:48:36,431]\u001b[0m Trial 17 failed with value None.\u001b[0m\n",
      "\u001b[33m[W 2023-01-24 12:48:36,604]\u001b[0m Trial 18 failed with parameters: {'max_depth': 6, 'learning_rate': 0.9437588412691436, 'n_estimators': 62, 'min_child_weight': 4, 'gamma': 0.38802325957961786, 'subsample': 0.28542374515651614, 'colsample_bytree': 0.25265928605244553, 'reg_alpha': 0.8065190025129846, 'reg_lambda': 0.6247485311164291} because of the following error: The value None could not be cast to float..\u001b[0m\n",
      "\u001b[33m[W 2023-01-24 12:48:36,606]\u001b[0m Trial 18 failed with value None.\u001b[0m\n"
     ]
    },
    {
     "name": "stdout",
     "output_type": "stream",
     "text": [
      "0.65 0.19333333333333333\n",
      "0.6683333333333333 0.19333333333333333\n"
     ]
    },
    {
     "name": "stderr",
     "output_type": "stream",
     "text": [
      "\u001b[33m[W 2023-01-24 12:48:37,116]\u001b[0m Trial 19 failed with parameters: {'max_depth': 12, 'learning_rate': 0.6963387454367211, 'n_estimators': 80, 'min_child_weight': 1, 'gamma': 0.5375586934672941, 'subsample': 0.9451270319146833, 'colsample_bytree': 0.3969734946070898, 'reg_alpha': 0.03574100366540012, 'reg_lambda': 0.025427481534813945} because of the following error: The value None could not be cast to float..\u001b[0m\n",
      "\u001b[33m[W 2023-01-24 12:48:37,118]\u001b[0m Trial 19 failed with value None.\u001b[0m\n",
      "\u001b[33m[W 2023-01-24 12:48:37,240]\u001b[0m Trial 20 failed with parameters: {'max_depth': 5, 'learning_rate': 0.48757929316352305, 'n_estimators': 91, 'min_child_weight': 9, 'gamma': 0.2312563663881801, 'subsample': 0.04208037682960018, 'colsample_bytree': 0.4620318835988036, 'reg_alpha': 0.5649627614816629, 'reg_lambda': 0.20365963563417577} because of the following error: The value None could not be cast to float..\u001b[0m\n",
      "\u001b[33m[W 2023-01-24 12:48:37,241]\u001b[0m Trial 20 failed with value None.\u001b[0m\n"
     ]
    },
    {
     "name": "stdout",
     "output_type": "stream",
     "text": [
      "0.725 0.19333333333333333\n",
      "0.77 0.19333333333333333\n"
     ]
    },
    {
     "name": "stderr",
     "output_type": "stream",
     "text": [
      "\u001b[33m[W 2023-01-24 12:48:37,924]\u001b[0m Trial 21 failed with parameters: {'max_depth': 22, 'learning_rate': 0.9316767281552989, 'n_estimators': 97, 'min_child_weight': 7, 'gamma': 0.17236374327860063, 'subsample': 0.5945049656996004, 'colsample_bytree': 0.9970537444977017, 'reg_alpha': 0.11702971450884088, 'reg_lambda': 0.5714168164108823} because of the following error: The value None could not be cast to float..\u001b[0m\n",
      "\u001b[33m[W 2023-01-24 12:48:37,926]\u001b[0m Trial 21 failed with value None.\u001b[0m\n"
     ]
    },
    {
     "name": "stdout",
     "output_type": "stream",
     "text": [
      "0.6133333333333333 0.19333333333333333\n"
     ]
    },
    {
     "name": "stderr",
     "output_type": "stream",
     "text": [
      "\u001b[33m[W 2023-01-24 12:48:38,693]\u001b[0m Trial 22 failed with parameters: {'max_depth': 11, 'learning_rate': 0.09767628850068065, 'n_estimators': 86, 'min_child_weight': 4, 'gamma': 0.8796774564356665, 'subsample': 0.7403428160822638, 'colsample_bytree': 0.6466342888999572, 'reg_alpha': 0.44080519135666085, 'reg_lambda': 0.1977104936671622} because of the following error: The value None could not be cast to float..\u001b[0m\n",
      "\u001b[33m[W 2023-01-24 12:48:38,694]\u001b[0m Trial 22 failed with value None.\u001b[0m\n"
     ]
    },
    {
     "name": "stdout",
     "output_type": "stream",
     "text": [
      "0.8033333333333333 0.19333333333333333\n"
     ]
    },
    {
     "name": "stderr",
     "output_type": "stream",
     "text": [
      "\u001b[33m[W 2023-01-24 12:48:38,971]\u001b[0m Trial 23 failed with parameters: {'max_depth': 6, 'learning_rate': 0.35713926716959477, 'n_estimators': 78, 'min_child_weight': 5, 'gamma': 0.7789363447127795, 'subsample': 0.9367982352042605, 'colsample_bytree': 0.3368993333649828, 'reg_alpha': 0.5793321916653709, 'reg_lambda': 0.7002746202652665} because of the following error: The value None could not be cast to float..\u001b[0m\n",
      "\u001b[33m[W 2023-01-24 12:48:38,973]\u001b[0m Trial 23 failed with value None.\u001b[0m\n",
      "\u001b[33m[W 2023-01-24 12:48:39,082]\u001b[0m Trial 24 failed with parameters: {'max_depth': 4, 'learning_rate': 0.8751226722289834, 'n_estimators': 71, 'min_child_weight': 7, 'gamma': 0.2957694928807106, 'subsample': 0.08629903047722873, 'colsample_bytree': 0.34778433317346624, 'reg_alpha': 0.6035345316870875, 'reg_lambda': 0.2841076224739771} because of the following error: The value None could not be cast to float..\u001b[0m\n",
      "\u001b[33m[W 2023-01-24 12:48:39,083]\u001b[0m Trial 24 failed with value None.\u001b[0m\n"
     ]
    },
    {
     "name": "stdout",
     "output_type": "stream",
     "text": [
      "0.765 0.19333333333333333\n",
      "0.7533333333333333 0.19333333333333333\n"
     ]
    },
    {
     "name": "stderr",
     "output_type": "stream",
     "text": [
      "\u001b[33m[W 2023-01-24 12:48:39,236]\u001b[0m Trial 25 failed with parameters: {'max_depth': 1, 'learning_rate': 0.6218495206013999, 'n_estimators': 82, 'min_child_weight': 5, 'gamma': 0.4250798291554723, 'subsample': 0.23235039650220532, 'colsample_bytree': 0.9102621611755065, 'reg_alpha': 0.06322714384352773, 'reg_lambda': 0.7026034858291119} because of the following error: The value None could not be cast to float..\u001b[0m\n",
      "\u001b[33m[W 2023-01-24 12:48:39,238]\u001b[0m Trial 25 failed with value None.\u001b[0m\n",
      "\u001b[33m[W 2023-01-24 12:48:39,377]\u001b[0m Trial 26 failed with parameters: {'max_depth': 3, 'learning_rate': 0.8678921139392194, 'n_estimators': 93, 'min_child_weight': 7, 'gamma': 0.6631851847246751, 'subsample': 0.12613950536263172, 'colsample_bytree': 0.21144517892720835, 'reg_alpha': 0.858138680031837, 'reg_lambda': 0.9466896792345262} because of the following error: The value None could not be cast to float..\u001b[0m\n",
      "\u001b[33m[W 2023-01-24 12:48:39,378]\u001b[0m Trial 26 failed with value None.\u001b[0m\n"
     ]
    },
    {
     "name": "stdout",
     "output_type": "stream",
     "text": [
      "0.7733333333333333 0.19333333333333333\n",
      "0.6133333333333333 0.19333333333333333\n"
     ]
    },
    {
     "name": "stderr",
     "output_type": "stream",
     "text": [
      "\u001b[33m[W 2023-01-24 12:48:40,093]\u001b[0m Trial 27 failed with parameters: {'max_depth': 19, 'learning_rate': 0.701867570809767, 'n_estimators': 93, 'min_child_weight': 5, 'gamma': 0.031614356216850645, 'subsample': 0.8730669217134482, 'colsample_bytree': 0.8030267626979123, 'reg_alpha': 0.7190948149516903, 'reg_lambda': 0.5665514962419563} because of the following error: The value None could not be cast to float..\u001b[0m\n",
      "\u001b[33m[W 2023-01-24 12:48:40,095]\u001b[0m Trial 27 failed with value None.\u001b[0m\n",
      "\u001b[33m[W 2023-01-24 12:48:40,277]\u001b[0m Trial 28 failed with parameters: {'max_depth': 19, 'learning_rate': 0.1306729126436614, 'n_estimators': 50, 'min_child_weight': 8, 'gamma': 0.9074372652644324, 'subsample': 0.35210031957669097, 'colsample_bytree': 0.36238346356641477, 'reg_alpha': 0.6607038103099008, 'reg_lambda': 0.4385371553646286} because of the following error: The value None could not be cast to float..\u001b[0m\n",
      "\u001b[33m[W 2023-01-24 12:48:40,278]\u001b[0m Trial 28 failed with value None.\u001b[0m\n"
     ]
    },
    {
     "name": "stdout",
     "output_type": "stream",
     "text": [
      "0.765 0.19333333333333333\n",
      "0.8083333333333333 0.19333333333333333\n"
     ]
    },
    {
     "name": "stderr",
     "output_type": "stream",
     "text": [
      "\u001b[33m[W 2023-01-24 12:48:41,092]\u001b[0m Trial 29 failed with parameters: {'max_depth': 9, 'learning_rate': 0.35516144163583907, 'n_estimators': 98, 'min_child_weight': 8, 'gamma': 0.8687969337327361, 'subsample': 0.8113851109025486, 'colsample_bytree': 0.9031738548014968, 'reg_alpha': 0.8342427141869195, 'reg_lambda': 0.35792735303839895} because of the following error: The value None could not be cast to float..\u001b[0m\n",
      "\u001b[33m[W 2023-01-24 12:48:41,095]\u001b[0m Trial 29 failed with value None.\u001b[0m\n"
     ]
    },
    {
     "name": "stdout",
     "output_type": "stream",
     "text": [
      "0.7983333333333333 0.19333333333333333\n"
     ]
    },
    {
     "name": "stderr",
     "output_type": "stream",
     "text": [
      "\u001b[33m[W 2023-01-24 12:48:41,382]\u001b[0m Trial 30 failed with parameters: {'max_depth': 9, 'learning_rate': 0.8520142959615319, 'n_estimators': 97, 'min_child_weight': 2, 'gamma': 0.9743815109003306, 'subsample': 0.1177615987434756, 'colsample_bytree': 0.7872103988777902, 'reg_alpha': 0.6886054687268255, 'reg_lambda': 0.7787746412242382} because of the following error: The value None could not be cast to float..\u001b[0m\n",
      "\u001b[33m[W 2023-01-24 12:48:41,383]\u001b[0m Trial 30 failed with value None.\u001b[0m\n",
      "\u001b[33m[W 2023-01-24 12:48:41,529]\u001b[0m Trial 31 failed with parameters: {'max_depth': 9, 'learning_rate': 0.579511688771331, 'n_estimators': 56, 'min_child_weight': 6, 'gamma': 0.18703980358412212, 'subsample': 0.20111637248982472, 'colsample_bytree': 0.34900885374558627, 'reg_alpha': 0.5505167008502029, 'reg_lambda': 0.4841135978678975} because of the following error: The value None could not be cast to float..\u001b[0m\n",
      "\u001b[33m[W 2023-01-24 12:48:41,531]\u001b[0m Trial 31 failed with value None.\u001b[0m\n"
     ]
    },
    {
     "name": "stdout",
     "output_type": "stream",
     "text": [
      "0.6316666666666667 0.19333333333333333\n",
      "0.735 0.19333333333333333\n"
     ]
    },
    {
     "name": "stderr",
     "output_type": "stream",
     "text": [
      "\u001b[33m[W 2023-01-24 12:48:41,803]\u001b[0m Trial 32 failed with parameters: {'max_depth': 8, 'learning_rate': 0.7689666444876433, 'n_estimators': 55, 'min_child_weight': 1, 'gamma': 0.5283581553055182, 'subsample': 0.16126518685849808, 'colsample_bytree': 0.8421127758251256, 'reg_alpha': 0.594671447734753, 'reg_lambda': 0.8147264665849872} because of the following error: The value None could not be cast to float..\u001b[0m\n",
      "\u001b[33m[W 2023-01-24 12:48:41,805]\u001b[0m Trial 32 failed with value None.\u001b[0m\n"
     ]
    },
    {
     "name": "stdout",
     "output_type": "stream",
     "text": [
      "0.6333333333333333 0.19333333333333333\n"
     ]
    },
    {
     "name": "stderr",
     "output_type": "stream",
     "text": [
      "\u001b[33m[W 2023-01-24 12:48:42,213]\u001b[0m Trial 33 failed with parameters: {'max_depth': 11, 'learning_rate': 0.6976935668185997, 'n_estimators': 78, 'min_child_weight': 2, 'gamma': 0.7281316354380246, 'subsample': 0.24044160675560397, 'colsample_bytree': 0.8098721448198185, 'reg_alpha': 0.7978785728981485, 'reg_lambda': 0.48053111687982214} because of the following error: The value None could not be cast to float..\u001b[0m\n",
      "\u001b[33m[W 2023-01-24 12:48:42,216]\u001b[0m Trial 33 failed with value None.\u001b[0m\n"
     ]
    },
    {
     "name": "stdout",
     "output_type": "stream",
     "text": [
      "0.6383333333333333 0.19333333333333333\n"
     ]
    },
    {
     "name": "stderr",
     "output_type": "stream",
     "text": [
      "\u001b[33m[W 2023-01-24 12:48:42,691]\u001b[0m Trial 34 failed with parameters: {'max_depth': 6, 'learning_rate': 0.8596606016985072, 'n_estimators': 88, 'min_child_weight': 10, 'gamma': 0.7840930373643283, 'subsample': 0.5777536318407547, 'colsample_bytree': 0.7177539373885731, 'reg_alpha': 0.19931872895553315, 'reg_lambda': 0.3045352433535823} because of the following error: The value None could not be cast to float..\u001b[0m\n",
      "\u001b[33m[W 2023-01-24 12:48:42,693]\u001b[0m Trial 34 failed with value None.\u001b[0m\n"
     ]
    },
    {
     "name": "stdout",
     "output_type": "stream",
     "text": [
      "0.695 0.19333333333333333\n"
     ]
    },
    {
     "name": "stderr",
     "output_type": "stream",
     "text": [
      "\u001b[33m[W 2023-01-24 12:48:42,927]\u001b[0m Trial 35 failed with parameters: {'max_depth': 3, 'learning_rate': 0.6907982957077289, 'n_estimators': 87, 'min_child_weight': 2, 'gamma': 0.2060026090638812, 'subsample': 0.36954950335551207, 'colsample_bytree': 0.4734806275753843, 'reg_alpha': 0.2608865386378077, 'reg_lambda': 0.21216273946120828} because of the following error: The value None could not be cast to float..\u001b[0m\n",
      "\u001b[33m[W 2023-01-24 12:48:42,929]\u001b[0m Trial 35 failed with value None.\u001b[0m\n"
     ]
    },
    {
     "name": "stdout",
     "output_type": "stream",
     "text": [
      "0.6516666666666666 0.19333333333333333\n"
     ]
    },
    {
     "name": "stderr",
     "output_type": "stream",
     "text": [
      "\u001b[33m[W 2023-01-24 12:48:43,533]\u001b[0m Trial 36 failed with parameters: {'max_depth': 25, 'learning_rate': 0.4329222526443167, 'n_estimators': 88, 'min_child_weight': 3, 'gamma': 0.6732640981633419, 'subsample': 0.3535992660652786, 'colsample_bytree': 0.8430051206604072, 'reg_alpha': 0.17711957158027664, 'reg_lambda': 0.2314366056135709} because of the following error: The value None could not be cast to float..\u001b[0m\n",
      "\u001b[33m[W 2023-01-24 12:48:43,535]\u001b[0m Trial 36 failed with value None.\u001b[0m\n",
      "\u001b[33m[W 2023-01-24 12:48:43,614]\u001b[0m Trial 37 failed with parameters: {'max_depth': 2, 'learning_rate': 0.3639631946303462, 'n_estimators': 54, 'min_child_weight': 4, 'gamma': 0.9338665335939917, 'subsample': 0.022401101484433503, 'colsample_bytree': 0.5649242470569614, 'reg_alpha': 0.7770788602788306, 'reg_lambda': 0.42603453965037386} because of the following error: The value None could not be cast to float..\u001b[0m\n",
      "\u001b[33m[W 2023-01-24 12:48:43,616]\u001b[0m Trial 37 failed with value None.\u001b[0m\n"
     ]
    },
    {
     "name": "stdout",
     "output_type": "stream",
     "text": [
      "0.6316666666666667 0.19333333333333333\n",
      "0.7983333333333333 0.19333333333333333\n"
     ]
    },
    {
     "name": "stderr",
     "output_type": "stream",
     "text": [
      "\u001b[33m[W 2023-01-24 12:48:43,820]\u001b[0m Trial 38 failed with parameters: {'max_depth': 4, 'learning_rate': 0.2393570807383997, 'n_estimators': 83, 'min_child_weight': 3, 'gamma': 0.766787831170611, 'subsample': 0.45001172360060204, 'colsample_bytree': 0.18556762270567465, 'reg_alpha': 0.4565453443043985, 'reg_lambda': 0.5403047292561757} because of the following error: The value None could not be cast to float..\u001b[0m\n",
      "\u001b[33m[W 2023-01-24 12:48:43,822]\u001b[0m Trial 38 failed with value None.\u001b[0m\n"
     ]
    },
    {
     "name": "stdout",
     "output_type": "stream",
     "text": [
      "0.77 0.19333333333333333\n"
     ]
    },
    {
     "name": "stderr",
     "output_type": "stream",
     "text": [
      "\u001b[33m[W 2023-01-24 12:48:44,197]\u001b[0m Trial 39 failed with parameters: {'max_depth': 7, 'learning_rate': 0.3679018997951724, 'n_estimators': 70, 'min_child_weight': 4, 'gamma': 0.15196958333830302, 'subsample': 0.6063657874959856, 'colsample_bytree': 0.498233572992818, 'reg_alpha': 0.16238353365498, 'reg_lambda': 0.9415511778307137} because of the following error: The value None could not be cast to float..\u001b[0m\n",
      "\u001b[33m[W 2023-01-24 12:48:44,209]\u001b[0m Trial 39 failed with value None.\u001b[0m\n"
     ]
    },
    {
     "name": "stdout",
     "output_type": "stream",
     "text": [
      "0.7666666666666667 0.19333333333333333\n"
     ]
    },
    {
     "name": "stderr",
     "output_type": "stream",
     "text": [
      "\u001b[33m[W 2023-01-24 12:48:44,748]\u001b[0m Trial 40 failed with parameters: {'max_depth': 13, 'learning_rate': 0.3061403279573964, 'n_estimators': 54, 'min_child_weight': 7, 'gamma': 0.2612713076324472, 'subsample': 0.3840562034913177, 'colsample_bytree': 0.7886047733777765, 'reg_alpha': 0.023104520894381884, 'reg_lambda': 0.853827430620861} because of the following error: The value None could not be cast to float..\u001b[0m\n",
      "\u001b[33m[W 2023-01-24 12:48:44,764]\u001b[0m Trial 40 failed with value None.\u001b[0m\n"
     ]
    },
    {
     "name": "stdout",
     "output_type": "stream",
     "text": [
      "0.75 0.19333333333333333\n"
     ]
    },
    {
     "name": "stderr",
     "output_type": "stream",
     "text": [
      "\u001b[33m[W 2023-01-24 12:48:45,440]\u001b[0m Trial 41 failed with parameters: {'max_depth': 24, 'learning_rate': 0.5030039541227773, 'n_estimators': 76, 'min_child_weight': 5, 'gamma': 0.6069017039437741, 'subsample': 0.45761756162270784, 'colsample_bytree': 0.4834267376983008, 'reg_alpha': 0.8125729878480972, 'reg_lambda': 0.4462897340444868} because of the following error: The value None could not be cast to float..\u001b[0m\n",
      "\u001b[33m[W 2023-01-24 12:48:45,447]\u001b[0m Trial 41 failed with value None.\u001b[0m\n"
     ]
    },
    {
     "name": "stdout",
     "output_type": "stream",
     "text": [
      "0.7533333333333333 0.19333333333333333\n"
     ]
    },
    {
     "name": "stderr",
     "output_type": "stream",
     "text": [
      "\u001b[33m[W 2023-01-24 12:48:46,192]\u001b[0m Trial 42 failed with parameters: {'max_depth': 21, 'learning_rate': 0.9770453670645505, 'n_estimators': 100, 'min_child_weight': 2, 'gamma': 0.930757831658972, 'subsample': 0.7588237230081198, 'colsample_bytree': 0.4700074113429408, 'reg_alpha': 0.40656665884953325, 'reg_lambda': 0.6829848242444255} because of the following error: The value None could not be cast to float..\u001b[0m\n",
      "\u001b[33m[W 2023-01-24 12:48:46,193]\u001b[0m Trial 42 failed with value None.\u001b[0m\n",
      "\u001b[33m[W 2023-01-24 12:48:46,274]\u001b[0m Trial 43 failed with parameters: {'max_depth': 20, 'learning_rate': 0.6084947648828336, 'n_estimators': 50, 'min_child_weight': 10, 'gamma': 0.09887232407628788, 'subsample': 0.07603649678320679, 'colsample_bytree': 0.3449613873375397, 'reg_alpha': 0.6664186747673195, 'reg_lambda': 0.9374348278983878} because of the following error: The value None could not be cast to float..\u001b[0m\n",
      "\u001b[33m[W 2023-01-24 12:48:46,278]\u001b[0m Trial 43 failed with value None.\u001b[0m\n"
     ]
    },
    {
     "name": "stdout",
     "output_type": "stream",
     "text": [
      "0.71 0.19333333333333333\n",
      "0.7783333333333333 0.19333333333333333\n"
     ]
    },
    {
     "name": "stderr",
     "output_type": "stream",
     "text": [
      "\u001b[33m[W 2023-01-24 12:48:46,540]\u001b[0m Trial 44 failed with parameters: {'max_depth': 24, 'learning_rate': 0.03594414550426597, 'n_estimators': 69, 'min_child_weight': 3, 'gamma': 0.6493206952060063, 'subsample': 0.18293659148721012, 'colsample_bytree': 0.49868039224576205, 'reg_alpha': 0.1055588780642834, 'reg_lambda': 0.9956270941974498} because of the following error: The value None could not be cast to float..\u001b[0m\n",
      "\u001b[33m[W 2023-01-24 12:48:46,541]\u001b[0m Trial 44 failed with value None.\u001b[0m\n",
      "\u001b[33m[W 2023-01-24 12:48:46,621]\u001b[0m Trial 45 failed with parameters: {'max_depth': 18, 'learning_rate': 0.7035125083222168, 'n_estimators': 61, 'min_child_weight': 7, 'gamma': 0.38184661086361316, 'subsample': 0.01853294416992689, 'colsample_bytree': 0.30901696588473904, 'reg_alpha': 0.7993678712604403, 'reg_lambda': 0.27729302434267045} because of the following error: The value None could not be cast to float..\u001b[0m\n",
      "\u001b[33m[W 2023-01-24 12:48:46,622]\u001b[0m Trial 45 failed with value None.\u001b[0m\n"
     ]
    },
    {
     "name": "stdout",
     "output_type": "stream",
     "text": [
      "0.81 0.19333333333333333\n",
      "0.6516666666666666 0.19333333333333333\n"
     ]
    },
    {
     "name": "stderr",
     "output_type": "stream",
     "text": [
      "\u001b[33m[W 2023-01-24 12:48:46,969]\u001b[0m Trial 46 failed with parameters: {'max_depth': 7, 'learning_rate': 0.4202336405314782, 'n_estimators': 53, 'min_child_weight': 5, 'gamma': 0.07636694511099744, 'subsample': 0.5151316732609657, 'colsample_bytree': 0.6975016732697256, 'reg_alpha': 0.06855079736657747, 'reg_lambda': 0.11967896223321668} because of the following error: The value None could not be cast to float..\u001b[0m\n",
      "\u001b[33m[W 2023-01-24 12:48:46,970]\u001b[0m Trial 46 failed with value None.\u001b[0m\n"
     ]
    },
    {
     "name": "stdout",
     "output_type": "stream",
     "text": [
      "0.7833333333333333 0.19333333333333333\n"
     ]
    },
    {
     "name": "stderr",
     "output_type": "stream",
     "text": [
      "\u001b[33m[W 2023-01-24 12:48:47,362]\u001b[0m Trial 47 failed with parameters: {'max_depth': 16, 'learning_rate': 0.99209672435054, 'n_estimators': 84, 'min_child_weight': 1, 'gamma': 0.4014028016433378, 'subsample': 0.991177596679595, 'colsample_bytree': 0.25522597286785337, 'reg_alpha': 0.17413514713255013, 'reg_lambda': 0.1238705727481929} because of the following error: The value None could not be cast to float..\u001b[0m\n",
      "\u001b[33m[W 2023-01-24 12:48:47,364]\u001b[0m Trial 47 failed with value None.\u001b[0m\n"
     ]
    },
    {
     "name": "stdout",
     "output_type": "stream",
     "text": [
      "0.7583333333333333 0.19333333333333333\n"
     ]
    },
    {
     "name": "stderr",
     "output_type": "stream",
     "text": [
      "\u001b[33m[W 2023-01-24 12:48:47,615]\u001b[0m Trial 48 failed with parameters: {'max_depth': 15, 'learning_rate': 0.45172545363796696, 'n_estimators': 88, 'min_child_weight': 1, 'gamma': 0.6280577493816447, 'subsample': 0.08537696409600533, 'colsample_bytree': 0.44712230958922394, 'reg_alpha': 0.32184416235699753, 'reg_lambda': 0.9479886179529411} because of the following error: The value None could not be cast to float..\u001b[0m\n",
      "\u001b[33m[W 2023-01-24 12:48:47,616]\u001b[0m Trial 48 failed with value None.\u001b[0m\n"
     ]
    },
    {
     "name": "stdout",
     "output_type": "stream",
     "text": [
      "0.6266666666666667 0.19333333333333333\n"
     ]
    },
    {
     "name": "stderr",
     "output_type": "stream",
     "text": [
      "\u001b[33m[W 2023-01-24 12:48:47,935]\u001b[0m Trial 49 failed with parameters: {'max_depth': 19, 'learning_rate': 0.36427563269203433, 'n_estimators': 64, 'min_child_weight': 3, 'gamma': 0.524333088271238, 'subsample': 0.5133260799502839, 'colsample_bytree': 0.29467404767123984, 'reg_alpha': 0.09955208105838043, 'reg_lambda': 0.4562074820196369} because of the following error: The value None could not be cast to float..\u001b[0m\n",
      "\u001b[33m[W 2023-01-24 12:48:47,937]\u001b[0m Trial 49 failed with value None.\u001b[0m\n",
      "\u001b[33m[W 2023-01-24 12:48:48,034]\u001b[0m Trial 50 failed with parameters: {'max_depth': 1, 'learning_rate': 0.6052596553897484, 'n_estimators': 57, 'min_child_weight': 10, 'gamma': 0.6245206483707676, 'subsample': 0.09563081644470567, 'colsample_bytree': 0.6784403093091566, 'reg_alpha': 0.3182210969661237, 'reg_lambda': 0.5957128596516826} because of the following error: The value None could not be cast to float..\u001b[0m\n",
      "\u001b[33m[W 2023-01-24 12:48:48,035]\u001b[0m Trial 50 failed with value None.\u001b[0m\n"
     ]
    },
    {
     "name": "stdout",
     "output_type": "stream",
     "text": [
      "0.7416666666666667 0.19333333333333333\n",
      "0.7666666666666667 0.19333333333333333\n"
     ]
    },
    {
     "name": "stderr",
     "output_type": "stream",
     "text": [
      "\u001b[33m[W 2023-01-24 12:48:48,159]\u001b[0m Trial 51 failed with parameters: {'max_depth': 18, 'learning_rate': 0.18502238031612042, 'n_estimators': 63, 'min_child_weight': 8, 'gamma': 0.9490098787139696, 'subsample': 0.31217944107319023, 'colsample_bytree': 0.0845074269511053, 'reg_alpha': 0.7193670875631704, 'reg_lambda': 0.1501279025899059} because of the following error: The value None could not be cast to float..\u001b[0m\n",
      "\u001b[33m[W 2023-01-24 12:48:48,161]\u001b[0m Trial 51 failed with value None.\u001b[0m\n"
     ]
    },
    {
     "name": "stdout",
     "output_type": "stream",
     "text": [
      "0.795 0.19333333333333333\n"
     ]
    },
    {
     "name": "stderr",
     "output_type": "stream",
     "text": [
      "\u001b[33m[W 2023-01-24 12:48:48,849]\u001b[0m Trial 52 failed with parameters: {'max_depth': 15, 'learning_rate': 0.03864392219332935, 'n_estimators': 89, 'min_child_weight': 7, 'gamma': 0.5707430426187611, 'subsample': 0.4097832543383324, 'colsample_bytree': 0.9740787682080212, 'reg_alpha': 0.23739081175110285, 'reg_lambda': 0.5033864908294866} because of the following error: The value None could not be cast to float..\u001b[0m\n",
      "\u001b[33m[W 2023-01-24 12:48:48,850]\u001b[0m Trial 52 failed with value None.\u001b[0m\n"
     ]
    },
    {
     "name": "stdout",
     "output_type": "stream",
     "text": [
      "0.82 0.19333333333333333\n"
     ]
    },
    {
     "name": "stderr",
     "output_type": "stream",
     "text": [
      "\u001b[33m[W 2023-01-24 12:48:49,140]\u001b[0m Trial 53 failed with parameters: {'max_depth': 10, 'learning_rate': 0.708238057847784, 'n_estimators': 58, 'min_child_weight': 6, 'gamma': 0.29521296748167714, 'subsample': 0.653240588665775, 'colsample_bytree': 0.36476198442051316, 'reg_alpha': 0.1448757045983766, 'reg_lambda': 0.5890163104385278} because of the following error: The value None could not be cast to float..\u001b[0m\n",
      "\u001b[33m[W 2023-01-24 12:48:49,147]\u001b[0m Trial 53 failed with value None.\u001b[0m\n"
     ]
    },
    {
     "name": "stdout",
     "output_type": "stream",
     "text": [
      "0.7433333333333333 0.19333333333333333\n"
     ]
    },
    {
     "name": "stderr",
     "output_type": "stream",
     "text": [
      "\u001b[33m[W 2023-01-24 12:48:49,378]\u001b[0m Trial 54 failed with parameters: {'max_depth': 12, 'learning_rate': 0.6253350856522567, 'n_estimators': 90, 'min_child_weight': 2, 'gamma': 0.12875712525464428, 'subsample': 0.0876349066146967, 'colsample_bytree': 0.5927263864574062, 'reg_alpha': 0.8360782440763991, 'reg_lambda': 0.96252177729897} because of the following error: The value None could not be cast to float..\u001b[0m\n",
      "\u001b[33m[W 2023-01-24 12:48:49,380]\u001b[0m Trial 54 failed with value None.\u001b[0m\n"
     ]
    },
    {
     "name": "stdout",
     "output_type": "stream",
     "text": [
      "0.6783333333333333 0.19333333333333333\n"
     ]
    },
    {
     "name": "stderr",
     "output_type": "stream",
     "text": [
      "\u001b[33m[W 2023-01-24 12:48:49,753]\u001b[0m Trial 55 failed with parameters: {'max_depth': 6, 'learning_rate': 0.5591832668826278, 'n_estimators': 73, 'min_child_weight': 1, 'gamma': 0.25685017443215874, 'subsample': 0.39967640298852625, 'colsample_bytree': 0.5119591777188629, 'reg_alpha': 0.6337472802548745, 'reg_lambda': 0.015273144212859179} because of the following error: The value None could not be cast to float..\u001b[0m\n",
      "\u001b[33m[W 2023-01-24 12:48:49,754]\u001b[0m Trial 55 failed with value None.\u001b[0m\n"
     ]
    },
    {
     "name": "stdout",
     "output_type": "stream",
     "text": [
      "0.75 0.19333333333333333\n"
     ]
    },
    {
     "name": "stderr",
     "output_type": "stream",
     "text": [
      "\u001b[33m[W 2023-01-24 12:48:50,000]\u001b[0m Trial 56 failed with parameters: {'max_depth': 4, 'learning_rate': 0.6191686088347145, 'n_estimators': 68, 'min_child_weight': 3, 'gamma': 0.9592097007596468, 'subsample': 0.8336347637285983, 'colsample_bytree': 0.5362620596343652, 'reg_alpha': 0.34649854589571677, 'reg_lambda': 0.45255400031492987} because of the following error: The value None could not be cast to float..\u001b[0m\n",
      "\u001b[33m[W 2023-01-24 12:48:50,002]\u001b[0m Trial 56 failed with value None.\u001b[0m\n"
     ]
    },
    {
     "name": "stdout",
     "output_type": "stream",
     "text": [
      "0.7683333333333333 0.19333333333333333\n"
     ]
    },
    {
     "name": "stderr",
     "output_type": "stream",
     "text": [
      "\u001b[33m[W 2023-01-24 12:48:50,781]\u001b[0m Trial 57 failed with parameters: {'max_depth': 17, 'learning_rate': 0.5454300013239116, 'n_estimators': 75, 'min_child_weight': 6, 'gamma': 0.7348559807591001, 'subsample': 0.9571129991760325, 'colsample_bytree': 0.9899299652317965, 'reg_alpha': 0.25331442529055637, 'reg_lambda': 0.41560736735151804} because of the following error: The value None could not be cast to float..\u001b[0m\n",
      "\u001b[33m[W 2023-01-24 12:48:50,782]\u001b[0m Trial 57 failed with value None.\u001b[0m\n",
      "\u001b[33m[W 2023-01-24 12:48:50,958]\u001b[0m Trial 58 failed with parameters: {'max_depth': 21, 'learning_rate': 0.0738407922004526, 'n_estimators': 79, 'min_child_weight': 4, 'gamma': 0.06078667409181354, 'subsample': 0.48588214199887736, 'colsample_bytree': 0.09115781549210544, 'reg_alpha': 0.9718559615372186, 'reg_lambda': 0.23057579507031653} because of the following error: The value None could not be cast to float..\u001b[0m\n",
      "\u001b[33m[W 2023-01-24 12:48:50,960]\u001b[0m Trial 58 failed with value None.\u001b[0m\n"
     ]
    },
    {
     "name": "stdout",
     "output_type": "stream",
     "text": [
      "0.7816666666666666 0.19333333333333333\n",
      "0.7766666666666666 0.19333333333333333\n"
     ]
    },
    {
     "name": "stderr",
     "output_type": "stream",
     "text": [
      "\u001b[33m[W 2023-01-24 12:48:51,163]\u001b[0m Trial 59 failed with parameters: {'max_depth': 21, 'learning_rate': 0.20106125328869073, 'n_estimators': 82, 'min_child_weight': 5, 'gamma': 0.7435730594119869, 'subsample': 0.21309041236909887, 'colsample_bytree': 0.22619626704318543, 'reg_alpha': 0.6676006422755901, 'reg_lambda': 0.6149412888064617} because of the following error: The value None could not be cast to float..\u001b[0m\n",
      "\u001b[33m[W 2023-01-24 12:48:51,165]\u001b[0m Trial 59 failed with value None.\u001b[0m\n",
      "\u001b[33m[W 2023-01-24 12:48:51,308]\u001b[0m Trial 60 failed with parameters: {'max_depth': 18, 'learning_rate': 0.3437033081022843, 'n_estimators': 93, 'min_child_weight': 10, 'gamma': 0.9705169118653388, 'subsample': 0.3511355748573959, 'colsample_bytree': 0.07210619510792476, 'reg_alpha': 0.806089971278061, 'reg_lambda': 0.5016309626739907} because of the following error: The value None could not be cast to float..\u001b[0m\n",
      "\u001b[33m[W 2023-01-24 12:48:51,310]\u001b[0m Trial 60 failed with value None.\u001b[0m\n"
     ]
    },
    {
     "name": "stdout",
     "output_type": "stream",
     "text": [
      "0.79 0.19333333333333333\n",
      "0.7816666666666666 0.19333333333333333\n"
     ]
    },
    {
     "name": "stderr",
     "output_type": "stream",
     "text": [
      "\u001b[33m[W 2023-01-24 12:48:51,439]\u001b[0m Trial 61 failed with parameters: {'max_depth': 7, 'learning_rate': 0.6452471552402165, 'n_estimators': 84, 'min_child_weight': 9, 'gamma': 0.19430302181816625, 'subsample': 0.4160578884090086, 'colsample_bytree': 0.02409032062815296, 'reg_alpha': 0.9159752787777092, 'reg_lambda': 0.4145162501817543} because of the following error: The value None could not be cast to float..\u001b[0m\n",
      "\u001b[33m[W 2023-01-24 12:48:51,441]\u001b[0m Trial 61 failed with value None.\u001b[0m\n"
     ]
    },
    {
     "name": "stdout",
     "output_type": "stream",
     "text": [
      "0.7766666666666666 0.19333333333333333\n"
     ]
    },
    {
     "name": "stderr",
     "output_type": "stream",
     "text": [
      "\u001b[33m[W 2023-01-24 12:48:51,645]\u001b[0m Trial 62 failed with parameters: {'max_depth': 4, 'learning_rate': 0.03381651110670063, 'n_estimators': 60, 'min_child_weight': 1, 'gamma': 0.5522688308668732, 'subsample': 0.3291704736467092, 'colsample_bytree': 0.34730055760299644, 'reg_alpha': 0.9174506002364138, 'reg_lambda': 0.42596573894383327} because of the following error: The value None could not be cast to float..\u001b[0m\n",
      "\u001b[33m[W 2023-01-24 12:48:51,652]\u001b[0m Trial 62 failed with value None.\u001b[0m\n"
     ]
    },
    {
     "name": "stdout",
     "output_type": "stream",
     "text": [
      "0.79 0.19333333333333333\n"
     ]
    },
    {
     "name": "stderr",
     "output_type": "stream",
     "text": [
      "\u001b[33m[W 2023-01-24 12:48:51,999]\u001b[0m Trial 63 failed with parameters: {'max_depth': 5, 'learning_rate': 0.1810164622892869, 'n_estimators': 57, 'min_child_weight': 1, 'gamma': 0.0039919278790507325, 'subsample': 0.45327823641004733, 'colsample_bytree': 0.7594064554188363, 'reg_alpha': 0.47758097711131436, 'reg_lambda': 0.7543255105686598} because of the following error: The value None could not be cast to float..\u001b[0m\n",
      "\u001b[33m[W 2023-01-24 12:48:52,001]\u001b[0m Trial 63 failed with value None.\u001b[0m\n",
      "\u001b[33m[W 2023-01-24 12:48:52,191]\u001b[0m Trial 64 failed with parameters: {'max_depth': 6, 'learning_rate': 0.738934740593768, 'n_estimators': 99, 'min_child_weight': 3, 'gamma': 0.875038894592345, 'subsample': 0.2215455472095361, 'colsample_bytree': 0.13391130372235863, 'reg_alpha': 0.626635255948618, 'reg_lambda': 0.9972411550569616} because of the following error: The value None could not be cast to float..\u001b[0m\n",
      "\u001b[33m[W 2023-01-24 12:48:52,192]\u001b[0m Trial 64 failed with value None.\u001b[0m\n"
     ]
    },
    {
     "name": "stdout",
     "output_type": "stream",
     "text": [
      "0.8066666666666666 0.19333333333333333\n",
      "0.7083333333333334 0.19333333333333333\n"
     ]
    },
    {
     "name": "stderr",
     "output_type": "stream",
     "text": [
      "\u001b[33m[W 2023-01-24 12:48:52,850]\u001b[0m Trial 65 failed with parameters: {'max_depth': 19, 'learning_rate': 0.5691812362303064, 'n_estimators': 100, 'min_child_weight': 1, 'gamma': 0.1625164227947893, 'subsample': 0.9584075229128981, 'colsample_bytree': 0.40645455267381575, 'reg_alpha': 0.3329262831657071, 'reg_lambda': 0.6127936723782365} because of the following error: The value None could not be cast to float..\u001b[0m\n",
      "\u001b[33m[W 2023-01-24 12:48:52,853]\u001b[0m Trial 65 failed with value None.\u001b[0m\n",
      "\u001b[33m[W 2023-01-24 12:48:53,020]\u001b[0m Trial 66 failed with parameters: {'max_depth': 8, 'learning_rate': 0.3945951470620811, 'n_estimators': 85, 'min_child_weight': 9, 'gamma': 0.22256124418662862, 'subsample': 0.3794406548399048, 'colsample_bytree': 0.09240673478012862, 'reg_alpha': 0.6802935229112141, 'reg_lambda': 0.48274584226959183} because of the following error: The value None could not be cast to float..\u001b[0m\n",
      "\u001b[33m[W 2023-01-24 12:48:53,021]\u001b[0m Trial 66 failed with value None.\u001b[0m\n"
     ]
    },
    {
     "name": "stdout",
     "output_type": "stream",
     "text": [
      "0.7766666666666666 0.19333333333333333\n",
      "0.7716666666666666 0.19333333333333333\n"
     ]
    },
    {
     "name": "stderr",
     "output_type": "stream",
     "text": [
      "\u001b[33m[W 2023-01-24 12:48:53,614]\u001b[0m Trial 67 failed with parameters: {'max_depth': 13, 'learning_rate': 0.19992952427220176, 'n_estimators': 56, 'min_child_weight': 6, 'gamma': 0.9737614542005131, 'subsample': 0.8228416573815149, 'colsample_bytree': 0.7967539646690603, 'reg_alpha': 0.08378907871146002, 'reg_lambda': 0.4028025573423233} because of the following error: The value None could not be cast to float..\u001b[0m\n",
      "\u001b[33m[W 2023-01-24 12:48:53,622]\u001b[0m Trial 67 failed with value None.\u001b[0m\n"
     ]
    },
    {
     "name": "stdout",
     "output_type": "stream",
     "text": [
      "0.7966666666666666 0.19333333333333333\n"
     ]
    },
    {
     "name": "stderr",
     "output_type": "stream",
     "text": [
      "\u001b[33m[W 2023-01-24 12:48:54,002]\u001b[0m Trial 68 failed with parameters: {'max_depth': 8, 'learning_rate': 0.5939981191640161, 'n_estimators': 80, 'min_child_weight': 4, 'gamma': 0.9303343495637223, 'subsample': 0.8384395046133093, 'colsample_bytree': 0.33334203575596416, 'reg_alpha': 0.8944902314664733, 'reg_lambda': 0.010212924627999716} because of the following error: The value None could not be cast to float..\u001b[0m\n",
      "\u001b[33m[W 2023-01-24 12:48:54,004]\u001b[0m Trial 68 failed with value None.\u001b[0m\n"
     ]
    },
    {
     "name": "stdout",
     "output_type": "stream",
     "text": [
      "0.7716666666666666 0.19333333333333333\n"
     ]
    },
    {
     "name": "stderr",
     "output_type": "stream",
     "text": [
      "\u001b[33m[W 2023-01-24 12:48:54,266]\u001b[0m Trial 69 failed with parameters: {'max_depth': 4, 'learning_rate': 0.9620287436410687, 'n_estimators': 56, 'min_child_weight': 7, 'gamma': 0.6439913881061026, 'subsample': 0.9641028516864854, 'colsample_bytree': 0.7163498362448955, 'reg_alpha': 0.9455165003524171, 'reg_lambda': 0.13809456250763427} because of the following error: The value None could not be cast to float..\u001b[0m\n",
      "\u001b[33m[W 2023-01-24 12:48:54,267]\u001b[0m Trial 69 failed with value None.\u001b[0m\n",
      "\u001b[33m[W 2023-01-24 12:48:54,399]\u001b[0m Trial 70 failed with parameters: {'max_depth': 23, 'learning_rate': 0.7356957831653512, 'n_estimators': 70, 'min_child_weight': 2, 'gamma': 0.8642719047184024, 'subsample': 0.500221881636235, 'colsample_bytree': 0.03863703830018292, 'reg_alpha': 0.47148328628820874, 'reg_lambda': 0.9870544522504544} because of the following error: The value None could not be cast to float..\u001b[0m\n",
      "\u001b[33m[W 2023-01-24 12:48:54,401]\u001b[0m Trial 70 failed with value None.\u001b[0m\n"
     ]
    },
    {
     "name": "stdout",
     "output_type": "stream",
     "text": [
      "0.765 0.19333333333333333\n",
      "0.745 0.19333333333333333\n"
     ]
    },
    {
     "name": "stderr",
     "output_type": "stream",
     "text": [
      "\u001b[33m[W 2023-01-24 12:48:54,614]\u001b[0m Trial 71 failed with parameters: {'max_depth': 2, 'learning_rate': 0.014400392781660705, 'n_estimators': 99, 'min_child_weight': 7, 'gamma': 0.9748628428693432, 'subsample': 0.588076839728697, 'colsample_bytree': 0.3430922690361708, 'reg_alpha': 0.9401040391736394, 'reg_lambda': 0.6042894145852156} because of the following error: The value None could not be cast to float..\u001b[0m\n",
      "\u001b[33m[W 2023-01-24 12:48:54,616]\u001b[0m Trial 71 failed with value None.\u001b[0m\n",
      "\u001b[33m[W 2023-01-24 12:48:54,750]\u001b[0m Trial 72 failed with parameters: {'max_depth': 24, 'learning_rate': 0.1354473253734291, 'n_estimators': 91, 'min_child_weight': 7, 'gamma': 0.1497144852169783, 'subsample': 0.028634908533793323, 'colsample_bytree': 0.25967454565870624, 'reg_alpha': 0.6768307423255185, 'reg_lambda': 0.41624915603927315} because of the following error: The value None could not be cast to float..\u001b[0m\n",
      "\u001b[33m[W 2023-01-24 12:48:54,751]\u001b[0m Trial 72 failed with value None.\u001b[0m\n"
     ]
    },
    {
     "name": "stdout",
     "output_type": "stream",
     "text": [
      "0.78 0.19333333333333333\n",
      "0.7866666666666666 0.19333333333333333\n"
     ]
    },
    {
     "name": "stderr",
     "output_type": "stream",
     "text": [
      "\u001b[33m[W 2023-01-24 12:48:54,885]\u001b[0m Trial 73 failed with parameters: {'max_depth': 3, 'learning_rate': 0.12501451092635976, 'n_estimators': 64, 'min_child_weight': 6, 'gamma': 0.9930752383026257, 'subsample': 0.7411409622834129, 'colsample_bytree': 0.1267859826390223, 'reg_alpha': 0.013279550788251696, 'reg_lambda': 0.6061964127562236} because of the following error: The value None could not be cast to float..\u001b[0m\n",
      "\u001b[33m[W 2023-01-24 12:48:54,887]\u001b[0m Trial 73 failed with value None.\u001b[0m\n"
     ]
    },
    {
     "name": "stdout",
     "output_type": "stream",
     "text": [
      "0.7833333333333333 0.19333333333333333\n"
     ]
    },
    {
     "name": "stderr",
     "output_type": "stream",
     "text": [
      "\u001b[33m[W 2023-01-24 12:48:55,149]\u001b[0m Trial 74 failed with parameters: {'max_depth': 14, 'learning_rate': 0.8219268241604178, 'n_estimators': 92, 'min_child_weight': 10, 'gamma': 0.36738448764285625, 'subsample': 0.2729565973767311, 'colsample_bytree': 0.47032029375210477, 'reg_alpha': 0.17415328788160728, 'reg_lambda': 0.9191831431165459} because of the following error: The value None could not be cast to float..\u001b[0m\n",
      "\u001b[33m[W 2023-01-24 12:48:55,151]\u001b[0m Trial 74 failed with value None.\u001b[0m\n"
     ]
    },
    {
     "name": "stdout",
     "output_type": "stream",
     "text": [
      "0.7133333333333334 0.19333333333333333\n"
     ]
    },
    {
     "name": "stderr",
     "output_type": "stream",
     "text": [
      "\u001b[33m[W 2023-01-24 12:48:55,536]\u001b[0m Trial 75 failed with parameters: {'max_depth': 14, 'learning_rate': 0.6788793332763902, 'n_estimators': 91, 'min_child_weight': 9, 'gamma': 0.727802023259666, 'subsample': 0.7907072524540808, 'colsample_bytree': 0.35643892681723927, 'reg_alpha': 0.9850812982362412, 'reg_lambda': 0.6947676837022716} because of the following error: The value None could not be cast to float..\u001b[0m\n",
      "\u001b[33m[W 2023-01-24 12:48:55,537]\u001b[0m Trial 75 failed with value None.\u001b[0m\n"
     ]
    },
    {
     "name": "stdout",
     "output_type": "stream",
     "text": [
      "0.7683333333333333 0.19333333333333333\n"
     ]
    },
    {
     "name": "stderr",
     "output_type": "stream",
     "text": [
      "\u001b[33m[W 2023-01-24 12:48:55,787]\u001b[0m Trial 76 failed with parameters: {'max_depth': 20, 'learning_rate': 0.48503612017373327, 'n_estimators': 76, 'min_child_weight': 3, 'gamma': 0.1631124672161798, 'subsample': 0.19797194195011308, 'colsample_bytree': 0.39197769577819336, 'reg_alpha': 0.996734919241581, 'reg_lambda': 0.008499890066588401} because of the following error: The value None could not be cast to float..\u001b[0m\n",
      "\u001b[33m[W 2023-01-24 12:48:55,790]\u001b[0m Trial 76 failed with value None.\u001b[0m\n"
     ]
    },
    {
     "name": "stdout",
     "output_type": "stream",
     "text": [
      "0.735 0.19333333333333333\n"
     ]
    },
    {
     "name": "stderr",
     "output_type": "stream",
     "text": [
      "\u001b[33m[W 2023-01-24 12:48:56,081]\u001b[0m Trial 77 failed with parameters: {'max_depth': 16, 'learning_rate': 0.4556904962439863, 'n_estimators': 92, 'min_child_weight': 8, 'gamma': 0.3712721233580949, 'subsample': 0.34250039605526283, 'colsample_bytree': 0.3669354952487205, 'reg_alpha': 0.7339711061067955, 'reg_lambda': 0.6086160820044779} because of the following error: The value None could not be cast to float..\u001b[0m\n",
      "\u001b[33m[W 2023-01-24 12:48:56,082]\u001b[0m Trial 77 failed with value None.\u001b[0m\n"
     ]
    },
    {
     "name": "stdout",
     "output_type": "stream",
     "text": [
      "0.7966666666666666 0.19333333333333333\n"
     ]
    },
    {
     "name": "stderr",
     "output_type": "stream",
     "text": [
      "\u001b[33m[W 2023-01-24 12:48:56,426]\u001b[0m Trial 78 failed with parameters: {'max_depth': 6, 'learning_rate': 0.6150929364835175, 'n_estimators': 74, 'min_child_weight': 1, 'gamma': 0.6275330992024302, 'subsample': 0.4922619746466727, 'colsample_bytree': 0.4015705961977494, 'reg_alpha': 0.6690398642706075, 'reg_lambda': 0.6068135255284847} because of the following error: The value None could not be cast to float..\u001b[0m\n",
      "\u001b[33m[W 2023-01-24 12:48:56,428]\u001b[0m Trial 78 failed with value None.\u001b[0m\n"
     ]
    },
    {
     "name": "stdout",
     "output_type": "stream",
     "text": [
      "0.73 0.19333333333333333\n"
     ]
    },
    {
     "name": "stderr",
     "output_type": "stream",
     "text": [
      "\u001b[33m[W 2023-01-24 12:48:56,890]\u001b[0m Trial 79 failed with parameters: {'max_depth': 15, 'learning_rate': 0.49459255867563406, 'n_estimators': 74, 'min_child_weight': 8, 'gamma': 0.7484697718193312, 'subsample': 0.6273355753200666, 'colsample_bytree': 0.5466075580675945, 'reg_alpha': 0.9982268979662094, 'reg_lambda': 0.9380807222024756} because of the following error: The value None could not be cast to float..\u001b[0m\n",
      "\u001b[33m[W 2023-01-24 12:48:56,893]\u001b[0m Trial 79 failed with value None.\u001b[0m\n"
     ]
    },
    {
     "name": "stdout",
     "output_type": "stream",
     "text": [
      "0.7566666666666667 0.19333333333333333\n"
     ]
    },
    {
     "name": "stderr",
     "output_type": "stream",
     "text": [
      "\u001b[33m[W 2023-01-24 12:48:57,319]\u001b[0m Trial 80 failed with parameters: {'max_depth': 9, 'learning_rate': 0.09200249756296917, 'n_estimators': 93, 'min_child_weight': 7, 'gamma': 0.9843380877406133, 'subsample': 0.7781135167542469, 'colsample_bytree': 0.28051756569419684, 'reg_alpha': 0.3082626408880826, 'reg_lambda': 0.3647726080037375} because of the following error: The value None could not be cast to float..\u001b[0m\n",
      "\u001b[33m[W 2023-01-24 12:48:57,321]\u001b[0m Trial 80 failed with value None.\u001b[0m\n"
     ]
    },
    {
     "name": "stdout",
     "output_type": "stream",
     "text": [
      "0.7983333333333333 0.19333333333333333\n"
     ]
    },
    {
     "name": "stderr",
     "output_type": "stream",
     "text": [
      "\u001b[33m[W 2023-01-24 12:48:57,858]\u001b[0m Trial 81 failed with parameters: {'max_depth': 12, 'learning_rate': 0.309454210357587, 'n_estimators': 51, 'min_child_weight': 5, 'gamma': 0.3560186975622596, 'subsample': 0.7943317812695743, 'colsample_bytree': 0.9007244625144158, 'reg_alpha': 0.603619410918893, 'reg_lambda': 0.03734079403684084} because of the following error: The value None could not be cast to float..\u001b[0m\n",
      "\u001b[33m[W 2023-01-24 12:48:57,860]\u001b[0m Trial 81 failed with value None.\u001b[0m\n",
      "\u001b[33m[W 2023-01-24 12:48:58,053]\u001b[0m Trial 82 failed with parameters: {'max_depth': 2, 'learning_rate': 0.22888199709490828, 'n_estimators': 97, 'min_child_weight': 3, 'gamma': 0.3204912281293501, 'subsample': 0.1374899083577993, 'colsample_bytree': 0.8968168041727302, 'reg_alpha': 0.731966629007725, 'reg_lambda': 0.835267590006235} because of the following error: The value None could not be cast to float..\u001b[0m\n",
      "\u001b[33m[W 2023-01-24 12:48:58,056]\u001b[0m Trial 82 failed with value None.\u001b[0m\n"
     ]
    },
    {
     "name": "stdout",
     "output_type": "stream",
     "text": [
      "0.7966666666666666 0.19333333333333333\n",
      "0.81 0.19333333333333333\n"
     ]
    },
    {
     "name": "stderr",
     "output_type": "stream",
     "text": [
      "\u001b[33m[W 2023-01-24 12:48:58,161]\u001b[0m Trial 83 failed with parameters: {'max_depth': 17, 'learning_rate': 0.4906668676812384, 'n_estimators': 70, 'min_child_weight': 10, 'gamma': 0.8722796101241068, 'subsample': 0.15979989854594073, 'colsample_bytree': 0.06396316199220131, 'reg_alpha': 0.8576133022326475, 'reg_lambda': 0.9820498004891296} because of the following error: The value None could not be cast to float..\u001b[0m\n",
      "\u001b[33m[W 2023-01-24 12:48:58,162]\u001b[0m Trial 83 failed with value None.\u001b[0m\n",
      "\u001b[33m[W 2023-01-24 12:48:58,302]\u001b[0m Trial 84 failed with parameters: {'max_depth': 8, 'learning_rate': 0.15992430993350445, 'n_estimators': 67, 'min_child_weight': 4, 'gamma': 0.20975117975748075, 'subsample': 0.1366721043626778, 'colsample_bytree': 0.17405331115473427, 'reg_alpha': 0.6309399639590639, 'reg_lambda': 0.5266753845386097} because of the following error: The value None could not be cast to float..\u001b[0m\n",
      "\u001b[33m[W 2023-01-24 12:48:58,303]\u001b[0m Trial 84 failed with value None.\u001b[0m\n"
     ]
    },
    {
     "name": "stdout",
     "output_type": "stream",
     "text": [
      "0.76 0.19333333333333333\n",
      "0.7983333333333333 0.19333333333333333\n"
     ]
    },
    {
     "name": "stderr",
     "output_type": "stream",
     "text": [
      "\u001b[33m[W 2023-01-24 12:48:58,420]\u001b[0m Trial 85 failed with parameters: {'max_depth': 9, 'learning_rate': 0.6548776866911591, 'n_estimators': 98, 'min_child_weight': 5, 'gamma': 0.7238369962739325, 'subsample': 0.022911660280784778, 'colsample_bytree': 0.3190593472595728, 'reg_alpha': 0.866731929692976, 'reg_lambda': 0.5770056656581877} because of the following error: The value None could not be cast to float..\u001b[0m\n",
      "\u001b[33m[W 2023-01-24 12:48:58,422]\u001b[0m Trial 85 failed with value None.\u001b[0m\n",
      "\u001b[33m[W 2023-01-24 12:48:58,538]\u001b[0m Trial 86 failed with parameters: {'max_depth': 15, 'learning_rate': 0.4480049114560892, 'n_estimators': 51, 'min_child_weight': 4, 'gamma': 0.1905595926424074, 'subsample': 0.560577229041455, 'colsample_bytree': 0.06351727222498828, 'reg_alpha': 0.17088973771751825, 'reg_lambda': 0.4926567622289059} because of the following error: The value None could not be cast to float..\u001b[0m\n",
      "\u001b[33m[W 2023-01-24 12:48:58,539]\u001b[0m Trial 86 failed with value None.\u001b[0m\n"
     ]
    },
    {
     "name": "stdout",
     "output_type": "stream",
     "text": [
      "0.695 0.19333333333333333\n",
      "0.77 0.19333333333333333\n"
     ]
    },
    {
     "name": "stderr",
     "output_type": "stream",
     "text": [
      "\u001b[33m[W 2023-01-24 12:48:59,191]\u001b[0m Trial 87 failed with parameters: {'max_depth': 24, 'learning_rate': 0.23291954201662374, 'n_estimators': 97, 'min_child_weight': 5, 'gamma': 0.5211099290184726, 'subsample': 0.40913973454770514, 'colsample_bytree': 0.7948119926017668, 'reg_alpha': 0.8355414865512555, 'reg_lambda': 0.13010681989647063} because of the following error: The value None could not be cast to float..\u001b[0m\n",
      "\u001b[33m[W 2023-01-24 12:48:59,192]\u001b[0m Trial 87 failed with value None.\u001b[0m\n",
      "\u001b[33m[W 2023-01-24 12:48:59,361]\u001b[0m Trial 88 failed with parameters: {'max_depth': 9, 'learning_rate': 0.41225088827106, 'n_estimators': 97, 'min_child_weight': 9, 'gamma': 0.9913880714749449, 'subsample': 0.9607289702061026, 'colsample_bytree': 0.05195163041010754, 'reg_alpha': 0.45048825062012937, 'reg_lambda': 0.4171320430303827} because of the following error: The value None could not be cast to float..\u001b[0m\n",
      "\u001b[33m[W 2023-01-24 12:48:59,362]\u001b[0m Trial 88 failed with value None.\u001b[0m\n"
     ]
    },
    {
     "name": "stdout",
     "output_type": "stream",
     "text": [
      "0.7916666666666666 0.19333333333333333\n",
      "0.7733333333333333 0.19333333333333333\n"
     ]
    },
    {
     "name": "stderr",
     "output_type": "stream",
     "text": [
      "\u001b[33m[W 2023-01-24 12:48:59,655]\u001b[0m Trial 89 failed with parameters: {'max_depth': 17, 'learning_rate': 0.4302857722792439, 'n_estimators': 81, 'min_child_weight': 6, 'gamma': 0.32165516287965207, 'subsample': 0.25731469425343684, 'colsample_bytree': 0.5784233050508275, 'reg_alpha': 0.045094200112648856, 'reg_lambda': 0.21385754147903438} because of the following error: The value None could not be cast to float..\u001b[0m\n",
      "\u001b[33m[W 2023-01-24 12:48:59,657]\u001b[0m Trial 89 failed with value None.\u001b[0m\n"
     ]
    },
    {
     "name": "stdout",
     "output_type": "stream",
     "text": [
      "0.7666666666666667 0.19333333333333333\n"
     ]
    },
    {
     "name": "stderr",
     "output_type": "stream",
     "text": [
      "\u001b[33m[W 2023-01-24 12:48:59,896]\u001b[0m Trial 90 failed with parameters: {'max_depth': 18, 'learning_rate': 0.6308710128735687, 'n_estimators': 89, 'min_child_weight': 8, 'gamma': 0.6048584015332966, 'subsample': 0.4567641273758842, 'colsample_bytree': 0.19647313899775187, 'reg_alpha': 0.07161464814181942, 'reg_lambda': 0.6312133508831477} because of the following error: The value None could not be cast to float..\u001b[0m\n",
      "\u001b[33m[W 2023-01-24 12:48:59,897]\u001b[0m Trial 90 failed with value None.\u001b[0m\n"
     ]
    },
    {
     "name": "stdout",
     "output_type": "stream",
     "text": [
      "0.7183333333333334 0.19333333333333333\n"
     ]
    },
    {
     "name": "stderr",
     "output_type": "stream",
     "text": [
      "\u001b[33m[W 2023-01-24 12:49:00,261]\u001b[0m Trial 91 failed with parameters: {'max_depth': 9, 'learning_rate': 0.6642762323697622, 'n_estimators': 80, 'min_child_weight': 5, 'gamma': 0.8477770856414211, 'subsample': 0.7348915526645844, 'colsample_bytree': 0.3640843057766243, 'reg_alpha': 0.8962291263702598, 'reg_lambda': 0.25142827713903937} because of the following error: The value None could not be cast to float..\u001b[0m\n",
      "\u001b[33m[W 2023-01-24 12:49:00,264]\u001b[0m Trial 91 failed with value None.\u001b[0m\n"
     ]
    },
    {
     "name": "stdout",
     "output_type": "stream",
     "text": [
      "0.7666666666666667 0.19333333333333333\n",
      "0.6916666666666667 0.19333333333333333\n"
     ]
    },
    {
     "name": "stderr",
     "output_type": "stream",
     "text": [
      "\u001b[33m[W 2023-01-24 12:49:00,461]\u001b[0m Trial 92 failed with parameters: {'max_depth': 17, 'learning_rate': 0.9554640980292078, 'n_estimators': 50, 'min_child_weight': 1, 'gamma': 0.05555885878569003, 'subsample': 0.27344751684584667, 'colsample_bytree': 0.3288062236774788, 'reg_alpha': 0.40500052843752704, 'reg_lambda': 0.1799505572831247} because of the following error: The value None could not be cast to float..\u001b[0m\n",
      "\u001b[33m[W 2023-01-24 12:49:00,466]\u001b[0m Trial 92 failed with value None.\u001b[0m\n",
      "\u001b[33m[W 2023-01-24 12:49:00,569]\u001b[0m Trial 93 failed with parameters: {'max_depth': 16, 'learning_rate': 0.6151241730349494, 'n_estimators': 63, 'min_child_weight': 9, 'gamma': 0.5000481498132868, 'subsample': 0.07801144748982981, 'colsample_bytree': 0.3606894473411516, 'reg_alpha': 0.42249863688050826, 'reg_lambda': 0.22278046847432892} because of the following error: The value None could not be cast to float..\u001b[0m\n",
      "\u001b[33m[W 2023-01-24 12:49:00,570]\u001b[0m Trial 93 failed with value None.\u001b[0m\n"
     ]
    },
    {
     "name": "stdout",
     "output_type": "stream",
     "text": [
      "0.6683333333333333 0.19333333333333333\n"
     ]
    },
    {
     "name": "stderr",
     "output_type": "stream",
     "text": [
      "\u001b[33m[W 2023-01-24 12:49:00,913]\u001b[0m Trial 94 failed with parameters: {'max_depth': 21, 'learning_rate': 0.4253113635303868, 'n_estimators': 85, 'min_child_weight': 1, 'gamma': 0.5811727831628059, 'subsample': 0.12873227573189078, 'colsample_bytree': 0.5840326099609044, 'reg_alpha': 0.5636664429087171, 'reg_lambda': 0.06913665046281475} because of the following error: The value None could not be cast to float..\u001b[0m\n",
      "\u001b[33m[W 2023-01-24 12:49:00,915]\u001b[0m Trial 94 failed with value None.\u001b[0m\n",
      "\u001b[33m[W 2023-01-24 12:49:01,051]\u001b[0m Trial 95 failed with parameters: {'max_depth': 23, 'learning_rate': 0.2937519406063373, 'n_estimators': 84, 'min_child_weight': 9, 'gamma': 0.6192823049423046, 'subsample': 0.1917982617422637, 'colsample_bytree': 0.08987370077047313, 'reg_alpha': 0.4371981314921597, 'reg_lambda': 0.7296161291447316} because of the following error: The value None could not be cast to float..\u001b[0m\n",
      "\u001b[33m[W 2023-01-24 12:49:01,053]\u001b[0m Trial 95 failed with value None.\u001b[0m\n"
     ]
    },
    {
     "name": "stdout",
     "output_type": "stream",
     "text": [
      "0.6466666666666666 0.19333333333333333\n",
      "0.785 0.19333333333333333\n"
     ]
    },
    {
     "name": "stderr",
     "output_type": "stream",
     "text": [
      "\u001b[33m[W 2023-01-24 12:49:01,224]\u001b[0m Trial 96 failed with parameters: {'max_depth': 9, 'learning_rate': 0.4140407449398749, 'n_estimators': 70, 'min_child_weight': 10, 'gamma': 0.6638216112786519, 'subsample': 0.4486020833916492, 'colsample_bytree': 0.1338788899819541, 'reg_alpha': 0.20943291243153955, 'reg_lambda': 0.21262256691731948} because of the following error: The value None could not be cast to float..\u001b[0m\n",
      "\u001b[33m[W 2023-01-24 12:49:01,225]\u001b[0m Trial 96 failed with value None.\u001b[0m\n",
      "\u001b[33m[W 2023-01-24 12:49:01,411]\u001b[0m Trial 97 failed with parameters: {'max_depth': 1, 'learning_rate': 0.14487820925671696, 'n_estimators': 97, 'min_child_weight': 7, 'gamma': 0.5399643208386586, 'subsample': 0.6005172288957821, 'colsample_bytree': 0.6819113660623958, 'reg_alpha': 0.10644611363577636, 'reg_lambda': 0.7919276726818766} because of the following error: The value None could not be cast to float..\u001b[0m\n",
      "\u001b[33m[W 2023-01-24 12:49:01,413]\u001b[0m Trial 97 failed with value None.\u001b[0m\n"
     ]
    },
    {
     "name": "stdout",
     "output_type": "stream",
     "text": [
      "0.7583333333333333 0.19333333333333333\n",
      "0.7933333333333333 0.19333333333333333\n"
     ]
    },
    {
     "name": "stderr",
     "output_type": "stream",
     "text": [
      "\u001b[33m[W 2023-01-24 12:49:01,656]\u001b[0m Trial 98 failed with parameters: {'max_depth': 2, 'learning_rate': 0.06493257272123863, 'n_estimators': 84, 'min_child_weight': 2, 'gamma': 0.17525120595361096, 'subsample': 0.7558191359655129, 'colsample_bytree': 0.8986973822337004, 'reg_alpha': 0.7302976626510875, 'reg_lambda': 0.10411391721815957} because of the following error: The value None could not be cast to float..\u001b[0m\n",
      "\u001b[33m[W 2023-01-24 12:49:01,657]\u001b[0m Trial 98 failed with value None.\u001b[0m\n",
      "\u001b[33m[W 2023-01-24 12:49:01,743]\u001b[0m Trial 99 failed with parameters: {'max_depth': 1, 'learning_rate': 0.05566723669459035, 'n_estimators': 54, 'min_child_weight': 3, 'gamma': 0.5777656246911271, 'subsample': 0.18205246338694167, 'colsample_bytree': 0.5084796312455275, 'reg_alpha': 0.7703510476203589, 'reg_lambda': 0.5442927628974427} because of the following error: The value None could not be cast to float..\u001b[0m\n",
      "\u001b[33m[W 2023-01-24 12:49:01,745]\u001b[0m Trial 99 failed with value None.\u001b[0m\n"
     ]
    },
    {
     "name": "stdout",
     "output_type": "stream",
     "text": [
      "0.8016666666666666 0.19333333333333333\n",
      "0.795 0.19333333333333333\n"
     ]
    },
    {
     "name": "stderr",
     "output_type": "stream",
     "text": [
      "\u001b[33m[W 2023-01-24 12:49:02,695]\u001b[0m Trial 100 failed with parameters: {'max_depth': 19, 'learning_rate': 0.01859714983680462, 'n_estimators': 90, 'min_child_weight': 3, 'gamma': 0.743148605924053, 'subsample': 0.9697626117380237, 'colsample_bytree': 0.6674464184708444, 'reg_alpha': 0.1669718995287895, 'reg_lambda': 0.8213397132334068} because of the following error: The value None could not be cast to float..\u001b[0m\n",
      "\u001b[33m[W 2023-01-24 12:49:02,696]\u001b[0m Trial 100 failed with value None.\u001b[0m\n"
     ]
    },
    {
     "name": "stdout",
     "output_type": "stream",
     "text": [
      "0.79 0.19333333333333333\n"
     ]
    },
    {
     "name": "stderr",
     "output_type": "stream",
     "text": [
      "\u001b[33m[W 2023-01-24 12:49:03,189]\u001b[0m Trial 101 failed with parameters: {'max_depth': 23, 'learning_rate': 0.31994652520898037, 'n_estimators': 65, 'min_child_weight': 10, 'gamma': 0.13069676263169244, 'subsample': 0.7019765915321909, 'colsample_bytree': 0.7946996245144171, 'reg_alpha': 0.07285367956048308, 'reg_lambda': 0.017123607391914097} because of the following error: The value None could not be cast to float..\u001b[0m\n",
      "\u001b[33m[W 2023-01-24 12:49:03,190]\u001b[0m Trial 101 failed with value None.\u001b[0m\n"
     ]
    },
    {
     "name": "stdout",
     "output_type": "stream",
     "text": [
      "0.7833333333333333 0.19333333333333333\n"
     ]
    },
    {
     "name": "stderr",
     "output_type": "stream",
     "text": [
      "\u001b[33m[W 2023-01-24 12:49:03,898]\u001b[0m Trial 102 failed with parameters: {'max_depth': 11, 'learning_rate': 0.8425079478931485, 'n_estimators': 94, 'min_child_weight': 8, 'gamma': 0.6628926678275423, 'subsample': 0.6946117988107955, 'colsample_bytree': 0.9728903701558027, 'reg_alpha': 0.8664710199897305, 'reg_lambda': 0.14740903061003707} because of the following error: The value None could not be cast to float..\u001b[0m\n",
      "\u001b[33m[W 2023-01-24 12:49:03,900]\u001b[0m Trial 102 failed with value None.\u001b[0m\n"
     ]
    },
    {
     "name": "stdout",
     "output_type": "stream",
     "text": [
      "0.75 0.19333333333333333\n"
     ]
    },
    {
     "name": "stderr",
     "output_type": "stream",
     "text": [
      "\u001b[33m[W 2023-01-24 12:49:04,389]\u001b[0m Trial 103 failed with parameters: {'max_depth': 20, 'learning_rate': 0.7163624600448711, 'n_estimators': 50, 'min_child_weight': 1, 'gamma': 0.5655059125847572, 'subsample': 0.5189419205532854, 'colsample_bytree': 0.7525190842270506, 'reg_alpha': 0.6154963735694373, 'reg_lambda': 0.4166380336766534} because of the following error: The value None could not be cast to float..\u001b[0m\n",
      "\u001b[33m[W 2023-01-24 12:49:04,390]\u001b[0m Trial 103 failed with value None.\u001b[0m\n"
     ]
    },
    {
     "name": "stdout",
     "output_type": "stream",
     "text": [
      "0.7166666666666667 0.19333333333333333\n"
     ]
    },
    {
     "name": "stderr",
     "output_type": "stream",
     "text": [
      "\u001b[33m[W 2023-01-24 12:49:05,038]\u001b[0m Trial 104 failed with parameters: {'max_depth': 24, 'learning_rate': 0.061592292520176846, 'n_estimators': 58, 'min_child_weight': 2, 'gamma': 0.5289476200237636, 'subsample': 0.7194247434175988, 'colsample_bytree': 0.7703224171065113, 'reg_alpha': 0.7172598125641964, 'reg_lambda': 0.6189578262103019} because of the following error: The value None could not be cast to float..\u001b[0m\n",
      "\u001b[33m[W 2023-01-24 12:49:05,039]\u001b[0m Trial 104 failed with value None.\u001b[0m\n",
      "\u001b[33m[W 2023-01-24 12:49:05,207]\u001b[0m Trial 105 failed with parameters: {'max_depth': 20, 'learning_rate': 0.5422607120050409, 'n_estimators': 72, 'min_child_weight': 6, 'gamma': 0.4268966835564716, 'subsample': 0.3645675951530697, 'colsample_bytree': 0.13204530796869168, 'reg_alpha': 0.6011953883176333, 'reg_lambda': 0.7737178218648627} because of the following error: The value None could not be cast to float..\u001b[0m\n",
      "\u001b[33m[W 2023-01-24 12:49:05,209]\u001b[0m Trial 105 failed with value None.\u001b[0m\n"
     ]
    },
    {
     "name": "stdout",
     "output_type": "stream",
     "text": [
      "0.7983333333333333 0.19333333333333333\n",
      "0.77 0.19333333333333333\n"
     ]
    },
    {
     "name": "stderr",
     "output_type": "stream",
     "text": [
      "\u001b[33m[W 2023-01-24 12:49:05,367]\u001b[0m Trial 106 failed with parameters: {'max_depth': 1, 'learning_rate': 0.8731240585517268, 'n_estimators': 78, 'min_child_weight': 8, 'gamma': 0.648706010321494, 'subsample': 0.9243417122938665, 'colsample_bytree': 0.9704612894903732, 'reg_alpha': 0.5768561149238491, 'reg_lambda': 0.5866900508889497} because of the following error: The value None could not be cast to float..\u001b[0m\n",
      "\u001b[33m[W 2023-01-24 12:49:05,368]\u001b[0m Trial 106 failed with value None.\u001b[0m\n",
      "\u001b[33m[W 2023-01-24 12:49:05,517]\u001b[0m Trial 107 failed with parameters: {'max_depth': 7, 'learning_rate': 0.7306065879193661, 'n_estimators': 74, 'min_child_weight': 3, 'gamma': 0.3214205450803299, 'subsample': 0.4190755249817058, 'colsample_bytree': 0.07875888283939085, 'reg_alpha': 0.5230921751533707, 'reg_lambda': 0.3684502284821272} because of the following error: The value None could not be cast to float..\u001b[0m\n",
      "\u001b[33m[W 2023-01-24 12:49:05,519]\u001b[0m Trial 107 failed with value None.\u001b[0m\n"
     ]
    },
    {
     "name": "stdout",
     "output_type": "stream",
     "text": [
      "0.7883333333333333 0.19333333333333333\n",
      "0.7366666666666667 0.19333333333333333\n"
     ]
    },
    {
     "name": "stderr",
     "output_type": "stream",
     "text": [
      "\u001b[33m[W 2023-01-24 12:49:05,628]\u001b[0m Trial 108 failed with parameters: {'max_depth': 2, 'learning_rate': 0.6104987303083227, 'n_estimators': 76, 'min_child_weight': 10, 'gamma': 0.2980517194085673, 'subsample': 0.5775183617409464, 'colsample_bytree': 0.04768668967109153, 'reg_alpha': 0.6980291842738204, 'reg_lambda': 0.8923901135137065} because of the following error: The value None could not be cast to float..\u001b[0m\n",
      "\u001b[33m[W 2023-01-24 12:49:05,629]\u001b[0m Trial 108 failed with value None.\u001b[0m\n"
     ]
    },
    {
     "name": "stdout",
     "output_type": "stream",
     "text": [
      "0.7783333333333333 0.19333333333333333\n"
     ]
    },
    {
     "name": "stderr",
     "output_type": "stream",
     "text": [
      "\u001b[33m[W 2023-01-24 12:49:05,832]\u001b[0m Trial 109 failed with parameters: {'max_depth': 14, 'learning_rate': 0.8420423823705047, 'n_estimators': 59, 'min_child_weight': 5, 'gamma': 0.9272482963004686, 'subsample': 0.39128868803898204, 'colsample_bytree': 0.3161406820706516, 'reg_alpha': 0.7261148184205398, 'reg_lambda': 0.08637435873777528} because of the following error: The value None could not be cast to float..\u001b[0m\n",
      "\u001b[33m[W 2023-01-24 12:49:05,836]\u001b[0m Trial 109 failed with value None.\u001b[0m\n",
      "\u001b[33m[W 2023-01-24 12:49:05,917]\u001b[0m Trial 110 failed with parameters: {'max_depth': 1, 'learning_rate': 0.7731484260425431, 'n_estimators': 60, 'min_child_weight': 8, 'gamma': 0.951966060785897, 'subsample': 0.1874579723906377, 'colsample_bytree': 0.15546026175883584, 'reg_alpha': 0.08949161994132823, 'reg_lambda': 0.8395355302864856} because of the following error: The value None could not be cast to float..\u001b[0m\n",
      "\u001b[33m[W 2023-01-24 12:49:05,922]\u001b[0m Trial 110 failed with value None.\u001b[0m\n"
     ]
    },
    {
     "name": "stdout",
     "output_type": "stream",
     "text": [
      "0.7083333333333334 0.19333333333333333\n",
      "0.7683333333333333 0.19333333333333333\n"
     ]
    },
    {
     "name": "stderr",
     "output_type": "stream",
     "text": [
      "\u001b[33m[W 2023-01-24 12:49:06,522]\u001b[0m Trial 111 failed with parameters: {'max_depth': 17, 'learning_rate': 0.3608496623828698, 'n_estimators': 60, 'min_child_weight': 9, 'gamma': 0.6241688279674099, 'subsample': 0.9241007887572364, 'colsample_bytree': 0.9574191182396184, 'reg_alpha': 0.27209232751541956, 'reg_lambda': 0.7690314985404401} because of the following error: The value None could not be cast to float..\u001b[0m\n",
      "\u001b[33m[W 2023-01-24 12:49:06,524]\u001b[0m Trial 111 failed with value None.\u001b[0m\n",
      "\u001b[33m[W 2023-01-24 12:49:06,649]\u001b[0m Trial 112 failed with parameters: {'max_depth': 2, 'learning_rate': 0.07504139815398776, 'n_estimators': 66, 'min_child_weight': 4, 'gamma': 0.8449886512061727, 'subsample': 0.9868929667072776, 'colsample_bytree': 0.3997621659050489, 'reg_alpha': 0.7349789936455048, 'reg_lambda': 0.4787707967402317} because of the following error: The value None could not be cast to float..\u001b[0m\n",
      "\u001b[33m[W 2023-01-24 12:49:06,651]\u001b[0m Trial 112 failed with value None.\u001b[0m\n"
     ]
    },
    {
     "name": "stdout",
     "output_type": "stream",
     "text": [
      "0.7833333333333333 0.19333333333333333\n",
      "0.805 0.19333333333333333\n"
     ]
    },
    {
     "name": "stderr",
     "output_type": "stream",
     "text": [
      "\u001b[33m[W 2023-01-24 12:49:07,005]\u001b[0m Trial 113 failed with parameters: {'max_depth': 17, 'learning_rate': 0.8983766522817208, 'n_estimators': 92, 'min_child_weight': 8, 'gamma': 0.8679345215161403, 'subsample': 0.7783534695036314, 'colsample_bytree': 0.31987107143789495, 'reg_alpha': 0.7426038831733911, 'reg_lambda': 0.20406217799943807} because of the following error: The value None could not be cast to float..\u001b[0m\n",
      "\u001b[33m[W 2023-01-24 12:49:07,007]\u001b[0m Trial 113 failed with value None.\u001b[0m\n"
     ]
    },
    {
     "name": "stdout",
     "output_type": "stream",
     "text": [
      "0.7466666666666667 0.19333333333333333\n"
     ]
    },
    {
     "name": "stderr",
     "output_type": "stream",
     "text": [
      "\u001b[33m[W 2023-01-24 12:49:07,436]\u001b[0m Trial 114 failed with parameters: {'max_depth': 8, 'learning_rate': 0.6564750728312961, 'n_estimators': 59, 'min_child_weight': 10, 'gamma': 0.02635809028646993, 'subsample': 0.67921066729183, 'colsample_bytree': 0.9225577028543719, 'reg_alpha': 0.8198384995929187, 'reg_lambda': 0.7656057866432193} because of the following error: The value None could not be cast to float..\u001b[0m\n",
      "\u001b[33m[W 2023-01-24 12:49:07,438]\u001b[0m Trial 114 failed with value None.\u001b[0m\n"
     ]
    },
    {
     "name": "stdout",
     "output_type": "stream",
     "text": [
      "0.7266666666666667 0.19333333333333333\n"
     ]
    },
    {
     "name": "stderr",
     "output_type": "stream",
     "text": [
      "\u001b[33m[W 2023-01-24 12:49:08,311]\u001b[0m Trial 115 failed with parameters: {'max_depth': 14, 'learning_rate': 0.5338722832352509, 'n_estimators': 94, 'min_child_weight': 3, 'gamma': 0.14436872470822087, 'subsample': 0.6348305364972086, 'colsample_bytree': 0.8986466898094804, 'reg_alpha': 0.14851949809212006, 'reg_lambda': 0.7119681931695291} because of the following error: The value None could not be cast to float..\u001b[0m\n",
      "\u001b[33m[W 2023-01-24 12:49:08,313]\u001b[0m Trial 115 failed with value None.\u001b[0m\n"
     ]
    },
    {
     "name": "stdout",
     "output_type": "stream",
     "text": [
      "0.7116666666666667 0.19333333333333333\n"
     ]
    },
    {
     "name": "stderr",
     "output_type": "stream",
     "text": [
      "\u001b[33m[W 2023-01-24 12:49:08,520]\u001b[0m Trial 116 failed with parameters: {'max_depth': 9, 'learning_rate': 0.2192364248238836, 'n_estimators': 76, 'min_child_weight': 2, 'gamma': 0.5543524546988082, 'subsample': 0.05985232934677699, 'colsample_bytree': 0.8078784515107298, 'reg_alpha': 0.08279178419655002, 'reg_lambda': 0.5914044787263335} because of the following error: The value None could not be cast to float..\u001b[0m\n",
      "\u001b[33m[W 2023-01-24 12:49:08,522]\u001b[0m Trial 116 failed with value None.\u001b[0m\n",
      "\u001b[33m[W 2023-01-24 12:49:08,654]\u001b[0m Trial 117 failed with parameters: {'max_depth': 13, 'learning_rate': 0.17010164516953152, 'n_estimators': 57, 'min_child_weight': 5, 'gamma': 0.9883928517284227, 'subsample': 0.2895416751554319, 'colsample_bytree': 0.14141336983442454, 'reg_alpha': 0.18670435405885855, 'reg_lambda': 0.9444167637989472} because of the following error: The value None could not be cast to float..\u001b[0m\n",
      "\u001b[33m[W 2023-01-24 12:49:08,656]\u001b[0m Trial 117 failed with value None.\u001b[0m\n"
     ]
    },
    {
     "name": "stdout",
     "output_type": "stream",
     "text": [
      "0.7533333333333333 0.19333333333333333\n",
      "0.79 0.19333333333333333\n"
     ]
    },
    {
     "name": "stderr",
     "output_type": "stream",
     "text": [
      "\u001b[33m[W 2023-01-24 12:49:08,767]\u001b[0m Trial 118 failed with parameters: {'max_depth': 16, 'learning_rate': 0.7151360268860615, 'n_estimators': 76, 'min_child_weight': 8, 'gamma': 0.6660179458006242, 'subsample': 0.08168594791921446, 'colsample_bytree': 0.23475656178207752, 'reg_alpha': 0.44708526122852316, 'reg_lambda': 0.7800312610333721} because of the following error: The value None could not be cast to float..\u001b[0m\n",
      "\u001b[33m[W 2023-01-24 12:49:08,768]\u001b[0m Trial 118 failed with value None.\u001b[0m\n",
      "\u001b[33m[W 2023-01-24 12:49:08,862]\u001b[0m Trial 119 failed with parameters: {'max_depth': 12, 'learning_rate': 0.6034290807073024, 'n_estimators': 50, 'min_child_weight': 5, 'gamma': 0.4472553084684362, 'subsample': 0.053040883940216395, 'colsample_bytree': 0.3977404343450636, 'reg_alpha': 0.1624666795972318, 'reg_lambda': 0.45305179041703086} because of the following error: The value None could not be cast to float..\u001b[0m\n",
      "\u001b[33m[W 2023-01-24 12:49:08,864]\u001b[0m Trial 119 failed with value None.\u001b[0m\n"
     ]
    },
    {
     "name": "stdout",
     "output_type": "stream",
     "text": [
      "0.6383333333333333 0.19333333333333333\n",
      "0.6666666666666666 0.19333333333333333\n"
     ]
    },
    {
     "name": "stderr",
     "output_type": "stream",
     "text": [
      "\u001b[33m[W 2023-01-24 12:49:09,181]\u001b[0m Trial 120 failed with parameters: {'max_depth': 6, 'learning_rate': 0.6153431187334326, 'n_estimators': 87, 'min_child_weight': 2, 'gamma': 0.6127608915555083, 'subsample': 0.9538368537571144, 'colsample_bytree': 0.3436876282192348, 'reg_alpha': 0.89294293272002, 'reg_lambda': 0.1973329125558117} because of the following error: The value None could not be cast to float..\u001b[0m\n",
      "\u001b[33m[W 2023-01-24 12:49:09,182]\u001b[0m Trial 120 failed with value None.\u001b[0m\n",
      "\u001b[33m[W 2023-01-24 12:49:09,285]\u001b[0m Trial 121 failed with parameters: {'max_depth': 8, 'learning_rate': 0.04280440445903713, 'n_estimators': 66, 'min_child_weight': 2, 'gamma': 0.33729732805732854, 'subsample': 0.32620035545508164, 'colsample_bytree': 0.04362761692766103, 'reg_alpha': 0.42744826540714165, 'reg_lambda': 0.5256873978797184} because of the following error: The value None could not be cast to float..\u001b[0m\n",
      "\u001b[33m[W 2023-01-24 12:49:09,286]\u001b[0m Trial 121 failed with value None.\u001b[0m\n"
     ]
    },
    {
     "name": "stdout",
     "output_type": "stream",
     "text": [
      "0.7933333333333333 0.19333333333333333\n",
      "0.6566666666666666 0.19333333333333333\n"
     ]
    },
    {
     "name": "stderr",
     "output_type": "stream",
     "text": [
      "\u001b[33m[W 2023-01-24 12:49:09,687]\u001b[0m Trial 122 failed with parameters: {'max_depth': 17, 'learning_rate': 0.8810902719509944, 'n_estimators': 70, 'min_child_weight': 3, 'gamma': 0.6072466232351236, 'subsample': 0.3518364952846233, 'colsample_bytree': 0.7489778909302027, 'reg_alpha': 0.5248501742022367, 'reg_lambda': 0.34606878099052124} because of the following error: The value None could not be cast to float..\u001b[0m\n",
      "\u001b[33m[W 2023-01-24 12:49:09,689]\u001b[0m Trial 122 failed with value None.\u001b[0m\n",
      "\u001b[33m[W 2023-01-24 12:49:09,789]\u001b[0m Trial 123 failed with parameters: {'max_depth': 19, 'learning_rate': 0.371065934654502, 'n_estimators': 74, 'min_child_weight': 8, 'gamma': 0.48113145156738724, 'subsample': 0.10125084938002464, 'colsample_bytree': 0.03608251033167012, 'reg_alpha': 0.2009361299649462, 'reg_lambda': 0.2240232989997714} because of the following error: The value None could not be cast to float..\u001b[0m\n",
      "\u001b[33m[W 2023-01-24 12:49:09,791]\u001b[0m Trial 123 failed with value None.\u001b[0m\n"
     ]
    },
    {
     "name": "stdout",
     "output_type": "stream",
     "text": [
      "0.7066666666666667 0.19333333333333333\n",
      "0.7966666666666666 0.19333333333333333\n"
     ]
    },
    {
     "name": "stderr",
     "output_type": "stream",
     "text": [
      "\u001b[33m[W 2023-01-24 12:49:10,725]\u001b[0m Trial 124 failed with parameters: {'max_depth': 23, 'learning_rate': 0.5112976512266965, 'n_estimators': 70, 'min_child_weight': 1, 'gamma': 0.849081648050385, 'subsample': 0.8724595945737791, 'colsample_bytree': 0.8845326658101692, 'reg_alpha': 0.9486400241169506, 'reg_lambda': 0.855443999820486} because of the following error: The value None could not be cast to float..\u001b[0m\n",
      "\u001b[33m[W 2023-01-24 12:49:10,726]\u001b[0m Trial 124 failed with value None.\u001b[0m\n"
     ]
    },
    {
     "name": "stdout",
     "output_type": "stream",
     "text": [
      "0.7816666666666666 0.19333333333333333\n"
     ]
    },
    {
     "name": "stderr",
     "output_type": "stream",
     "text": [
      "\u001b[33m[W 2023-01-24 12:49:10,964]\u001b[0m Trial 125 failed with parameters: {'max_depth': 9, 'learning_rate': 0.7287034937899279, 'n_estimators': 80, 'min_child_weight': 8, 'gamma': 0.7751648016324891, 'subsample': 0.8355503429447038, 'colsample_bytree': 0.18502301995103515, 'reg_alpha': 0.724699829057539, 'reg_lambda': 0.6942802649641922} because of the following error: The value None could not be cast to float..\u001b[0m\n",
      "\u001b[33m[W 2023-01-24 12:49:10,966]\u001b[0m Trial 125 failed with value None.\u001b[0m\n",
      "\u001b[33m[W 2023-01-24 12:49:11,083]\u001b[0m Trial 126 failed with parameters: {'max_depth': 1, 'learning_rate': 0.0837719256866354, 'n_estimators': 51, 'min_child_weight': 9, 'gamma': 0.5103773583091651, 'subsample': 0.5118556395269668, 'colsample_bytree': 0.9067117803272917, 'reg_alpha': 0.058112487899981115, 'reg_lambda': 0.15914789354518402} because of the following error: The value None could not be cast to float..\u001b[0m\n",
      "\u001b[33m[W 2023-01-24 12:49:11,084]\u001b[0m Trial 126 failed with value None.\u001b[0m\n"
     ]
    },
    {
     "name": "stdout",
     "output_type": "stream",
     "text": [
      "0.7633333333333333 0.19333333333333333\n",
      "0.8083333333333333 0.19333333333333333\n"
     ]
    },
    {
     "name": "stderr",
     "output_type": "stream",
     "text": [
      "\u001b[33m[W 2023-01-24 12:49:11,298]\u001b[0m Trial 127 failed with parameters: {'max_depth': 21, 'learning_rate': 0.7304497818979582, 'n_estimators': 84, 'min_child_weight': 8, 'gamma': 0.0896270176794133, 'subsample': 0.32763795837354737, 'colsample_bytree': 0.2663840597679736, 'reg_alpha': 0.8741601267000817, 'reg_lambda': 0.19349839373803493} because of the following error: The value None could not be cast to float..\u001b[0m\n",
      "\u001b[33m[W 2023-01-24 12:49:11,301]\u001b[0m Trial 127 failed with value None.\u001b[0m\n",
      "\u001b[33m[W 2023-01-24 12:49:11,490]\u001b[0m Trial 128 failed with parameters: {'max_depth': 1, 'learning_rate': 0.2525357036221542, 'n_estimators': 94, 'min_child_weight': 7, 'gamma': 0.16182316629371998, 'subsample': 0.6104323911260945, 'colsample_bytree': 0.9971001913891339, 'reg_alpha': 0.6334947170173052, 'reg_lambda': 0.7670356338031471} because of the following error: The value None could not be cast to float..\u001b[0m\n",
      "\u001b[33m[W 2023-01-24 12:49:11,492]\u001b[0m Trial 128 failed with value None.\u001b[0m\n"
     ]
    },
    {
     "name": "stdout",
     "output_type": "stream",
     "text": [
      "0.7716666666666666 0.19333333333333333\n",
      "0.7983333333333333 0.19333333333333333\n"
     ]
    },
    {
     "name": "stderr",
     "output_type": "stream",
     "text": [
      "\u001b[33m[W 2023-01-24 12:49:11,680]\u001b[0m Trial 129 failed with parameters: {'max_depth': 20, 'learning_rate': 0.953050128768987, 'n_estimators': 81, 'min_child_weight': 6, 'gamma': 0.35336927594325795, 'subsample': 0.419192400735089, 'colsample_bytree': 0.12748124185512721, 'reg_alpha': 0.6109119799685614, 'reg_lambda': 0.6385276277730793} because of the following error: The value None could not be cast to float..\u001b[0m\n",
      "\u001b[33m[W 2023-01-24 12:49:11,681]\u001b[0m Trial 129 failed with value None.\u001b[0m\n"
     ]
    },
    {
     "name": "stdout",
     "output_type": "stream",
     "text": [
      "0.72 0.19333333333333333\n"
     ]
    },
    {
     "name": "stderr",
     "output_type": "stream",
     "text": [
      "\u001b[33m[W 2023-01-24 12:49:11,930]\u001b[0m Trial 130 failed with parameters: {'max_depth': 13, 'learning_rate': 0.9347215132167109, 'n_estimators': 51, 'min_child_weight': 4, 'gamma': 0.733911470008047, 'subsample': 0.9360780422039138, 'colsample_bytree': 0.27641591917693864, 'reg_alpha': 0.8981406808546724, 'reg_lambda': 0.6957497466818453} because of the following error: The value None could not be cast to float..\u001b[0m\n",
      "\u001b[33m[W 2023-01-24 12:49:11,931]\u001b[0m Trial 130 failed with value None.\u001b[0m\n",
      "\u001b[33m[W 2023-01-24 12:49:12,042]\u001b[0m Trial 131 failed with parameters: {'max_depth': 3, 'learning_rate': 0.07731830163207146, 'n_estimators': 52, 'min_child_weight': 4, 'gamma': 0.44505554221506366, 'subsample': 0.16356609216540277, 'colsample_bytree': 0.3328255599208523, 'reg_alpha': 0.17209596035094554, 'reg_lambda': 0.6039066555648854} because of the following error: The value None could not be cast to float..\u001b[0m\n",
      "\u001b[33m[W 2023-01-24 12:49:12,043]\u001b[0m Trial 131 failed with value None.\u001b[0m\n"
     ]
    },
    {
     "name": "stdout",
     "output_type": "stream",
     "text": [
      "0.7683333333333333 0.19333333333333333\n",
      "0.82 0.19333333333333333\n"
     ]
    },
    {
     "name": "stderr",
     "output_type": "stream",
     "text": [
      "\u001b[33m[W 2023-01-24 12:49:12,607]\u001b[0m Trial 132 failed with parameters: {'max_depth': 6, 'learning_rate': 0.8440487511815981, 'n_estimators': 76, 'min_child_weight': 5, 'gamma': 0.3849849850058582, 'subsample': 0.659832844908588, 'colsample_bytree': 0.9522875361968421, 'reg_alpha': 0.5569243113245039, 'reg_lambda': 0.1437590266687178} because of the following error: The value None could not be cast to float..\u001b[0m\n",
      "\u001b[33m[W 2023-01-24 12:49:12,609]\u001b[0m Trial 132 failed with value None.\u001b[0m\n"
     ]
    },
    {
     "name": "stdout",
     "output_type": "stream",
     "text": [
      "0.6883333333333334 0.19333333333333333\n"
     ]
    },
    {
     "name": "stderr",
     "output_type": "stream",
     "text": [
      "\u001b[33m[W 2023-01-24 12:49:12,872]\u001b[0m Trial 133 failed with parameters: {'max_depth': 7, 'learning_rate': 0.05288753814028024, 'n_estimators': 57, 'min_child_weight': 5, 'gamma': 0.6335684649958483, 'subsample': 0.3127808601069002, 'colsample_bytree': 0.5363530366089437, 'reg_alpha': 0.08081540305185929, 'reg_lambda': 0.698617559283584} because of the following error: The value None could not be cast to float..\u001b[0m\n",
      "\u001b[33m[W 2023-01-24 12:49:12,873]\u001b[0m Trial 133 failed with value None.\u001b[0m\n",
      "\u001b[33m[W 2023-01-24 12:49:13,004]\u001b[0m Trial 134 failed with parameters: {'max_depth': 4, 'learning_rate': 0.17422508817078525, 'n_estimators': 87, 'min_child_weight': 7, 'gamma': 0.8666240514438118, 'subsample': 0.10040386364129122, 'colsample_bytree': 0.16638930186535372, 'reg_alpha': 0.5919460361741692, 'reg_lambda': 0.1529195865914126} because of the following error: The value None could not be cast to float..\u001b[0m\n",
      "\u001b[33m[W 2023-01-24 12:49:13,006]\u001b[0m Trial 134 failed with value None.\u001b[0m\n"
     ]
    },
    {
     "name": "stdout",
     "output_type": "stream",
     "text": [
      "0.7983333333333333 0.19333333333333333\n",
      "0.7783333333333333 0.19333333333333333\n"
     ]
    },
    {
     "name": "stderr",
     "output_type": "stream",
     "text": [
      "\u001b[33m[W 2023-01-24 12:49:13,190]\u001b[0m Trial 135 failed with parameters: {'max_depth': 24, 'learning_rate': 0.38050914459203483, 'n_estimators': 55, 'min_child_weight': 10, 'gamma': 0.9908978205092351, 'subsample': 0.6352141446785444, 'colsample_bytree': 0.17851020303873633, 'reg_alpha': 0.6802736248002142, 'reg_lambda': 0.5417062028750286} because of the following error: The value None could not be cast to float..\u001b[0m\n",
      "\u001b[33m[W 2023-01-24 12:49:13,192]\u001b[0m Trial 135 failed with value None.\u001b[0m\n"
     ]
    },
    {
     "name": "stdout",
     "output_type": "stream",
     "text": [
      "0.7783333333333333 0.19333333333333333\n"
     ]
    },
    {
     "name": "stderr",
     "output_type": "stream",
     "text": [
      "\u001b[33m[W 2023-01-24 12:49:13,429]\u001b[0m Trial 136 failed with parameters: {'max_depth': 10, 'learning_rate': 0.5155106381197435, 'n_estimators': 66, 'min_child_weight': 2, 'gamma': 0.5258897139968243, 'subsample': 0.1549766766756469, 'colsample_bytree': 0.4581390029374829, 'reg_alpha': 0.5854871013447761, 'reg_lambda': 0.32322565032010525} because of the following error: The value None could not be cast to float..\u001b[0m\n",
      "\u001b[33m[W 2023-01-24 12:49:13,433]\u001b[0m Trial 136 failed with value None.\u001b[0m\n"
     ]
    },
    {
     "name": "stdout",
     "output_type": "stream",
     "text": [
      "0.7383333333333333 0.19333333333333333\n"
     ]
    },
    {
     "name": "stderr",
     "output_type": "stream",
     "text": [
      "\u001b[33m[W 2023-01-24 12:49:13,767]\u001b[0m Trial 137 failed with parameters: {'max_depth': 3, 'learning_rate': 0.45766574921048964, 'n_estimators': 87, 'min_child_weight': 4, 'gamma': 0.737523020142354, 'subsample': 0.9145395969805088, 'colsample_bytree': 0.996706030463933, 'reg_alpha': 0.80748109843854, 'reg_lambda': 0.9291302876313811} because of the following error: The value None could not be cast to float..\u001b[0m\n",
      "\u001b[33m[W 2023-01-24 12:49:13,769]\u001b[0m Trial 137 failed with value None.\u001b[0m\n",
      "\u001b[33m[W 2023-01-24 12:49:13,898]\u001b[0m Trial 138 failed with parameters: {'max_depth': 8, 'learning_rate': 0.6501531345158834, 'n_estimators': 80, 'min_child_weight': 4, 'gamma': 0.6403420342188397, 'subsample': 0.09951791817342301, 'colsample_bytree': 0.12990009450404288, 'reg_alpha': 0.12632644838939436, 'reg_lambda': 0.907323048534829} because of the following error: The value None could not be cast to float..\u001b[0m\n",
      "\u001b[33m[W 2023-01-24 12:49:13,899]\u001b[0m Trial 138 failed with value None.\u001b[0m\n"
     ]
    },
    {
     "name": "stdout",
     "output_type": "stream",
     "text": [
      "0.77 0.19333333333333333\n",
      "0.7016666666666667 0.19333333333333333\n"
     ]
    },
    {
     "name": "stderr",
     "output_type": "stream",
     "text": [
      "\u001b[33m[W 2023-01-24 12:49:14,244]\u001b[0m Trial 139 failed with parameters: {'max_depth': 7, 'learning_rate': 0.5206804237924396, 'n_estimators': 56, 'min_child_weight': 9, 'gamma': 0.32120260855963856, 'subsample': 0.8613489229897006, 'colsample_bytree': 0.6402113271899614, 'reg_alpha': 0.04226682788955649, 'reg_lambda': 0.8513650766506069} because of the following error: The value None could not be cast to float..\u001b[0m\n",
      "\u001b[33m[W 2023-01-24 12:49:14,246]\u001b[0m Trial 139 failed with value None.\u001b[0m\n",
      "\u001b[33m[W 2023-01-24 12:49:14,340]\u001b[0m Trial 140 failed with parameters: {'max_depth': 5, 'learning_rate': 0.20153832550011552, 'n_estimators': 53, 'min_child_weight': 2, 'gamma': 0.8481713818527549, 'subsample': 0.4650037241146945, 'colsample_bytree': 0.03579694991324496, 'reg_alpha': 0.40417146939553633, 'reg_lambda': 0.09644301942409554} because of the following error: The value None could not be cast to float..\u001b[0m\n",
      "\u001b[33m[W 2023-01-24 12:49:14,342]\u001b[0m Trial 140 failed with value None.\u001b[0m\n"
     ]
    },
    {
     "name": "stdout",
     "output_type": "stream",
     "text": [
      "0.735 0.19333333333333333\n",
      "0.735 0.19333333333333333\n"
     ]
    },
    {
     "name": "stderr",
     "output_type": "stream",
     "text": [
      "\u001b[33m[W 2023-01-24 12:49:14,551]\u001b[0m Trial 141 failed with parameters: {'max_depth': 12, 'learning_rate': 0.6520200282946917, 'n_estimators': 75, 'min_child_weight': 4, 'gamma': 0.7066062023929313, 'subsample': 0.7579425255932445, 'colsample_bytree': 0.12115269875107242, 'reg_alpha': 0.16670142345398373, 'reg_lambda': 0.8110210565089204} because of the following error: The value None could not be cast to float..\u001b[0m\n",
      "\u001b[33m[W 2023-01-24 12:49:14,554]\u001b[0m Trial 141 failed with value None.\u001b[0m\n",
      "\u001b[33m[W 2023-01-24 12:49:14,743]\u001b[0m Trial 142 failed with parameters: {'max_depth': 18, 'learning_rate': 0.9127216841847697, 'n_estimators': 83, 'min_child_weight': 10, 'gamma': 0.06754485216799365, 'subsample': 0.8414576987032246, 'colsample_bytree': 0.11766916469456776, 'reg_alpha': 0.5919906059390128, 'reg_lambda': 0.0986695039485122} because of the following error: The value None could not be cast to float..\u001b[0m\n",
      "\u001b[33m[W 2023-01-24 12:49:14,745]\u001b[0m Trial 142 failed with value None.\u001b[0m\n"
     ]
    },
    {
     "name": "stdout",
     "output_type": "stream",
     "text": [
      "0.7166666666666667 0.19333333333333333\n",
      "0.71 0.19333333333333333\n"
     ]
    },
    {
     "name": "stderr",
     "output_type": "stream",
     "text": [
      "\u001b[33m[W 2023-01-24 12:49:14,854]\u001b[0m Trial 143 failed with parameters: {'max_depth': 3, 'learning_rate': 0.07255145522744362, 'n_estimators': 56, 'min_child_weight': 7, 'gamma': 0.4773701631724442, 'subsample': 0.7756892078629843, 'colsample_bytree': 0.14776807343317, 'reg_alpha': 0.9153264668987945, 'reg_lambda': 0.8698389519895396} because of the following error: The value None could not be cast to float..\u001b[0m\n",
      "\u001b[33m[W 2023-01-24 12:49:14,855]\u001b[0m Trial 143 failed with value None.\u001b[0m\n",
      "\u001b[33m[W 2023-01-24 12:49:15,034]\u001b[0m Trial 144 failed with parameters: {'max_depth': 8, 'learning_rate': 0.9614198165318526, 'n_estimators': 65, 'min_child_weight': 10, 'gamma': 0.31977379959544566, 'subsample': 0.1700975332582223, 'colsample_bytree': 0.8840247043194576, 'reg_alpha': 0.6468167548060907, 'reg_lambda': 0.5993862556448021} because of the following error: The value None could not be cast to float..\u001b[0m\n",
      "\u001b[33m[W 2023-01-24 12:49:15,036]\u001b[0m Trial 144 failed with value None.\u001b[0m\n"
     ]
    },
    {
     "name": "stdout",
     "output_type": "stream",
     "text": [
      "0.7833333333333333 0.19333333333333333\n",
      "0.7383333333333333 0.19333333333333333\n"
     ]
    },
    {
     "name": "stderr",
     "output_type": "stream",
     "text": [
      "\u001b[33m[W 2023-01-24 12:49:15,303]\u001b[0m Trial 145 failed with parameters: {'max_depth': 14, 'learning_rate': 0.07548069223227642, 'n_estimators': 57, 'min_child_weight': 9, 'gamma': 0.5503788138531972, 'subsample': 0.2646671824042054, 'colsample_bytree': 0.8235309414826488, 'reg_alpha': 0.38871987351155973, 'reg_lambda': 0.07075430892357434} because of the following error: The value None could not be cast to float..\u001b[0m\n",
      "\u001b[33m[W 2023-01-24 12:49:15,304]\u001b[0m Trial 145 failed with value None.\u001b[0m\n",
      "\u001b[33m[W 2023-01-24 12:49:15,475]\u001b[0m Trial 146 failed with parameters: {'max_depth': 2, 'learning_rate': 0.607893597621687, 'n_estimators': 94, 'min_child_weight': 4, 'gamma': 0.2588902734788559, 'subsample': 0.3110732981085912, 'colsample_bytree': 0.2607280356037357, 'reg_alpha': 0.9246255306512922, 'reg_lambda': 0.18163826155003449} because of the following error: The value None could not be cast to float..\u001b[0m\n",
      "\u001b[33m[W 2023-01-24 12:49:15,477]\u001b[0m Trial 146 failed with value None.\u001b[0m\n"
     ]
    },
    {
     "name": "stdout",
     "output_type": "stream",
     "text": [
      "0.8033333333333333 0.19333333333333333\n",
      "0.76 0.19333333333333333\n"
     ]
    },
    {
     "name": "stderr",
     "output_type": "stream",
     "text": [
      "\u001b[33m[W 2023-01-24 12:49:15,669]\u001b[0m Trial 147 failed with parameters: {'max_depth': 3, 'learning_rate': 0.3884868920025362, 'n_estimators': 67, 'min_child_weight': 1, 'gamma': 0.7460371479038473, 'subsample': 0.9991279214066199, 'colsample_bytree': 0.6372111611856559, 'reg_alpha': 0.28029056576012273, 'reg_lambda': 0.5489160852247587} because of the following error: The value None could not be cast to float..\u001b[0m\n",
      "\u001b[33m[W 2023-01-24 12:49:15,670]\u001b[0m Trial 147 failed with value None.\u001b[0m\n"
     ]
    },
    {
     "name": "stdout",
     "output_type": "stream",
     "text": [
      "0.785 0.19333333333333333\n"
     ]
    },
    {
     "name": "stderr",
     "output_type": "stream",
     "text": [
      "\u001b[33m[W 2023-01-24 12:49:15,882]\u001b[0m Trial 148 failed with parameters: {'max_depth': 2, 'learning_rate': 0.7565339970973566, 'n_estimators': 87, 'min_child_weight': 8, 'gamma': 0.5005134428730051, 'subsample': 0.6882149122500901, 'colsample_bytree': 0.6394224274845144, 'reg_alpha': 0.7417708095199288, 'reg_lambda': 0.3053645273472472} because of the following error: The value None could not be cast to float..\u001b[0m\n",
      "\u001b[33m[W 2023-01-24 12:49:15,884]\u001b[0m Trial 148 failed with value None.\u001b[0m\n"
     ]
    },
    {
     "name": "stdout",
     "output_type": "stream",
     "text": [
      "0.71 0.19333333333333333\n"
     ]
    },
    {
     "name": "stderr",
     "output_type": "stream",
     "text": [
      "\u001b[33m[W 2023-01-24 12:49:16,402]\u001b[0m Trial 149 failed with parameters: {'max_depth': 24, 'learning_rate': 0.2210269666513159, 'n_estimators': 93, 'min_child_weight': 9, 'gamma': 0.6433543582455424, 'subsample': 0.4800140563026353, 'colsample_bytree': 0.6665096364306983, 'reg_alpha': 0.9147017852654635, 'reg_lambda': 0.6544113179672569} because of the following error: The value None could not be cast to float..\u001b[0m\n",
      "\u001b[33m[W 2023-01-24 12:49:16,403]\u001b[0m Trial 149 failed with value None.\u001b[0m\n"
     ]
    },
    {
     "name": "stdout",
     "output_type": "stream",
     "text": [
      "0.8 0.19333333333333333\n"
     ]
    },
    {
     "name": "stderr",
     "output_type": "stream",
     "text": [
      "\u001b[33m[W 2023-01-24 12:49:17,056]\u001b[0m Trial 150 failed with parameters: {'max_depth': 12, 'learning_rate': 0.09509274510753829, 'n_estimators': 88, 'min_child_weight': 10, 'gamma': 0.2532965141941658, 'subsample': 0.9215998263306726, 'colsample_bytree': 0.641626366558839, 'reg_alpha': 0.07364105401048947, 'reg_lambda': 0.058397721542047726} because of the following error: The value None could not be cast to float..\u001b[0m\n",
      "\u001b[33m[W 2023-01-24 12:49:17,058]\u001b[0m Trial 150 failed with value None.\u001b[0m\n",
      "\u001b[33m[W 2023-01-24 12:49:17,242]\u001b[0m Trial 151 failed with parameters: {'max_depth': 4, 'learning_rate': 0.9764431504407348, 'n_estimators': 95, 'min_child_weight': 8, 'gamma': 0.7187979155064128, 'subsample': 0.18025264921820308, 'colsample_bytree': 0.3408501822241657, 'reg_alpha': 0.08818130187956061, 'reg_lambda': 0.3197401262717488} because of the following error: The value None could not be cast to float..\u001b[0m\n",
      "\u001b[33m[W 2023-01-24 12:49:17,244]\u001b[0m Trial 151 failed with value None.\u001b[0m\n"
     ]
    },
    {
     "name": "stdout",
     "output_type": "stream",
     "text": [
      "0.8016666666666666 0.19333333333333333\n",
      "0.695 0.19333333333333333\n"
     ]
    },
    {
     "name": "stderr",
     "output_type": "stream",
     "text": [
      "\u001b[33m[W 2023-01-24 12:49:17,346]\u001b[0m Trial 152 failed with parameters: {'max_depth': 13, 'learning_rate': 0.25945936324939817, 'n_estimators': 58, 'min_child_weight': 7, 'gamma': 0.16934398010948465, 'subsample': 0.7722782530798157, 'colsample_bytree': 0.04886040696762155, 'reg_alpha': 0.12530116781132655, 'reg_lambda': 0.9736009197699013} because of the following error: The value None could not be cast to float..\u001b[0m\n",
      "\u001b[33m[W 2023-01-24 12:49:17,347]\u001b[0m Trial 152 failed with value None.\u001b[0m\n"
     ]
    },
    {
     "name": "stdout",
     "output_type": "stream",
     "text": [
      "0.7816666666666666 0.19333333333333333\n"
     ]
    },
    {
     "name": "stderr",
     "output_type": "stream",
     "text": [
      "\u001b[33m[W 2023-01-24 12:49:17,554]\u001b[0m Trial 153 failed with parameters: {'max_depth': 10, 'learning_rate': 0.024826341263315413, 'n_estimators': 61, 'min_child_weight': 8, 'gamma': 0.7161821387610504, 'subsample': 0.3049212682018222, 'colsample_bytree': 0.325266288663016, 'reg_alpha': 0.7830764177709124, 'reg_lambda': 0.6811518504519393} because of the following error: The value None could not be cast to float..\u001b[0m\n",
      "\u001b[33m[W 2023-01-24 12:49:17,558]\u001b[0m Trial 153 failed with value None.\u001b[0m\n",
      "\u001b[33m[W 2023-01-24 12:49:17,690]\u001b[0m Trial 154 failed with parameters: {'max_depth': 4, 'learning_rate': 0.9448844637810584, 'n_estimators': 64, 'min_child_weight': 10, 'gamma': 0.7140495601381, 'subsample': 0.7692863104292859, 'colsample_bytree': 0.13849946076870753, 'reg_alpha': 0.4027940035577197, 'reg_lambda': 0.8920590030824225} because of the following error: The value None could not be cast to float..\u001b[0m\n",
      "\u001b[33m[W 2023-01-24 12:49:17,692]\u001b[0m Trial 154 failed with value None.\u001b[0m\n"
     ]
    },
    {
     "name": "stdout",
     "output_type": "stream",
     "text": [
      "0.7966666666666666 0.19333333333333333\n",
      "0.7633333333333333 0.19333333333333333\n"
     ]
    },
    {
     "name": "stderr",
     "output_type": "stream",
     "text": [
      "\u001b[33m[W 2023-01-24 12:49:17,842]\u001b[0m Trial 155 failed with parameters: {'max_depth': 9, 'learning_rate': 0.27487642807600215, 'n_estimators': 83, 'min_child_weight': 8, 'gamma': 0.8822162559818869, 'subsample': 0.07853360791418391, 'colsample_bytree': 0.6702955126021307, 'reg_alpha': 0.7739812656551595, 'reg_lambda': 0.9876809161260537} because of the following error: The value None could not be cast to float..\u001b[0m\n",
      "\u001b[33m[W 2023-01-24 12:49:17,844]\u001b[0m Trial 155 failed with value None.\u001b[0m\n",
      "\u001b[33m[W 2023-01-24 12:49:18,029]\u001b[0m Trial 156 failed with parameters: {'max_depth': 12, 'learning_rate': 0.8332369618676413, 'n_estimators': 76, 'min_child_weight': 1, 'gamma': 0.27771460325776537, 'subsample': 0.4153209479976351, 'colsample_bytree': 0.07682834865668127, 'reg_alpha': 0.13198522679947186, 'reg_lambda': 0.8953466397492813} because of the following error: The value None could not be cast to float..\u001b[0m\n",
      "\u001b[33m[W 2023-01-24 12:49:18,030]\u001b[0m Trial 156 failed with value None.\u001b[0m\n"
     ]
    },
    {
     "name": "stdout",
     "output_type": "stream",
     "text": [
      "0.7933333333333333 0.19333333333333333\n",
      "0.6933333333333334 0.19333333333333333\n"
     ]
    },
    {
     "name": "stderr",
     "output_type": "stream",
     "text": [
      "\u001b[33m[W 2023-01-24 12:49:18,520]\u001b[0m Trial 157 failed with parameters: {'max_depth': 17, 'learning_rate': 0.9413921427807804, 'n_estimators': 70, 'min_child_weight': 6, 'gamma': 0.7185715780835169, 'subsample': 0.5594678942804044, 'colsample_bytree': 0.8484001548946891, 'reg_alpha': 0.6233068263421215, 'reg_lambda': 0.9348765300392833} because of the following error: The value None could not be cast to float..\u001b[0m\n",
      "\u001b[33m[W 2023-01-24 12:49:18,522]\u001b[0m Trial 157 failed with value None.\u001b[0m\n"
     ]
    },
    {
     "name": "stdout",
     "output_type": "stream",
     "text": [
      "0.6966666666666667 0.19333333333333333\n"
     ]
    },
    {
     "name": "stderr",
     "output_type": "stream",
     "text": [
      "\u001b[33m[W 2023-01-24 12:49:18,745]\u001b[0m Trial 158 failed with parameters: {'max_depth': 23, 'learning_rate': 0.6873253012964914, 'n_estimators': 91, 'min_child_weight': 9, 'gamma': 0.41179610400811806, 'subsample': 0.6404594194837402, 'colsample_bytree': 0.13991065113653298, 'reg_alpha': 0.5559485621205215, 'reg_lambda': 0.1949457789828482} because of the following error: The value None could not be cast to float..\u001b[0m\n",
      "\u001b[33m[W 2023-01-24 12:49:18,746]\u001b[0m Trial 158 failed with value None.\u001b[0m\n",
      "\u001b[33m[W 2023-01-24 12:49:18,849]\u001b[0m Trial 159 failed with parameters: {'max_depth': 16, 'learning_rate': 0.21653083519620506, 'n_estimators': 69, 'min_child_weight': 9, 'gamma': 0.9933424966306404, 'subsample': 0.43860174987681877, 'colsample_bytree': 0.03278131389195217, 'reg_alpha': 0.3939610542622464, 'reg_lambda': 0.5780464259222116} because of the following error: The value None could not be cast to float..\u001b[0m\n",
      "\u001b[33m[W 2023-01-24 12:49:18,850]\u001b[0m Trial 159 failed with value None.\u001b[0m\n"
     ]
    },
    {
     "name": "stdout",
     "output_type": "stream",
     "text": [
      "0.7566666666666667 0.19333333333333333\n",
      "0.7733333333333333 0.19333333333333333\n"
     ]
    },
    {
     "name": "stderr",
     "output_type": "stream",
     "text": [
      "\u001b[33m[W 2023-01-24 12:49:18,993]\u001b[0m Trial 160 failed with parameters: {'max_depth': 2, 'learning_rate': 0.08906518720053862, 'n_estimators': 87, 'min_child_weight': 1, 'gamma': 0.16640106502205895, 'subsample': 0.9900437585194816, 'colsample_bytree': 0.21687440011479545, 'reg_alpha': 0.47070706362793696, 'reg_lambda': 0.5826960666366655} because of the following error: The value None could not be cast to float..\u001b[0m\n",
      "\u001b[33m[W 2023-01-24 12:49:18,995]\u001b[0m Trial 160 failed with value None.\u001b[0m\n"
     ]
    },
    {
     "name": "stdout",
     "output_type": "stream",
     "text": [
      "0.785 0.19333333333333333\n"
     ]
    },
    {
     "name": "stderr",
     "output_type": "stream",
     "text": [
      "\u001b[33m[W 2023-01-24 12:49:19,248]\u001b[0m Trial 161 failed with parameters: {'max_depth': 6, 'learning_rate': 0.8541100945574832, 'n_estimators': 99, 'min_child_weight': 5, 'gamma': 0.7773804161774046, 'subsample': 0.13138754734664285, 'colsample_bytree': 0.8026067091067673, 'reg_alpha': 0.5402551963928192, 'reg_lambda': 0.633962054571782} because of the following error: The value None could not be cast to float..\u001b[0m\n",
      "\u001b[33m[W 2023-01-24 12:49:19,251]\u001b[0m Trial 161 failed with value None.\u001b[0m\n"
     ]
    },
    {
     "name": "stdout",
     "output_type": "stream",
     "text": [
      "0.6416666666666667 0.19333333333333333\n"
     ]
    },
    {
     "name": "stderr",
     "output_type": "stream",
     "text": [
      "\u001b[33m[W 2023-01-24 12:49:19,792]\u001b[0m Trial 162 failed with parameters: {'max_depth': 18, 'learning_rate': 0.18773511821879257, 'n_estimators': 80, 'min_child_weight': 10, 'gamma': 0.7388742252955686, 'subsample': 0.5247605584449828, 'colsample_bytree': 0.869110141116924, 'reg_alpha': 0.8813195726130916, 'reg_lambda': 0.03575000330555782} because of the following error: The value None could not be cast to float..\u001b[0m\n",
      "\u001b[33m[W 2023-01-24 12:49:19,793]\u001b[0m Trial 162 failed with value None.\u001b[0m\n",
      "\u001b[33m[W 2023-01-24 12:49:19,963]\u001b[0m Trial 163 failed with parameters: {'max_depth': 19, 'learning_rate': 0.38700962584769477, 'n_estimators': 99, 'min_child_weight': 4, 'gamma': 0.7669320034669355, 'subsample': 0.33972931501908227, 'colsample_bytree': 0.054742872674743495, 'reg_alpha': 0.8174889902846766, 'reg_lambda': 0.7708624796891375} because of the following error: The value None could not be cast to float..\u001b[0m\n",
      "\u001b[33m[W 2023-01-24 12:49:19,965]\u001b[0m Trial 163 failed with value None.\u001b[0m\n"
     ]
    },
    {
     "name": "stdout",
     "output_type": "stream",
     "text": [
      "0.7983333333333333 0.19333333333333333\n",
      "0.7633333333333333 0.19333333333333333\n"
     ]
    },
    {
     "name": "stderr",
     "output_type": "stream",
     "text": [
      "\u001b[33m[W 2023-01-24 12:49:20,547]\u001b[0m Trial 164 failed with parameters: {'max_depth': 21, 'learning_rate': 0.9150799365076828, 'n_estimators': 94, 'min_child_weight': 1, 'gamma': 0.5366584219465512, 'subsample': 0.39381611927989985, 'colsample_bytree': 0.5831012947534665, 'reg_alpha': 0.8075787469967641, 'reg_lambda': 0.6011416856297704} because of the following error: The value None could not be cast to float..\u001b[0m\n",
      "\u001b[33m[W 2023-01-24 12:49:20,548]\u001b[0m Trial 164 failed with value None.\u001b[0m\n"
     ]
    },
    {
     "name": "stdout",
     "output_type": "stream",
     "text": [
      "0.6616666666666666 0.19333333333333333\n"
     ]
    },
    {
     "name": "stderr",
     "output_type": "stream",
     "text": [
      "\u001b[33m[W 2023-01-24 12:49:21,068]\u001b[0m Trial 165 failed with parameters: {'max_depth': 6, 'learning_rate': 0.3468943537542515, 'n_estimators': 83, 'min_child_weight': 2, 'gamma': 0.2677377347460552, 'subsample': 0.4155703461869337, 'colsample_bytree': 0.7541102798854449, 'reg_alpha': 0.4555652066846374, 'reg_lambda': 0.8702580575443454} because of the following error: The value None could not be cast to float..\u001b[0m\n",
      "\u001b[33m[W 2023-01-24 12:49:21,070]\u001b[0m Trial 165 failed with value None.\u001b[0m\n",
      "\u001b[33m[W 2023-01-24 12:49:21,208]\u001b[0m Trial 166 failed with parameters: {'max_depth': 19, 'learning_rate': 0.10221505853585905, 'n_estimators': 70, 'min_child_weight': 8, 'gamma': 0.3466995088323322, 'subsample': 0.10453186399658858, 'colsample_bytree': 0.37883107688626927, 'reg_alpha': 0.3193434862957737, 'reg_lambda': 0.49084221555560154} because of the following error: The value None could not be cast to float..\u001b[0m\n",
      "\u001b[33m[W 2023-01-24 12:49:21,210]\u001b[0m Trial 166 failed with value None.\u001b[0m\n"
     ]
    },
    {
     "name": "stdout",
     "output_type": "stream",
     "text": [
      "0.7716666666666666 0.19333333333333333\n",
      "0.8 0.19333333333333333\n"
     ]
    },
    {
     "name": "stderr",
     "output_type": "stream",
     "text": [
      "\u001b[33m[W 2023-01-24 12:49:21,343]\u001b[0m Trial 167 failed with parameters: {'max_depth': 19, 'learning_rate': 0.9215142361245829, 'n_estimators': 92, 'min_child_weight': 3, 'gamma': 0.09082341838198993, 'subsample': 0.012848157820158985, 'colsample_bytree': 0.8766153897822119, 'reg_alpha': 0.8252548393570642, 'reg_lambda': 0.17677740063680497} because of the following error: The value None could not be cast to float..\u001b[0m\n",
      "\u001b[33m[W 2023-01-24 12:49:21,344]\u001b[0m Trial 167 failed with value None.\u001b[0m\n"
     ]
    },
    {
     "name": "stdout",
     "output_type": "stream",
     "text": [
      "0.7133333333333334 0.19333333333333333\n"
     ]
    },
    {
     "name": "stderr",
     "output_type": "stream",
     "text": [
      "\u001b[33m[W 2023-01-24 12:49:21,593]\u001b[0m Trial 168 failed with parameters: {'max_depth': 23, 'learning_rate': 0.8551844380109789, 'n_estimators': 65, 'min_child_weight': 7, 'gamma': 0.7933562951225088, 'subsample': 0.899310264129292, 'colsample_bytree': 0.231811691901371, 'reg_alpha': 0.3040017359126812, 'reg_lambda': 0.5204823758859196} because of the following error: The value None could not be cast to float..\u001b[0m\n",
      "\u001b[33m[W 2023-01-24 12:49:21,597]\u001b[0m Trial 168 failed with value None.\u001b[0m\n",
      "\u001b[33m[W 2023-01-24 12:49:21,701]\u001b[0m Trial 169 failed with parameters: {'max_depth': 1, 'learning_rate': 0.012741839883742865, 'n_estimators': 65, 'min_child_weight': 7, 'gamma': 0.3891256838019135, 'subsample': 0.6279813241793866, 'colsample_bytree': 0.37286398707343565, 'reg_alpha': 0.8748173208121403, 'reg_lambda': 0.03579177824358844} because of the following error: The value None could not be cast to float..\u001b[0m\n",
      "\u001b[33m[W 2023-01-24 12:49:21,703]\u001b[0m Trial 169 failed with value None.\u001b[0m\n"
     ]
    },
    {
     "name": "stdout",
     "output_type": "stream",
     "text": [
      "0.7533333333333333 0.19333333333333333\n",
      "0.755 0.19333333333333333\n"
     ]
    },
    {
     "name": "stderr",
     "output_type": "stream",
     "text": [
      "\u001b[33m[W 2023-01-24 12:49:21,833]\u001b[0m Trial 170 failed with parameters: {'max_depth': 2, 'learning_rate': 0.07868801675796691, 'n_estimators': 67, 'min_child_weight': 8, 'gamma': 0.25896433256969403, 'subsample': 0.32591939004968234, 'colsample_bytree': 0.30758577116083885, 'reg_alpha': 0.8771299533143463, 'reg_lambda': 0.024373539451152188} because of the following error: The value None could not be cast to float..\u001b[0m\n",
      "\u001b[33m[W 2023-01-24 12:49:21,834]\u001b[0m Trial 170 failed with value None.\u001b[0m\n",
      "\u001b[33m[W 2023-01-24 12:49:21,978]\u001b[0m Trial 171 failed with parameters: {'max_depth': 1, 'learning_rate': 0.5885876083684249, 'n_estimators': 79, 'min_child_weight': 8, 'gamma': 0.1377014668695565, 'subsample': 0.8256679939841187, 'colsample_bytree': 0.8072730213095594, 'reg_alpha': 0.493318313892512, 'reg_lambda': 0.3994467042937266} because of the following error: The value None could not be cast to float..\u001b[0m\n",
      "\u001b[33m[W 2023-01-24 12:49:21,980]\u001b[0m Trial 171 failed with value None.\u001b[0m\n"
     ]
    },
    {
     "name": "stdout",
     "output_type": "stream",
     "text": [
      "0.8 0.19333333333333333\n",
      "0.7983333333333333 0.19333333333333333\n"
     ]
    },
    {
     "name": "stderr",
     "output_type": "stream",
     "text": [
      "\u001b[33m[W 2023-01-24 12:49:22,117]\u001b[0m Trial 172 failed with parameters: {'max_depth': 10, 'learning_rate': 0.15529142850458652, 'n_estimators': 89, 'min_child_weight': 7, 'gamma': 0.7044692310531192, 'subsample': 0.9531624891846081, 'colsample_bytree': 0.013423371269965375, 'reg_alpha': 0.5174209813887141, 'reg_lambda': 0.6526848570282224} because of the following error: The value None could not be cast to float..\u001b[0m\n",
      "\u001b[33m[W 2023-01-24 12:49:22,118]\u001b[0m Trial 172 failed with value None.\u001b[0m\n"
     ]
    },
    {
     "name": "stdout",
     "output_type": "stream",
     "text": [
      "0.79 0.19333333333333333\n"
     ]
    },
    {
     "name": "stderr",
     "output_type": "stream",
     "text": [
      "\u001b[33m[W 2023-01-24 12:49:23,453]\u001b[0m Trial 173 failed with parameters: {'max_depth': 17, 'learning_rate': 0.2559668171053512, 'n_estimators': 97, 'min_child_weight': 2, 'gamma': 0.36779418818195636, 'subsample': 0.9523664321356724, 'colsample_bytree': 0.9182827940536525, 'reg_alpha': 0.039879134490038694, 'reg_lambda': 0.2971592460463954} because of the following error: The value None could not be cast to float..\u001b[0m\n",
      "\u001b[33m[W 2023-01-24 12:49:23,456]\u001b[0m Trial 173 failed with value None.\u001b[0m\n"
     ]
    },
    {
     "name": "stdout",
     "output_type": "stream",
     "text": [
      "0.7783333333333333 0.19333333333333333\n"
     ]
    },
    {
     "name": "stderr",
     "output_type": "stream",
     "text": [
      "\u001b[33m[W 2023-01-24 12:49:24,241]\u001b[0m Trial 174 failed with parameters: {'max_depth': 18, 'learning_rate': 0.09500380808823235, 'n_estimators': 62, 'min_child_weight': 4, 'gamma': 0.4529281434468521, 'subsample': 0.7257605524427228, 'colsample_bytree': 0.9806424713084102, 'reg_alpha': 0.4393783564762638, 'reg_lambda': 0.8407717335651181} because of the following error: The value None could not be cast to float..\u001b[0m\n",
      "\u001b[33m[W 2023-01-24 12:49:24,242]\u001b[0m Trial 174 failed with value None.\u001b[0m\n",
      "\u001b[33m[W 2023-01-24 12:49:24,413]\u001b[0m Trial 175 failed with parameters: {'max_depth': 17, 'learning_rate': 0.7498440025229892, 'n_estimators': 67, 'min_child_weight': 6, 'gamma': 0.3063860345367098, 'subsample': 0.1869046160659632, 'colsample_bytree': 0.42407115552160074, 'reg_alpha': 0.41948010230349553, 'reg_lambda': 0.18644250137935964} because of the following error: The value None could not be cast to float..\u001b[0m\n",
      "\u001b[33m[W 2023-01-24 12:49:24,415]\u001b[0m Trial 175 failed with value None.\u001b[0m\n"
     ]
    },
    {
     "name": "stdout",
     "output_type": "stream",
     "text": [
      "0.8 0.19333333333333333\n",
      "0.7016666666666667 0.19333333333333333\n"
     ]
    },
    {
     "name": "stderr",
     "output_type": "stream",
     "text": [
      "\u001b[33m[W 2023-01-24 12:49:24,623]\u001b[0m Trial 176 failed with parameters: {'max_depth': 10, 'learning_rate': 0.9128538732341175, 'n_estimators': 77, 'min_child_weight': 5, 'gamma': 0.5702635411689133, 'subsample': 0.6252704447957751, 'colsample_bytree': 0.12817047971427678, 'reg_alpha': 0.6839848997977492, 'reg_lambda': 0.7938477726128171} because of the following error: The value None could not be cast to float..\u001b[0m\n",
      "\u001b[33m[W 2023-01-24 12:49:24,625]\u001b[0m Trial 176 failed with value None.\u001b[0m\n"
     ]
    },
    {
     "name": "stdout",
     "output_type": "stream",
     "text": [
      "0.725 0.19333333333333333\n"
     ]
    },
    {
     "name": "stderr",
     "output_type": "stream",
     "text": [
      "\u001b[33m[W 2023-01-24 12:49:24,842]\u001b[0m Trial 177 failed with parameters: {'max_depth': 6, 'learning_rate': 0.7140733947809599, 'n_estimators': 51, 'min_child_weight': 3, 'gamma': 0.22419938487610377, 'subsample': 0.8235360003543494, 'colsample_bytree': 0.35455195419406926, 'reg_alpha': 0.7399127790194607, 'reg_lambda': 0.30631025929547145} because of the following error: The value None could not be cast to float..\u001b[0m\n",
      "\u001b[33m[W 2023-01-24 12:49:24,849]\u001b[0m Trial 177 failed with value None.\u001b[0m\n"
     ]
    },
    {
     "name": "stdout",
     "output_type": "stream",
     "text": [
      "0.765 0.19333333333333333\n"
     ]
    },
    {
     "name": "stderr",
     "output_type": "stream",
     "text": [
      "\u001b[33m[W 2023-01-24 12:49:25,614]\u001b[0m Trial 178 failed with parameters: {'max_depth': 22, 'learning_rate': 0.5962842620399453, 'n_estimators': 96, 'min_child_weight': 3, 'gamma': 0.9818542928295638, 'subsample': 0.4054330742345999, 'colsample_bytree': 0.9028662167947401, 'reg_alpha': 0.6068760623110077, 'reg_lambda': 0.4959837611656104} because of the following error: The value None could not be cast to float..\u001b[0m\n",
      "\u001b[33m[W 2023-01-24 12:49:25,616]\u001b[0m Trial 178 failed with value None.\u001b[0m\n"
     ]
    },
    {
     "name": "stdout",
     "output_type": "stream",
     "text": [
      "0.5766666666666667 0.19333333333333333\n"
     ]
    },
    {
     "name": "stderr",
     "output_type": "stream",
     "text": [
      "\u001b[33m[W 2023-01-24 12:49:26,067]\u001b[0m Trial 179 failed with parameters: {'max_depth': 4, 'learning_rate': 0.3228000276383354, 'n_estimators': 94, 'min_child_weight': 5, 'gamma': 0.14268488116209818, 'subsample': 0.7331422240555344, 'colsample_bytree': 0.8116661702689741, 'reg_alpha': 0.6186519256982255, 'reg_lambda': 0.22165514975591372} because of the following error: The value None could not be cast to float..\u001b[0m\n",
      "\u001b[33m[W 2023-01-24 12:49:26,068]\u001b[0m Trial 179 failed with value None.\u001b[0m\n",
      "\u001b[33m[W 2023-01-24 12:49:26,241]\u001b[0m Trial 180 failed with parameters: {'max_depth': 3, 'learning_rate': 0.2211355944541953, 'n_estimators': 68, 'min_child_weight': 10, 'gamma': 0.2681263206557323, 'subsample': 0.27049914264976604, 'colsample_bytree': 0.5145776690823142, 'reg_alpha': 0.7293139164304004, 'reg_lambda': 0.6743350369612654} because of the following error: The value None could not be cast to float..\u001b[0m\n",
      "\u001b[33m[W 2023-01-24 12:49:26,243]\u001b[0m Trial 180 failed with value None.\u001b[0m\n"
     ]
    },
    {
     "name": "stdout",
     "output_type": "stream",
     "text": [
      "0.7816666666666666 0.19333333333333333\n",
      "0.8016666666666666 0.19333333333333333\n"
     ]
    },
    {
     "name": "stderr",
     "output_type": "stream",
     "text": [
      "\u001b[33m[W 2023-01-24 12:49:26,602]\u001b[0m Trial 181 failed with parameters: {'max_depth': 4, 'learning_rate': 0.8757195933251342, 'n_estimators': 82, 'min_child_weight': 8, 'gamma': 0.9073525368917866, 'subsample': 0.379961212451945, 'colsample_bytree': 0.8350626937308872, 'reg_alpha': 0.7695734559441515, 'reg_lambda': 0.6330684328894781} because of the following error: The value None could not be cast to float..\u001b[0m\n",
      "\u001b[33m[W 2023-01-24 12:49:26,604]\u001b[0m Trial 181 failed with value None.\u001b[0m\n",
      "\u001b[33m[W 2023-01-24 12:49:26,730]\u001b[0m Trial 182 failed with parameters: {'max_depth': 17, 'learning_rate': 0.03867832476351005, 'n_estimators': 83, 'min_child_weight': 9, 'gamma': 0.4418199285218773, 'subsample': 0.036815895249764884, 'colsample_bytree': 0.7415397104019475, 'reg_alpha': 0.8941186712908724, 'reg_lambda': 0.19329010438708608} because of the following error: The value None could not be cast to float..\u001b[0m\n",
      "\u001b[33m[W 2023-01-24 12:49:26,732]\u001b[0m Trial 182 failed with value None.\u001b[0m\n"
     ]
    },
    {
     "name": "stdout",
     "output_type": "stream",
     "text": [
      "0.7183333333333334 0.19333333333333333\n",
      "0.7883333333333333 0.19333333333333333\n"
     ]
    },
    {
     "name": "stderr",
     "output_type": "stream",
     "text": [
      "\u001b[33m[W 2023-01-24 12:49:26,884]\u001b[0m Trial 183 failed with parameters: {'max_depth': 2, 'learning_rate': 0.374507512680273, 'n_estimators': 59, 'min_child_weight': 2, 'gamma': 0.11188547595012316, 'subsample': 0.5382321805392858, 'colsample_bytree': 0.5432007456204392, 'reg_alpha': 0.4331144157955686, 'reg_lambda': 0.31854669830643934} because of the following error: The value None could not be cast to float..\u001b[0m\n",
      "\u001b[33m[W 2023-01-24 12:49:26,886]\u001b[0m Trial 183 failed with value None.\u001b[0m\n"
     ]
    },
    {
     "name": "stdout",
     "output_type": "stream",
     "text": [
      "0.7733333333333333 0.19333333333333333\n"
     ]
    },
    {
     "name": "stderr",
     "output_type": "stream",
     "text": [
      "\u001b[33m[W 2023-01-24 12:49:27,097]\u001b[0m Trial 184 failed with parameters: {'max_depth': 3, 'learning_rate': 0.2533961172233892, 'n_estimators': 56, 'min_child_weight': 8, 'gamma': 0.5191677811252455, 'subsample': 0.3419850699913719, 'colsample_bytree': 0.9649144979902221, 'reg_alpha': 0.17397616322244586, 'reg_lambda': 0.39929098042472116} because of the following error: The value None could not be cast to float..\u001b[0m\n",
      "\u001b[33m[W 2023-01-24 12:49:27,099]\u001b[0m Trial 184 failed with value None.\u001b[0m\n"
     ]
    },
    {
     "name": "stdout",
     "output_type": "stream",
     "text": [
      "0.8 0.19333333333333333\n"
     ]
    },
    {
     "name": "stderr",
     "output_type": "stream",
     "text": [
      "\u001b[33m[W 2023-01-24 12:49:27,710]\u001b[0m Trial 185 failed with parameters: {'max_depth': 18, 'learning_rate': 0.26146602549834974, 'n_estimators': 89, 'min_child_weight': 1, 'gamma': 0.8599454637727723, 'subsample': 0.2674277794638605, 'colsample_bytree': 0.6822284295203942, 'reg_alpha': 0.18559421349293986, 'reg_lambda': 0.2906652255758021} because of the following error: The value None could not be cast to float..\u001b[0m\n",
      "\u001b[33m[W 2023-01-24 12:49:27,716]\u001b[0m Trial 185 failed with value None.\u001b[0m\n"
     ]
    },
    {
     "name": "stdout",
     "output_type": "stream",
     "text": [
      "0.7 0.19333333333333333\n"
     ]
    },
    {
     "name": "stderr",
     "output_type": "stream",
     "text": [
      "\u001b[33m[W 2023-01-24 12:49:27,931]\u001b[0m Trial 186 failed with parameters: {'max_depth': 8, 'learning_rate': 0.9493242726500075, 'n_estimators': 50, 'min_child_weight': 7, 'gamma': 0.4273946267605856, 'subsample': 0.32460303189111245, 'colsample_bytree': 0.7147409405381725, 'reg_alpha': 0.7513834867916575, 'reg_lambda': 0.4098641285262432} because of the following error: The value None could not be cast to float..\u001b[0m\n",
      "\u001b[33m[W 2023-01-24 12:49:27,933]\u001b[0m Trial 186 failed with value None.\u001b[0m\n"
     ]
    },
    {
     "name": "stdout",
     "output_type": "stream",
     "text": [
      "0.71 0.19333333333333333\n"
     ]
    },
    {
     "name": "stderr",
     "output_type": "stream",
     "text": [
      "\u001b[33m[W 2023-01-24 12:49:28,217]\u001b[0m Trial 187 failed with parameters: {'max_depth': 10, 'learning_rate': 0.8873055749239662, 'n_estimators': 60, 'min_child_weight': 9, 'gamma': 0.9707283077225385, 'subsample': 0.40748472520537016, 'colsample_bytree': 0.7662731362502586, 'reg_alpha': 0.46414878171853124, 'reg_lambda': 0.12095566297792533} because of the following error: The value None could not be cast to float..\u001b[0m\n",
      "\u001b[33m[W 2023-01-24 12:49:28,219]\u001b[0m Trial 187 failed with value None.\u001b[0m\n"
     ]
    },
    {
     "name": "stdout",
     "output_type": "stream",
     "text": [
      "0.6716666666666666 0.19333333333333333\n"
     ]
    },
    {
     "name": "stderr",
     "output_type": "stream",
     "text": [
      "\u001b[33m[W 2023-01-24 12:49:28,812]\u001b[0m Trial 188 failed with parameters: {'max_depth': 20, 'learning_rate': 0.7492221638944876, 'n_estimators': 84, 'min_child_weight': 9, 'gamma': 0.391607379837999, 'subsample': 0.6261799083357631, 'colsample_bytree': 0.9142487436759424, 'reg_alpha': 0.6069307300948366, 'reg_lambda': 0.49318420668246327} because of the following error: The value None could not be cast to float..\u001b[0m\n",
      "\u001b[33m[W 2023-01-24 12:49:28,814]\u001b[0m Trial 188 failed with value None.\u001b[0m\n",
      "\u001b[33m[W 2023-01-24 12:49:28,985]\u001b[0m Trial 189 failed with parameters: {'max_depth': 9, 'learning_rate': 0.4581193299300139, 'n_estimators': 93, 'min_child_weight': 6, 'gamma': 0.35449254182155715, 'subsample': 0.05595217032531553, 'colsample_bytree': 0.9660910194310661, 'reg_alpha': 0.29133739318185875, 'reg_lambda': 0.6799275989494943} because of the following error: The value None could not be cast to float..\u001b[0m\n",
      "\u001b[33m[W 2023-01-24 12:49:28,987]\u001b[0m Trial 189 failed with value None.\u001b[0m\n"
     ]
    },
    {
     "name": "stdout",
     "output_type": "stream",
     "text": [
      "0.6866666666666666 0.19333333333333333\n",
      "0.695 0.19333333333333333\n"
     ]
    },
    {
     "name": "stderr",
     "output_type": "stream",
     "text": [
      "\u001b[33m[W 2023-01-24 12:49:29,182]\u001b[0m Trial 190 failed with parameters: {'max_depth': 7, 'learning_rate': 0.8967253886691489, 'n_estimators': 55, 'min_child_weight': 1, 'gamma': 0.12269743642911941, 'subsample': 0.175576554240587, 'colsample_bytree': 0.7432340251544026, 'reg_alpha': 0.6289811938839596, 'reg_lambda': 0.09606041942411069} because of the following error: The value None could not be cast to float..\u001b[0m\n",
      "\u001b[33m[W 2023-01-24 12:49:29,186]\u001b[0m Trial 190 failed with value None.\u001b[0m\n"
     ]
    },
    {
     "name": "stdout",
     "output_type": "stream",
     "text": [
      "0.735 0.19333333333333333\n"
     ]
    },
    {
     "name": "stderr",
     "output_type": "stream",
     "text": [
      "\u001b[33m[W 2023-01-24 12:49:29,600]\u001b[0m Trial 191 failed with parameters: {'max_depth': 9, 'learning_rate': 0.2839476082827929, 'n_estimators': 91, 'min_child_weight': 6, 'gamma': 0.18395445782465508, 'subsample': 0.23364162764533558, 'colsample_bytree': 0.933427209086853, 'reg_alpha': 0.2692136114984612, 'reg_lambda': 0.9703486047486165} because of the following error: The value None could not be cast to float..\u001b[0m\n",
      "\u001b[33m[W 2023-01-24 12:49:29,602]\u001b[0m Trial 191 failed with value None.\u001b[0m\n"
     ]
    },
    {
     "name": "stdout",
     "output_type": "stream",
     "text": [
      "0.77 0.19333333333333333\n"
     ]
    },
    {
     "name": "stderr",
     "output_type": "stream",
     "text": [
      "\u001b[33m[W 2023-01-24 12:49:29,863]\u001b[0m Trial 192 failed with parameters: {'max_depth': 10, 'learning_rate': 0.6226132528971928, 'n_estimators': 63, 'min_child_weight': 10, 'gamma': 0.5907758029731387, 'subsample': 0.3310624793822629, 'colsample_bytree': 0.75905764427786, 'reg_alpha': 0.045478257579053896, 'reg_lambda': 0.398257958591111} because of the following error: The value None could not be cast to float..\u001b[0m\n",
      "\u001b[33m[W 2023-01-24 12:49:29,864]\u001b[0m Trial 192 failed with value None.\u001b[0m\n"
     ]
    },
    {
     "name": "stdout",
     "output_type": "stream",
     "text": [
      "0.76 0.19333333333333333\n"
     ]
    },
    {
     "name": "stderr",
     "output_type": "stream",
     "text": [
      "\u001b[33m[W 2023-01-24 12:49:30,352]\u001b[0m Trial 193 failed with parameters: {'max_depth': 13, 'learning_rate': 0.7187242451774113, 'n_estimators': 94, 'min_child_weight': 4, 'gamma': 0.5684674305576113, 'subsample': 0.28127466246059013, 'colsample_bytree': 0.9464333354549135, 'reg_alpha': 0.7570893921983153, 'reg_lambda': 0.043475721219010395} because of the following error: The value None could not be cast to float..\u001b[0m\n",
      "\u001b[33m[W 2023-01-24 12:49:30,354]\u001b[0m Trial 193 failed with value None.\u001b[0m\n"
     ]
    },
    {
     "name": "stdout",
     "output_type": "stream",
     "text": [
      "0.665 0.19333333333333333\n"
     ]
    },
    {
     "name": "stderr",
     "output_type": "stream",
     "text": [
      "\u001b[33m[W 2023-01-24 12:49:31,011]\u001b[0m Trial 194 failed with parameters: {'max_depth': 11, 'learning_rate': 0.20960917507404575, 'n_estimators': 68, 'min_child_weight': 5, 'gamma': 0.9344818930863082, 'subsample': 0.6874057758168893, 'colsample_bytree': 0.7918253991901721, 'reg_alpha': 0.15468606301724222, 'reg_lambda': 0.5734924786595305} because of the following error: The value None could not be cast to float..\u001b[0m\n",
      "\u001b[33m[W 2023-01-24 12:49:31,012]\u001b[0m Trial 194 failed with value None.\u001b[0m\n"
     ]
    },
    {
     "name": "stdout",
     "output_type": "stream",
     "text": [
      "0.785 0.19333333333333333\n"
     ]
    },
    {
     "name": "stderr",
     "output_type": "stream",
     "text": [
      "\u001b[33m[W 2023-01-24 12:49:31,604]\u001b[0m Trial 195 failed with parameters: {'max_depth': 15, 'learning_rate': 0.2983953928412015, 'n_estimators': 90, 'min_child_weight': 2, 'gamma': 0.388786608386629, 'subsample': 0.4717345530990199, 'colsample_bytree': 0.4597253864943155, 'reg_alpha': 0.01299839407229277, 'reg_lambda': 0.7334525737073678} because of the following error: The value None could not be cast to float..\u001b[0m\n",
      "\u001b[33m[W 2023-01-24 12:49:31,606]\u001b[0m Trial 195 failed with value None.\u001b[0m\n"
     ]
    },
    {
     "name": "stdout",
     "output_type": "stream",
     "text": [
      "0.7716666666666666 0.19333333333333333\n"
     ]
    },
    {
     "name": "stderr",
     "output_type": "stream",
     "text": [
      "\u001b[33m[W 2023-01-24 12:49:32,164]\u001b[0m Trial 196 failed with parameters: {'max_depth': 7, 'learning_rate': 0.6900452619545985, 'n_estimators': 75, 'min_child_weight': 9, 'gamma': 0.5279530581475016, 'subsample': 0.9818799615728121, 'colsample_bytree': 0.9672115167980472, 'reg_alpha': 0.7795285583973849, 'reg_lambda': 0.7103209175069962} because of the following error: The value None could not be cast to float..\u001b[0m\n",
      "\u001b[33m[W 2023-01-24 12:49:32,165]\u001b[0m Trial 196 failed with value None.\u001b[0m\n"
     ]
    },
    {
     "name": "stdout",
     "output_type": "stream",
     "text": [
      "0.7283333333333334 0.19333333333333333\n"
     ]
    },
    {
     "name": "stderr",
     "output_type": "stream",
     "text": [
      "\u001b[33m[W 2023-01-24 12:49:32,551]\u001b[0m Trial 197 failed with parameters: {'max_depth': 20, 'learning_rate': 0.7323116073434033, 'n_estimators': 57, 'min_child_weight': 1, 'gamma': 0.19894599133813676, 'subsample': 0.6565469626529223, 'colsample_bytree': 0.41788939998346325, 'reg_alpha': 0.9817571595002621, 'reg_lambda': 0.07065654801932633} because of the following error: The value None could not be cast to float..\u001b[0m\n",
      "\u001b[33m[W 2023-01-24 12:49:32,554]\u001b[0m Trial 197 failed with value None.\u001b[0m\n"
     ]
    },
    {
     "name": "stdout",
     "output_type": "stream",
     "text": [
      "0.7133333333333334 0.19333333333333333\n"
     ]
    },
    {
     "name": "stderr",
     "output_type": "stream",
     "text": [
      "\u001b[33m[W 2023-01-24 12:49:32,761]\u001b[0m Trial 198 failed with parameters: {'max_depth': 11, 'learning_rate': 0.43059629956428713, 'n_estimators': 77, 'min_child_weight': 8, 'gamma': 0.8462464144065763, 'subsample': 0.23070542360500332, 'colsample_bytree': 0.35387425949684614, 'reg_alpha': 0.09668840195805375, 'reg_lambda': 0.7875354760658815} because of the following error: The value None could not be cast to float..\u001b[0m\n",
      "\u001b[33m[W 2023-01-24 12:49:32,768]\u001b[0m Trial 198 failed with value None.\u001b[0m\n"
     ]
    },
    {
     "name": "stdout",
     "output_type": "stream",
     "text": [
      "0.7283333333333334 0.19333333333333333\n"
     ]
    },
    {
     "name": "stderr",
     "output_type": "stream",
     "text": [
      "\u001b[33m[W 2023-01-24 12:49:33,503]\u001b[0m Trial 199 failed with parameters: {'max_depth': 19, 'learning_rate': 0.07656596539950376, 'n_estimators': 69, 'min_child_weight': 2, 'gamma': 0.3219616494211774, 'subsample': 0.4501869122754124, 'colsample_bytree': 0.8430627310172647, 'reg_alpha': 0.4732669310477487, 'reg_lambda': 0.13647359995169941} because of the following error: The value None could not be cast to float..\u001b[0m\n",
      "\u001b[33m[W 2023-01-24 12:49:33,505]\u001b[0m Trial 199 failed with value None.\u001b[0m\n"
     ]
    },
    {
     "name": "stdout",
     "output_type": "stream",
     "text": [
      "0.815 0.19333333333333333\n"
     ]
    },
    {
     "name": "stderr",
     "output_type": "stream",
     "text": [
      "\u001b[33m[W 2023-01-24 12:49:33,870]\u001b[0m Trial 200 failed with parameters: {'max_depth': 18, 'learning_rate': 0.7646337949629329, 'n_estimators': 61, 'min_child_weight': 4, 'gamma': 0.6410344224943242, 'subsample': 0.31273575884590477, 'colsample_bytree': 0.9057895150336718, 'reg_alpha': 0.26561835296560604, 'reg_lambda': 0.40104656521453647} because of the following error: The value None could not be cast to float..\u001b[0m\n",
      "\u001b[33m[W 2023-01-24 12:49:33,873]\u001b[0m Trial 200 failed with value None.\u001b[0m\n"
     ]
    },
    {
     "name": "stdout",
     "output_type": "stream",
     "text": [
      "0.6433333333333333 0.19333333333333333\n"
     ]
    },
    {
     "name": "stderr",
     "output_type": "stream",
     "text": [
      "\u001b[33m[W 2023-01-24 12:49:34,286]\u001b[0m Trial 201 failed with parameters: {'max_depth': 22, 'learning_rate': 0.7447298483050397, 'n_estimators': 92, 'min_child_weight': 1, 'gamma': 0.591645958044586, 'subsample': 0.565142072011313, 'colsample_bytree': 0.21270858199499187, 'reg_alpha': 0.1938008743929768, 'reg_lambda': 0.6880292045277878} because of the following error: The value None could not be cast to float..\u001b[0m\n",
      "\u001b[33m[W 2023-01-24 12:49:34,288]\u001b[0m Trial 201 failed with value None.\u001b[0m\n"
     ]
    },
    {
     "name": "stdout",
     "output_type": "stream",
     "text": [
      "0.69 0.19333333333333333\n"
     ]
    },
    {
     "name": "stderr",
     "output_type": "stream",
     "text": [
      "\u001b[33m[W 2023-01-24 12:49:34,662]\u001b[0m Trial 202 failed with parameters: {'max_depth': 11, 'learning_rate': 0.9438881215383694, 'n_estimators': 99, 'min_child_weight': 10, 'gamma': 0.010732575969815132, 'subsample': 0.6436509858459629, 'colsample_bytree': 0.3703789877361376, 'reg_alpha': 0.7669709821300162, 'reg_lambda': 0.9323949233331126} because of the following error: The value None could not be cast to float..\u001b[0m\n",
      "\u001b[33m[W 2023-01-24 12:49:34,664]\u001b[0m Trial 202 failed with value None.\u001b[0m\n",
      "\u001b[33m[W 2023-01-24 12:49:34,816]\u001b[0m Trial 203 failed with parameters: {'max_depth': 5, 'learning_rate': 0.35642921906208763, 'n_estimators': 95, 'min_child_weight': 3, 'gamma': 0.2967935624385822, 'subsample': 0.7615094475570232, 'colsample_bytree': 0.07023804909053813, 'reg_alpha': 0.14474830282357457, 'reg_lambda': 0.5435997522969195} because of the following error: The value None could not be cast to float..\u001b[0m\n",
      "\u001b[33m[W 2023-01-24 12:49:34,818]\u001b[0m Trial 203 failed with value None.\u001b[0m\n"
     ]
    },
    {
     "name": "stdout",
     "output_type": "stream",
     "text": [
      "0.6983333333333334 0.19333333333333333\n",
      "0.7666666666666667 0.19333333333333333\n"
     ]
    },
    {
     "name": "stderr",
     "output_type": "stream",
     "text": [
      "\u001b[33m[W 2023-01-24 12:49:35,190]\u001b[0m Trial 204 failed with parameters: {'max_depth': 14, 'learning_rate': 0.43491798261157966, 'n_estimators': 96, 'min_child_weight': 8, 'gamma': 0.7887177337954233, 'subsample': 0.5556450858609605, 'colsample_bytree': 0.3313907214310972, 'reg_alpha': 0.7963901899874566, 'reg_lambda': 0.04812297072064071} because of the following error: The value None could not be cast to float..\u001b[0m\n",
      "\u001b[33m[W 2023-01-24 12:49:35,191]\u001b[0m Trial 204 failed with value None.\u001b[0m\n"
     ]
    },
    {
     "name": "stdout",
     "output_type": "stream",
     "text": [
      "0.775 0.19333333333333333\n"
     ]
    },
    {
     "name": "stderr",
     "output_type": "stream",
     "text": [
      "\u001b[33m[W 2023-01-24 12:49:35,731]\u001b[0m Trial 205 failed with parameters: {'max_depth': 15, 'learning_rate': 0.36232795093027464, 'n_estimators': 95, 'min_child_weight': 10, 'gamma': 0.054539743994156176, 'subsample': 0.6683364968648813, 'colsample_bytree': 0.5772144302974006, 'reg_alpha': 0.7126143843260704, 'reg_lambda': 0.1328479670652235} because of the following error: The value None could not be cast to float..\u001b[0m\n",
      "\u001b[33m[W 2023-01-24 12:49:35,733]\u001b[0m Trial 205 failed with value None.\u001b[0m\n"
     ]
    },
    {
     "name": "stdout",
     "output_type": "stream",
     "text": [
      "0.7616666666666667 0.19333333333333333\n"
     ]
    },
    {
     "name": "stderr",
     "output_type": "stream",
     "text": [
      "\u001b[33m[W 2023-01-24 12:49:35,947]\u001b[0m Trial 206 failed with parameters: {'max_depth': 4, 'learning_rate': 0.20855418953808827, 'n_estimators': 53, 'min_child_weight': 6, 'gamma': 0.33545739956373427, 'subsample': 0.3545486397699025, 'colsample_bytree': 0.7447128061457945, 'reg_alpha': 0.9560697391277192, 'reg_lambda': 0.5127695935878959} because of the following error: The value None could not be cast to float..\u001b[0m\n",
      "\u001b[33m[W 2023-01-24 12:49:35,949]\u001b[0m Trial 206 failed with value None.\u001b[0m\n"
     ]
    },
    {
     "name": "stdout",
     "output_type": "stream",
     "text": [
      "0.7983333333333333 0.19333333333333333\n"
     ]
    },
    {
     "name": "stderr",
     "output_type": "stream",
     "text": [
      "\u001b[33m[W 2023-01-24 12:49:36,198]\u001b[0m Trial 207 failed with parameters: {'max_depth': 18, 'learning_rate': 0.19218401326715462, 'n_estimators': 73, 'min_child_weight': 5, 'gamma': 0.4110831378539706, 'subsample': 0.3704003926054091, 'colsample_bytree': 0.23667326823148188, 'reg_alpha': 0.32492616241039673, 'reg_lambda': 0.5430591708116259} because of the following error: The value None could not be cast to float..\u001b[0m\n",
      "\u001b[33m[W 2023-01-24 12:49:36,203]\u001b[0m Trial 207 failed with value None.\u001b[0m\n",
      "\u001b[33m[W 2023-01-24 12:49:36,348]\u001b[0m Trial 208 failed with parameters: {'max_depth': 2, 'learning_rate': 0.4649409392155009, 'n_estimators': 69, 'min_child_weight': 1, 'gamma': 0.5243932235090936, 'subsample': 0.8584218482161441, 'colsample_bytree': 0.41709500012249895, 'reg_alpha': 0.8529525007252272, 'reg_lambda': 0.6727747427953117} because of the following error: The value None could not be cast to float..\u001b[0m\n",
      "\u001b[33m[W 2023-01-24 12:49:36,350]\u001b[0m Trial 208 failed with value None.\u001b[0m\n"
     ]
    },
    {
     "name": "stdout",
     "output_type": "stream",
     "text": [
      "0.7833333333333333 0.19333333333333333\n",
      "0.775 0.19333333333333333\n"
     ]
    },
    {
     "name": "stderr",
     "output_type": "stream",
     "text": [
      "\u001b[33m[W 2023-01-24 12:49:36,526]\u001b[0m Trial 209 failed with parameters: {'max_depth': 5, 'learning_rate': 0.12972498921969736, 'n_estimators': 52, 'min_child_weight': 1, 'gamma': 0.573533137714877, 'subsample': 0.39992140461415965, 'colsample_bytree': 0.2855920502621545, 'reg_alpha': 0.7957935271087887, 'reg_lambda': 0.8509919017296553} because of the following error: The value None could not be cast to float..\u001b[0m\n",
      "\u001b[33m[W 2023-01-24 12:49:36,528]\u001b[0m Trial 209 failed with value None.\u001b[0m\n"
     ]
    },
    {
     "name": "stdout",
     "output_type": "stream",
     "text": [
      "0.7816666666666666 0.19333333333333333\n"
     ]
    },
    {
     "name": "stderr",
     "output_type": "stream",
     "text": [
      "\u001b[33m[W 2023-01-24 12:49:36,897]\u001b[0m Trial 210 failed with parameters: {'max_depth': 21, 'learning_rate': 0.8852538169139635, 'n_estimators': 62, 'min_child_weight': 3, 'gamma': 0.4266531658500843, 'subsample': 0.6122702121733794, 'colsample_bytree': 0.43725401908099853, 'reg_alpha': 0.5513506928699944, 'reg_lambda': 0.9182502192580717} because of the following error: The value None could not be cast to float..\u001b[0m\n",
      "\u001b[33m[W 2023-01-24 12:49:36,899]\u001b[0m Trial 210 failed with value None.\u001b[0m\n"
     ]
    },
    {
     "name": "stdout",
     "output_type": "stream",
     "text": [
      "0.72 0.19333333333333333\n"
     ]
    },
    {
     "name": "stderr",
     "output_type": "stream",
     "text": [
      "\u001b[33m[W 2023-01-24 12:49:37,309]\u001b[0m Trial 211 failed with parameters: {'max_depth': 8, 'learning_rate': 0.1417450699751504, 'n_estimators': 56, 'min_child_weight': 3, 'gamma': 0.6763791607047883, 'subsample': 0.8301932824176397, 'colsample_bytree': 0.6728105758690668, 'reg_alpha': 0.20538650655228965, 'reg_lambda': 0.9238958711292097} because of the following error: The value None could not be cast to float..\u001b[0m\n",
      "\u001b[33m[W 2023-01-24 12:49:37,311]\u001b[0m Trial 211 failed with value None.\u001b[0m\n",
      "\u001b[33m[W 2023-01-24 12:49:37,399]\u001b[0m Trial 212 failed with parameters: {'max_depth': 1, 'learning_rate': 0.9688849181595779, 'n_estimators': 51, 'min_child_weight': 1, 'gamma': 0.34664252226241765, 'subsample': 0.7325590254292755, 'colsample_bytree': 0.36951505958995573, 'reg_alpha': 0.5152823966712036, 'reg_lambda': 0.4712878993080733} because of the following error: The value None could not be cast to float..\u001b[0m\n",
      "\u001b[33m[W 2023-01-24 12:49:37,401]\u001b[0m Trial 212 failed with value None.\u001b[0m\n"
     ]
    },
    {
     "name": "stdout",
     "output_type": "stream",
     "text": [
      "0.7983333333333333 0.19333333333333333\n",
      "0.7816666666666666 0.19333333333333333\n"
     ]
    },
    {
     "name": "stderr",
     "output_type": "stream",
     "text": [
      "\u001b[33m[W 2023-01-24 12:49:37,623]\u001b[0m Trial 213 failed with parameters: {'max_depth': 11, 'learning_rate': 0.8400958674554768, 'n_estimators': 64, 'min_child_weight': 7, 'gamma': 0.013740292468984772, 'subsample': 0.4520276910378446, 'colsample_bytree': 0.284589358138705, 'reg_alpha': 0.9718979348781862, 'reg_lambda': 0.7780959397351217} because of the following error: The value None could not be cast to float..\u001b[0m\n",
      "\u001b[33m[W 2023-01-24 12:49:37,625]\u001b[0m Trial 213 failed with value None.\u001b[0m\n",
      "\u001b[33m[W 2023-01-24 12:49:37,815]\u001b[0m Trial 214 failed with parameters: {'max_depth': 3, 'learning_rate': 0.23984953160735112, 'n_estimators': 64, 'min_child_weight': 6, 'gamma': 0.08883865858085108, 'subsample': 0.23094360778683792, 'colsample_bytree': 0.6099881043566355, 'reg_alpha': 0.5154093795246496, 'reg_lambda': 0.32565530888935973} because of the following error: The value None could not be cast to float..\u001b[0m\n"
     ]
    },
    {
     "name": "stdout",
     "output_type": "stream",
     "text": [
      "0.765 0.19333333333333333\n",
      "0.805 0.19333333333333333\n"
     ]
    },
    {
     "name": "stderr",
     "output_type": "stream",
     "text": [
      "\u001b[33m[W 2023-01-24 12:49:37,822]\u001b[0m Trial 214 failed with value None.\u001b[0m\n",
      "\u001b[33m[W 2023-01-24 12:49:38,214]\u001b[0m Trial 215 failed with parameters: {'max_depth': 9, 'learning_rate': 0.793801565680099, 'n_estimators': 92, 'min_child_weight': 2, 'gamma': 0.76743941381331, 'subsample': 0.17079714829108333, 'colsample_bytree': 0.9753769759634726, 'reg_alpha': 0.41638983797115053, 'reg_lambda': 0.9700156737291884} because of the following error: The value None could not be cast to float..\u001b[0m\n",
      "\u001b[33m[W 2023-01-24 12:49:38,216]\u001b[0m Trial 215 failed with value None.\u001b[0m\n"
     ]
    },
    {
     "name": "stdout",
     "output_type": "stream",
     "text": [
      "0.635 0.19333333333333333\n"
     ]
    },
    {
     "name": "stderr",
     "output_type": "stream",
     "text": [
      "\u001b[33m[W 2023-01-24 12:49:38,641]\u001b[0m Trial 216 failed with parameters: {'max_depth': 9, 'learning_rate': 0.6845294482516383, 'n_estimators': 97, 'min_child_weight': 7, 'gamma': 0.7801367611482418, 'subsample': 0.38022047777858076, 'colsample_bytree': 0.6416409562978331, 'reg_alpha': 0.21434177723880501, 'reg_lambda': 0.24792021894342975} because of the following error: The value None could not be cast to float..\u001b[0m\n",
      "\u001b[33m[W 2023-01-24 12:49:38,647]\u001b[0m Trial 216 failed with value None.\u001b[0m\n"
     ]
    },
    {
     "name": "stdout",
     "output_type": "stream",
     "text": [
      "0.68 0.19333333333333333\n"
     ]
    },
    {
     "name": "stderr",
     "output_type": "stream",
     "text": [
      "\u001b[33m[W 2023-01-24 12:49:39,116]\u001b[0m Trial 217 failed with parameters: {'max_depth': 19, 'learning_rate': 0.6996276758040731, 'n_estimators': 67, 'min_child_weight': 4, 'gamma': 0.8313420255150641, 'subsample': 0.7069734000993578, 'colsample_bytree': 0.5987963615030892, 'reg_alpha': 0.9849140953004564, 'reg_lambda': 0.23871140955263478} because of the following error: The value None could not be cast to float..\u001b[0m\n",
      "\u001b[33m[W 2023-01-24 12:49:39,118]\u001b[0m Trial 217 failed with value None.\u001b[0m\n"
     ]
    },
    {
     "name": "stdout",
     "output_type": "stream",
     "text": [
      "0.7133333333333334 0.19333333333333333\n"
     ]
    },
    {
     "name": "stderr",
     "output_type": "stream",
     "text": [
      "\u001b[33m[W 2023-01-24 12:49:39,470]\u001b[0m Trial 218 failed with parameters: {'max_depth': 6, 'learning_rate': 0.4083118641573597, 'n_estimators': 56, 'min_child_weight': 2, 'gamma': 0.7521746293465983, 'subsample': 0.7025415515827381, 'colsample_bytree': 0.6542665458877326, 'reg_alpha': 0.30427485422398676, 'reg_lambda': 0.3498250997119926} because of the following error: The value None could not be cast to float..\u001b[0m\n",
      "\u001b[33m[W 2023-01-24 12:49:39,472]\u001b[0m Trial 218 failed with value None.\u001b[0m\n"
     ]
    },
    {
     "name": "stdout",
     "output_type": "stream",
     "text": [
      "0.7216666666666667 0.19333333333333333\n"
     ]
    },
    {
     "name": "stderr",
     "output_type": "stream",
     "text": [
      "\u001b[33m[W 2023-01-24 12:49:39,837]\u001b[0m Trial 219 failed with parameters: {'max_depth': 9, 'learning_rate': 0.6634423551450184, 'n_estimators': 71, 'min_child_weight': 4, 'gamma': 0.5074744719417583, 'subsample': 0.8463992059889811, 'colsample_bytree': 0.3762168570463249, 'reg_alpha': 0.8810072027369138, 'reg_lambda': 0.2631948667911731} because of the following error: The value None could not be cast to float..\u001b[0m\n",
      "\u001b[33m[W 2023-01-24 12:49:39,839]\u001b[0m Trial 219 failed with value None.\u001b[0m\n"
     ]
    },
    {
     "name": "stdout",
     "output_type": "stream",
     "text": [
      "0.7716666666666666 0.19333333333333333\n"
     ]
    },
    {
     "name": "stderr",
     "output_type": "stream",
     "text": [
      "\u001b[33m[W 2023-01-24 12:49:40,196]\u001b[0m Trial 220 failed with parameters: {'max_depth': 12, 'learning_rate': 0.28302335211099094, 'n_estimators': 81, 'min_child_weight': 9, 'gamma': 0.8860352884806171, 'subsample': 0.3558489590890329, 'colsample_bytree': 0.6718513588929425, 'reg_alpha': 0.5436987281191236, 'reg_lambda': 0.8706010977145303} because of the following error: The value None could not be cast to float..\u001b[0m\n",
      "\u001b[33m[W 2023-01-24 12:49:40,197]\u001b[0m Trial 220 failed with value None.\u001b[0m\n"
     ]
    },
    {
     "name": "stdout",
     "output_type": "stream",
     "text": [
      "0.7766666666666666 0.19333333333333333\n"
     ]
    },
    {
     "name": "stderr",
     "output_type": "stream",
     "text": [
      "\u001b[33m[W 2023-01-24 12:49:40,571]\u001b[0m Trial 221 failed with parameters: {'max_depth': 25, 'learning_rate': 0.12752161358899783, 'n_estimators': 58, 'min_child_weight': 10, 'gamma': 0.5209041823728947, 'subsample': 0.7503146104416656, 'colsample_bytree': 0.5850471891438442, 'reg_alpha': 0.6421160248485228, 'reg_lambda': 0.680048588122281} because of the following error: The value None could not be cast to float..\u001b[0m\n",
      "\u001b[33m[W 2023-01-24 12:49:40,572]\u001b[0m Trial 221 failed with value None.\u001b[0m\n",
      "\u001b[33m[W 2023-01-24 12:49:40,715]\u001b[0m Trial 222 failed with parameters: {'max_depth': 3, 'learning_rate': 0.2164906639204095, 'n_estimators': 67, 'min_child_weight': 1, 'gamma': 0.8207189752579275, 'subsample': 0.7055792118965156, 'colsample_bytree': 0.2275425182897969, 'reg_alpha': 0.1357116252078999, 'reg_lambda': 0.019578296236340362} because of the following error: The value None could not be cast to float..\u001b[0m\n",
      "\u001b[33m[W 2023-01-24 12:49:40,716]\u001b[0m Trial 222 failed with value None.\u001b[0m\n"
     ]
    },
    {
     "name": "stdout",
     "output_type": "stream",
     "text": [
      "0.8216666666666667 0.19333333333333333\n",
      "0.785 0.19333333333333333\n"
     ]
    },
    {
     "name": "stderr",
     "output_type": "stream",
     "text": [
      "\u001b[33m[W 2023-01-24 12:49:41,004]\u001b[0m Trial 223 failed with parameters: {'max_depth': 17, 'learning_rate': 0.3904857950713358, 'n_estimators': 60, 'min_child_weight': 3, 'gamma': 0.8414670871020263, 'subsample': 0.2550106684249838, 'colsample_bytree': 0.6203417971930235, 'reg_alpha': 0.7889890791870325, 'reg_lambda': 0.9591702770489033} because of the following error: The value None could not be cast to float..\u001b[0m\n",
      "\u001b[33m[W 2023-01-24 12:49:41,006]\u001b[0m Trial 223 failed with value None.\u001b[0m\n",
      "\u001b[33m[W 2023-01-24 12:49:41,098]\u001b[0m Trial 224 failed with parameters: {'max_depth': 21, 'learning_rate': 0.5947243008325394, 'n_estimators': 58, 'min_child_weight': 10, 'gamma': 0.5751338472914201, 'subsample': 0.8777394658821782, 'colsample_bytree': 0.04251883875170888, 'reg_alpha': 0.6375601891008269, 'reg_lambda': 0.06965161742261954} because of the following error: The value None could not be cast to float..\u001b[0m\n",
      "\u001b[33m[W 2023-01-24 12:49:41,099]\u001b[0m Trial 224 failed with value None.\u001b[0m\n"
     ]
    },
    {
     "name": "stdout",
     "output_type": "stream",
     "text": [
      "0.76 0.19333333333333333\n",
      "0.7783333333333333 0.19333333333333333\n"
     ]
    },
    {
     "name": "stderr",
     "output_type": "stream",
     "text": [
      "\u001b[33m[W 2023-01-24 12:49:41,331]\u001b[0m Trial 225 failed with parameters: {'max_depth': 24, 'learning_rate': 0.4770999134420316, 'n_estimators': 54, 'min_child_weight': 5, 'gamma': 0.03119972674998782, 'subsample': 0.2841452309338028, 'colsample_bytree': 0.5749122853184606, 'reg_alpha': 0.5811508636446239, 'reg_lambda': 0.5859653451215906} because of the following error: The value None could not be cast to float..\u001b[0m\n",
      "\u001b[33m[W 2023-01-24 12:49:41,333]\u001b[0m Trial 225 failed with value None.\u001b[0m\n"
     ]
    },
    {
     "name": "stdout",
     "output_type": "stream",
     "text": [
      "0.7433333333333333 0.19333333333333333\n"
     ]
    },
    {
     "name": "stderr",
     "output_type": "stream",
     "text": [
      "\u001b[33m[W 2023-01-24 12:49:41,617]\u001b[0m Trial 226 failed with parameters: {'max_depth': 21, 'learning_rate': 0.298225615924016, 'n_estimators': 57, 'min_child_weight': 10, 'gamma': 0.5809382611619478, 'subsample': 0.4160495263830471, 'colsample_bytree': 0.6693305082384103, 'reg_alpha': 0.009575870691968046, 'reg_lambda': 0.7372210995390951} because of the following error: The value None could not be cast to float..\u001b[0m\n",
      "\u001b[33m[W 2023-01-24 12:49:41,618]\u001b[0m Trial 226 failed with value None.\u001b[0m\n"
     ]
    },
    {
     "name": "stdout",
     "output_type": "stream",
     "text": [
      "0.7783333333333333 0.19333333333333333\n"
     ]
    },
    {
     "name": "stderr",
     "output_type": "stream",
     "text": [
      "\u001b[33m[W 2023-01-24 12:49:42,177]\u001b[0m Trial 227 failed with parameters: {'max_depth': 18, 'learning_rate': 0.5361103269120812, 'n_estimators': 89, 'min_child_weight': 3, 'gamma': 0.13518215728913774, 'subsample': 0.47572240058576004, 'colsample_bytree': 0.566300205271053, 'reg_alpha': 0.26966508522369476, 'reg_lambda': 0.23021223396401308} because of the following error: The value None could not be cast to float..\u001b[0m\n",
      "\u001b[33m[W 2023-01-24 12:49:42,179]\u001b[0m Trial 227 failed with value None.\u001b[0m\n",
      "\u001b[33m[W 2023-01-24 12:49:42,303]\u001b[0m Trial 228 failed with parameters: {'max_depth': 24, 'learning_rate': 0.2603923571273377, 'n_estimators': 84, 'min_child_weight': 8, 'gamma': 0.24213340316389498, 'subsample': 0.04131198669214104, 'colsample_bytree': 0.5765043756841383, 'reg_alpha': 0.7012414619654649, 'reg_lambda': 0.8592348502919351} because of the following error: The value None could not be cast to float..\u001b[0m\n",
      "\u001b[33m[W 2023-01-24 12:49:42,304]\u001b[0m Trial 228 failed with value None.\u001b[0m\n"
     ]
    },
    {
     "name": "stdout",
     "output_type": "stream",
     "text": [
      "0.695 0.19333333333333333\n",
      "0.7733333333333333 0.19333333333333333\n"
     ]
    },
    {
     "name": "stderr",
     "output_type": "stream",
     "text": [
      "\u001b[33m[W 2023-01-24 12:49:42,515]\u001b[0m Trial 229 failed with parameters: {'max_depth': 19, 'learning_rate': 0.06422058150092598, 'n_estimators': 54, 'min_child_weight': 8, 'gamma': 0.6705509458672169, 'subsample': 0.8547823737934663, 'colsample_bytree': 0.23131774550344328, 'reg_alpha': 0.7838847356352988, 'reg_lambda': 0.8883777389008531} because of the following error: The value None could not be cast to float..\u001b[0m\n",
      "\u001b[33m[W 2023-01-24 12:49:42,517]\u001b[0m Trial 229 failed with value None.\u001b[0m\n"
     ]
    },
    {
     "name": "stdout",
     "output_type": "stream",
     "text": [
      "0.7833333333333333 0.19333333333333333\n"
     ]
    },
    {
     "name": "stderr",
     "output_type": "stream",
     "text": [
      "\u001b[33m[W 2023-01-24 12:49:42,905]\u001b[0m Trial 230 failed with parameters: {'max_depth': 10, 'learning_rate': 0.8103682986436533, 'n_estimators': 99, 'min_child_weight': 8, 'gamma': 0.7097319161076886, 'subsample': 0.7680593926510854, 'colsample_bytree': 0.32339381382604443, 'reg_alpha': 0.8385603709859348, 'reg_lambda': 0.797645722039416} because of the following error: The value None could not be cast to float..\u001b[0m\n",
      "\u001b[33m[W 2023-01-24 12:49:42,906]\u001b[0m Trial 230 failed with value None.\u001b[0m\n"
     ]
    },
    {
     "name": "stdout",
     "output_type": "stream",
     "text": [
      "0.7616666666666667 0.19333333333333333\n"
     ]
    },
    {
     "name": "stderr",
     "output_type": "stream",
     "text": [
      "\u001b[33m[W 2023-01-24 12:49:43,132]\u001b[0m Trial 231 failed with parameters: {'max_depth': 23, 'learning_rate': 0.9194572905855676, 'n_estimators': 75, 'min_child_weight': 10, 'gamma': 0.6034105041331264, 'subsample': 0.4066076169196523, 'colsample_bytree': 0.3615090242018264, 'reg_alpha': 0.7861066899043161, 'reg_lambda': 0.7594736838094682} because of the following error: The value None could not be cast to float..\u001b[0m\n",
      "\u001b[33m[W 2023-01-24 12:49:43,134]\u001b[0m Trial 231 failed with value None.\u001b[0m\n",
      "\u001b[33m[W 2023-01-24 12:49:43,249]\u001b[0m Trial 232 failed with parameters: {'max_depth': 2, 'learning_rate': 0.6317631557019451, 'n_estimators': 65, 'min_child_weight': 5, 'gamma': 0.48964100019221346, 'subsample': 0.9840774059559567, 'colsample_bytree': 0.31913381564633914, 'reg_alpha': 0.04034428553450756, 'reg_lambda': 0.2651392884870415} because of the following error: The value None could not be cast to float..\u001b[0m\n",
      "\u001b[33m[W 2023-01-24 12:49:43,250]\u001b[0m Trial 232 failed with value None.\u001b[0m\n"
     ]
    },
    {
     "name": "stdout",
     "output_type": "stream",
     "text": [
      "0.7383333333333333 0.19333333333333333\n",
      "0.7816666666666666 0.19333333333333333\n"
     ]
    },
    {
     "name": "stderr",
     "output_type": "stream",
     "text": [
      "\u001b[33m[W 2023-01-24 12:49:43,402]\u001b[0m Trial 233 failed with parameters: {'max_depth': 15, 'learning_rate': 0.27630142661084145, 'n_estimators': 91, 'min_child_weight': 1, 'gamma': 0.6589031605412407, 'subsample': 0.6027033458671751, 'colsample_bytree': 0.043102233620692355, 'reg_alpha': 0.776560682255049, 'reg_lambda': 0.8874838673006421} because of the following error: The value None could not be cast to float..\u001b[0m\n",
      "\u001b[33m[W 2023-01-24 12:49:43,403]\u001b[0m Trial 233 failed with value None.\u001b[0m\n",
      "\u001b[33m[W 2023-01-24 12:49:43,550]\u001b[0m Trial 234 failed with parameters: {'max_depth': 21, 'learning_rate': 0.6872185126847313, 'n_estimators': 95, 'min_child_weight': 6, 'gamma': 0.8829713252931312, 'subsample': 0.4135907311222332, 'colsample_bytree': 0.027292510147449947, 'reg_alpha': 0.45727156497937826, 'reg_lambda': 0.27737481530233693} because of the following error: The value None could not be cast to float..\u001b[0m\n",
      "\u001b[33m[W 2023-01-24 12:49:43,552]\u001b[0m Trial 234 failed with value None.\u001b[0m\n"
     ]
    },
    {
     "name": "stdout",
     "output_type": "stream",
     "text": [
      "0.7783333333333333 0.19333333333333333\n",
      "0.755 0.19333333333333333\n"
     ]
    },
    {
     "name": "stderr",
     "output_type": "stream",
     "text": [
      "\u001b[33m[W 2023-01-24 12:49:44,089]\u001b[0m Trial 235 failed with parameters: {'max_depth': 23, 'learning_rate': 0.5066806845019368, 'n_estimators': 54, 'min_child_weight': 4, 'gamma': 0.5641165624454919, 'subsample': 0.7669875772298412, 'colsample_bytree': 0.8660431145839564, 'reg_alpha': 0.8961819041067489, 'reg_lambda': 0.3130021929095954} because of the following error: The value None could not be cast to float..\u001b[0m\n",
      "\u001b[33m[W 2023-01-24 12:49:44,091]\u001b[0m Trial 235 failed with value None.\u001b[0m\n"
     ]
    },
    {
     "name": "stdout",
     "output_type": "stream",
     "text": [
      "0.7333333333333333 0.19333333333333333\n",
      "0.76 0.19333333333333333\n"
     ]
    },
    {
     "name": "stderr",
     "output_type": "stream",
     "text": [
      "\u001b[33m[W 2023-01-24 12:49:44,291]\u001b[0m Trial 236 failed with parameters: {'max_depth': 4, 'learning_rate': 0.26995349218940146, 'n_estimators': 68, 'min_child_weight': 1, 'gamma': 0.15189959776106163, 'subsample': 0.8141366174094244, 'colsample_bytree': 0.36103524727278086, 'reg_alpha': 0.36791059094443845, 'reg_lambda': 0.06989415094610539} because of the following error: The value None could not be cast to float..\u001b[0m\n",
      "\u001b[33m[W 2023-01-24 12:49:44,293]\u001b[0m Trial 236 failed with value None.\u001b[0m\n",
      "\u001b[33m[W 2023-01-24 12:49:44,454]\u001b[0m Trial 237 failed with parameters: {'max_depth': 6, 'learning_rate': 0.3791212232853249, 'n_estimators': 66, 'min_child_weight': 1, 'gamma': 0.04879280846453448, 'subsample': 0.185524973636494, 'colsample_bytree': 0.16435971270121927, 'reg_alpha': 0.8062370965920949, 'reg_lambda': 0.9864100861567067} because of the following error: The value None could not be cast to float..\u001b[0m\n",
      "\u001b[33m[W 2023-01-24 12:49:44,456]\u001b[0m Trial 237 failed with value None.\u001b[0m\n"
     ]
    },
    {
     "name": "stdout",
     "output_type": "stream",
     "text": [
      "0.7733333333333333 0.19333333333333333\n"
     ]
    },
    {
     "name": "stderr",
     "output_type": "stream",
     "text": [
      "\u001b[33m[W 2023-01-24 12:49:44,882]\u001b[0m Trial 238 failed with parameters: {'max_depth': 15, 'learning_rate': 0.8988435126374393, 'n_estimators': 100, 'min_child_weight': 4, 'gamma': 0.12153090759447185, 'subsample': 0.43784325494751, 'colsample_bytree': 0.43011538735929467, 'reg_alpha': 0.393609901717565, 'reg_lambda': 0.6130758801049866} because of the following error: The value None could not be cast to float..\u001b[0m\n",
      "\u001b[33m[W 2023-01-24 12:49:44,884]\u001b[0m Trial 238 failed with value None.\u001b[0m\n",
      "\u001b[33m[W 2023-01-24 12:49:45,067]\u001b[0m Trial 239 failed with parameters: {'max_depth': 10, 'learning_rate': 0.050666289782612194, 'n_estimators': 52, 'min_child_weight': 10, 'gamma': 0.7136624394853599, 'subsample': 0.5316250768939316, 'colsample_bytree': 0.23054909616710076, 'reg_alpha': 0.46886112657049217, 'reg_lambda': 0.7922313573510449} because of the following error: The value None could not be cast to float..\u001b[0m\n",
      "\u001b[33m[W 2023-01-24 12:49:45,068]\u001b[0m Trial 239 failed with value None.\u001b[0m\n"
     ]
    },
    {
     "name": "stdout",
     "output_type": "stream",
     "text": [
      "0.73 0.19333333333333333\n",
      "0.7816666666666666 0.19333333333333333\n"
     ]
    },
    {
     "name": "stderr",
     "output_type": "stream",
     "text": [
      "\u001b[33m[W 2023-01-24 12:49:45,290]\u001b[0m Trial 240 failed with parameters: {'max_depth': 11, 'learning_rate': 0.7943080126416584, 'n_estimators': 82, 'min_child_weight': 3, 'gamma': 0.9686029440174382, 'subsample': 0.9017723489595836, 'colsample_bytree': 0.10843380722931924, 'reg_alpha': 0.4192828613467744, 'reg_lambda': 0.46374904603742195} because of the following error: The value None could not be cast to float..\u001b[0m\n",
      "\u001b[33m[W 2023-01-24 12:49:45,291]\u001b[0m Trial 240 failed with value None.\u001b[0m\n"
     ]
    },
    {
     "name": "stdout",
     "output_type": "stream",
     "text": [
      "0.7016666666666667 0.19333333333333333\n"
     ]
    },
    {
     "name": "stderr",
     "output_type": "stream",
     "text": [
      "\u001b[33m[W 2023-01-24 12:49:45,957]\u001b[0m Trial 241 failed with parameters: {'max_depth': 7, 'learning_rate': 0.22357924196853635, 'n_estimators': 81, 'min_child_weight': 1, 'gamma': 0.8578810572606005, 'subsample': 0.4161246148982294, 'colsample_bytree': 0.835750339410782, 'reg_alpha': 0.9393948732565325, 'reg_lambda': 0.47077972481798} because of the following error: The value None could not be cast to float..\u001b[0m\n",
      "\u001b[33m[W 2023-01-24 12:49:45,960]\u001b[0m Trial 241 failed with value None.\u001b[0m\n"
     ]
    },
    {
     "name": "stdout",
     "output_type": "stream",
     "text": [
      "0.7733333333333333 0.19333333333333333\n"
     ]
    },
    {
     "name": "stderr",
     "output_type": "stream",
     "text": [
      "\u001b[33m[W 2023-01-24 12:49:46,174]\u001b[0m Trial 242 failed with parameters: {'max_depth': 23, 'learning_rate': 0.38637824502978724, 'n_estimators': 65, 'min_child_weight': 9, 'gamma': 0.8462375699632089, 'subsample': 0.8254038631690759, 'colsample_bytree': 0.17502419713927128, 'reg_alpha': 0.687447843367932, 'reg_lambda': 0.4419218217109584} because of the following error: The value None could not be cast to float..\u001b[0m\n",
      "\u001b[33m[W 2023-01-24 12:49:46,177]\u001b[0m Trial 242 failed with value None.\u001b[0m\n"
     ]
    },
    {
     "name": "stdout",
     "output_type": "stream",
     "text": [
      "0.7883333333333333 0.19333333333333333\n"
     ]
    },
    {
     "name": "stderr",
     "output_type": "stream",
     "text": [
      "\u001b[33m[W 2023-01-24 12:49:46,452]\u001b[0m Trial 243 failed with parameters: {'max_depth': 6, 'learning_rate': 0.6266976110014439, 'n_estimators': 86, 'min_child_weight': 2, 'gamma': 0.053731046308468144, 'subsample': 0.7898880792484209, 'colsample_bytree': 0.24127413147308938, 'reg_alpha': 0.8927256400886416, 'reg_lambda': 0.1447430146349839} because of the following error: The value None could not be cast to float..\u001b[0m\n",
      "\u001b[33m[W 2023-01-24 12:49:46,453]\u001b[0m Trial 243 failed with value None.\u001b[0m\n"
     ]
    },
    {
     "name": "stdout",
     "output_type": "stream",
     "text": [
      "0.7466666666666667 0.19333333333333333\n"
     ]
    },
    {
     "name": "stderr",
     "output_type": "stream",
     "text": [
      "\u001b[33m[W 2023-01-24 12:49:47,130]\u001b[0m Trial 244 failed with parameters: {'max_depth': 20, 'learning_rate': 0.43562561521533677, 'n_estimators': 64, 'min_child_weight': 4, 'gamma': 0.30160703763316965, 'subsample': 0.8992131133847393, 'colsample_bytree': 0.8333073336409927, 'reg_alpha': 0.1274714997546941, 'reg_lambda': 0.9118046086328773} because of the following error: The value None could not be cast to float..\u001b[0m\n",
      "\u001b[33m[W 2023-01-24 12:49:47,131]\u001b[0m Trial 244 failed with value None.\u001b[0m\n",
      "\u001b[33m[W 2023-01-24 12:49:47,264]\u001b[0m Trial 245 failed with parameters: {'max_depth': 7, 'learning_rate': 0.1763878865255543, 'n_estimators': 64, 'min_child_weight': 1, 'gamma': 0.10279299879176396, 'subsample': 0.02033863180015783, 'colsample_bytree': 0.6250470357951383, 'reg_alpha': 0.731141398837659, 'reg_lambda': 0.34256943111425325} because of the following error: The value None could not be cast to float..\u001b[0m\n",
      "\u001b[33m[W 2023-01-24 12:49:47,265]\u001b[0m Trial 245 failed with value None.\u001b[0m\n"
     ]
    },
    {
     "name": "stdout",
     "output_type": "stream",
     "text": [
      "0.7783333333333333 0.19333333333333333\n",
      "0.7683333333333333 0.19333333333333333\n"
     ]
    },
    {
     "name": "stderr",
     "output_type": "stream",
     "text": [
      "\u001b[33m[W 2023-01-24 12:49:47,678]\u001b[0m Trial 246 failed with parameters: {'max_depth': 5, 'learning_rate': 0.3397518731117924, 'n_estimators': 75, 'min_child_weight': 2, 'gamma': 0.7018730393912418, 'subsample': 0.5491880203301857, 'colsample_bytree': 0.6794037134978553, 'reg_alpha': 0.5184140955665225, 'reg_lambda': 0.8994075801348292} because of the following error: The value None could not be cast to float..\u001b[0m\n",
      "\u001b[33m[W 2023-01-24 12:49:47,680]\u001b[0m Trial 246 failed with value None.\u001b[0m\n"
     ]
    },
    {
     "name": "stdout",
     "output_type": "stream",
     "text": [
      "0.7666666666666667 0.19333333333333333\n"
     ]
    },
    {
     "name": "stderr",
     "output_type": "stream",
     "text": [
      "\u001b[33m[W 2023-01-24 12:49:47,941]\u001b[0m Trial 247 failed with parameters: {'max_depth': 25, 'learning_rate': 0.6200024662120548, 'n_estimators': 92, 'min_child_weight': 2, 'gamma': 0.17269222366934617, 'subsample': 0.570077273559126, 'colsample_bytree': 0.12358557941933301, 'reg_alpha': 0.8652236631598076, 'reg_lambda': 0.15493024015990917} because of the following error: The value None could not be cast to float..\u001b[0m\n",
      "\u001b[33m[W 2023-01-24 12:49:47,945]\u001b[0m Trial 247 failed with value None.\u001b[0m\n"
     ]
    },
    {
     "name": "stdout",
     "output_type": "stream",
     "text": [
      "0.715 0.19333333333333333\n"
     ]
    },
    {
     "name": "stderr",
     "output_type": "stream",
     "text": [
      "\u001b[33m[W 2023-01-24 12:49:48,312]\u001b[0m Trial 248 failed with parameters: {'max_depth': 8, 'learning_rate': 0.48529314588632505, 'n_estimators': 81, 'min_child_weight': 8, 'gamma': 0.4501730510636097, 'subsample': 0.6148507313412566, 'colsample_bytree': 0.3697874510540717, 'reg_alpha': 0.33050646873390344, 'reg_lambda': 0.9349024832922728} because of the following error: The value None could not be cast to float..\u001b[0m\n",
      "\u001b[33m[W 2023-01-24 12:49:48,314]\u001b[0m Trial 248 failed with value None.\u001b[0m\n",
      "\u001b[33m[W 2023-01-24 12:49:48,432]\u001b[0m Trial 249 failed with parameters: {'max_depth': 16, 'learning_rate': 0.9250760799227471, 'n_estimators': 84, 'min_child_weight': 7, 'gamma': 0.36669022730649065, 'subsample': 0.01730856651107125, 'colsample_bytree': 0.9749135413806431, 'reg_alpha': 0.8650916045332131, 'reg_lambda': 0.9611984262572013} because of the following error: The value None could not be cast to float..\u001b[0m\n",
      "\u001b[33m[W 2023-01-24 12:49:48,433]\u001b[0m Trial 249 failed with value None.\u001b[0m\n"
     ]
    },
    {
     "name": "stdout",
     "output_type": "stream",
     "text": [
      "0.7533333333333333 0.19333333333333333\n",
      "0.6516666666666666 0.19333333333333333\n"
     ]
    },
    {
     "name": "stderr",
     "output_type": "stream",
     "text": [
      "\u001b[33m[W 2023-01-24 12:49:49,375]\u001b[0m Trial 250 failed with parameters: {'max_depth': 22, 'learning_rate': 0.21884547056386894, 'n_estimators': 95, 'min_child_weight': 7, 'gamma': 0.7327734969703362, 'subsample': 0.7952020569482667, 'colsample_bytree': 0.982926327310544, 'reg_alpha': 0.6127209694206097, 'reg_lambda': 0.8914452418607021} because of the following error: The value None could not be cast to float..\u001b[0m\n",
      "\u001b[33m[W 2023-01-24 12:49:49,376]\u001b[0m Trial 250 failed with value None.\u001b[0m\n"
     ]
    },
    {
     "name": "stdout",
     "output_type": "stream",
     "text": [
      "0.7866666666666666 0.19333333333333333\n"
     ]
    },
    {
     "name": "stderr",
     "output_type": "stream",
     "text": [
      "\u001b[33m[W 2023-01-24 12:49:50,189]\u001b[0m Trial 251 failed with parameters: {'max_depth': 20, 'learning_rate': 0.16205209897418418, 'n_estimators': 94, 'min_child_weight': 6, 'gamma': 0.808020705374554, 'subsample': 0.6274558542781951, 'colsample_bytree': 0.8149341207385253, 'reg_alpha': 0.4473373406812583, 'reg_lambda': 0.621270122114982} because of the following error: The value None could not be cast to float..\u001b[0m\n",
      "\u001b[33m[W 2023-01-24 12:49:50,192]\u001b[0m Trial 251 failed with value None.\u001b[0m\n"
     ]
    },
    {
     "name": "stdout",
     "output_type": "stream",
     "text": [
      "0.785 0.19333333333333333\n"
     ]
    },
    {
     "name": "stderr",
     "output_type": "stream",
     "text": [
      "\u001b[33m[W 2023-01-24 12:49:50,446]\u001b[0m Trial 252 failed with parameters: {'max_depth': 25, 'learning_rate': 0.4110912999325551, 'n_estimators': 68, 'min_child_weight': 9, 'gamma': 0.9965458729605736, 'subsample': 0.7760211595317186, 'colsample_bytree': 0.24397108841604234, 'reg_alpha': 0.4282731578932454, 'reg_lambda': 0.5960512004266733} because of the following error: The value None could not be cast to float..\u001b[0m\n",
      "\u001b[33m[W 2023-01-24 12:49:50,449]\u001b[0m Trial 252 failed with value None.\u001b[0m\n"
     ]
    },
    {
     "name": "stdout",
     "output_type": "stream",
     "text": [
      "0.7666666666666667 0.19333333333333333\n"
     ]
    },
    {
     "name": "stderr",
     "output_type": "stream",
     "text": [
      "\u001b[33m[W 2023-01-24 12:49:50,654]\u001b[0m Trial 253 failed with parameters: {'max_depth': 11, 'learning_rate': 0.9485491879832154, 'n_estimators': 78, 'min_child_weight': 9, 'gamma': 0.979160022022842, 'subsample': 0.2559966441903674, 'colsample_bytree': 0.41981952492230173, 'reg_alpha': 0.3524965565211761, 'reg_lambda': 0.14574466581680343} because of the following error: The value None could not be cast to float..\u001b[0m\n",
      "\u001b[33m[W 2023-01-24 12:49:50,657]\u001b[0m Trial 253 failed with value None.\u001b[0m\n",
      "\u001b[33m[W 2023-01-24 12:49:50,790]\u001b[0m Trial 254 failed with parameters: {'max_depth': 2, 'learning_rate': 0.6106104543110331, 'n_estimators': 79, 'min_child_weight': 4, 'gamma': 0.5239718789820134, 'subsample': 0.8474773238336766, 'colsample_bytree': 0.1375953300373046, 'reg_alpha': 0.2352153699052274, 'reg_lambda': 0.9997285734482284} because of the following error: The value None could not be cast to float..\u001b[0m\n",
      "\u001b[33m[W 2023-01-24 12:49:50,792]\u001b[0m Trial 254 failed with value None.\u001b[0m\n"
     ]
    },
    {
     "name": "stdout",
     "output_type": "stream",
     "text": [
      "0.6633333333333333 0.19333333333333333\n",
      "0.7716666666666666 0.19333333333333333\n"
     ]
    },
    {
     "name": "stderr",
     "output_type": "stream",
     "text": [
      "\u001b[33m[W 2023-01-24 12:49:50,968]\u001b[0m Trial 255 failed with parameters: {'max_depth': 2, 'learning_rate': 0.25679032235219296, 'n_estimators': 81, 'min_child_weight': 6, 'gamma': 0.3660227931185244, 'subsample': 0.49215024108872996, 'colsample_bytree': 0.27851503429502544, 'reg_alpha': 0.09851655530163127, 'reg_lambda': 0.9510600460159121} because of the following error: The value None could not be cast to float..\u001b[0m\n",
      "\u001b[33m[W 2023-01-24 12:49:50,970]\u001b[0m Trial 255 failed with value None.\u001b[0m\n"
     ]
    },
    {
     "name": "stdout",
     "output_type": "stream",
     "text": [
      "0.7966666666666666 0.19333333333333333\n"
     ]
    },
    {
     "name": "stderr",
     "output_type": "stream",
     "text": [
      "\u001b[33m[W 2023-01-24 12:49:51,634]\u001b[0m Trial 256 failed with parameters: {'max_depth': 17, 'learning_rate': 0.06366928471646807, 'n_estimators': 85, 'min_child_weight': 2, 'gamma': 0.21355030354956503, 'subsample': 0.8329803174543722, 'colsample_bytree': 0.38681325027082825, 'reg_alpha': 0.5886810961642547, 'reg_lambda': 0.21034662490620765} because of the following error: The value None could not be cast to float..\u001b[0m\n",
      "\u001b[33m[W 2023-01-24 12:49:51,635]\u001b[0m Trial 256 failed with value None.\u001b[0m\n",
      "\u001b[33m[W 2023-01-24 12:49:51,759]\u001b[0m Trial 257 failed with parameters: {'max_depth': 2, 'learning_rate': 0.889406574947271, 'n_estimators': 78, 'min_child_weight': 1, 'gamma': 0.8849020732286149, 'subsample': 0.7189673803667204, 'colsample_bytree': 0.059869700722043215, 'reg_alpha': 0.6695445638996157, 'reg_lambda': 0.03054535713477538} because of the following error: The value None could not be cast to float..\u001b[0m\n",
      "\u001b[33m[W 2023-01-24 12:49:51,761]\u001b[0m Trial 257 failed with value None.\u001b[0m\n"
     ]
    },
    {
     "name": "stdout",
     "output_type": "stream",
     "text": [
      "0.7833333333333333 0.19333333333333333\n",
      "0.7816666666666666 0.19333333333333333\n"
     ]
    },
    {
     "name": "stderr",
     "output_type": "stream",
     "text": [
      "\u001b[33m[W 2023-01-24 12:49:52,127]\u001b[0m Trial 258 failed with parameters: {'max_depth': 10, 'learning_rate': 0.8172530485860023, 'n_estimators': 65, 'min_child_weight': 9, 'gamma': 0.09121516773603804, 'subsample': 0.9012107624478126, 'colsample_bytree': 0.45304659707204514, 'reg_alpha': 0.09079769523323333, 'reg_lambda': 0.37048911265724843} because of the following error: The value None could not be cast to float..\u001b[0m\n",
      "\u001b[33m[W 2023-01-24 12:49:52,129]\u001b[0m Trial 258 failed with value None.\u001b[0m\n"
     ]
    },
    {
     "name": "stdout",
     "output_type": "stream",
     "text": [
      "0.76 0.19333333333333333\n"
     ]
    },
    {
     "name": "stderr",
     "output_type": "stream",
     "text": [
      "\u001b[33m[W 2023-01-24 12:49:52,618]\u001b[0m Trial 259 failed with parameters: {'max_depth': 21, 'learning_rate': 0.02754027024779393, 'n_estimators': 63, 'min_child_weight': 9, 'gamma': 0.7719746238371221, 'subsample': 0.6026304808512529, 'colsample_bytree': 0.8826805095387241, 'reg_alpha': 0.8182816126600932, 'reg_lambda': 0.8834301022164532} because of the following error: The value None could not be cast to float..\u001b[0m\n",
      "\u001b[33m[W 2023-01-24 12:49:52,620]\u001b[0m Trial 259 failed with value None.\u001b[0m\n"
     ]
    },
    {
     "name": "stdout",
     "output_type": "stream",
     "text": [
      "0.8183333333333334 0.19333333333333333\n"
     ]
    },
    {
     "name": "stderr",
     "output_type": "stream",
     "text": [
      "\u001b[33m[W 2023-01-24 12:49:53,209]\u001b[0m Trial 260 failed with parameters: {'max_depth': 14, 'learning_rate': 0.9528383221898711, 'n_estimators': 96, 'min_child_weight': 6, 'gamma': 0.5882990110745945, 'subsample': 0.6008043515093365, 'colsample_bytree': 0.6811659285165269, 'reg_alpha': 0.75656490753696, 'reg_lambda': 0.27760128789524063} because of the following error: The value None could not be cast to float..\u001b[0m\n",
      "\u001b[33m[W 2023-01-24 12:49:53,210]\u001b[0m Trial 260 failed with value None.\u001b[0m\n"
     ]
    },
    {
     "name": "stdout",
     "output_type": "stream",
     "text": [
      "0.6783333333333333 0.19333333333333333\n"
     ]
    },
    {
     "name": "stderr",
     "output_type": "stream",
     "text": [
      "\u001b[33m[W 2023-01-24 12:49:53,484]\u001b[0m Trial 261 failed with parameters: {'max_depth': 5, 'learning_rate': 0.5520929046997738, 'n_estimators': 58, 'min_child_weight': 8, 'gamma': 0.7601053620537586, 'subsample': 0.9358796426635981, 'colsample_bytree': 0.6794697056368022, 'reg_alpha': 0.8474136845917892, 'reg_lambda': 0.3601050995148827} because of the following error: The value None could not be cast to float..\u001b[0m\n",
      "\u001b[33m[W 2023-01-24 12:49:53,485]\u001b[0m Trial 261 failed with value None.\u001b[0m\n"
     ]
    },
    {
     "name": "stdout",
     "output_type": "stream",
     "text": [
      "0.7766666666666666 0.19333333333333333\n"
     ]
    },
    {
     "name": "stderr",
     "output_type": "stream",
     "text": [
      "\u001b[33m[W 2023-01-24 12:49:54,067]\u001b[0m Trial 262 failed with parameters: {'max_depth': 6, 'learning_rate': 0.6345016305235787, 'n_estimators': 86, 'min_child_weight': 10, 'gamma': 0.09230020330647515, 'subsample': 0.6796707850312999, 'colsample_bytree': 0.942575552478683, 'reg_alpha': 0.42602182369102665, 'reg_lambda': 0.3063848183394253} because of the following error: The value None could not be cast to float..\u001b[0m\n",
      "\u001b[33m[W 2023-01-24 12:49:54,068]\u001b[0m Trial 262 failed with value None.\u001b[0m\n",
      "\u001b[33m[W 2023-01-24 12:49:54,266]\u001b[0m Trial 263 failed with parameters: {'max_depth': 5, 'learning_rate': 0.3966458737154897, 'n_estimators': 69, 'min_child_weight': 6, 'gamma': 0.7633378599783196, 'subsample': 0.42436172712646686, 'colsample_bytree': 0.2258669186749009, 'reg_alpha': 0.5216152609710519, 'reg_lambda': 0.38377129520458736} because of the following error: The value None could not be cast to float..\u001b[0m\n"
     ]
    },
    {
     "name": "stdout",
     "output_type": "stream",
     "text": [
      "0.77 0.19333333333333333\n",
      "0.7766666666666666 0.19333333333333333\n"
     ]
    },
    {
     "name": "stderr",
     "output_type": "stream",
     "text": [
      "\u001b[33m[W 2023-01-24 12:49:54,268]\u001b[0m Trial 263 failed with value None.\u001b[0m\n",
      "\u001b[33m[W 2023-01-24 12:49:54,436]\u001b[0m Trial 264 failed with parameters: {'max_depth': 3, 'learning_rate': 0.3818987384624755, 'n_estimators': 83, 'min_child_weight': 4, 'gamma': 0.3974352240389312, 'subsample': 0.1151656067085455, 'colsample_bytree': 0.4446407018779486, 'reg_alpha': 0.8313290779908721, 'reg_lambda': 0.7614579728386935} because of the following error: The value None could not be cast to float..\u001b[0m\n",
      "\u001b[33m[W 2023-01-24 12:49:54,437]\u001b[0m Trial 264 failed with value None.\u001b[0m\n"
     ]
    },
    {
     "name": "stdout",
     "output_type": "stream",
     "text": [
      "0.755 0.19333333333333333\n"
     ]
    },
    {
     "name": "stderr",
     "output_type": "stream",
     "text": [
      "\u001b[33m[W 2023-01-24 12:49:54,803]\u001b[0m Trial 265 failed with parameters: {'max_depth': 23, 'learning_rate': 0.15119758451176585, 'n_estimators': 68, 'min_child_weight': 1, 'gamma': 0.2867244480035332, 'subsample': 0.26679356070357735, 'colsample_bytree': 0.3775394720461082, 'reg_alpha': 0.6938908884890583, 'reg_lambda': 0.6837415225515284} because of the following error: The value None could not be cast to float..\u001b[0m\n",
      "\u001b[33m[W 2023-01-24 12:49:54,805]\u001b[0m Trial 265 failed with value None.\u001b[0m\n"
     ]
    },
    {
     "name": "stdout",
     "output_type": "stream",
     "text": [
      "0.77 0.19333333333333333\n"
     ]
    },
    {
     "name": "stderr",
     "output_type": "stream",
     "text": [
      "\u001b[33m[W 2023-01-24 12:49:55,117]\u001b[0m Trial 266 failed with parameters: {'max_depth': 19, 'learning_rate': 0.050057804996521744, 'n_estimators': 73, 'min_child_weight': 2, 'gamma': 0.8406264973896114, 'subsample': 0.3372964831381212, 'colsample_bytree': 0.23888082567791627, 'reg_alpha': 0.5200768475542421, 'reg_lambda': 0.8525633756941647} because of the following error: The value None could not be cast to float..\u001b[0m\n",
      "\u001b[33m[W 2023-01-24 12:49:55,119]\u001b[0m Trial 266 failed with value None.\u001b[0m\n"
     ]
    },
    {
     "name": "stdout",
     "output_type": "stream",
     "text": [
      "0.7966666666666666 0.19333333333333333\n",
      "0.7833333333333333 0.19333333333333333\n"
     ]
    },
    {
     "name": "stderr",
     "output_type": "stream",
     "text": [
      "\u001b[33m[W 2023-01-24 12:49:55,319]\u001b[0m Trial 267 failed with parameters: {'max_depth': 18, 'learning_rate': 0.23292185190290385, 'n_estimators': 66, 'min_child_weight': 6, 'gamma': 0.7877980882918122, 'subsample': 0.3561298324849648, 'colsample_bytree': 0.1591932708377169, 'reg_alpha': 0.3011315957519869, 'reg_lambda': 0.3097289125015427} because of the following error: The value None could not be cast to float..\u001b[0m\n",
      "\u001b[33m[W 2023-01-24 12:49:55,326]\u001b[0m Trial 267 failed with value None.\u001b[0m\n",
      "\u001b[33m[W 2023-01-24 12:49:55,601]\u001b[0m Trial 268 failed with parameters: {'max_depth': 20, 'learning_rate': 0.1713253385237625, 'n_estimators': 54, 'min_child_weight': 4, 'gamma': 0.14184491680815248, 'subsample': 0.17976815722476058, 'colsample_bytree': 0.8676000486643372, 'reg_alpha': 0.4610094421391501, 'reg_lambda': 0.2208616907654864} because of the following error: The value None could not be cast to float..\u001b[0m\n",
      "\u001b[33m[W 2023-01-24 12:49:55,602]\u001b[0m Trial 268 failed with value None.\u001b[0m\n"
     ]
    },
    {
     "name": "stdout",
     "output_type": "stream",
     "text": [
      "0.7883333333333333 0.19333333333333333\n"
     ]
    },
    {
     "name": "stderr",
     "output_type": "stream",
     "text": [
      "\u001b[33m[W 2023-01-24 12:49:55,852]\u001b[0m Trial 269 failed with parameters: {'max_depth': 9, 'learning_rate': 0.26112711962191276, 'n_estimators': 54, 'min_child_weight': 1, 'gamma': 0.281707829998524, 'subsample': 0.16622080084980173, 'colsample_bytree': 0.5883938033295597, 'reg_alpha': 0.9592297420929665, 'reg_lambda': 0.1981799762141546} because of the following error: The value None could not be cast to float..\u001b[0m\n",
      "\u001b[33m[W 2023-01-24 12:49:55,854]\u001b[0m Trial 269 failed with value None.\u001b[0m\n"
     ]
    },
    {
     "name": "stdout",
     "output_type": "stream",
     "text": [
      "0.745 0.19333333333333333\n"
     ]
    },
    {
     "name": "stderr",
     "output_type": "stream",
     "text": [
      "\u001b[33m[W 2023-01-24 12:49:56,392]\u001b[0m Trial 270 failed with parameters: {'max_depth': 21, 'learning_rate': 0.7495012625991286, 'n_estimators': 90, 'min_child_weight': 8, 'gamma': 0.2786629413379354, 'subsample': 0.6414588862601229, 'colsample_bytree': 0.6721205774987942, 'reg_alpha': 0.265848929623265, 'reg_lambda': 0.37085084685018743} because of the following error: The value None could not be cast to float..\u001b[0m\n",
      "\u001b[33m[W 2023-01-24 12:49:56,393]\u001b[0m Trial 270 failed with value None.\u001b[0m\n"
     ]
    },
    {
     "name": "stdout",
     "output_type": "stream",
     "text": [
      "0.6633333333333333 0.19333333333333333\n"
     ]
    },
    {
     "name": "stderr",
     "output_type": "stream",
     "text": [
      "\u001b[33m[W 2023-01-24 12:49:56,669]\u001b[0m Trial 271 failed with parameters: {'max_depth': 7, 'learning_rate': 0.5321296340239535, 'n_estimators': 99, 'min_child_weight': 5, 'gamma': 0.407768099600822, 'subsample': 0.2831181674830794, 'colsample_bytree': 0.25726694029031844, 'reg_alpha': 0.16486539228708805, 'reg_lambda': 0.42964635874723367} because of the following error: The value None could not be cast to float..\u001b[0m\n",
      "\u001b[33m[W 2023-01-24 12:49:56,671]\u001b[0m Trial 271 failed with value None.\u001b[0m\n"
     ]
    },
    {
     "name": "stdout",
     "output_type": "stream",
     "text": [
      "0.7016666666666667 0.19333333333333333\n"
     ]
    },
    {
     "name": "stderr",
     "output_type": "stream",
     "text": [
      "\u001b[33m[W 2023-01-24 12:49:57,082]\u001b[0m Trial 272 failed with parameters: {'max_depth': 11, 'learning_rate': 0.533131918237177, 'n_estimators': 84, 'min_child_weight': 5, 'gamma': 0.47504338781647243, 'subsample': 0.29944418838443987, 'colsample_bytree': 0.7514512374087161, 'reg_alpha': 0.899870895736039, 'reg_lambda': 0.6854920871149243} because of the following error: The value None could not be cast to float..\u001b[0m\n",
      "\u001b[33m[W 2023-01-24 12:49:57,084]\u001b[0m Trial 272 failed with value None.\u001b[0m\n"
     ]
    },
    {
     "name": "stdout",
     "output_type": "stream",
     "text": [
      "0.7583333333333333 0.19333333333333333\n"
     ]
    },
    {
     "name": "stderr",
     "output_type": "stream",
     "text": [
      "\u001b[33m[W 2023-01-24 12:49:57,701]\u001b[0m Trial 273 failed with parameters: {'max_depth': 24, 'learning_rate': 0.923999711911375, 'n_estimators': 59, 'min_child_weight': 1, 'gamma': 0.5541568407335187, 'subsample': 0.7118234035755929, 'colsample_bytree': 0.8748258087416748, 'reg_alpha': 0.11296756688951042, 'reg_lambda': 0.9352608906684293} because of the following error: The value None could not be cast to float..\u001b[0m\n",
      "\u001b[33m[W 2023-01-24 12:49:57,702]\u001b[0m Trial 273 failed with value None.\u001b[0m\n"
     ]
    },
    {
     "name": "stdout",
     "output_type": "stream",
     "text": [
      "0.695 0.19333333333333333\n"
     ]
    },
    {
     "name": "stderr",
     "output_type": "stream",
     "text": [
      "\u001b[33m[W 2023-01-24 12:49:58,034]\u001b[0m Trial 274 failed with parameters: {'max_depth': 21, 'learning_rate': 0.70530418663508, 'n_estimators': 73, 'min_child_weight': 10, 'gamma': 0.20307142764743746, 'subsample': 0.428732031827504, 'colsample_bytree': 0.6385174817186196, 'reg_alpha': 0.3009674962177593, 'reg_lambda': 0.6646822140186649} because of the following error: The value None could not be cast to float..\u001b[0m\n",
      "\u001b[33m[W 2023-01-24 12:49:58,036]\u001b[0m Trial 274 failed with value None.\u001b[0m\n",
      "\u001b[33m[W 2023-01-24 12:49:58,198]\u001b[0m Trial 275 failed with parameters: {'max_depth': 9, 'learning_rate': 0.2624126814659663, 'n_estimators': 71, 'min_child_weight': 5, 'gamma': 0.5119920223480104, 'subsample': 0.06333882650705262, 'colsample_bytree': 0.9059030693506379, 'reg_alpha': 0.3276169217239946, 'reg_lambda': 0.8634446168088669} because of the following error: The value None could not be cast to float..\u001b[0m\n",
      "\u001b[33m[W 2023-01-24 12:49:58,199]\u001b[0m Trial 275 failed with value None.\u001b[0m\n"
     ]
    },
    {
     "name": "stdout",
     "output_type": "stream",
     "text": [
      "0.7116666666666667 0.19333333333333333\n",
      "0.8016666666666666 0.19333333333333333\n"
     ]
    },
    {
     "name": "stderr",
     "output_type": "stream",
     "text": [
      "\u001b[33m[W 2023-01-24 12:49:58,594]\u001b[0m Trial 276 failed with parameters: {'max_depth': 20, 'learning_rate': 0.3410529536036181, 'n_estimators': 65, 'min_child_weight': 8, 'gamma': 0.6615020834778297, 'subsample': 0.39817264958737647, 'colsample_bytree': 0.8459291363710443, 'reg_alpha': 0.39774753855133965, 'reg_lambda': 0.9762689393472523} because of the following error: The value None could not be cast to float..\u001b[0m\n",
      "\u001b[33m[W 2023-01-24 12:49:58,595]\u001b[0m Trial 276 failed with value None.\u001b[0m\n",
      "\u001b[33m[W 2023-01-24 12:49:58,722]\u001b[0m Trial 277 failed with parameters: {'max_depth': 2, 'learning_rate': 0.18512294517522054, 'n_estimators': 97, 'min_child_weight': 9, 'gamma': 0.45421316355195307, 'subsample': 0.026285958269224113, 'colsample_bytree': 0.6881454003936268, 'reg_alpha': 0.9707791986564677, 'reg_lambda': 0.5104060041289014} because of the following error: The value None could not be cast to float..\u001b[0m\n",
      "\u001b[33m[W 2023-01-24 12:49:58,724]\u001b[0m Trial 277 failed with value None.\u001b[0m\n"
     ]
    },
    {
     "name": "stdout",
     "output_type": "stream",
     "text": [
      "0.76 0.19333333333333333\n",
      "0.6516666666666666 0.19333333333333333\n"
     ]
    },
    {
     "name": "stderr",
     "output_type": "stream",
     "text": [
      "\u001b[33m[W 2023-01-24 12:49:58,854]\u001b[0m Trial 278 failed with parameters: {'max_depth': 4, 'learning_rate': 0.8545408978921522, 'n_estimators': 68, 'min_child_weight': 10, 'gamma': 0.47662997138366664, 'subsample': 0.1278655685415943, 'colsample_bytree': 0.47671069148002326, 'reg_alpha': 0.7852022299200935, 'reg_lambda': 0.19994808319274102} because of the following error: The value None could not be cast to float..\u001b[0m\n",
      "\u001b[33m[W 2023-01-24 12:49:58,857]\u001b[0m Trial 278 failed with value None.\u001b[0m\n"
     ]
    },
    {
     "name": "stdout",
     "output_type": "stream",
     "text": [
      "0.7666666666666667 0.19333333333333333\n"
     ]
    },
    {
     "name": "stderr",
     "output_type": "stream",
     "text": [
      "\u001b[33m[W 2023-01-24 12:49:59,439]\u001b[0m Trial 279 failed with parameters: {'max_depth': 23, 'learning_rate': 0.19056791345492982, 'n_estimators': 61, 'min_child_weight': 5, 'gamma': 0.01663666909007161, 'subsample': 0.73735616655907, 'colsample_bytree': 0.6834761499626812, 'reg_alpha': 0.022876259295771438, 'reg_lambda': 0.3408516419180348} because of the following error: The value None could not be cast to float..\u001b[0m\n",
      "\u001b[33m[W 2023-01-24 12:49:59,441]\u001b[0m Trial 279 failed with value None.\u001b[0m\n"
     ]
    },
    {
     "name": "stdout",
     "output_type": "stream",
     "text": [
      "0.7866666666666666 0.19333333333333333\n"
     ]
    },
    {
     "name": "stderr",
     "output_type": "stream",
     "text": [
      "\u001b[33m[W 2023-01-24 12:49:59,762]\u001b[0m Trial 280 failed with parameters: {'max_depth': 8, 'learning_rate': 0.336818903452794, 'n_estimators': 57, 'min_child_weight': 3, 'gamma': 0.5735565294705168, 'subsample': 0.5161949687023686, 'colsample_bytree': 0.43305157883122175, 'reg_alpha': 0.18560877845834797, 'reg_lambda': 0.9220261244241978} because of the following error: The value None could not be cast to float..\u001b[0m\n",
      "\u001b[33m[W 2023-01-24 12:49:59,763]\u001b[0m Trial 280 failed with value None.\u001b[0m\n",
      "\u001b[33m[W 2023-01-24 12:49:59,908]\u001b[0m Trial 281 failed with parameters: {'max_depth': 21, 'learning_rate': 0.6078080740207772, 'n_estimators': 72, 'min_child_weight': 4, 'gamma': 0.4954815245396917, 'subsample': 0.25050289315726204, 'colsample_bytree': 0.11957075196996708, 'reg_alpha': 0.041548646691779156, 'reg_lambda': 0.6259571309426902} because of the following error: The value None could not be cast to float..\u001b[0m\n",
      "\u001b[33m[W 2023-01-24 12:49:59,909]\u001b[0m Trial 281 failed with value None.\u001b[0m\n"
     ]
    },
    {
     "name": "stdout",
     "output_type": "stream",
     "text": [
      "0.7316666666666667 0.19333333333333333\n",
      "0.74 0.19333333333333333\n"
     ]
    },
    {
     "name": "stderr",
     "output_type": "stream",
     "text": [
      "\u001b[33m[W 2023-01-24 12:50:00,067]\u001b[0m Trial 282 failed with parameters: {'max_depth': 2, 'learning_rate': 0.5756426533543954, 'n_estimators': 69, 'min_child_weight': 5, 'gamma': 0.5657451876192563, 'subsample': 0.25754504379465754, 'colsample_bytree': 0.6140817561634022, 'reg_alpha': 0.6234577719205139, 'reg_lambda': 0.803756377949462} because of the following error: The value None could not be cast to float..\u001b[0m\n",
      "\u001b[33m[W 2023-01-24 12:50:00,069]\u001b[0m Trial 282 failed with value None.\u001b[0m\n"
     ]
    },
    {
     "name": "stdout",
     "output_type": "stream",
     "text": [
      "0.7533333333333333 0.19333333333333333\n"
     ]
    },
    {
     "name": "stderr",
     "output_type": "stream",
     "text": [
      "\u001b[33m[W 2023-01-24 12:50:00,302]\u001b[0m Trial 283 failed with parameters: {'max_depth': 9, 'learning_rate': 0.8181701732454943, 'n_estimators': 65, 'min_child_weight': 3, 'gamma': 0.6485038472805508, 'subsample': 0.45526114077047386, 'colsample_bytree': 0.22407280872362467, 'reg_alpha': 0.8847740041833636, 'reg_lambda': 0.5944424228862045} because of the following error: The value None could not be cast to float..\u001b[0m\n",
      "\u001b[33m[W 2023-01-24 12:50:00,304]\u001b[0m Trial 283 failed with value None.\u001b[0m\n",
      "\u001b[33m[W 2023-01-24 12:50:00,470]\u001b[0m Trial 284 failed with parameters: {'max_depth': 14, 'learning_rate': 0.533538658105565, 'n_estimators': 71, 'min_child_weight': 2, 'gamma': 0.8460686379655415, 'subsample': 0.06507855321671345, 'colsample_bytree': 0.5363841132284851, 'reg_alpha': 0.6316447308242434, 'reg_lambda': 0.5174473627511593} because of the following error: The value None could not be cast to float..\u001b[0m\n",
      "\u001b[33m[W 2023-01-24 12:50:00,472]\u001b[0m Trial 284 failed with value None.\u001b[0m\n"
     ]
    },
    {
     "name": "stdout",
     "output_type": "stream",
     "text": [
      "0.7033333333333334 0.19333333333333333\n",
      "0.74 0.19333333333333333\n"
     ]
    },
    {
     "name": "stderr",
     "output_type": "stream",
     "text": [
      "\u001b[33m[W 2023-01-24 12:50:00,876]\u001b[0m Trial 285 failed with parameters: {'max_depth': 17, 'learning_rate': 0.7404155290420191, 'n_estimators': 60, 'min_child_weight': 3, 'gamma': 0.8790355035196639, 'subsample': 0.3668206977269279, 'colsample_bytree': 0.871492601627047, 'reg_alpha': 0.9951544119206208, 'reg_lambda': 0.29340225404007286} because of the following error: The value None could not be cast to float..\u001b[0m\n",
      "\u001b[33m[W 2023-01-24 12:50:00,878]\u001b[0m Trial 285 failed with value None.\u001b[0m\n"
     ]
    },
    {
     "name": "stdout",
     "output_type": "stream",
     "text": [
      "0.705 0.19333333333333333\n"
     ]
    },
    {
     "name": "stderr",
     "output_type": "stream",
     "text": [
      "\u001b[33m[W 2023-01-24 12:50:01,190]\u001b[0m Trial 286 failed with parameters: {'max_depth': 20, 'learning_rate': 0.7768803837405921, 'n_estimators': 57, 'min_child_weight': 10, 'gamma': 0.18581832603619688, 'subsample': 0.8596735747134255, 'colsample_bytree': 0.5006850053920661, 'reg_alpha': 0.5212288987356313, 'reg_lambda': 0.052150227499707935} because of the following error: The value None could not be cast to float..\u001b[0m\n",
      "\u001b[33m[W 2023-01-24 12:50:01,191]\u001b[0m Trial 286 failed with value None.\u001b[0m\n"
     ]
    },
    {
     "name": "stdout",
     "output_type": "stream",
     "text": [
      "0.7533333333333333 0.19333333333333333\n"
     ]
    },
    {
     "name": "stderr",
     "output_type": "stream",
     "text": [
      "\u001b[33m[W 2023-01-24 12:50:01,414]\u001b[0m Trial 287 failed with parameters: {'max_depth': 4, 'learning_rate': 0.7895170065222843, 'n_estimators': 84, 'min_child_weight': 4, 'gamma': 0.7931215780044623, 'subsample': 0.48703277401700085, 'colsample_bytree': 0.22740963886831164, 'reg_alpha': 0.49258482929208774, 'reg_lambda': 0.14726876727959604} because of the following error: The value None could not be cast to float..\u001b[0m\n",
      "\u001b[33m[W 2023-01-24 12:50:01,416]\u001b[0m Trial 287 failed with value None.\u001b[0m\n"
     ]
    },
    {
     "name": "stdout",
     "output_type": "stream",
     "text": [
      "0.7466666666666667 0.19333333333333333\n"
     ]
    },
    {
     "name": "stderr",
     "output_type": "stream",
     "text": [
      "\u001b[33m[W 2023-01-24 12:50:01,965]\u001b[0m Trial 288 failed with parameters: {'max_depth': 12, 'learning_rate': 0.39671009538626745, 'n_estimators': 95, 'min_child_weight': 3, 'gamma': 0.43197433110066286, 'subsample': 0.8034918432205758, 'colsample_bytree': 0.36818003275290595, 'reg_alpha': 0.1040198660558251, 'reg_lambda': 0.03427312704203373} because of the following error: The value None could not be cast to float..\u001b[0m\n",
      "\u001b[33m[W 2023-01-24 12:50:01,967]\u001b[0m Trial 288 failed with value None.\u001b[0m\n",
      "\u001b[33m[W 2023-01-24 12:50:02,079]\u001b[0m Trial 289 failed with parameters: {'max_depth': 14, 'learning_rate': 0.2105787800976021, 'n_estimators': 78, 'min_child_weight': 10, 'gamma': 0.5785049975104931, 'subsample': 0.024811659130605273, 'colsample_bytree': 0.9804364199335167, 'reg_alpha': 0.6369403643016451, 'reg_lambda': 0.8832730377110942} because of the following error: The value None could not be cast to float..\u001b[0m\n",
      "\u001b[33m[W 2023-01-24 12:50:02,085]\u001b[0m Trial 289 failed with value None.\u001b[0m\n"
     ]
    },
    {
     "name": "stdout",
     "output_type": "stream",
     "text": [
      "0.7516666666666667 0.19333333333333333\n",
      "0.6516666666666666 0.19333333333333333\n"
     ]
    },
    {
     "name": "stderr",
     "output_type": "stream",
     "text": [
      "\u001b[33m[W 2023-01-24 12:50:02,310]\u001b[0m Trial 290 failed with parameters: {'max_depth': 6, 'learning_rate': 0.5703845204727122, 'n_estimators': 89, 'min_child_weight': 2, 'gamma': 0.8893510633474735, 'subsample': 0.4540426075725465, 'colsample_bytree': 0.12622181374605246, 'reg_alpha': 0.19282424128354797, 'reg_lambda': 0.04900360979586589} because of the following error: The value None could not be cast to float..\u001b[0m\n",
      "\u001b[33m[W 2023-01-24 12:50:02,311]\u001b[0m Trial 290 failed with value None.\u001b[0m\n"
     ]
    },
    {
     "name": "stdout",
     "output_type": "stream",
     "text": [
      "0.7633333333333333 0.19333333333333333\n"
     ]
    },
    {
     "name": "stderr",
     "output_type": "stream",
     "text": [
      "\u001b[33m[W 2023-01-24 12:50:02,966]\u001b[0m Trial 291 failed with parameters: {'max_depth': 13, 'learning_rate': 0.4528326856759163, 'n_estimators': 92, 'min_child_weight': 7, 'gamma': 0.4045589258181234, 'subsample': 0.692290448291832, 'colsample_bytree': 0.7002362213099825, 'reg_alpha': 0.7722335855795464, 'reg_lambda': 0.6625283538536794} because of the following error: The value None could not be cast to float..\u001b[0m\n",
      "\u001b[33m[W 2023-01-24 12:50:02,968]\u001b[0m Trial 291 failed with value None.\u001b[0m\n",
      "\u001b[33m[W 2023-01-24 12:50:03,077]\u001b[0m Trial 292 failed with parameters: {'max_depth': 17, 'learning_rate': 0.011418802035046733, 'n_estimators': 60, 'min_child_weight': 6, 'gamma': 0.45793646507827135, 'subsample': 0.7863225099184841, 'colsample_bytree': 0.03745240530424648, 'reg_alpha': 0.23335649269562272, 'reg_lambda': 0.7586346778960456} because of the following error: The value None could not be cast to float..\u001b[0m\n",
      "\u001b[33m[W 2023-01-24 12:50:03,080]\u001b[0m Trial 292 failed with value None.\u001b[0m\n"
     ]
    },
    {
     "name": "stdout",
     "output_type": "stream",
     "text": [
      "0.77 0.19333333333333333\n",
      "0.6516666666666666 0.19333333333333333\n"
     ]
    },
    {
     "name": "stderr",
     "output_type": "stream",
     "text": [
      "\u001b[33m[W 2023-01-24 12:50:03,346]\u001b[0m Trial 293 failed with parameters: {'max_depth': 16, 'learning_rate': 0.7583435592561085, 'n_estimators': 50, 'min_child_weight': 9, 'gamma': 0.20682271591121948, 'subsample': 0.7036497389836428, 'colsample_bytree': 0.43178551044790175, 'reg_alpha': 0.1977650542841983, 'reg_lambda': 0.38423752827181823} because of the following error: The value None could not be cast to float..\u001b[0m\n",
      "\u001b[33m[W 2023-01-24 12:50:03,347]\u001b[0m Trial 293 failed with value None.\u001b[0m\n"
     ]
    },
    {
     "name": "stdout",
     "output_type": "stream",
     "text": [
      "0.7466666666666667 0.19333333333333333\n"
     ]
    },
    {
     "name": "stderr",
     "output_type": "stream",
     "text": [
      "\u001b[33m[W 2023-01-24 12:50:03,727]\u001b[0m Trial 294 failed with parameters: {'max_depth': 17, 'learning_rate': 0.32757456716610933, 'n_estimators': 99, 'min_child_weight': 7, 'gamma': 0.11141331537534804, 'subsample': 0.43710641197350913, 'colsample_bytree': 0.27652822091871154, 'reg_alpha': 0.3264270909344636, 'reg_lambda': 0.4584197762329423} because of the following error: The value None could not be cast to float..\u001b[0m\n",
      "\u001b[33m[W 2023-01-24 12:50:03,729]\u001b[0m Trial 294 failed with value None.\u001b[0m\n"
     ]
    },
    {
     "name": "stdout",
     "output_type": "stream",
     "text": [
      "0.7483333333333333 0.19333333333333333\n"
     ]
    },
    {
     "name": "stderr",
     "output_type": "stream",
     "text": [
      "\u001b[33m[W 2023-01-24 12:50:04,792]\u001b[0m Trial 295 failed with parameters: {'max_depth': 11, 'learning_rate': 0.31223858067247046, 'n_estimators': 81, 'min_child_weight': 1, 'gamma': 0.5021722542961, 'subsample': 0.8451611872811104, 'colsample_bytree': 0.9688288550102216, 'reg_alpha': 0.6056966737994292, 'reg_lambda': 0.5474176955583229} because of the following error: The value None could not be cast to float..\u001b[0m\n",
      "\u001b[33m[W 2023-01-24 12:50:04,794]\u001b[0m Trial 295 failed with value None.\u001b[0m\n"
     ]
    },
    {
     "name": "stdout",
     "output_type": "stream",
     "text": [
      "0.7733333333333333 0.19333333333333333\n"
     ]
    },
    {
     "name": "stderr",
     "output_type": "stream",
     "text": [
      "\u001b[33m[W 2023-01-24 12:50:05,037]\u001b[0m Trial 296 failed with parameters: {'max_depth': 21, 'learning_rate': 0.5266186564752758, 'n_estimators': 53, 'min_child_weight': 5, 'gamma': 0.4499746512071556, 'subsample': 0.556479382680469, 'colsample_bytree': 0.26492754820071013, 'reg_alpha': 0.5309390412479559, 'reg_lambda': 0.9769982630558899} because of the following error: The value None could not be cast to float..\u001b[0m\n",
      "\u001b[33m[W 2023-01-24 12:50:05,040]\u001b[0m Trial 296 failed with value None.\u001b[0m\n"
     ]
    },
    {
     "name": "stdout",
     "output_type": "stream",
     "text": [
      "0.77 0.19333333333333333\n"
     ]
    },
    {
     "name": "stderr",
     "output_type": "stream",
     "text": [
      "\u001b[33m[W 2023-01-24 12:50:05,536]\u001b[0m Trial 297 failed with parameters: {'max_depth': 15, 'learning_rate': 0.0972915515644536, 'n_estimators': 84, 'min_child_weight': 8, 'gamma': 0.4685580191517968, 'subsample': 0.8438154754186822, 'colsample_bytree': 0.36596109764924595, 'reg_alpha': 0.3534994225025769, 'reg_lambda': 0.12754651533447664} because of the following error: The value None could not be cast to float..\u001b[0m\n",
      "\u001b[33m[W 2023-01-24 12:50:05,538]\u001b[0m Trial 297 failed with value None.\u001b[0m\n",
      "\u001b[33m[W 2023-01-24 12:50:05,699]\u001b[0m Trial 298 failed with parameters: {'max_depth': 12, 'learning_rate': 0.457283259658379, 'n_estimators': 66, 'min_child_weight': 3, 'gamma': 0.5996620378198048, 'subsample': 0.2541987024685142, 'colsample_bytree': 0.12603604687601364, 'reg_alpha': 0.8629937071014163, 'reg_lambda': 0.7459685208163735} because of the following error: The value None could not be cast to float..\u001b[0m\n",
      "\u001b[33m[W 2023-01-24 12:50:05,702]\u001b[0m Trial 298 failed with value None.\u001b[0m\n"
     ]
    },
    {
     "name": "stdout",
     "output_type": "stream",
     "text": [
      "0.7883333333333333 0.19333333333333333\n",
      "0.7433333333333333 0.19333333333333333\n"
     ]
    },
    {
     "name": "stderr",
     "output_type": "stream",
     "text": [
      "\u001b[33m[W 2023-01-24 12:50:06,136]\u001b[0m Trial 299 failed with parameters: {'max_depth': 13, 'learning_rate': 0.29212388052165544, 'n_estimators': 53, 'min_child_weight': 6, 'gamma': 0.8133632980742102, 'subsample': 0.5190780181476652, 'colsample_bytree': 0.8327545743931677, 'reg_alpha': 0.6601687831160655, 'reg_lambda': 0.568905567249084} because of the following error: The value None could not be cast to float..\u001b[0m\n",
      "\u001b[33m[W 2023-01-24 12:50:06,137]\u001b[0m Trial 299 failed with value None.\u001b[0m\n",
      "\u001b[33m[W 2023-01-24 12:50:06,260]\u001b[0m Trial 300 failed with parameters: {'max_depth': 25, 'learning_rate': 0.9664362692321193, 'n_estimators': 79, 'min_child_weight': 3, 'gamma': 0.2594745823775892, 'subsample': 0.08946609938490518, 'colsample_bytree': 0.11994049089882736, 'reg_alpha': 0.47636150104395913, 'reg_lambda': 0.13926762823647415} because of the following error: The value None could not be cast to float..\u001b[0m\n",
      "\u001b[33m[W 2023-01-24 12:50:06,262]\u001b[0m Trial 300 failed with value None.\u001b[0m\n"
     ]
    },
    {
     "name": "stdout",
     "output_type": "stream",
     "text": [
      "0.7566666666666667 0.19333333333333333\n",
      "0.72 0.19333333333333333\n"
     ]
    },
    {
     "name": "stderr",
     "output_type": "stream",
     "text": [
      "\u001b[33m[W 2023-01-24 12:50:07,035]\u001b[0m Trial 301 failed with parameters: {'max_depth': 19, 'learning_rate': 0.13187982289797523, 'n_estimators': 77, 'min_child_weight': 5, 'gamma': 0.406127825216897, 'subsample': 0.627855574491089, 'colsample_bytree': 0.8556397018715589, 'reg_alpha': 0.5881868150209955, 'reg_lambda': 0.36723281735950125} because of the following error: The value None could not be cast to float..\u001b[0m\n",
      "\u001b[33m[W 2023-01-24 12:50:07,037]\u001b[0m Trial 301 failed with value None.\u001b[0m\n"
     ]
    },
    {
     "name": "stdout",
     "output_type": "stream",
     "text": [
      "0.7916666666666666 0.19333333333333333\n"
     ]
    },
    {
     "name": "stderr",
     "output_type": "stream",
     "text": [
      "\u001b[33m[W 2023-01-24 12:50:07,241]\u001b[0m Trial 302 failed with parameters: {'max_depth': 11, 'learning_rate': 0.31229291466984954, 'n_estimators': 81, 'min_child_weight': 8, 'gamma': 0.7603369533111058, 'subsample': 0.38326010607404903, 'colsample_bytree': 0.17216478016642017, 'reg_alpha': 0.3846774203376666, 'reg_lambda': 0.048792022431227676} because of the following error: The value None could not be cast to float..\u001b[0m\n",
      "\u001b[33m[W 2023-01-24 12:50:07,244]\u001b[0m Trial 302 failed with value None.\u001b[0m\n"
     ]
    },
    {
     "name": "stdout",
     "output_type": "stream",
     "text": [
      "0.795 0.19333333333333333\n"
     ]
    },
    {
     "name": "stderr",
     "output_type": "stream",
     "text": [
      "\u001b[33m[W 2023-01-24 12:50:07,622]\u001b[0m Trial 303 failed with parameters: {'max_depth': 19, 'learning_rate': 0.890748151717726, 'n_estimators': 70, 'min_child_weight': 5, 'gamma': 0.7791233734000365, 'subsample': 0.35673417530905266, 'colsample_bytree': 0.7665833613229399, 'reg_alpha': 0.8725621493551937, 'reg_lambda': 0.6182838972401882} because of the following error: The value None could not be cast to float..\u001b[0m\n",
      "\u001b[33m[W 2023-01-24 12:50:07,625]\u001b[0m Trial 303 failed with value None.\u001b[0m\n"
     ]
    },
    {
     "name": "stdout",
     "output_type": "stream",
     "text": [
      "0.745 0.19333333333333333\n"
     ]
    },
    {
     "name": "stderr",
     "output_type": "stream",
     "text": [
      "\u001b[33m[W 2023-01-24 12:50:07,977]\u001b[0m Trial 304 failed with parameters: {'max_depth': 25, 'learning_rate': 0.8309804586385413, 'n_estimators': 89, 'min_child_weight': 6, 'gamma': 0.7181114282859368, 'subsample': 0.3437857856640431, 'colsample_bytree': 0.4327339334014441, 'reg_alpha': 0.3041596076843508, 'reg_lambda': 0.4092162132508349} because of the following error: The value None could not be cast to float..\u001b[0m\n",
      "\u001b[33m[W 2023-01-24 12:50:07,978]\u001b[0m Trial 304 failed with value None.\u001b[0m\n",
      "\u001b[33m[W 2023-01-24 12:50:08,100]\u001b[0m Trial 305 failed with parameters: {'max_depth': 12, 'learning_rate': 0.3728923032221311, 'n_estimators': 78, 'min_child_weight': 8, 'gamma': 0.15596555929011274, 'subsample': 0.1677155498861003, 'colsample_bytree': 0.08887401059590061, 'reg_alpha': 0.19989748843662758, 'reg_lambda': 0.09169426137647269} because of the following error: The value None could not be cast to float..\u001b[0m\n",
      "\u001b[33m[W 2023-01-24 12:50:08,102]\u001b[0m Trial 305 failed with value None.\u001b[0m\n"
     ]
    },
    {
     "name": "stdout",
     "output_type": "stream",
     "text": [
      "0.63 0.19333333333333333\n",
      "0.7816666666666666 0.19333333333333333\n"
     ]
    },
    {
     "name": "stderr",
     "output_type": "stream",
     "text": [
      "\u001b[33m[W 2023-01-24 12:50:08,325]\u001b[0m Trial 306 failed with parameters: {'max_depth': 5, 'learning_rate': 0.42536655537039847, 'n_estimators': 78, 'min_child_weight': 4, 'gamma': 0.4241149578713627, 'subsample': 0.1594176761668575, 'colsample_bytree': 0.4083820265825198, 'reg_alpha': 0.8205815527556423, 'reg_lambda': 0.37582505219513257} because of the following error: The value None could not be cast to float..\u001b[0m\n",
      "\u001b[33m[W 2023-01-24 12:50:08,326]\u001b[0m Trial 306 failed with value None.\u001b[0m\n"
     ]
    },
    {
     "name": "stdout",
     "output_type": "stream",
     "text": [
      "0.7516666666666667 0.19333333333333333\n"
     ]
    },
    {
     "name": "stderr",
     "output_type": "stream",
     "text": [
      "\u001b[33m[W 2023-01-24 12:50:08,823]\u001b[0m Trial 307 failed with parameters: {'max_depth': 20, 'learning_rate': 0.8132417429805876, 'n_estimators': 98, 'min_child_weight': 9, 'gamma': 0.5396634777954804, 'subsample': 0.9209864101785019, 'colsample_bytree': 0.4959475644941171, 'reg_alpha': 0.9326188074814122, 'reg_lambda': 0.8372803342434171} because of the following error: The value None could not be cast to float..\u001b[0m\n",
      "\u001b[33m[W 2023-01-24 12:50:08,824]\u001b[0m Trial 307 failed with value None.\u001b[0m\n",
      "\u001b[33m[W 2023-01-24 12:50:08,964]\u001b[0m Trial 308 failed with parameters: {'max_depth': 16, 'learning_rate': 0.6690536046653344, 'n_estimators': 55, 'min_child_weight': 10, 'gamma': 0.8126736410463888, 'subsample': 0.6864402610509758, 'colsample_bytree': 0.10630976558760344, 'reg_alpha': 0.3135995313874889, 'reg_lambda': 0.6800521363003192} because of the following error: The value None could not be cast to float..\u001b[0m\n",
      "\u001b[33m[W 2023-01-24 12:50:08,966]\u001b[0m Trial 308 failed with value None.\u001b[0m\n"
     ]
    },
    {
     "name": "stdout",
     "output_type": "stream",
     "text": [
      "0.7366666666666667 0.19333333333333333\n",
      "0.7716666666666666 0.19333333333333333\n"
     ]
    },
    {
     "name": "stderr",
     "output_type": "stream",
     "text": [
      "\u001b[33m[W 2023-01-24 12:50:09,340]\u001b[0m Trial 309 failed with parameters: {'max_depth': 15, 'learning_rate': 0.24318515474204971, 'n_estimators': 76, 'min_child_weight': 8, 'gamma': 0.13067996306867385, 'subsample': 0.9392462309027055, 'colsample_bytree': 0.3357614881278032, 'reg_alpha': 0.8468260188469178, 'reg_lambda': 0.9115226744576878} because of the following error: The value None could not be cast to float..\u001b[0m\n",
      "\u001b[33m[W 2023-01-24 12:50:09,343]\u001b[0m Trial 309 failed with value None.\u001b[0m\n",
      "\u001b[33m[W 2023-01-24 12:50:09,445]\u001b[0m Trial 310 failed with parameters: {'max_depth': 12, 'learning_rate': 0.05442746707412508, 'n_estimators': 79, 'min_child_weight': 9, 'gamma': 0.7631232164880788, 'subsample': 0.01666610618285813, 'colsample_bytree': 0.5444633252734851, 'reg_alpha': 0.02802594075665744, 'reg_lambda': 0.6036691644121638} because of the following error: The value None could not be cast to float..\u001b[0m\n",
      "\u001b[33m[W 2023-01-24 12:50:09,447]\u001b[0m Trial 310 failed with value None.\u001b[0m\n"
     ]
    },
    {
     "name": "stdout",
     "output_type": "stream",
     "text": [
      "0.7816666666666666 0.19333333333333333\n",
      "0.6516666666666666 0.19333333333333333\n"
     ]
    },
    {
     "name": "stderr",
     "output_type": "stream",
     "text": [
      "\u001b[33m[W 2023-01-24 12:50:09,830]\u001b[0m Trial 311 failed with parameters: {'max_depth': 7, 'learning_rate': 0.3136026504614391, 'n_estimators': 82, 'min_child_weight': 2, 'gamma': 0.8621927373307268, 'subsample': 0.18321568163262533, 'colsample_bytree': 0.7895403782020544, 'reg_alpha': 0.04490457484766551, 'reg_lambda': 0.37549728418733824} because of the following error: The value None could not be cast to float..\u001b[0m\n",
      "\u001b[33m[W 2023-01-24 12:50:09,832]\u001b[0m Trial 311 failed with value None.\u001b[0m\n"
     ]
    },
    {
     "name": "stdout",
     "output_type": "stream",
     "text": [
      "0.65 0.19333333333333333\n"
     ]
    },
    {
     "name": "stderr",
     "output_type": "stream",
     "text": [
      "\u001b[33m[W 2023-01-24 12:50:10,380]\u001b[0m Trial 312 failed with parameters: {'max_depth': 15, 'learning_rate': 0.49159875272246156, 'n_estimators': 96, 'min_child_weight': 1, 'gamma': 0.5248741622431208, 'subsample': 0.402551764778616, 'colsample_bytree': 0.42671825925580154, 'reg_alpha': 0.8824987992019959, 'reg_lambda': 0.7404189624522061} because of the following error: The value None could not be cast to float..\u001b[0m\n",
      "\u001b[33m[W 2023-01-24 12:50:10,382]\u001b[0m Trial 312 failed with value None.\u001b[0m\n"
     ]
    },
    {
     "name": "stdout",
     "output_type": "stream",
     "text": [
      "0.685 0.19333333333333333\n"
     ]
    },
    {
     "name": "stderr",
     "output_type": "stream",
     "text": [
      "\u001b[33m[W 2023-01-24 12:50:10,678]\u001b[0m Trial 313 failed with parameters: {'max_depth': 20, 'learning_rate': 0.7563784181175884, 'n_estimators': 50, 'min_child_weight': 5, 'gamma': 0.45159513526190054, 'subsample': 0.3699110502844119, 'colsample_bytree': 0.791506926454474, 'reg_alpha': 0.6958823327930135, 'reg_lambda': 0.02298370330509397} because of the following error: The value None could not be cast to float..\u001b[0m\n",
      "\u001b[33m[W 2023-01-24 12:50:10,680]\u001b[0m Trial 313 failed with value None.\u001b[0m\n",
      "\u001b[33m[W 2023-01-24 12:50:10,858]\u001b[0m Trial 314 failed with parameters: {'max_depth': 1, 'learning_rate': 0.8411242013790683, 'n_estimators': 82, 'min_child_weight': 7, 'gamma': 0.015696770688734877, 'subsample': 0.6420384029005253, 'colsample_bytree': 0.9937437675429129, 'reg_alpha': 0.030709821948596457, 'reg_lambda': 0.9958576173742357} because of the following error: The value None could not be cast to float..\u001b[0m\n",
      "\u001b[33m[W 2023-01-24 12:50:10,859]\u001b[0m Trial 314 failed with value None.\u001b[0m\n"
     ]
    },
    {
     "name": "stdout",
     "output_type": "stream",
     "text": [
      "0.675 0.19333333333333333\n",
      "0.785 0.19333333333333333\n"
     ]
    },
    {
     "name": "stderr",
     "output_type": "stream",
     "text": [
      "\u001b[33m[W 2023-01-24 12:50:10,969]\u001b[0m Trial 315 failed with parameters: {'max_depth': 21, 'learning_rate': 0.6393284684516488, 'n_estimators': 66, 'min_child_weight': 8, 'gamma': 0.8485202815839759, 'subsample': 0.5994445238188144, 'colsample_bytree': 0.017568277055445364, 'reg_alpha': 0.5804116164939916, 'reg_lambda': 0.24149289627646384} because of the following error: The value None could not be cast to float..\u001b[0m\n",
      "\u001b[33m[W 2023-01-24 12:50:10,972]\u001b[0m Trial 315 failed with value None.\u001b[0m\n"
     ]
    },
    {
     "name": "stdout",
     "output_type": "stream",
     "text": [
      "0.7633333333333333 0.19333333333333333\n"
     ]
    },
    {
     "name": "stderr",
     "output_type": "stream",
     "text": [
      "\u001b[33m[W 2023-01-24 12:50:11,172]\u001b[0m Trial 316 failed with parameters: {'max_depth': 21, 'learning_rate': 0.07259656932602726, 'n_estimators': 52, 'min_child_weight': 8, 'gamma': 0.4867331098699163, 'subsample': 0.2689791463581981, 'colsample_bytree': 0.4922922908800556, 'reg_alpha': 0.007898611949177705, 'reg_lambda': 0.7795783638835145} because of the following error: The value None could not be cast to float..\u001b[0m\n",
      "\u001b[33m[W 2023-01-24 12:50:11,179]\u001b[0m Trial 316 failed with value None.\u001b[0m\n"
     ]
    },
    {
     "name": "stdout",
     "output_type": "stream",
     "text": [
      "0.8033333333333333 0.19333333333333333\n"
     ]
    },
    {
     "name": "stderr",
     "output_type": "stream",
     "text": [
      "\u001b[33m[W 2023-01-24 12:50:11,441]\u001b[0m Trial 317 failed with parameters: {'max_depth': 12, 'learning_rate': 0.4877971511862632, 'n_estimators': 67, 'min_child_weight': 2, 'gamma': 0.19451570703989693, 'subsample': 0.1603684247724857, 'colsample_bytree': 0.5570802886549432, 'reg_alpha': 0.7293975770552523, 'reg_lambda': 0.15417269510496703} because of the following error: The value None could not be cast to float..\u001b[0m\n",
      "\u001b[33m[W 2023-01-24 12:50:11,442]\u001b[0m Trial 317 failed with value None.\u001b[0m\n"
     ]
    },
    {
     "name": "stdout",
     "output_type": "stream",
     "text": [
      "0.7133333333333334 0.19333333333333333\n"
     ]
    },
    {
     "name": "stderr",
     "output_type": "stream",
     "text": [
      "\u001b[33m[W 2023-01-24 12:50:11,849]\u001b[0m Trial 318 failed with parameters: {'max_depth': 9, 'learning_rate': 0.5542138735903588, 'n_estimators': 70, 'min_child_weight': 4, 'gamma': 0.9873230705409206, 'subsample': 0.3255747509804767, 'colsample_bytree': 0.7629063713255285, 'reg_alpha': 0.9888535758569882, 'reg_lambda': 0.1172908175721868} because of the following error: The value None could not be cast to float..\u001b[0m\n",
      "\u001b[33m[W 2023-01-24 12:50:11,851]\u001b[0m Trial 318 failed with value None.\u001b[0m\n"
     ]
    },
    {
     "name": "stdout",
     "output_type": "stream",
     "text": [
      "0.745 0.19333333333333333\n"
     ]
    },
    {
     "name": "stderr",
     "output_type": "stream",
     "text": [
      "\u001b[33m[W 2023-01-24 12:50:12,198]\u001b[0m Trial 319 failed with parameters: {'max_depth': 14, 'learning_rate': 0.8491649541710615, 'n_estimators': 84, 'min_child_weight': 2, 'gamma': 0.58047100965552, 'subsample': 0.49972958154884123, 'colsample_bytree': 0.2289349746187104, 'reg_alpha': 0.6053583449976371, 'reg_lambda': 0.7180894219833608} because of the following error: The value None could not be cast to float..\u001b[0m\n",
      "\u001b[33m[W 2023-01-24 12:50:12,200]\u001b[0m Trial 319 failed with value None.\u001b[0m\n"
     ]
    },
    {
     "name": "stdout",
     "output_type": "stream",
     "text": [
      "0.6633333333333333 0.19333333333333333\n"
     ]
    },
    {
     "name": "stderr",
     "output_type": "stream",
     "text": [
      "\u001b[33m[W 2023-01-24 12:50:12,534]\u001b[0m Trial 320 failed with parameters: {'max_depth': 13, 'learning_rate': 0.8774307290196872, 'n_estimators': 93, 'min_child_weight': 10, 'gamma': 0.5221682746271694, 'subsample': 0.5688734706921261, 'colsample_bytree': 0.308596696563677, 'reg_alpha': 0.06910453453091805, 'reg_lambda': 0.03432024116766174} because of the following error: The value None could not be cast to float..\u001b[0m\n",
      "\u001b[33m[W 2023-01-24 12:50:12,536]\u001b[0m Trial 320 failed with value None.\u001b[0m\n"
     ]
    },
    {
     "name": "stdout",
     "output_type": "stream",
     "text": [
      "0.7333333333333333 0.19333333333333333\n"
     ]
    },
    {
     "name": "stderr",
     "output_type": "stream",
     "text": [
      "\u001b[33m[W 2023-01-24 12:50:13,034]\u001b[0m Trial 321 failed with parameters: {'max_depth': 10, 'learning_rate': 0.5837817985029622, 'n_estimators': 91, 'min_child_weight': 7, 'gamma': 0.7370173848936622, 'subsample': 0.31721523945725927, 'colsample_bytree': 0.908014810311917, 'reg_alpha': 0.7567080590652563, 'reg_lambda': 0.17891149097789624} because of the following error: The value None could not be cast to float..\u001b[0m\n",
      "\u001b[33m[W 2023-01-24 12:50:13,035]\u001b[0m Trial 321 failed with value None.\u001b[0m\n",
      "\u001b[33m[W 2023-01-24 12:50:13,190]\u001b[0m Trial 322 failed with parameters: {'max_depth': 22, 'learning_rate': 0.15750605505662035, 'n_estimators': 67, 'min_child_weight': 4, 'gamma': 0.11568462945379966, 'subsample': 0.0656287025312637, 'colsample_bytree': 0.622915605988413, 'reg_alpha': 0.3442013939778695, 'reg_lambda': 0.7289520530587085} because of the following error: The value None could not be cast to float..\u001b[0m\n",
      "\u001b[33m[W 2023-01-24 12:50:13,192]\u001b[0m Trial 322 failed with value None.\u001b[0m\n"
     ]
    },
    {
     "name": "stdout",
     "output_type": "stream",
     "text": [
      "0.735 0.19333333333333333\n",
      "0.79 0.19333333333333333\n"
     ]
    },
    {
     "name": "stderr",
     "output_type": "stream",
     "text": [
      "\u001b[33m[W 2023-01-24 12:50:13,491]\u001b[0m Trial 323 failed with parameters: {'max_depth': 17, 'learning_rate': 0.8472798639546751, 'n_estimators': 55, 'min_child_weight': 7, 'gamma': 0.36790403327420257, 'subsample': 0.7180155321153806, 'colsample_bytree': 0.42396711269834464, 'reg_alpha': 0.9367077003102233, 'reg_lambda': 0.501050770327385} because of the following error: The value None could not be cast to float..\u001b[0m\n",
      "\u001b[33m[W 2023-01-24 12:50:13,492]\u001b[0m Trial 323 failed with value None.\u001b[0m\n"
     ]
    },
    {
     "name": "stdout",
     "output_type": "stream",
     "text": [
      "0.7216666666666667 0.19333333333333333\n"
     ]
    },
    {
     "name": "stderr",
     "output_type": "stream",
     "text": [
      "\u001b[33m[W 2023-01-24 12:50:13,961]\u001b[0m Trial 324 failed with parameters: {'max_depth': 14, 'learning_rate': 0.35910419161127755, 'n_estimators': 68, 'min_child_weight': 5, 'gamma': 0.9642135256864527, 'subsample': 0.5129020499184075, 'colsample_bytree': 0.6115725311701415, 'reg_alpha': 0.4680908499966643, 'reg_lambda': 0.8435045463123936} because of the following error: The value None could not be cast to float..\u001b[0m\n",
      "\u001b[33m[W 2023-01-24 12:50:13,963]\u001b[0m Trial 324 failed with value None.\u001b[0m\n"
     ]
    },
    {
     "name": "stdout",
     "output_type": "stream",
     "text": [
      "0.7533333333333333 0.19333333333333333\n"
     ]
    },
    {
     "name": "stderr",
     "output_type": "stream",
     "text": [
      "\u001b[33m[W 2023-01-24 12:50:14,692]\u001b[0m Trial 325 failed with parameters: {'max_depth': 19, 'learning_rate': 0.2728291500410525, 'n_estimators': 73, 'min_child_weight': 1, 'gamma': 0.6318056845669847, 'subsample': 0.8378345177165062, 'colsample_bytree': 0.5385436459526871, 'reg_alpha': 0.6333142408483798, 'reg_lambda': 0.3834933521074894} because of the following error: The value None could not be cast to float..\u001b[0m\n",
      "\u001b[33m[W 2023-01-24 12:50:14,694]\u001b[0m Trial 325 failed with value None.\u001b[0m\n"
     ]
    },
    {
     "name": "stdout",
     "output_type": "stream",
     "text": [
      "0.76 0.19333333333333333\n"
     ]
    },
    {
     "name": "stderr",
     "output_type": "stream",
     "text": [
      "\u001b[33m[W 2023-01-24 12:50:15,285]\u001b[0m Trial 326 failed with parameters: {'max_depth': 13, 'learning_rate': 0.06320508368987884, 'n_estimators': 91, 'min_child_weight': 8, 'gamma': 0.3940230320251638, 'subsample': 0.5020169609290962, 'colsample_bytree': 0.7232571078121786, 'reg_alpha': 0.6868872193205191, 'reg_lambda': 0.5790975022950504} because of the following error: The value None could not be cast to float..\u001b[0m\n",
      "\u001b[33m[W 2023-01-24 12:50:15,287]\u001b[0m Trial 326 failed with value None.\u001b[0m\n"
     ]
    },
    {
     "name": "stdout",
     "output_type": "stream",
     "text": [
      "0.8066666666666666 0.19333333333333333\n"
     ]
    },
    {
     "name": "stderr",
     "output_type": "stream",
     "text": [
      "\u001b[33m[W 2023-01-24 12:50:15,660]\u001b[0m Trial 327 failed with parameters: {'max_depth': 22, 'learning_rate': 0.6874827184958547, 'n_estimators': 61, 'min_child_weight': 7, 'gamma': 0.5923978589393203, 'subsample': 0.40200486196408425, 'colsample_bytree': 0.8938125782755207, 'reg_alpha': 0.07989903280656976, 'reg_lambda': 0.7555881299674085} because of the following error: The value None could not be cast to float..\u001b[0m\n",
      "\u001b[33m[W 2023-01-24 12:50:15,662]\u001b[0m Trial 327 failed with value None.\u001b[0m\n"
     ]
    },
    {
     "name": "stdout",
     "output_type": "stream",
     "text": [
      "0.6733333333333333 0.19333333333333333\n"
     ]
    },
    {
     "name": "stderr",
     "output_type": "stream",
     "text": [
      "\u001b[33m[W 2023-01-24 12:50:16,012]\u001b[0m Trial 328 failed with parameters: {'max_depth': 6, 'learning_rate': 0.15358648867920688, 'n_estimators': 74, 'min_child_weight': 5, 'gamma': 0.7781844893860825, 'subsample': 0.35849482258208576, 'colsample_bytree': 0.6099682865816276, 'reg_alpha': 0.2712579823748601, 'reg_lambda': 0.9031981489904223} because of the following error: The value None could not be cast to float..\u001b[0m\n",
      "\u001b[33m[W 2023-01-24 12:50:16,015]\u001b[0m Trial 328 failed with value None.\u001b[0m\n"
     ]
    },
    {
     "name": "stdout",
     "output_type": "stream",
     "text": [
      "0.7933333333333333 0.19333333333333333\n"
     ]
    },
    {
     "name": "stderr",
     "output_type": "stream",
     "text": [
      "\u001b[33m[W 2023-01-24 12:50:16,300]\u001b[0m Trial 329 failed with parameters: {'max_depth': 19, 'learning_rate': 0.9248557977394234, 'n_estimators': 91, 'min_child_weight': 4, 'gamma': 0.8548501805071596, 'subsample': 0.17271018366605292, 'colsample_bytree': 0.8359710699540619, 'reg_alpha': 0.20916945330709166, 'reg_lambda': 0.8018566096170197} because of the following error: The value None could not be cast to float..\u001b[0m\n",
      "\u001b[33m[W 2023-01-24 12:50:16,302]\u001b[0m Trial 329 failed with value None.\u001b[0m\n"
     ]
    },
    {
     "name": "stdout",
     "output_type": "stream",
     "text": [
      "0.6266666666666667 0.19333333333333333\n"
     ]
    },
    {
     "name": "stderr",
     "output_type": "stream",
     "text": [
      "\u001b[33m[W 2023-01-24 12:50:16,734]\u001b[0m Trial 330 failed with parameters: {'max_depth': 16, 'learning_rate': 0.9966538046776031, 'n_estimators': 99, 'min_child_weight': 3, 'gamma': 0.6117725585072716, 'subsample': 0.5465064844136032, 'colsample_bytree': 0.3378499670793233, 'reg_alpha': 0.2097111572954428, 'reg_lambda': 0.8177268563561373} because of the following error: The value None could not be cast to float..\u001b[0m\n",
      "\u001b[33m[W 2023-01-24 12:50:16,736]\u001b[0m Trial 330 failed with value None.\u001b[0m\n"
     ]
    },
    {
     "name": "stdout",
     "output_type": "stream",
     "text": [
      "0.7483333333333333 0.19333333333333333\n"
     ]
    },
    {
     "name": "stderr",
     "output_type": "stream",
     "text": [
      "\u001b[33m[W 2023-01-24 12:50:17,322]\u001b[0m Trial 331 failed with parameters: {'max_depth': 22, 'learning_rate': 0.18085086846119874, 'n_estimators': 71, 'min_child_weight': 9, 'gamma': 0.2070184681180081, 'subsample': 0.9358577452362904, 'colsample_bytree': 0.7101877787179585, 'reg_alpha': 0.7852880568996814, 'reg_lambda': 0.9544343821443112} because of the following error: The value None could not be cast to float..\u001b[0m\n",
      "\u001b[33m[W 2023-01-24 12:50:17,324]\u001b[0m Trial 331 failed with value None.\u001b[0m\n"
     ]
    },
    {
     "name": "stdout",
     "output_type": "stream",
     "text": [
      "0.8033333333333333 0.19333333333333333\n"
     ]
    },
    {
     "name": "stderr",
     "output_type": "stream",
     "text": [
      "\u001b[33m[W 2023-01-24 12:50:17,738]\u001b[0m Trial 332 failed with parameters: {'max_depth': 12, 'learning_rate': 0.9706852055293209, 'n_estimators': 75, 'min_child_weight': 7, 'gamma': 0.3744565205797806, 'subsample': 0.3775732410921129, 'colsample_bytree': 0.9782652819879423, 'reg_alpha': 0.8752565623455631, 'reg_lambda': 0.763674618471438} because of the following error: The value None could not be cast to float..\u001b[0m\n",
      "\u001b[33m[W 2023-01-24 12:50:17,740]\u001b[0m Trial 332 failed with value None.\u001b[0m\n"
     ]
    },
    {
     "name": "stdout",
     "output_type": "stream",
     "text": [
      "0.705 0.19333333333333333\n"
     ]
    },
    {
     "name": "stderr",
     "output_type": "stream",
     "text": [
      "\u001b[33m[W 2023-01-24 12:50:18,035]\u001b[0m Trial 333 failed with parameters: {'max_depth': 4, 'learning_rate': 0.9134249296247614, 'n_estimators': 80, 'min_child_weight': 8, 'gamma': 0.1021334398927186, 'subsample': 0.75067510116664, 'colsample_bytree': 0.5692346443179467, 'reg_alpha': 0.05177246972785675, 'reg_lambda': 0.03207521770228024} because of the following error: The value None could not be cast to float..\u001b[0m\n",
      "\u001b[33m[W 2023-01-24 12:50:18,037]\u001b[0m Trial 333 failed with value None.\u001b[0m\n",
      "\u001b[33m[W 2023-01-24 12:50:18,221]\u001b[0m Trial 334 failed with parameters: {'max_depth': 12, 'learning_rate': 0.09575392256465465, 'n_estimators': 85, 'min_child_weight': 2, 'gamma': 0.27008963899846505, 'subsample': 0.7267945599114162, 'colsample_bytree': 0.06387340788762937, 'reg_alpha': 0.1864476710759705, 'reg_lambda': 0.32418493563933737} because of the following error: The value None could not be cast to float..\u001b[0m\n",
      "\u001b[33m[W 2023-01-24 12:50:18,222]\u001b[0m Trial 334 failed with value None.\u001b[0m\n"
     ]
    },
    {
     "name": "stdout",
     "output_type": "stream",
     "text": [
      "0.7416666666666667 0.19333333333333333\n",
      "0.7833333333333333 0.19333333333333333\n"
     ]
    },
    {
     "name": "stderr",
     "output_type": "stream",
     "text": [
      "\u001b[33m[W 2023-01-24 12:50:18,528]\u001b[0m Trial 335 failed with parameters: {'max_depth': 19, 'learning_rate': 0.28060969852751994, 'n_estimators': 93, 'min_child_weight': 9, 'gamma': 0.5086587293798913, 'subsample': 0.17429893926084672, 'colsample_bytree': 0.9097144625412277, 'reg_alpha': 0.7878181682739376, 'reg_lambda': 0.10453100758622182} because of the following error: The value None could not be cast to float..\u001b[0m\n",
      "\u001b[33m[W 2023-01-24 12:50:18,532]\u001b[0m Trial 335 failed with value None.\u001b[0m\n"
     ]
    },
    {
     "name": "stdout",
     "output_type": "stream",
     "text": [
      "0.79 0.19333333333333333\n"
     ]
    },
    {
     "name": "stderr",
     "output_type": "stream",
     "text": [
      "\u001b[33m[W 2023-01-24 12:50:18,907]\u001b[0m Trial 336 failed with parameters: {'max_depth': 13, 'learning_rate': 0.6246284911359092, 'n_estimators': 84, 'min_child_weight': 5, 'gamma': 0.5744620009212013, 'subsample': 0.9626815269506025, 'colsample_bytree': 0.29115452692073046, 'reg_alpha': 0.9152596123368525, 'reg_lambda': 0.11732121462778607} because of the following error: The value None could not be cast to float..\u001b[0m\n",
      "\u001b[33m[W 2023-01-24 12:50:18,908]\u001b[0m Trial 336 failed with value None.\u001b[0m\n",
      "\u001b[33m[W 2023-01-24 12:50:19,088]\u001b[0m Trial 337 failed with parameters: {'max_depth': 6, 'learning_rate': 0.9216318727551353, 'n_estimators': 71, 'min_child_weight': 2, 'gamma': 0.8907709977627747, 'subsample': 0.06737885627734269, 'colsample_bytree': 0.9571859565475468, 'reg_alpha': 0.9443070121310425, 'reg_lambda': 0.9452414733566533} because of the following error: The value None could not be cast to float..\u001b[0m\n",
      "\u001b[33m[W 2023-01-24 12:50:19,089]\u001b[0m Trial 337 failed with value None.\u001b[0m\n"
     ]
    },
    {
     "name": "stdout",
     "output_type": "stream",
     "text": [
      "0.775 0.19333333333333333\n",
      "0.635 0.19333333333333333\n"
     ]
    },
    {
     "name": "stderr",
     "output_type": "stream",
     "text": [
      "\u001b[33m[W 2023-01-24 12:50:19,608]\u001b[0m Trial 338 failed with parameters: {'max_depth': 19, 'learning_rate': 0.7268241642699803, 'n_estimators': 76, 'min_child_weight': 7, 'gamma': 0.6836038647099211, 'subsample': 0.5317796400118635, 'colsample_bytree': 0.8185332457949552, 'reg_alpha': 0.16610765131018657, 'reg_lambda': 0.3859554735835517} because of the following error: The value None could not be cast to float..\u001b[0m\n",
      "\u001b[33m[W 2023-01-24 12:50:19,609]\u001b[0m Trial 338 failed with value None.\u001b[0m\n",
      "\u001b[33m[W 2023-01-24 12:50:19,796]\u001b[0m Trial 339 failed with parameters: {'max_depth': 16, 'learning_rate': 0.9041739756576262, 'n_estimators': 68, 'min_child_weight': 5, 'gamma': 0.8295636342732406, 'subsample': 0.6800522679019544, 'colsample_bytree': 0.10417790120361627, 'reg_alpha': 0.503352429744395, 'reg_lambda': 0.203269002106359} because of the following error: The value None could not be cast to float..\u001b[0m\n",
      "\u001b[33m[W 2023-01-24 12:50:19,799]\u001b[0m Trial 339 failed with value None.\u001b[0m\n"
     ]
    },
    {
     "name": "stdout",
     "output_type": "stream",
     "text": [
      "0.72 0.19333333333333333\n",
      "0.7116666666666667 0.19333333333333333\n"
     ]
    },
    {
     "name": "stderr",
     "output_type": "stream",
     "text": [
      "\u001b[33m[W 2023-01-24 12:50:20,153]\u001b[0m Trial 340 failed with parameters: {'max_depth': 22, 'learning_rate': 0.6424858550349544, 'n_estimators': 77, 'min_child_weight': 3, 'gamma': 0.21039581905726606, 'subsample': 0.30990680000504217, 'colsample_bytree': 0.5016587254362662, 'reg_alpha': 0.980646328948095, 'reg_lambda': 0.013400123439724255} because of the following error: The value None could not be cast to float..\u001b[0m\n",
      "\u001b[33m[W 2023-01-24 12:50:20,155]\u001b[0m Trial 340 failed with value None.\u001b[0m\n"
     ]
    },
    {
     "name": "stdout",
     "output_type": "stream",
     "text": [
      "0.69 0.19333333333333333\n"
     ]
    },
    {
     "name": "stderr",
     "output_type": "stream",
     "text": [
      "\u001b[33m[W 2023-01-24 12:50:20,489]\u001b[0m Trial 341 failed with parameters: {'max_depth': 10, 'learning_rate': 0.6918720596635184, 'n_estimators': 73, 'min_child_weight': 6, 'gamma': 0.9392344981376213, 'subsample': 0.5725632419713457, 'colsample_bytree': 0.36014358864310586, 'reg_alpha': 0.11887411842476064, 'reg_lambda': 0.48304352955907864} because of the following error: The value None could not be cast to float..\u001b[0m\n",
      "\u001b[33m[W 2023-01-24 12:50:20,491]\u001b[0m Trial 341 failed with value None.\u001b[0m\n"
     ]
    },
    {
     "name": "stdout",
     "output_type": "stream",
     "text": [
      "0.7433333333333333 0.19333333333333333\n"
     ]
    },
    {
     "name": "stderr",
     "output_type": "stream",
     "text": [
      "\u001b[33m[W 2023-01-24 12:50:20,808]\u001b[0m Trial 342 failed with parameters: {'max_depth': 25, 'learning_rate': 0.09577053324223611, 'n_estimators': 60, 'min_child_weight': 8, 'gamma': 0.24258781175690064, 'subsample': 0.8286273770385227, 'colsample_bytree': 0.32244537530688006, 'reg_alpha': 0.3462268453289882, 'reg_lambda': 0.8288138550027243} because of the following error: The value None could not be cast to float..\u001b[0m\n",
      "\u001b[33m[W 2023-01-24 12:50:20,810]\u001b[0m Trial 342 failed with value None.\u001b[0m\n"
     ]
    },
    {
     "name": "stdout",
     "output_type": "stream",
     "text": [
      "0.795 0.19333333333333333\n"
     ]
    },
    {
     "name": "stderr",
     "output_type": "stream",
     "text": [
      "\u001b[33m[W 2023-01-24 12:50:21,372]\u001b[0m Trial 343 failed with parameters: {'max_depth': 23, 'learning_rate': 0.19581796551077715, 'n_estimators': 95, 'min_child_weight': 7, 'gamma': 0.5901023333157904, 'subsample': 0.3613934013107874, 'colsample_bytree': 0.8377916568386041, 'reg_alpha': 0.5186502683138611, 'reg_lambda': 0.09996315805838901} because of the following error: The value None could not be cast to float..\u001b[0m\n",
      "\u001b[33m[W 2023-01-24 12:50:21,374]\u001b[0m Trial 343 failed with value None.\u001b[0m\n",
      "\u001b[33m[W 2023-01-24 12:50:21,477]\u001b[0m Trial 344 failed with parameters: {'max_depth': 14, 'learning_rate': 0.14390818563635216, 'n_estimators': 57, 'min_child_weight': 8, 'gamma': 0.49685772595839334, 'subsample': 0.17438853161884443, 'colsample_bytree': 0.038896962678597054, 'reg_alpha': 0.6253593802346357, 'reg_lambda': 0.2857610006106805} because of the following error: The value None could not be cast to float..\u001b[0m\n",
      "\u001b[33m[W 2023-01-24 12:50:21,480]\u001b[0m Trial 344 failed with value None.\u001b[0m\n"
     ]
    },
    {
     "name": "stdout",
     "output_type": "stream",
     "text": [
      "0.795 0.19333333333333333\n",
      "0.785 0.19333333333333333\n"
     ]
    },
    {
     "name": "stderr",
     "output_type": "stream",
     "text": [
      "\u001b[33m[W 2023-01-24 12:50:21,625]\u001b[0m Trial 345 failed with parameters: {'max_depth': 5, 'learning_rate': 0.8298226743746604, 'n_estimators': 99, 'min_child_weight': 9, 'gamma': 0.8227486733878311, 'subsample': 0.04427352112121985, 'colsample_bytree': 0.5861434379992935, 'reg_alpha': 0.2640798072894979, 'reg_lambda': 0.6790339478002471} because of the following error: The value None could not be cast to float..\u001b[0m\n",
      "\u001b[33m[W 2023-01-24 12:50:21,626]\u001b[0m Trial 345 failed with value None.\u001b[0m\n"
     ]
    },
    {
     "name": "stdout",
     "output_type": "stream",
     "text": [
      "0.7383333333333333 0.19333333333333333\n"
     ]
    },
    {
     "name": "stderr",
     "output_type": "stream",
     "text": [
      "\u001b[33m[W 2023-01-24 12:50:21,893]\u001b[0m Trial 346 failed with parameters: {'max_depth': 14, 'learning_rate': 0.6645057805749537, 'n_estimators': 93, 'min_child_weight': 7, 'gamma': 0.16578625117345938, 'subsample': 0.17904105275372167, 'colsample_bytree': 0.6045377004825616, 'reg_alpha': 0.5429532951745305, 'reg_lambda': 0.9383757590688365} because of the following error: The value None could not be cast to float..\u001b[0m\n",
      "\u001b[33m[W 2023-01-24 12:50:21,895]\u001b[0m Trial 346 failed with value None.\u001b[0m\n"
     ]
    },
    {
     "name": "stdout",
     "output_type": "stream",
     "text": [
      "0.755 0.19333333333333333\n"
     ]
    },
    {
     "name": "stderr",
     "output_type": "stream",
     "text": [
      "\u001b[33m[W 2023-01-24 12:50:22,121]\u001b[0m Trial 347 failed with parameters: {'max_depth': 6, 'learning_rate': 0.9725996568686526, 'n_estimators': 97, 'min_child_weight': 1, 'gamma': 0.16125150450576128, 'subsample': 0.05560454383819266, 'colsample_bytree': 0.8038443963221361, 'reg_alpha': 0.7518520725341876, 'reg_lambda': 0.6836329551297287} because of the following error: The value None could not be cast to float..\u001b[0m\n",
      "\u001b[33m[W 2023-01-24 12:50:22,123]\u001b[0m Trial 347 failed with value None.\u001b[0m\n",
      "\u001b[33m[W 2023-01-24 12:50:22,304]\u001b[0m Trial 348 failed with parameters: {'max_depth': 7, 'learning_rate': 0.31744220480771906, 'n_estimators': 56, 'min_child_weight': 5, 'gamma': 0.32595028853645547, 'subsample': 0.22113647742677647, 'colsample_bytree': 0.34089293768531026, 'reg_alpha': 0.7323570882166488, 'reg_lambda': 0.12955682553312162} because of the following error: The value None could not be cast to float..\u001b[0m\n",
      "\u001b[33m[W 2023-01-24 12:50:22,305]\u001b[0m Trial 348 failed with value None.\u001b[0m\n"
     ]
    },
    {
     "name": "stdout",
     "output_type": "stream",
     "text": [
      "0.715 0.19333333333333333\n",
      "0.7916666666666666 0.19333333333333333\n"
     ]
    },
    {
     "name": "stderr",
     "output_type": "stream",
     "text": [
      "\u001b[33m[W 2023-01-24 12:50:22,510]\u001b[0m Trial 349 failed with parameters: {'max_depth': 6, 'learning_rate': 0.39333771885412255, 'n_estimators': 86, 'min_child_weight': 8, 'gamma': 0.5280148715659391, 'subsample': 0.2821296599605658, 'colsample_bytree': 0.17163122219627944, 'reg_alpha': 0.30845117429943514, 'reg_lambda': 0.8344940158009279} because of the following error: The value None could not be cast to float..\u001b[0m\n",
      "\u001b[33m[W 2023-01-24 12:50:22,511]\u001b[0m Trial 349 failed with value None.\u001b[0m\n"
     ]
    },
    {
     "name": "stdout",
     "output_type": "stream",
     "text": [
      "0.76 0.19333333333333333\n"
     ]
    },
    {
     "name": "stderr",
     "output_type": "stream",
     "text": [
      "\u001b[33m[W 2023-01-24 12:50:23,059]\u001b[0m Trial 350 failed with parameters: {'max_depth': 11, 'learning_rate': 0.03739873258728998, 'n_estimators': 93, 'min_child_weight': 10, 'gamma': 0.13758359766914713, 'subsample': 0.33274051187478093, 'colsample_bytree': 0.9492906021486739, 'reg_alpha': 0.04777769727251491, 'reg_lambda': 0.6342749297256469} because of the following error: The value None could not be cast to float..\u001b[0m\n",
      "\u001b[33m[W 2023-01-24 12:50:23,060]\u001b[0m Trial 350 failed with value None.\u001b[0m\n"
     ]
    },
    {
     "name": "stdout",
     "output_type": "stream",
     "text": [
      "0.8116666666666666 0.19333333333333333\n"
     ]
    },
    {
     "name": "stderr",
     "output_type": "stream",
     "text": [
      "\u001b[33m[W 2023-01-24 12:50:23,427]\u001b[0m Trial 351 failed with parameters: {'max_depth': 12, 'learning_rate': 0.9952382721533096, 'n_estimators': 64, 'min_child_weight': 5, 'gamma': 0.3058456717577607, 'subsample': 0.4180419600566876, 'colsample_bytree': 0.7556486077695774, 'reg_alpha': 0.939972930982133, 'reg_lambda': 0.3928217140191453} because of the following error: The value None could not be cast to float..\u001b[0m\n",
      "\u001b[33m[W 2023-01-24 12:50:23,429]\u001b[0m Trial 351 failed with value None.\u001b[0m\n"
     ]
    },
    {
     "name": "stdout",
     "output_type": "stream",
     "text": [
      "0.66 0.19333333333333333\n"
     ]
    },
    {
     "name": "stderr",
     "output_type": "stream",
     "text": [
      "\u001b[33m[W 2023-01-24 12:50:23,793]\u001b[0m Trial 352 failed with parameters: {'max_depth': 11, 'learning_rate': 0.15675961819722814, 'n_estimators': 56, 'min_child_weight': 5, 'gamma': 0.48292770990179884, 'subsample': 0.7950392443019968, 'colsample_bytree': 0.42769859715811487, 'reg_alpha': 0.7292791338075046, 'reg_lambda': 0.25806246957299395} because of the following error: The value None could not be cast to float..\u001b[0m\n",
      "\u001b[33m[W 2023-01-24 12:50:23,795]\u001b[0m Trial 352 failed with value None.\u001b[0m\n"
     ]
    },
    {
     "name": "stdout",
     "output_type": "stream",
     "text": [
      "0.79 0.19333333333333333\n"
     ]
    },
    {
     "name": "stderr",
     "output_type": "stream",
     "text": [
      "\u001b[33m[W 2023-01-24 12:50:24,154]\u001b[0m Trial 353 failed with parameters: {'max_depth': 12, 'learning_rate': 0.09329611262046353, 'n_estimators': 97, 'min_child_weight': 3, 'gamma': 0.6461401688230137, 'subsample': 0.11080608270138659, 'colsample_bytree': 0.9236256952015542, 'reg_alpha': 0.544755411639809, 'reg_lambda': 0.76404642768804} because of the following error: The value None could not be cast to float..\u001b[0m\n",
      "\u001b[33m[W 2023-01-24 12:50:24,156]\u001b[0m Trial 353 failed with value None.\u001b[0m\n"
     ]
    },
    {
     "name": "stdout",
     "output_type": "stream",
     "text": [
      "0.8016666666666666 0.19333333333333333\n"
     ]
    },
    {
     "name": "stderr",
     "output_type": "stream",
     "text": [
      "\u001b[33m[W 2023-01-24 12:50:24,386]\u001b[0m Trial 354 failed with parameters: {'max_depth': 4, 'learning_rate': 0.3722542637390522, 'n_estimators': 87, 'min_child_weight': 1, 'gamma': 0.9692848728327279, 'subsample': 0.8082195837990795, 'colsample_bytree': 0.28590735789133065, 'reg_alpha': 0.25407751311512583, 'reg_lambda': 0.8571479569136178} because of the following error: The value None could not be cast to float..\u001b[0m\n",
      "\u001b[33m[W 2023-01-24 12:50:24,388]\u001b[0m Trial 354 failed with value None.\u001b[0m\n"
     ]
    },
    {
     "name": "stdout",
     "output_type": "stream",
     "text": [
      "0.7816666666666666 0.19333333333333333\n"
     ]
    },
    {
     "name": "stderr",
     "output_type": "stream",
     "text": [
      "\u001b[33m[W 2023-01-24 12:50:24,994]\u001b[0m Trial 355 failed with parameters: {'max_depth': 6, 'learning_rate': 0.638409617662116, 'n_estimators': 93, 'min_child_weight': 4, 'gamma': 0.5143516748971994, 'subsample': 0.8863585036331066, 'colsample_bytree': 0.8383535547199228, 'reg_alpha': 0.85545058855058, 'reg_lambda': 0.002228497992381472} because of the following error: The value None could not be cast to float..\u001b[0m\n",
      "\u001b[33m[W 2023-01-24 12:50:24,996]\u001b[0m Trial 355 failed with value None.\u001b[0m\n",
      "\u001b[33m[W 2023-01-24 12:50:25,134]\u001b[0m Trial 356 failed with parameters: {'max_depth': 18, 'learning_rate': 0.9082821497820982, 'n_estimators': 58, 'min_child_weight': 10, 'gamma': 0.21337111952308788, 'subsample': 0.1478384179872939, 'colsample_bytree': 0.4297507303823277, 'reg_alpha': 0.04924621758627828, 'reg_lambda': 0.2776285686258891} because of the following error: The value None could not be cast to float..\u001b[0m\n",
      "\u001b[33m[W 2023-01-24 12:50:25,136]\u001b[0m Trial 356 failed with value None.\u001b[0m\n"
     ]
    },
    {
     "name": "stdout",
     "output_type": "stream",
     "text": [
      "0.7583333333333333 0.19333333333333333\n",
      "0.6966666666666667 0.19333333333333333\n"
     ]
    },
    {
     "name": "stderr",
     "output_type": "stream",
     "text": [
      "\u001b[33m[W 2023-01-24 12:50:25,254]\u001b[0m Trial 357 failed with parameters: {'max_depth': 14, 'learning_rate': 0.7266468839846674, 'n_estimators': 60, 'min_child_weight': 10, 'gamma': 0.6507863403869507, 'subsample': 0.36699954148521874, 'colsample_bytree': 0.05840456481274271, 'reg_alpha': 0.8692551501053015, 'reg_lambda': 0.31476584214836584} because of the following error: The value None could not be cast to float..\u001b[0m\n",
      "\u001b[33m[W 2023-01-24 12:50:25,258]\u001b[0m Trial 357 failed with value None.\u001b[0m\n"
     ]
    },
    {
     "name": "stdout",
     "output_type": "stream",
     "text": [
      "0.7783333333333333 0.19333333333333333\n",
      "0.76 0.19333333333333333\n"
     ]
    },
    {
     "name": "stderr",
     "output_type": "stream",
     "text": [
      "\u001b[33m[W 2023-01-24 12:50:25,449]\u001b[0m Trial 358 failed with parameters: {'max_depth': 6, 'learning_rate': 0.7018976153234364, 'n_estimators': 58, 'min_child_weight': 6, 'gamma': 0.8826140848315103, 'subsample': 0.9203281351407446, 'colsample_bytree': 0.20704571883141298, 'reg_alpha': 0.39890169801479736, 'reg_lambda': 0.8395541236301896} because of the following error: The value None could not be cast to float..\u001b[0m\n",
      "\u001b[33m[W 2023-01-24 12:50:25,456]\u001b[0m Trial 358 failed with value None.\u001b[0m\n",
      "\u001b[33m[W 2023-01-24 12:50:25,616]\u001b[0m Trial 359 failed with parameters: {'max_depth': 4, 'learning_rate': 0.5933967281281535, 'n_estimators': 90, 'min_child_weight': 4, 'gamma': 0.37714190738186826, 'subsample': 0.013502802363045584, 'colsample_bytree': 0.8613445592067261, 'reg_alpha': 0.5489831209584638, 'reg_lambda': 0.9907539222959053} because of the following error: The value None could not be cast to float..\u001b[0m\n",
      "\u001b[33m[W 2023-01-24 12:50:25,619]\u001b[0m Trial 359 failed with value None.\u001b[0m\n"
     ]
    },
    {
     "name": "stdout",
     "output_type": "stream",
     "text": [
      "0.675 0.19333333333333333\n"
     ]
    },
    {
     "name": "stderr",
     "output_type": "stream",
     "text": [
      "\u001b[33m[W 2023-01-24 12:50:25,865]\u001b[0m Trial 360 failed with parameters: {'max_depth': 23, 'learning_rate': 0.4326337773508985, 'n_estimators': 52, 'min_child_weight': 7, 'gamma': 0.20517630854915872, 'subsample': 0.18850092839980973, 'colsample_bytree': 0.9594836340137688, 'reg_alpha': 0.04996646526421814, 'reg_lambda': 0.2774726942953087} because of the following error: The value None could not be cast to float..\u001b[0m\n",
      "\u001b[33m[W 2023-01-24 12:50:25,868]\u001b[0m Trial 360 failed with value None.\u001b[0m\n"
     ]
    },
    {
     "name": "stdout",
     "output_type": "stream",
     "text": [
      "0.765 0.19333333333333333\n"
     ]
    },
    {
     "name": "stderr",
     "output_type": "stream",
     "text": [
      "\u001b[33m[W 2023-01-24 12:50:26,335]\u001b[0m Trial 361 failed with parameters: {'max_depth': 8, 'learning_rate': 0.33389709421331787, 'n_estimators': 51, 'min_child_weight': 6, 'gamma': 0.3135515833719187, 'subsample': 0.9980455806699434, 'colsample_bytree': 0.836447610433372, 'reg_alpha': 0.21562662453818077, 'reg_lambda': 0.5985827405721242} because of the following error: The value None could not be cast to float..\u001b[0m\n",
      "\u001b[33m[W 2023-01-24 12:50:26,337]\u001b[0m Trial 361 failed with value None.\u001b[0m\n",
      "\u001b[33m[W 2023-01-24 12:50:26,464]\u001b[0m Trial 362 failed with parameters: {'max_depth': 12, 'learning_rate': 0.41819461097557253, 'n_estimators': 71, 'min_child_weight': 8, 'gamma': 0.5268287708505153, 'subsample': 0.43089703737606805, 'colsample_bytree': 0.05893146489993019, 'reg_alpha': 0.6257654265672657, 'reg_lambda': 0.965672915772434} because of the following error: The value None could not be cast to float..\u001b[0m\n",
      "\u001b[33m[W 2023-01-24 12:50:26,466]\u001b[0m Trial 362 failed with value None.\u001b[0m\n"
     ]
    },
    {
     "name": "stdout",
     "output_type": "stream",
     "text": [
      "0.78 0.19333333333333333\n",
      "0.7916666666666666 0.19333333333333333\n"
     ]
    },
    {
     "name": "stderr",
     "output_type": "stream",
     "text": [
      "\u001b[33m[W 2023-01-24 12:50:26,636]\u001b[0m Trial 363 failed with parameters: {'max_depth': 16, 'learning_rate': 0.3070619856747718, 'n_estimators': 64, 'min_child_weight': 9, 'gamma': 0.19643234288242278, 'subsample': 0.5636722701165692, 'colsample_bytree': 0.10258481881372619, 'reg_alpha': 0.5485718967404619, 'reg_lambda': 0.08717810573996061} because of the following error: The value None could not be cast to float..\u001b[0m\n",
      "\u001b[33m[W 2023-01-24 12:50:26,638]\u001b[0m Trial 363 failed with value None.\u001b[0m\n"
     ]
    },
    {
     "name": "stdout",
     "output_type": "stream",
     "text": [
      "0.7833333333333333 0.19333333333333333\n"
     ]
    },
    {
     "name": "stderr",
     "output_type": "stream",
     "text": [
      "\u001b[33m[W 2023-01-24 12:50:27,001]\u001b[0m Trial 364 failed with parameters: {'max_depth': 5, 'learning_rate': 0.5909609668688978, 'n_estimators': 98, 'min_child_weight': 10, 'gamma': 0.7525250406797818, 'subsample': 0.41229310827072935, 'colsample_bytree': 0.5222212468396232, 'reg_alpha': 0.5484836160913827, 'reg_lambda': 0.9224547112722411} because of the following error: The value None could not be cast to float..\u001b[0m\n",
      "\u001b[33m[W 2023-01-24 12:50:27,003]\u001b[0m Trial 364 failed with value None.\u001b[0m\n",
      "\u001b[33m[W 2023-01-24 12:50:27,150]\u001b[0m Trial 365 failed with parameters: {'max_depth': 25, 'learning_rate': 0.6309093293383268, 'n_estimators': 71, 'min_child_weight': 6, 'gamma': 0.04100387572886806, 'subsample': 0.3732802028677799, 'colsample_bytree': 0.09028979790523219, 'reg_alpha': 0.7946662866652905, 'reg_lambda': 0.8659328083985333} because of the following error: The value None could not be cast to float..\u001b[0m\n",
      "\u001b[33m[W 2023-01-24 12:50:27,152]\u001b[0m Trial 365 failed with value None.\u001b[0m\n"
     ]
    },
    {
     "name": "stdout",
     "output_type": "stream",
     "text": [
      "0.7666666666666667 0.19333333333333333\n",
      "0.765 0.19333333333333333\n"
     ]
    },
    {
     "name": "stderr",
     "output_type": "stream",
     "text": [
      "\u001b[33m[W 2023-01-24 12:50:27,545]\u001b[0m Trial 366 failed with parameters: {'max_depth': 15, 'learning_rate': 0.21778612096792258, 'n_estimators': 85, 'min_child_weight': 7, 'gamma': 0.7383036838911512, 'subsample': 0.3508538086104039, 'colsample_bytree': 0.5244926936058383, 'reg_alpha': 0.521811647561725, 'reg_lambda': 0.32936724123985933} because of the following error: The value None could not be cast to float..\u001b[0m\n",
      "\u001b[33m[W 2023-01-24 12:50:27,547]\u001b[0m Trial 366 failed with value None.\u001b[0m\n",
      "\u001b[33m[W 2023-01-24 12:50:27,694]\u001b[0m Trial 367 failed with parameters: {'max_depth': 4, 'learning_rate': 0.9000216785342924, 'n_estimators': 72, 'min_child_weight': 6, 'gamma': 0.24737029605868605, 'subsample': 0.6002674299440495, 'colsample_bytree': 0.10999535501021596, 'reg_alpha': 0.010621852999610267, 'reg_lambda': 0.05897142361897176} because of the following error: The value None could not be cast to float..\u001b[0m\n",
      "\u001b[33m[W 2023-01-24 12:50:27,696]\u001b[0m Trial 367 failed with value None.\u001b[0m\n"
     ]
    },
    {
     "name": "stdout",
     "output_type": "stream",
     "text": [
      "0.7633333333333333 0.19333333333333333\n",
      "0.7416666666666667 0.19333333333333333\n"
     ]
    },
    {
     "name": "stderr",
     "output_type": "stream",
     "text": [
      "\u001b[33m[W 2023-01-24 12:50:27,815]\u001b[0m Trial 368 failed with parameters: {'max_depth': 1, 'learning_rate': 0.1346485663947464, 'n_estimators': 76, 'min_child_weight': 4, 'gamma': 0.21095824037953326, 'subsample': 0.05761333358156074, 'colsample_bytree': 0.5558869724406222, 'reg_alpha': 0.8151100076312368, 'reg_lambda': 0.5758750073538562} because of the following error: The value None could not be cast to float..\u001b[0m\n",
      "\u001b[33m[W 2023-01-24 12:50:27,817]\u001b[0m Trial 368 failed with value None.\u001b[0m\n",
      "\u001b[33m[W 2023-01-24 12:50:27,907]\u001b[0m Trial 369 failed with parameters: {'max_depth': 10, 'learning_rate': 0.7709026685659288, 'n_estimators': 52, 'min_child_weight': 4, 'gamma': 0.7312718066066577, 'subsample': 0.03313487091825437, 'colsample_bytree': 0.7177144616594788, 'reg_alpha': 0.4703553110635143, 'reg_lambda': 0.23355285006279541} because of the following error: The value None could not be cast to float..\u001b[0m\n",
      "\u001b[33m[W 2023-01-24 12:50:27,908]\u001b[0m Trial 369 failed with value None.\u001b[0m\n",
      "\u001b[33m[W 2023-01-24 12:50:28,010]\u001b[0m Trial 370 failed with parameters: {'max_depth': 24, 'learning_rate': 0.7128995390038569, 'n_estimators': 59, 'min_child_weight': 4, 'gamma': 0.08873419818159392, 'subsample': 0.48968433056847455, 'colsample_bytree': 0.03921020146149396, 'reg_alpha': 0.2696863514708978, 'reg_lambda': 0.7839197457228243} because of the following error: The value None could not be cast to float..\u001b[0m\n",
      "\u001b[33m[W 2023-01-24 12:50:28,012]\u001b[0m Trial 370 failed with value None.\u001b[0m\n"
     ]
    },
    {
     "name": "stdout",
     "output_type": "stream",
     "text": [
      "0.7966666666666666 0.19333333333333333\n",
      "0.6516666666666666 0.19333333333333333\n",
      "0.7466666666666667 0.19333333333333333\n"
     ]
    },
    {
     "name": "stderr",
     "output_type": "stream",
     "text": [
      "\u001b[33m[W 2023-01-24 12:50:28,204]\u001b[0m Trial 371 failed with parameters: {'max_depth': 23, 'learning_rate': 0.3489518396078344, 'n_estimators': 67, 'min_child_weight': 6, 'gamma': 0.4518481424902628, 'subsample': 0.3133440900975599, 'colsample_bytree': 0.21076108696575113, 'reg_alpha': 0.4303816175810361, 'reg_lambda': 0.9407172486073655} because of the following error: The value None could not be cast to float..\u001b[0m\n",
      "\u001b[33m[W 2023-01-24 12:50:28,206]\u001b[0m Trial 371 failed with value None.\u001b[0m\n",
      "\u001b[33m[W 2023-01-24 12:50:28,365]\u001b[0m Trial 372 failed with parameters: {'max_depth': 1, 'learning_rate': 0.3922080452017001, 'n_estimators': 75, 'min_child_weight': 5, 'gamma': 0.3241344538428659, 'subsample': 0.49694967786384897, 'colsample_bytree': 0.9223281876648347, 'reg_alpha': 0.3269227244378847, 'reg_lambda': 0.1467719427581213} because of the following error: The value None could not be cast to float..\u001b[0m\n",
      "\u001b[33m[W 2023-01-24 12:50:28,368]\u001b[0m Trial 372 failed with value None.\u001b[0m\n"
     ]
    },
    {
     "name": "stdout",
     "output_type": "stream",
     "text": [
      "0.7633333333333333 0.19333333333333333\n",
      "0.7866666666666666 0.19333333333333333\n"
     ]
    },
    {
     "name": "stderr",
     "output_type": "stream",
     "text": [
      "\u001b[33m[W 2023-01-24 12:50:28,553]\u001b[0m Trial 373 failed with parameters: {'max_depth': 4, 'learning_rate': 0.9136060139962147, 'n_estimators': 80, 'min_child_weight': 9, 'gamma': 0.330458767558724, 'subsample': 0.11903666529984176, 'colsample_bytree': 0.9039927021854004, 'reg_alpha': 0.018404737459629013, 'reg_lambda': 0.6791841566257125} because of the following error: The value None could not be cast to float..\u001b[0m\n",
      "\u001b[33m[W 2023-01-24 12:50:28,555]\u001b[0m Trial 373 failed with value None.\u001b[0m\n"
     ]
    },
    {
     "name": "stdout",
     "output_type": "stream",
     "text": [
      "0.7 0.19333333333333333\n"
     ]
    },
    {
     "name": "stderr",
     "output_type": "stream",
     "text": [
      "\u001b[33m[W 2023-01-24 12:50:28,918]\u001b[0m Trial 374 failed with parameters: {'max_depth': 11, 'learning_rate': 0.8350339327776825, 'n_estimators': 67, 'min_child_weight': 5, 'gamma': 0.8794364846243993, 'subsample': 0.4881631254753794, 'colsample_bytree': 0.5583911556463618, 'reg_alpha': 0.7460443934491064, 'reg_lambda': 0.36531284012359594} because of the following error: The value None could not be cast to float..\u001b[0m\n",
      "\u001b[33m[W 2023-01-24 12:50:28,920]\u001b[0m Trial 374 failed with value None.\u001b[0m\n"
     ]
    },
    {
     "name": "stdout",
     "output_type": "stream",
     "text": [
      "0.7266666666666667 0.19333333333333333\n"
     ]
    },
    {
     "name": "stderr",
     "output_type": "stream",
     "text": [
      "\u001b[33m[W 2023-01-24 12:50:29,425]\u001b[0m Trial 375 failed with parameters: {'max_depth': 23, 'learning_rate': 0.49188879084481996, 'n_estimators': 97, 'min_child_weight': 10, 'gamma': 0.27322440292612554, 'subsample': 0.40336008935195433, 'colsample_bytree': 0.8319761549816617, 'reg_alpha': 0.044288821461635264, 'reg_lambda': 0.9141462553991125} because of the following error: The value None could not be cast to float..\u001b[0m\n",
      "\u001b[33m[W 2023-01-24 12:50:29,426]\u001b[0m Trial 375 failed with value None.\u001b[0m\n"
     ]
    },
    {
     "name": "stdout",
     "output_type": "stream",
     "text": [
      "0.7583333333333333 0.19333333333333333\n"
     ]
    },
    {
     "name": "stderr",
     "output_type": "stream",
     "text": [
      "\u001b[33m[W 2023-01-24 12:50:29,833]\u001b[0m Trial 376 failed with parameters: {'max_depth': 16, 'learning_rate': 0.3831872204773013, 'n_estimators': 70, 'min_child_weight': 2, 'gamma': 0.06668181195207086, 'subsample': 0.2902304086164596, 'colsample_bytree': 0.5948795238279763, 'reg_alpha': 0.4178663450121119, 'reg_lambda': 0.1413521913256027} because of the following error: The value None could not be cast to float..\u001b[0m\n",
      "\u001b[33m[W 2023-01-24 12:50:29,835]\u001b[0m Trial 376 failed with value None.\u001b[0m\n",
      "\u001b[33m[W 2023-01-24 12:50:29,987]\u001b[0m Trial 377 failed with parameters: {'max_depth': 3, 'learning_rate': 0.9327851688056644, 'n_estimators': 54, 'min_child_weight': 5, 'gamma': 0.2758952376760173, 'subsample': 0.46944524898812445, 'colsample_bytree': 0.3778999091222719, 'reg_alpha': 0.975465779189877, 'reg_lambda': 0.032835112968189015} because of the following error: The value None could not be cast to float..\u001b[0m\n",
      "\u001b[33m[W 2023-01-24 12:50:29,989]\u001b[0m Trial 377 failed with value None.\u001b[0m\n"
     ]
    },
    {
     "name": "stdout",
     "output_type": "stream",
     "text": [
      "0.7366666666666667 0.19333333333333333\n",
      "0.7016666666666667 0.19333333333333333\n"
     ]
    },
    {
     "name": "stderr",
     "output_type": "stream",
     "text": [
      "\u001b[33m[W 2023-01-24 12:50:30,247]\u001b[0m Trial 378 failed with parameters: {'max_depth': 6, 'learning_rate': 0.6253283007350007, 'n_estimators': 72, 'min_child_weight': 2, 'gamma': 0.6903694098839795, 'subsample': 0.7786720582904584, 'colsample_bytree': 0.252871458609964, 'reg_alpha': 0.01659740266064639, 'reg_lambda': 0.7166299476216111} because of the following error: The value None could not be cast to float..\u001b[0m\n",
      "\u001b[33m[W 2023-01-24 12:50:30,249]\u001b[0m Trial 378 failed with value None.\u001b[0m\n",
      "\u001b[33m[W 2023-01-24 12:50:30,401]\u001b[0m Trial 379 failed with parameters: {'max_depth': 3, 'learning_rate': 0.07687694973844494, 'n_estimators': 67, 'min_child_weight': 10, 'gamma': 0.2697129728469172, 'subsample': 0.7448409323287164, 'colsample_bytree': 0.24608330470995754, 'reg_alpha': 0.8468366453114345, 'reg_lambda': 0.4205818885524182} because of the following error: The value None could not be cast to float..\u001b[0m\n",
      "\u001b[33m[W 2023-01-24 12:50:30,403]\u001b[0m Trial 379 failed with value None.\u001b[0m\n"
     ]
    },
    {
     "name": "stdout",
     "output_type": "stream",
     "text": [
      "0.7866666666666666 0.19333333333333333\n",
      "0.805 0.19333333333333333\n"
     ]
    },
    {
     "name": "stderr",
     "output_type": "stream",
     "text": [
      "\u001b[33m[W 2023-01-24 12:50:30,679]\u001b[0m Trial 380 failed with parameters: {'max_depth': 22, 'learning_rate': 0.24552821514542655, 'n_estimators': 65, 'min_child_weight': 4, 'gamma': 0.3107034370773099, 'subsample': 0.32821265462833626, 'colsample_bytree': 0.3856966875886258, 'reg_alpha': 0.9998832678591381, 'reg_lambda': 0.2670683535379879} because of the following error: The value None could not be cast to float..\u001b[0m\n",
      "\u001b[33m[W 2023-01-24 12:50:30,680]\u001b[0m Trial 380 failed with value None.\u001b[0m\n"
     ]
    },
    {
     "name": "stdout",
     "output_type": "stream",
     "text": [
      "0.7933333333333333 0.19333333333333333\n"
     ]
    },
    {
     "name": "stderr",
     "output_type": "stream",
     "text": [
      "\u001b[33m[W 2023-01-24 12:50:31,058]\u001b[0m Trial 381 failed with parameters: {'max_depth': 22, 'learning_rate': 0.7743588470878777, 'n_estimators': 65, 'min_child_weight': 8, 'gamma': 0.9695973390994697, 'subsample': 0.44074412157666937, 'colsample_bytree': 0.8115703604332042, 'reg_alpha': 0.477735507554747, 'reg_lambda': 0.034054724565045824} because of the following error: The value None could not be cast to float..\u001b[0m\n",
      "\u001b[33m[W 2023-01-24 12:50:31,063]\u001b[0m Trial 381 failed with value None.\u001b[0m\n"
     ]
    },
    {
     "name": "stdout",
     "output_type": "stream",
     "text": [
      "0.6583333333333333 0.19333333333333333\n"
     ]
    },
    {
     "name": "stderr",
     "output_type": "stream",
     "text": [
      "\u001b[33m[W 2023-01-24 12:50:31,358]\u001b[0m Trial 382 failed with parameters: {'max_depth': 6, 'learning_rate': 0.2595567732237186, 'n_estimators': 80, 'min_child_weight': 3, 'gamma': 0.618183662624506, 'subsample': 0.4786058821064735, 'colsample_bytree': 0.2755103195337329, 'reg_alpha': 0.8456155361969239, 'reg_lambda': 0.9438049584961686} because of the following error: The value None could not be cast to float..\u001b[0m\n",
      "\u001b[33m[W 2023-01-24 12:50:31,360]\u001b[0m Trial 382 failed with value None.\u001b[0m\n",
      "\u001b[33m[W 2023-01-24 12:50:31,488]\u001b[0m Trial 383 failed with parameters: {'max_depth': 10, 'learning_rate': 0.7404460985967495, 'n_estimators': 58, 'min_child_weight': 6, 'gamma': 0.33549204916166625, 'subsample': 0.12444049958042076, 'colsample_bytree': 0.3936165674579843, 'reg_alpha': 0.838932990388042, 'reg_lambda': 0.41633986252175315} because of the following error: The value None could not be cast to float..\u001b[0m\n",
      "\u001b[33m[W 2023-01-24 12:50:31,492]\u001b[0m Trial 383 failed with value None.\u001b[0m\n"
     ]
    },
    {
     "name": "stdout",
     "output_type": "stream",
     "text": [
      "0.7416666666666667 0.19333333333333333\n",
      "0.7183333333333334 0.19333333333333333\n"
     ]
    },
    {
     "name": "stderr",
     "output_type": "stream",
     "text": [
      "\u001b[33m[W 2023-01-24 12:50:31,777]\u001b[0m Trial 384 failed with parameters: {'max_depth': 16, 'learning_rate': 0.011764203795236102, 'n_estimators': 67, 'min_child_weight': 3, 'gamma': 0.5165833101980998, 'subsample': 0.5301956571617347, 'colsample_bytree': 0.24132091456874868, 'reg_alpha': 0.6472138150678585, 'reg_lambda': 0.7137684969366773} because of the following error: The value None could not be cast to float..\u001b[0m\n",
      "\u001b[33m[W 2023-01-24 12:50:31,779]\u001b[0m Trial 384 failed with value None.\u001b[0m\n"
     ]
    },
    {
     "name": "stdout",
     "output_type": "stream",
     "text": [
      "0.78 0.19333333333333333\n"
     ]
    },
    {
     "name": "stderr",
     "output_type": "stream",
     "text": [
      "\u001b[33m[W 2023-01-24 12:50:32,381]\u001b[0m Trial 385 failed with parameters: {'max_depth': 17, 'learning_rate': 0.613580615972807, 'n_estimators': 81, 'min_child_weight': 1, 'gamma': 0.0763597208350243, 'subsample': 0.6516585268771588, 'colsample_bytree': 0.5313782948432884, 'reg_alpha': 0.907328336108822, 'reg_lambda': 0.9689723202515934} because of the following error: The value None could not be cast to float..\u001b[0m\n",
      "\u001b[33m[W 2023-01-24 12:50:32,383]\u001b[0m Trial 385 failed with value None.\u001b[0m\n",
      "\u001b[33m[W 2023-01-24 12:50:32,464]\u001b[0m Trial 386 failed with parameters: {'max_depth': 1, 'learning_rate': 0.4494236669178205, 'n_estimators': 53, 'min_child_weight': 6, 'gamma': 0.7185371803654298, 'subsample': 0.19867239427115474, 'colsample_bytree': 0.22258323939853578, 'reg_alpha': 0.3043729242923845, 'reg_lambda': 0.5139940039219496} because of the following error: The value None could not be cast to float..\u001b[0m\n",
      "\u001b[33m[W 2023-01-24 12:50:32,466]\u001b[0m Trial 386 failed with value None.\u001b[0m\n"
     ]
    },
    {
     "name": "stdout",
     "output_type": "stream",
     "text": [
      "0.7516666666666667 0.19333333333333333\n",
      "0.7933333333333333 0.19333333333333333\n"
     ]
    },
    {
     "name": "stderr",
     "output_type": "stream",
     "text": [
      "\u001b[33m[W 2023-01-24 12:50:32,643]\u001b[0m Trial 387 failed with parameters: {'max_depth': 4, 'learning_rate': 0.6670796742344715, 'n_estimators': 51, 'min_child_weight': 5, 'gamma': 0.666777783476634, 'subsample': 0.26911719478891993, 'colsample_bytree': 0.4659579052241997, 'reg_alpha': 0.245961834617553, 'reg_lambda': 0.4056796075668709} because of the following error: The value None could not be cast to float..\u001b[0m\n",
      "\u001b[33m[W 2023-01-24 12:50:32,648]\u001b[0m Trial 387 failed with value None.\u001b[0m\n"
     ]
    },
    {
     "name": "stdout",
     "output_type": "stream",
     "text": [
      "0.7033333333333334 0.19333333333333333\n"
     ]
    },
    {
     "name": "stderr",
     "output_type": "stream",
     "text": [
      "\u001b[33m[W 2023-01-24 12:50:33,369]\u001b[0m Trial 388 failed with parameters: {'max_depth': 19, 'learning_rate': 0.9501632323839123, 'n_estimators': 100, 'min_child_weight': 6, 'gamma': 0.014574663430857055, 'subsample': 0.522102239544062, 'colsample_bytree': 0.9542423348025045, 'reg_alpha': 0.26830767166779984, 'reg_lambda': 0.17661568831939803} because of the following error: The value None could not be cast to float..\u001b[0m\n",
      "\u001b[33m[W 2023-01-24 12:50:33,371]\u001b[0m Trial 388 failed with value None.\u001b[0m\n"
     ]
    },
    {
     "name": "stdout",
     "output_type": "stream",
     "text": [
      "0.7416666666666667 0.19333333333333333\n"
     ]
    },
    {
     "name": "stderr",
     "output_type": "stream",
     "text": [
      "\u001b[33m[W 2023-01-24 12:50:34,197]\u001b[0m Trial 389 failed with parameters: {'max_depth': 24, 'learning_rate': 0.24972982135618224, 'n_estimators': 71, 'min_child_weight': 1, 'gamma': 0.10137383411351553, 'subsample': 0.5586495119460316, 'colsample_bytree': 0.8042126269124188, 'reg_alpha': 0.343565419777797, 'reg_lambda': 0.5086145397696644} because of the following error: The value None could not be cast to float..\u001b[0m\n",
      "\u001b[33m[W 2023-01-24 12:50:34,202]\u001b[0m Trial 389 failed with value None.\u001b[0m\n"
     ]
    },
    {
     "name": "stdout",
     "output_type": "stream",
     "text": [
      "0.7766666666666666 0.19333333333333333\n"
     ]
    },
    {
     "name": "stderr",
     "output_type": "stream",
     "text": [
      "\u001b[33m[W 2023-01-24 12:50:34,645]\u001b[0m Trial 390 failed with parameters: {'max_depth': 6, 'learning_rate': 0.20324666748391515, 'n_estimators': 89, 'min_child_weight': 10, 'gamma': 0.33968095739644505, 'subsample': 0.33681811135891404, 'colsample_bytree': 0.8671796315318517, 'reg_alpha': 0.9648563700733793, 'reg_lambda': 0.364321441933307} because of the following error: The value None could not be cast to float..\u001b[0m\n",
      "\u001b[33m[W 2023-01-24 12:50:34,649]\u001b[0m Trial 390 failed with value None.\u001b[0m\n"
     ]
    },
    {
     "name": "stdout",
     "output_type": "stream",
     "text": [
      "0.805 0.19333333333333333\n"
     ]
    },
    {
     "name": "stderr",
     "output_type": "stream",
     "text": [
      "\u001b[33m[W 2023-01-24 12:50:35,469]\u001b[0m Trial 391 failed with parameters: {'max_depth': 20, 'learning_rate': 0.09653801406530126, 'n_estimators': 55, 'min_child_weight': 1, 'gamma': 0.8408494687924923, 'subsample': 0.6693705043324856, 'colsample_bytree': 0.9314571043407273, 'reg_alpha': 0.738498691736759, 'reg_lambda': 0.9793325901007149} because of the following error: The value None could not be cast to float..\u001b[0m\n",
      "\u001b[33m[W 2023-01-24 12:50:35,471]\u001b[0m Trial 391 failed with value None.\u001b[0m\n"
     ]
    },
    {
     "name": "stdout",
     "output_type": "stream",
     "text": [
      "0.7833333333333333 0.19333333333333333\n"
     ]
    },
    {
     "name": "stderr",
     "output_type": "stream",
     "text": [
      "\u001b[33m[W 2023-01-24 12:50:35,722]\u001b[0m Trial 392 failed with parameters: {'max_depth': 24, 'learning_rate': 0.3257880108281158, 'n_estimators': 64, 'min_child_weight': 5, 'gamma': 0.9202164524917339, 'subsample': 0.610178517777651, 'colsample_bytree': 0.1771630846308762, 'reg_alpha': 0.2653152298846541, 'reg_lambda': 0.8200755054261942} because of the following error: The value None could not be cast to float..\u001b[0m\n",
      "\u001b[33m[W 2023-01-24 12:50:35,724]\u001b[0m Trial 392 failed with value None.\u001b[0m\n"
     ]
    },
    {
     "name": "stdout",
     "output_type": "stream",
     "text": [
      "0.7883333333333333 0.19333333333333333\n"
     ]
    },
    {
     "name": "stderr",
     "output_type": "stream",
     "text": [
      "\u001b[33m[W 2023-01-24 12:50:35,940]\u001b[0m Trial 393 failed with parameters: {'max_depth': 6, 'learning_rate': 0.39927803387136945, 'n_estimators': 76, 'min_child_weight': 6, 'gamma': 0.7621070607335243, 'subsample': 0.5711459578428997, 'colsample_bytree': 0.17307059173794898, 'reg_alpha': 0.014926191239531499, 'reg_lambda': 0.5662749164395998} because of the following error: The value None could not be cast to float..\u001b[0m\n",
      "\u001b[33m[W 2023-01-24 12:50:35,942]\u001b[0m Trial 393 failed with value None.\u001b[0m\n"
     ]
    },
    {
     "name": "stdout",
     "output_type": "stream",
     "text": [
      "0.7583333333333333 0.19333333333333333\n"
     ]
    },
    {
     "name": "stderr",
     "output_type": "stream",
     "text": [
      "\u001b[33m[W 2023-01-24 12:50:36,333]\u001b[0m Trial 394 failed with parameters: {'max_depth': 9, 'learning_rate': 0.3364691328247248, 'n_estimators': 71, 'min_child_weight': 3, 'gamma': 0.006169427666431337, 'subsample': 0.9083880569017709, 'colsample_bytree': 0.3844204037545087, 'reg_alpha': 0.0843965464852381, 'reg_lambda': 0.048623591205812125} because of the following error: The value None could not be cast to float..\u001b[0m\n",
      "\u001b[33m[W 2023-01-24 12:50:36,335]\u001b[0m Trial 394 failed with value None.\u001b[0m\n"
     ]
    },
    {
     "name": "stdout",
     "output_type": "stream",
     "text": [
      "0.785 0.19333333333333333\n"
     ]
    },
    {
     "name": "stderr",
     "output_type": "stream",
     "text": [
      "\u001b[33m[W 2023-01-24 12:50:36,756]\u001b[0m Trial 395 failed with parameters: {'max_depth': 14, 'learning_rate': 0.5416456825399474, 'n_estimators': 99, 'min_child_weight': 3, 'gamma': 0.9851428285699869, 'subsample': 0.6345938835101304, 'colsample_bytree': 0.2628277415195591, 'reg_alpha': 0.8839219103999344, 'reg_lambda': 0.39145132238335484} because of the following error: The value None could not be cast to float..\u001b[0m\n",
      "\u001b[33m[W 2023-01-24 12:50:36,757]\u001b[0m Trial 395 failed with value None.\u001b[0m\n"
     ]
    },
    {
     "name": "stdout",
     "output_type": "stream",
     "text": [
      "0.7683333333333333 0.19333333333333333\n"
     ]
    },
    {
     "name": "stderr",
     "output_type": "stream",
     "text": [
      "\u001b[33m[W 2023-01-24 12:50:37,217]\u001b[0m Trial 396 failed with parameters: {'max_depth': 9, 'learning_rate': 0.057550014446328734, 'n_estimators': 93, 'min_child_weight': 10, 'gamma': 0.9812342018113305, 'subsample': 0.8349505541323301, 'colsample_bytree': 0.41491099857877517, 'reg_alpha': 0.47317434717306467, 'reg_lambda': 0.6879410378155468} because of the following error: The value None could not be cast to float..\u001b[0m\n",
      "\u001b[33m[W 2023-01-24 12:50:37,219]\u001b[0m Trial 396 failed with value None.\u001b[0m\n",
      "\u001b[33m[W 2023-01-24 12:50:37,330]\u001b[0m Trial 397 failed with parameters: {'max_depth': 1, 'learning_rate': 0.8623419117843822, 'n_estimators': 53, 'min_child_weight': 1, 'gamma': 0.989161640260109, 'subsample': 0.8407221695400483, 'colsample_bytree': 0.841846019494459, 'reg_alpha': 0.14158139911765472, 'reg_lambda': 0.7945433622170549} because of the following error: The value None could not be cast to float..\u001b[0m\n",
      "\u001b[33m[W 2023-01-24 12:50:37,331]\u001b[0m Trial 397 failed with value None.\u001b[0m\n"
     ]
    },
    {
     "name": "stdout",
     "output_type": "stream",
     "text": [
      "0.8066666666666666 0.19333333333333333\n",
      "0.7866666666666666 0.19333333333333333\n"
     ]
    },
    {
     "name": "stderr",
     "output_type": "stream",
     "text": [
      "\u001b[33m[W 2023-01-24 12:50:37,796]\u001b[0m Trial 398 failed with parameters: {'max_depth': 4, 'learning_rate': 0.9508084300016388, 'n_estimators': 89, 'min_child_weight': 2, 'gamma': 0.689809857948219, 'subsample': 0.5366456958138063, 'colsample_bytree': 0.833016240523635, 'reg_alpha': 0.10456909260459632, 'reg_lambda': 0.49218448714160684} because of the following error: The value None could not be cast to float..\u001b[0m\n",
      "\u001b[33m[W 2023-01-24 12:50:37,797]\u001b[0m Trial 398 failed with value None.\u001b[0m\n"
     ]
    },
    {
     "name": "stdout",
     "output_type": "stream",
     "text": [
      "0.6733333333333333 0.19333333333333333\n"
     ]
    },
    {
     "name": "stderr",
     "output_type": "stream",
     "text": [
      "\u001b[33m[W 2023-01-24 12:50:38,193]\u001b[0m Trial 399 failed with parameters: {'max_depth': 19, 'learning_rate': 0.8990195378457053, 'n_estimators': 80, 'min_child_weight': 9, 'gamma': 0.6764870858898615, 'subsample': 0.6747010271997601, 'colsample_bytree': 0.5051759837663659, 'reg_alpha': 0.3501669832508286, 'reg_lambda': 0.7281326520816567} because of the following error: The value None could not be cast to float..\u001b[0m\n",
      "\u001b[33m[W 2023-01-24 12:50:38,195]\u001b[0m Trial 399 failed with value None.\u001b[0m\n"
     ]
    },
    {
     "name": "stdout",
     "output_type": "stream",
     "text": [
      "0.7 0.19333333333333333\n"
     ]
    },
    {
     "name": "stderr",
     "output_type": "stream",
     "text": [
      "\u001b[33m[W 2023-01-24 12:50:38,566]\u001b[0m Trial 400 failed with parameters: {'max_depth': 8, 'learning_rate': 0.8268669559580576, 'n_estimators': 76, 'min_child_weight': 4, 'gamma': 0.2221679519241827, 'subsample': 0.9532633537694553, 'colsample_bytree': 0.41690239815504426, 'reg_alpha': 0.9035293276440707, 'reg_lambda': 0.4274343306488687} because of the following error: The value None could not be cast to float..\u001b[0m\n",
      "\u001b[33m[W 2023-01-24 12:50:38,568]\u001b[0m Trial 400 failed with value None.\u001b[0m\n",
      "\u001b[33m[W 2023-01-24 12:50:38,748]\u001b[0m Trial 401 failed with parameters: {'max_depth': 7, 'learning_rate': 0.6237883186562878, 'n_estimators': 55, 'min_child_weight': 8, 'gamma': 0.5129087984141563, 'subsample': 0.29510670198572264, 'colsample_bytree': 0.393274574092623, 'reg_alpha': 0.7774653437133534, 'reg_lambda': 0.4803868423042043} because of the following error: The value None could not be cast to float..\u001b[0m\n",
      "\u001b[33m[W 2023-01-24 12:50:38,750]\u001b[0m Trial 401 failed with value None.\u001b[0m\n"
     ]
    },
    {
     "name": "stdout",
     "output_type": "stream",
     "text": [
      "0.745 0.19333333333333333\n",
      "0.7183333333333334 0.19333333333333333\n"
     ]
    },
    {
     "name": "stderr",
     "output_type": "stream",
     "text": [
      "\u001b[33m[W 2023-01-24 12:50:39,102]\u001b[0m Trial 402 failed with parameters: {'max_depth': 17, 'learning_rate': 0.6931067996422858, 'n_estimators': 68, 'min_child_weight': 5, 'gamma': 0.8404554410946009, 'subsample': 0.3754907269631618, 'colsample_bytree': 0.6511780585389634, 'reg_alpha': 0.08279845721214676, 'reg_lambda': 0.15973998973983616} because of the following error: The value None could not be cast to float..\u001b[0m\n",
      "\u001b[33m[W 2023-01-24 12:50:39,103]\u001b[0m Trial 402 failed with value None.\u001b[0m\n",
      "\u001b[33m[W 2023-01-24 12:50:39,224]\u001b[0m Trial 403 failed with parameters: {'max_depth': 20, 'learning_rate': 0.7730527297572516, 'n_estimators': 56, 'min_child_weight': 3, 'gamma': 0.9327165604143273, 'subsample': 0.20057210545125914, 'colsample_bytree': 0.13932905291984413, 'reg_alpha': 0.8861712012187981, 'reg_lambda': 0.038289949932498714} because of the following error: The value None could not be cast to float..\u001b[0m\n",
      "\u001b[33m[W 2023-01-24 12:50:39,225]\u001b[0m Trial 403 failed with value None.\u001b[0m\n"
     ]
    },
    {
     "name": "stdout",
     "output_type": "stream",
     "text": [
      "0.725 0.19333333333333333\n",
      "0.7416666666666667 0.19333333333333333\n"
     ]
    },
    {
     "name": "stderr",
     "output_type": "stream",
     "text": [
      "\u001b[33m[W 2023-01-24 12:50:39,339]\u001b[0m Trial 404 failed with parameters: {'max_depth': 14, 'learning_rate': 0.701621758348759, 'n_estimators': 51, 'min_child_weight': 6, 'gamma': 0.38084371733319283, 'subsample': 0.07798683471487486, 'colsample_bytree': 0.6287662824343637, 'reg_alpha': 0.34151165209449297, 'reg_lambda': 0.689629467676275} because of the following error: The value None could not be cast to float..\u001b[0m\n",
      "\u001b[33m[W 2023-01-24 12:50:39,341]\u001b[0m Trial 404 failed with value None.\u001b[0m\n",
      "\u001b[33m[W 2023-01-24 12:50:39,472]\u001b[0m Trial 405 failed with parameters: {'max_depth': 10, 'learning_rate': 0.6036627319944289, 'n_estimators': 65, 'min_child_weight': 1, 'gamma': 0.7845131834038046, 'subsample': 0.024619667221896742, 'colsample_bytree': 0.513669038104389, 'reg_alpha': 0.9559141258029521, 'reg_lambda': 0.7785536752007756} because of the following error: The value None could not be cast to float..\u001b[0m\n",
      "\u001b[33m[W 2023-01-24 12:50:39,473]\u001b[0m Trial 405 failed with value None.\u001b[0m\n"
     ]
    },
    {
     "name": "stdout",
     "output_type": "stream",
     "text": [
      "0.7016666666666667 0.19333333333333333\n",
      "0.7333333333333333 0.19333333333333333\n"
     ]
    },
    {
     "name": "stderr",
     "output_type": "stream",
     "text": [
      "\u001b[33m[W 2023-01-24 12:50:39,664]\u001b[0m Trial 406 failed with parameters: {'max_depth': 23, 'learning_rate': 0.7353144354336884, 'n_estimators': 59, 'min_child_weight': 3, 'gamma': 0.7974795023560602, 'subsample': 0.345858789929286, 'colsample_bytree': 0.1960006346436487, 'reg_alpha': 0.732133647049632, 'reg_lambda': 0.039044637851077486} because of the following error: The value None could not be cast to float..\u001b[0m\n",
      "\u001b[33m[W 2023-01-24 12:50:39,666]\u001b[0m Trial 406 failed with value None.\u001b[0m\n"
     ]
    },
    {
     "name": "stdout",
     "output_type": "stream",
     "text": [
      "0.7233333333333334 0.19333333333333333\n"
     ]
    },
    {
     "name": "stderr",
     "output_type": "stream",
     "text": [
      "\u001b[33m[W 2023-01-24 12:50:40,553]\u001b[0m Trial 407 failed with parameters: {'max_depth': 16, 'learning_rate': 0.05229493742027291, 'n_estimators': 75, 'min_child_weight': 2, 'gamma': 0.553995092799515, 'subsample': 0.7736130619981622, 'colsample_bytree': 0.7546336257925292, 'reg_alpha': 0.9112857263137492, 'reg_lambda': 0.1987976749476144} because of the following error: The value None could not be cast to float..\u001b[0m\n",
      "\u001b[33m[W 2023-01-24 12:50:40,556]\u001b[0m Trial 407 failed with value None.\u001b[0m\n"
     ]
    },
    {
     "name": "stdout",
     "output_type": "stream",
     "text": [
      "0.8 0.19333333333333333\n"
     ]
    },
    {
     "name": "stderr",
     "output_type": "stream",
     "text": [
      "\u001b[33m[W 2023-01-24 12:50:41,124]\u001b[0m Trial 408 failed with parameters: {'max_depth': 21, 'learning_rate': 0.2261011722606615, 'n_estimators': 91, 'min_child_weight': 3, 'gamma': 0.5678331346668287, 'subsample': 0.9831701412708133, 'colsample_bytree': 0.3983361619900275, 'reg_alpha': 0.37985082669746706, 'reg_lambda': 0.11980776061849002} because of the following error: KeyboardInterrupt().\u001b[0m\n",
      "Traceback (most recent call last):\n",
      "  File \"/usr/local/lib/python3.8/dist-packages/optuna/study/_optimize.py\", line 200, in _run_trial\n",
      "    value_or_values = func(trial)\n",
      "  File \"<ipython-input-83-a220e30c0f89>\", line 19, in objective\n",
      "    optuna_model.fit(X_train, y_train)\n",
      "  File \"/usr/local/lib/python3.8/dist-packages/xgboost/sklearn.py\", line 728, in fit\n",
      "    self._Booster = train(xgb_options, train_dmatrix, self.get_num_boosting_rounds(),\n",
      "  File \"/usr/local/lib/python3.8/dist-packages/xgboost/training.py\", line 212, in train\n",
      "    return _train_internal(params, dtrain,\n",
      "  File \"/usr/local/lib/python3.8/dist-packages/xgboost/training.py\", line 74, in _train_internal\n",
      "    bst.update(dtrain, i, obj)\n",
      "  File \"/usr/local/lib/python3.8/dist-packages/xgboost/core.py\", line 1108, in update\n",
      "    _check_call(_LIB.XGBoosterUpdateOneIter(self.handle, ctypes.c_int(iteration),\n",
      "KeyboardInterrupt\n",
      "\u001b[33m[W 2023-01-24 12:50:41,126]\u001b[0m Trial 408 failed with value None.\u001b[0m\n"
     ]
    },
    {
     "ename": "KeyboardInterrupt",
     "evalue": "ignored",
     "output_type": "error",
     "traceback": [
      "\u001b[0;31m---------------------------------------------------------------------------\u001b[0m",
      "\u001b[0;31mKeyboardInterrupt\u001b[0m                         Traceback (most recent call last)",
      "\u001b[0;32m<ipython-input-89-2c16bfc0de39>\u001b[0m in \u001b[0;36m<module>\u001b[0;34m\u001b[0m\n\u001b[1;32m      1\u001b[0m \u001b[0;32mimport\u001b[0m \u001b[0moptuna\u001b[0m\u001b[0;34m\u001b[0m\u001b[0;34m\u001b[0m\u001b[0m\n\u001b[1;32m      2\u001b[0m \u001b[0mstudy\u001b[0m \u001b[0;34m=\u001b[0m \u001b[0moptuna\u001b[0m\u001b[0;34m.\u001b[0m\u001b[0mcreate_study\u001b[0m\u001b[0;34m(\u001b[0m\u001b[0mdirection\u001b[0m\u001b[0;34m=\u001b[0m\u001b[0;34m'maximize'\u001b[0m\u001b[0;34m)\u001b[0m\u001b[0;34m\u001b[0m\u001b[0;34m\u001b[0m\u001b[0m\n\u001b[0;32m----> 3\u001b[0;31m \u001b[0mstudy\u001b[0m\u001b[0;34m.\u001b[0m\u001b[0moptimize\u001b[0m\u001b[0;34m(\u001b[0m\u001b[0mobjective\u001b[0m\u001b[0;34m,\u001b[0m \u001b[0mn_trials\u001b[0m\u001b[0;34m=\u001b[0m\u001b[0;36m500\u001b[0m\u001b[0;34m)\u001b[0m\u001b[0;34m\u001b[0m\u001b[0;34m\u001b[0m\u001b[0m\n\u001b[0m",
      "\u001b[0;32m/usr/local/lib/python3.8/dist-packages/optuna/study/study.py\u001b[0m in \u001b[0;36moptimize\u001b[0;34m(self, func, n_trials, timeout, n_jobs, catch, callbacks, gc_after_trial, show_progress_bar)\u001b[0m\n\u001b[1;32m    423\u001b[0m         \"\"\"\n\u001b[1;32m    424\u001b[0m \u001b[0;34m\u001b[0m\u001b[0m\n\u001b[0;32m--> 425\u001b[0;31m         _optimize(\n\u001b[0m\u001b[1;32m    426\u001b[0m             \u001b[0mstudy\u001b[0m\u001b[0;34m=\u001b[0m\u001b[0mself\u001b[0m\u001b[0;34m,\u001b[0m\u001b[0;34m\u001b[0m\u001b[0;34m\u001b[0m\u001b[0m\n\u001b[1;32m    427\u001b[0m             \u001b[0mfunc\u001b[0m\u001b[0;34m=\u001b[0m\u001b[0mfunc\u001b[0m\u001b[0;34m,\u001b[0m\u001b[0;34m\u001b[0m\u001b[0;34m\u001b[0m\u001b[0m\n",
      "\u001b[0;32m/usr/local/lib/python3.8/dist-packages/optuna/study/_optimize.py\u001b[0m in \u001b[0;36m_optimize\u001b[0;34m(study, func, n_trials, timeout, n_jobs, catch, callbacks, gc_after_trial, show_progress_bar)\u001b[0m\n\u001b[1;32m     64\u001b[0m     \u001b[0;32mtry\u001b[0m\u001b[0;34m:\u001b[0m\u001b[0;34m\u001b[0m\u001b[0;34m\u001b[0m\u001b[0m\n\u001b[1;32m     65\u001b[0m         \u001b[0;32mif\u001b[0m \u001b[0mn_jobs\u001b[0m \u001b[0;34m==\u001b[0m \u001b[0;36m1\u001b[0m\u001b[0;34m:\u001b[0m\u001b[0;34m\u001b[0m\u001b[0;34m\u001b[0m\u001b[0m\n\u001b[0;32m---> 66\u001b[0;31m             _optimize_sequential(\n\u001b[0m\u001b[1;32m     67\u001b[0m                 \u001b[0mstudy\u001b[0m\u001b[0;34m,\u001b[0m\u001b[0;34m\u001b[0m\u001b[0;34m\u001b[0m\u001b[0m\n\u001b[1;32m     68\u001b[0m                 \u001b[0mfunc\u001b[0m\u001b[0;34m,\u001b[0m\u001b[0;34m\u001b[0m\u001b[0;34m\u001b[0m\u001b[0m\n",
      "\u001b[0;32m/usr/local/lib/python3.8/dist-packages/optuna/study/_optimize.py\u001b[0m in \u001b[0;36m_optimize_sequential\u001b[0;34m(study, func, n_trials, timeout, catch, callbacks, gc_after_trial, reseed_sampler_rng, time_start, progress_bar)\u001b[0m\n\u001b[1;32m    161\u001b[0m \u001b[0;34m\u001b[0m\u001b[0m\n\u001b[1;32m    162\u001b[0m         \u001b[0;32mtry\u001b[0m\u001b[0;34m:\u001b[0m\u001b[0;34m\u001b[0m\u001b[0;34m\u001b[0m\u001b[0m\n\u001b[0;32m--> 163\u001b[0;31m             \u001b[0mfrozen_trial\u001b[0m \u001b[0;34m=\u001b[0m \u001b[0m_run_trial\u001b[0m\u001b[0;34m(\u001b[0m\u001b[0mstudy\u001b[0m\u001b[0;34m,\u001b[0m \u001b[0mfunc\u001b[0m\u001b[0;34m,\u001b[0m \u001b[0mcatch\u001b[0m\u001b[0;34m)\u001b[0m\u001b[0;34m\u001b[0m\u001b[0;34m\u001b[0m\u001b[0m\n\u001b[0m\u001b[1;32m    164\u001b[0m         \u001b[0;32mfinally\u001b[0m\u001b[0;34m:\u001b[0m\u001b[0;34m\u001b[0m\u001b[0;34m\u001b[0m\u001b[0m\n\u001b[1;32m    165\u001b[0m             \u001b[0;31m# The following line mitigates memory problems that can be occurred in some\u001b[0m\u001b[0;34m\u001b[0m\u001b[0;34m\u001b[0m\u001b[0;34m\u001b[0m\u001b[0m\n",
      "\u001b[0;32m/usr/local/lib/python3.8/dist-packages/optuna/study/_optimize.py\u001b[0m in \u001b[0;36m_run_trial\u001b[0;34m(study, func, catch)\u001b[0m\n\u001b[1;32m    249\u001b[0m         \u001b[0;32mand\u001b[0m \u001b[0;32mnot\u001b[0m \u001b[0misinstance\u001b[0m\u001b[0;34m(\u001b[0m\u001b[0mfunc_err\u001b[0m\u001b[0;34m,\u001b[0m \u001b[0mcatch\u001b[0m\u001b[0;34m)\u001b[0m\u001b[0;34m\u001b[0m\u001b[0;34m\u001b[0m\u001b[0m\n\u001b[1;32m    250\u001b[0m     ):\n\u001b[0;32m--> 251\u001b[0;31m         \u001b[0;32mraise\u001b[0m \u001b[0mfunc_err\u001b[0m\u001b[0;34m\u001b[0m\u001b[0;34m\u001b[0m\u001b[0m\n\u001b[0m\u001b[1;32m    252\u001b[0m     \u001b[0;32mreturn\u001b[0m \u001b[0mfrozen_trial\u001b[0m\u001b[0;34m\u001b[0m\u001b[0;34m\u001b[0m\u001b[0m\n\u001b[1;32m    253\u001b[0m \u001b[0;34m\u001b[0m\u001b[0m\n",
      "\u001b[0;32m/usr/local/lib/python3.8/dist-packages/optuna/study/_optimize.py\u001b[0m in \u001b[0;36m_run_trial\u001b[0;34m(study, func, catch)\u001b[0m\n\u001b[1;32m    198\u001b[0m     \u001b[0;32mwith\u001b[0m \u001b[0mget_heartbeat_thread\u001b[0m\u001b[0;34m(\u001b[0m\u001b[0mtrial\u001b[0m\u001b[0;34m.\u001b[0m\u001b[0m_trial_id\u001b[0m\u001b[0;34m,\u001b[0m \u001b[0mstudy\u001b[0m\u001b[0;34m.\u001b[0m\u001b[0m_storage\u001b[0m\u001b[0;34m)\u001b[0m\u001b[0;34m:\u001b[0m\u001b[0;34m\u001b[0m\u001b[0;34m\u001b[0m\u001b[0m\n\u001b[1;32m    199\u001b[0m         \u001b[0;32mtry\u001b[0m\u001b[0;34m:\u001b[0m\u001b[0;34m\u001b[0m\u001b[0;34m\u001b[0m\u001b[0m\n\u001b[0;32m--> 200\u001b[0;31m             \u001b[0mvalue_or_values\u001b[0m \u001b[0;34m=\u001b[0m \u001b[0mfunc\u001b[0m\u001b[0;34m(\u001b[0m\u001b[0mtrial\u001b[0m\u001b[0;34m)\u001b[0m\u001b[0;34m\u001b[0m\u001b[0;34m\u001b[0m\u001b[0m\n\u001b[0m\u001b[1;32m    201\u001b[0m         \u001b[0;32mexcept\u001b[0m \u001b[0mexceptions\u001b[0m\u001b[0;34m.\u001b[0m\u001b[0mTrialPruned\u001b[0m \u001b[0;32mas\u001b[0m \u001b[0me\u001b[0m\u001b[0;34m:\u001b[0m\u001b[0;34m\u001b[0m\u001b[0;34m\u001b[0m\u001b[0m\n\u001b[1;32m    202\u001b[0m             \u001b[0;31m# TODO(mamu): Handle multi-objective cases.\u001b[0m\u001b[0;34m\u001b[0m\u001b[0;34m\u001b[0m\u001b[0;34m\u001b[0m\u001b[0m\n",
      "\u001b[0;32m<ipython-input-83-a220e30c0f89>\u001b[0m in \u001b[0;36mobjective\u001b[0;34m(trial)\u001b[0m\n\u001b[1;32m     17\u001b[0m     \u001b[0;31m# Fit the model\u001b[0m\u001b[0;34m\u001b[0m\u001b[0;34m\u001b[0m\u001b[0;34m\u001b[0m\u001b[0m\n\u001b[1;32m     18\u001b[0m     \u001b[0moptuna_model\u001b[0m \u001b[0;34m=\u001b[0m \u001b[0mXGBClassifier\u001b[0m\u001b[0;34m(\u001b[0m\u001b[0;34m**\u001b[0m\u001b[0mparams\u001b[0m\u001b[0;34m)\u001b[0m\u001b[0;34m\u001b[0m\u001b[0;34m\u001b[0m\u001b[0m\n\u001b[0;32m---> 19\u001b[0;31m     \u001b[0moptuna_model\u001b[0m\u001b[0;34m.\u001b[0m\u001b[0mfit\u001b[0m\u001b[0;34m(\u001b[0m\u001b[0mX_train\u001b[0m\u001b[0;34m,\u001b[0m \u001b[0my_train\u001b[0m\u001b[0;34m)\u001b[0m\u001b[0;34m\u001b[0m\u001b[0;34m\u001b[0m\u001b[0m\n\u001b[0m\u001b[1;32m     20\u001b[0m \u001b[0;34m\u001b[0m\u001b[0m\n\u001b[1;32m     21\u001b[0m     \u001b[0;31m# Make predictions\u001b[0m\u001b[0;34m\u001b[0m\u001b[0;34m\u001b[0m\u001b[0;34m\u001b[0m\u001b[0m\n",
      "\u001b[0;32m/usr/local/lib/python3.8/dist-packages/xgboost/sklearn.py\u001b[0m in \u001b[0;36mfit\u001b[0;34m(self, X, y, sample_weight, eval_set, eval_metric, early_stopping_rounds, verbose, xgb_model, sample_weight_eval_set, callbacks)\u001b[0m\n\u001b[1;32m    726\u001b[0m                                     missing=self.missing, nthread=self.n_jobs)\n\u001b[1;32m    727\u001b[0m \u001b[0;34m\u001b[0m\u001b[0m\n\u001b[0;32m--> 728\u001b[0;31m         self._Booster = train(xgb_options, train_dmatrix, self.get_num_boosting_rounds(),\n\u001b[0m\u001b[1;32m    729\u001b[0m                               \u001b[0mevals\u001b[0m\u001b[0;34m=\u001b[0m\u001b[0mevals\u001b[0m\u001b[0;34m,\u001b[0m \u001b[0mearly_stopping_rounds\u001b[0m\u001b[0;34m=\u001b[0m\u001b[0mearly_stopping_rounds\u001b[0m\u001b[0;34m,\u001b[0m\u001b[0;34m\u001b[0m\u001b[0;34m\u001b[0m\u001b[0m\n\u001b[1;32m    730\u001b[0m                               \u001b[0mevals_result\u001b[0m\u001b[0;34m=\u001b[0m\u001b[0mevals_result\u001b[0m\u001b[0;34m,\u001b[0m \u001b[0mobj\u001b[0m\u001b[0;34m=\u001b[0m\u001b[0mobj\u001b[0m\u001b[0;34m,\u001b[0m \u001b[0mfeval\u001b[0m\u001b[0;34m=\u001b[0m\u001b[0mfeval\u001b[0m\u001b[0;34m,\u001b[0m\u001b[0;34m\u001b[0m\u001b[0;34m\u001b[0m\u001b[0m\n",
      "\u001b[0;32m/usr/local/lib/python3.8/dist-packages/xgboost/training.py\u001b[0m in \u001b[0;36mtrain\u001b[0;34m(params, dtrain, num_boost_round, evals, obj, feval, maximize, early_stopping_rounds, evals_result, verbose_eval, xgb_model, callbacks, learning_rates)\u001b[0m\n\u001b[1;32m    210\u001b[0m         \u001b[0mcallbacks\u001b[0m\u001b[0;34m.\u001b[0m\u001b[0mappend\u001b[0m\u001b[0;34m(\u001b[0m\u001b[0mcallback\u001b[0m\u001b[0;34m.\u001b[0m\u001b[0mreset_learning_rate\u001b[0m\u001b[0;34m(\u001b[0m\u001b[0mlearning_rates\u001b[0m\u001b[0;34m)\u001b[0m\u001b[0;34m)\u001b[0m\u001b[0;34m\u001b[0m\u001b[0;34m\u001b[0m\u001b[0m\n\u001b[1;32m    211\u001b[0m \u001b[0;34m\u001b[0m\u001b[0m\n\u001b[0;32m--> 212\u001b[0;31m     return _train_internal(params, dtrain,\n\u001b[0m\u001b[1;32m    213\u001b[0m                            \u001b[0mnum_boost_round\u001b[0m\u001b[0;34m=\u001b[0m\u001b[0mnum_boost_round\u001b[0m\u001b[0;34m,\u001b[0m\u001b[0;34m\u001b[0m\u001b[0;34m\u001b[0m\u001b[0m\n\u001b[1;32m    214\u001b[0m                            \u001b[0mevals\u001b[0m\u001b[0;34m=\u001b[0m\u001b[0mevals\u001b[0m\u001b[0;34m,\u001b[0m\u001b[0;34m\u001b[0m\u001b[0;34m\u001b[0m\u001b[0m\n",
      "\u001b[0;32m/usr/local/lib/python3.8/dist-packages/xgboost/training.py\u001b[0m in \u001b[0;36m_train_internal\u001b[0;34m(params, dtrain, num_boost_round, evals, obj, feval, xgb_model, callbacks)\u001b[0m\n\u001b[1;32m     72\u001b[0m         \u001b[0;31m# Skip the first update if it is a recovery step.\u001b[0m\u001b[0;34m\u001b[0m\u001b[0;34m\u001b[0m\u001b[0;34m\u001b[0m\u001b[0m\n\u001b[1;32m     73\u001b[0m         \u001b[0;32mif\u001b[0m \u001b[0mversion\u001b[0m \u001b[0;34m%\u001b[0m \u001b[0;36m2\u001b[0m \u001b[0;34m==\u001b[0m \u001b[0;36m0\u001b[0m\u001b[0;34m:\u001b[0m\u001b[0;34m\u001b[0m\u001b[0;34m\u001b[0m\u001b[0m\n\u001b[0;32m---> 74\u001b[0;31m             \u001b[0mbst\u001b[0m\u001b[0;34m.\u001b[0m\u001b[0mupdate\u001b[0m\u001b[0;34m(\u001b[0m\u001b[0mdtrain\u001b[0m\u001b[0;34m,\u001b[0m \u001b[0mi\u001b[0m\u001b[0;34m,\u001b[0m \u001b[0mobj\u001b[0m\u001b[0;34m)\u001b[0m\u001b[0;34m\u001b[0m\u001b[0;34m\u001b[0m\u001b[0m\n\u001b[0m\u001b[1;32m     75\u001b[0m             \u001b[0mbst\u001b[0m\u001b[0;34m.\u001b[0m\u001b[0msave_rabit_checkpoint\u001b[0m\u001b[0;34m(\u001b[0m\u001b[0;34m)\u001b[0m\u001b[0;34m\u001b[0m\u001b[0;34m\u001b[0m\u001b[0m\n\u001b[1;32m     76\u001b[0m             \u001b[0mversion\u001b[0m \u001b[0;34m+=\u001b[0m \u001b[0;36m1\u001b[0m\u001b[0;34m\u001b[0m\u001b[0;34m\u001b[0m\u001b[0m\n",
      "\u001b[0;32m/usr/local/lib/python3.8/dist-packages/xgboost/core.py\u001b[0m in \u001b[0;36mupdate\u001b[0;34m(self, dtrain, iteration, fobj)\u001b[0m\n\u001b[1;32m   1106\u001b[0m \u001b[0;34m\u001b[0m\u001b[0m\n\u001b[1;32m   1107\u001b[0m         \u001b[0;32mif\u001b[0m \u001b[0mfobj\u001b[0m \u001b[0;32mis\u001b[0m \u001b[0;32mNone\u001b[0m\u001b[0;34m:\u001b[0m\u001b[0;34m\u001b[0m\u001b[0;34m\u001b[0m\u001b[0m\n\u001b[0;32m-> 1108\u001b[0;31m             _check_call(_LIB.XGBoosterUpdateOneIter(self.handle, ctypes.c_int(iteration),\n\u001b[0m\u001b[1;32m   1109\u001b[0m                                                     dtrain.handle))\n\u001b[1;32m   1110\u001b[0m         \u001b[0;32melse\u001b[0m\u001b[0;34m:\u001b[0m\u001b[0;34m\u001b[0m\u001b[0;34m\u001b[0m\u001b[0m\n",
      "\u001b[0;31mKeyboardInterrupt\u001b[0m: "
     ]
    }
   ],
   "source": [
    "\"\"\"import optuna\n",
    "study = optuna.create_study(direction='maximize')\n",
    "study.optimize(objective, n_trials=500)\"\"\""
   ]
  },
  {
   "cell_type": "code",
   "execution_count": null,
   "metadata": {
    "id": "jfy3iBlt0R7T"
   },
   "outputs": [],
   "source": [
    "best_param= {'max_depth': 4,\n",
    " 'learning_rate': 0.04973050825188614,\n",
    " 'n_estimators': 275,\n",
    " 'min_child_weight': 10,\n",
    " 'gamma': 0.7467333406915823,\n",
    " 'subsample': 0.662391984589011,\n",
    " 'colsample_bytree': 0.751089815739346,\n",
    " 'reg_alpha': 0.9175534393979583,\n",
    " 'reg_lambda': 0.2546267737623784}"
   ]
  },
  {
   "cell_type": "code",
   "execution_count": null,
   "metadata": {
    "colab": {
     "base_uri": "https://localhost:8080/"
    },
    "id": "SXUQ1O6PDnR5",
    "outputId": "5dcdd259-a644-4132-f1ec-d555bb5a3aab"
   },
   "outputs": [
    {
     "data": {
      "text/plain": [
       "XGBClassifier(colsample_bytree=0.751089815739346, gamma=0.7467333406915823,\n",
       "              learning_rate=0.04973050825188614, max_depth=4,\n",
       "              min_child_weight=10, n_estimators=275,\n",
       "              reg_alpha=0.9175534393979583, reg_lambda=0.2546267737623784,\n",
       "              subsample=0.662391984589011)"
      ]
     },
     "execution_count": 48,
     "metadata": {},
     "output_type": "execute_result"
    }
   ],
   "source": [
    "#while submitting \n",
    "from xgboost import XGBClassifier\n",
    "\n",
    "\n",
    "model_politics = XGBClassifier(**best_param)\n",
    "model_politics.fit(X_train, y_train)"
   ]
  },
  {
   "cell_type": "markdown",
   "metadata": {
    "id": "ZTj83SA-Emz4"
   },
   "source": [
    "Validation"
   ]
  },
  {
   "cell_type": "code",
   "execution_count": null,
   "metadata": {
    "colab": {
     "base_uri": "https://localhost:8080/"
    },
    "id": "OlOlwjQf0Y2n",
    "outputId": "1eba30cc-f77e-4b6b-af74-b45386f12b92"
   },
   "outputs": [
    {
     "name": "stdout",
     "output_type": "stream",
     "text": [
      "MSE: 0.18833333333333332 \n",
      " Accuracy Score: 0.8116666666666666 \n",
      " Confusion Matrix: \n",
      " [[113  96]\n",
      " [ 17 374]]\n"
     ]
    }
   ],
   "source": [
    "\"\"\"model = XGBClassifier(**best_param)\n",
    "model.fit(X_train, y_train)\n",
    "\n",
    "# make predictions\n",
    "preds = model.predict(X_val)\n",
    "\n",
    "# evaluate on validation set\n",
    "acc_score = accuracy_score(y_val, preds)\n",
    "confusion = confusion_matrix(y_val, preds)\n",
    "mse = mean_squared_error(y_val, preds)\n",
    "\n",
    "print(\"MSE:\", mse, \"\\n\",\n",
    "      \"Accuracy Score:\", acc_score, \"\\n\",\n",
    "      \"Confusion Matrix:\", \"\\n\", confusion)\"\"\""
   ]
  },
  {
   "cell_type": "markdown",
   "metadata": {
    "id": "7Az-GChRFwZx"
   },
   "source": [
    "## 2.2. Bot Detection"
   ]
  },
  {
   "cell_type": "markdown",
   "metadata": {
    "id": "iIWt3WrgFwZx"
   },
   "source": [
    "### 2.2.1. Merge dfBotAll data with labels"
   ]
  },
  {
   "cell_type": "code",
   "execution_count": null,
   "metadata": {
    "ExecuteTime": {
     "end_time": "2022-12-29T20:01:17.642390Z",
     "start_time": "2022-12-29T20:01:17.596328Z"
    },
    "collapsed": true,
    "id": "bwJGDFDIFwZy"
   },
   "outputs": [],
   "source": [
    "dfBotAll.user_screen_name = dfBotAll.user_screen_name.str.lower()"
   ]
  },
  {
   "cell_type": "code",
   "execution_count": null,
   "metadata": {
    "ExecuteTime": {
     "end_time": "2022-12-29T20:01:18.350217Z",
     "start_time": "2022-12-29T20:01:18.284039Z"
    },
    "colab": {
     "base_uri": "https://localhost:8080/",
     "height": 835
    },
    "id": "AroHVEAQFwZy",
    "outputId": "2579edb2-1986-46d2-b01a-eb6409ebdf88",
    "scrolled": true
   },
   "outputs": [
    {
     "data": {
      "text/html": [
       "\n",
       "  <div id=\"df-921f8d58-972c-46cf-bec2-6dc3c123eae8\">\n",
       "    <div class=\"colab-df-container\">\n",
       "      <div>\n",
       "<style scoped>\n",
       "    .dataframe tbody tr th:only-of-type {\n",
       "        vertical-align: middle;\n",
       "    }\n",
       "\n",
       "    .dataframe tbody tr th {\n",
       "        vertical-align: top;\n",
       "    }\n",
       "\n",
       "    .dataframe thead th {\n",
       "        text-align: right;\n",
       "    }\n",
       "</style>\n",
       "<table border=\"1\" class=\"dataframe\">\n",
       "  <thead>\n",
       "    <tr style=\"text-align: right;\">\n",
       "      <th></th>\n",
       "      <th>user_id</th>\n",
       "      <th>user_name</th>\n",
       "      <th>user_screen_name</th>\n",
       "      <th>user_location</th>\n",
       "      <th>user_description</th>\n",
       "      <th>user_followers_count</th>\n",
       "      <th>user_friends_count</th>\n",
       "      <th>description_len</th>\n",
       "      <th>followers_to_all_ratio</th>\n",
       "      <th>verified</th>\n",
       "      <th>geo_enabled</th>\n",
       "      <th>favourites_count</th>\n",
       "      <th>created_at</th>\n",
       "      <th>account_age_days</th>\n",
       "      <th>network</th>\n",
       "      <th>retweet_total_ratio</th>\n",
       "      <th>num_median_favorites</th>\n",
       "      <th>num_of_tweets</th>\n",
       "      <th>screen_name</th>\n",
       "      <th>isBot</th>\n",
       "    </tr>\n",
       "  </thead>\n",
       "  <tbody>\n",
       "    <tr>\n",
       "      <th>0</th>\n",
       "      <td>1512081815292432394</td>\n",
       "      <td>sezgin</td>\n",
       "      <td>sezgin953116371</td>\n",
       "      <td></td>\n",
       "      <td></td>\n",
       "      <td>46</td>\n",
       "      <td>430</td>\n",
       "      <td>0</td>\n",
       "      <td>0.096639</td>\n",
       "      <td>False</td>\n",
       "      <td>False</td>\n",
       "      <td>9627</td>\n",
       "      <td>Thu Apr 07 14:56:21 +0000 2022</td>\n",
       "      <td>292 days</td>\n",
       "      <td>476</td>\n",
       "      <td>0.050251</td>\n",
       "      <td>0.0</td>\n",
       "      <td>199.0</td>\n",
       "      <td>sezgin953116371</td>\n",
       "      <td>No</td>\n",
       "    </tr>\n",
       "    <tr>\n",
       "      <th>1</th>\n",
       "      <td>1425452291428077571</td>\n",
       "      <td>Adem Koç</td>\n",
       "      <td>gogoadem61</td>\n",
       "      <td></td>\n",
       "      <td></td>\n",
       "      <td>14</td>\n",
       "      <td>171</td>\n",
       "      <td>0</td>\n",
       "      <td>0.075676</td>\n",
       "      <td>False</td>\n",
       "      <td>False</td>\n",
       "      <td>74</td>\n",
       "      <td>Wed Aug 11 13:42:03 +0000 2021</td>\n",
       "      <td>531 days</td>\n",
       "      <td>185</td>\n",
       "      <td>0.761062</td>\n",
       "      <td>0.0</td>\n",
       "      <td>113.0</td>\n",
       "      <td>gogoadem61</td>\n",
       "      <td>No</td>\n",
       "    </tr>\n",
       "    <tr>\n",
       "      <th>2</th>\n",
       "      <td>328164303</td>\n",
       "      <td>Necmettin Balıkçı</td>\n",
       "      <td>dewil511</td>\n",
       "      <td></td>\n",
       "      <td></td>\n",
       "      <td>21</td>\n",
       "      <td>49</td>\n",
       "      <td>0</td>\n",
       "      <td>0.300000</td>\n",
       "      <td>False</td>\n",
       "      <td>False</td>\n",
       "      <td>25</td>\n",
       "      <td>Sat Jul 02 21:19:26 +0000 2011</td>\n",
       "      <td>4224 days</td>\n",
       "      <td>70</td>\n",
       "      <td>0.010101</td>\n",
       "      <td>0.0</td>\n",
       "      <td>198.0</td>\n",
       "      <td>dewil511</td>\n",
       "      <td>Yes</td>\n",
       "    </tr>\n",
       "    <tr>\n",
       "      <th>3</th>\n",
       "      <td>1343666971368431622</td>\n",
       "      <td>Night Bird⁷🦉</td>\n",
       "      <td>midnight__bird</td>\n",
       "      <td></td>\n",
       "      <td>La vie est un sommeil, l’amour en est le rêve...</td>\n",
       "      <td>422</td>\n",
       "      <td>260</td>\n",
       "      <td>48</td>\n",
       "      <td>0.618768</td>\n",
       "      <td>False</td>\n",
       "      <td>False</td>\n",
       "      <td>84933</td>\n",
       "      <td>Mon Dec 28 21:16:19 +0000 2020</td>\n",
       "      <td>757 days</td>\n",
       "      <td>682</td>\n",
       "      <td>0.085000</td>\n",
       "      <td>1.0</td>\n",
       "      <td>200.0</td>\n",
       "      <td>midnight__bird</td>\n",
       "      <td>No</td>\n",
       "    </tr>\n",
       "    <tr>\n",
       "      <th>4</th>\n",
       "      <td>1240932880488038400</td>\n",
       "      <td>Samed Pınarcı</td>\n",
       "      <td>samedpinarci</td>\n",
       "      <td></td>\n",
       "      <td>Orman Mühendisi - Orman İşletme Şefi - Orman G...</td>\n",
       "      <td>133</td>\n",
       "      <td>202</td>\n",
       "      <td>60</td>\n",
       "      <td>0.397015</td>\n",
       "      <td>False</td>\n",
       "      <td>True</td>\n",
       "      <td>15783</td>\n",
       "      <td>Fri Mar 20 09:27:20 +0000 2020</td>\n",
       "      <td>1040 days</td>\n",
       "      <td>335</td>\n",
       "      <td>0.780000</td>\n",
       "      <td>0.0</td>\n",
       "      <td>200.0</td>\n",
       "      <td>samedpinarci</td>\n",
       "      <td>No</td>\n",
       "    </tr>\n",
       "    <tr>\n",
       "      <th>...</th>\n",
       "      <td>...</td>\n",
       "      <td>...</td>\n",
       "      <td>...</td>\n",
       "      <td>...</td>\n",
       "      <td>...</td>\n",
       "      <td>...</td>\n",
       "      <td>...</td>\n",
       "      <td>...</td>\n",
       "      <td>...</td>\n",
       "      <td>...</td>\n",
       "      <td>...</td>\n",
       "      <td>...</td>\n",
       "      <td>...</td>\n",
       "      <td>...</td>\n",
       "      <td>...</td>\n",
       "      <td>...</td>\n",
       "      <td>...</td>\n",
       "      <td>...</td>\n",
       "      <td>...</td>\n",
       "      <td>...</td>\n",
       "    </tr>\n",
       "    <tr>\n",
       "      <th>2995</th>\n",
       "      <td>1286770207134973954</td>\n",
       "      <td>Hamide Arabacı</td>\n",
       "      <td>anka6054</td>\n",
       "      <td></td>\n",
       "      <td></td>\n",
       "      <td>151</td>\n",
       "      <td>61</td>\n",
       "      <td>0</td>\n",
       "      <td>0.712264</td>\n",
       "      <td>False</td>\n",
       "      <td>False</td>\n",
       "      <td>5347</td>\n",
       "      <td>Fri Jul 24 21:08:34 +0000 2020</td>\n",
       "      <td>914 days</td>\n",
       "      <td>212</td>\n",
       "      <td>0.000000</td>\n",
       "      <td>1.0</td>\n",
       "      <td>200.0</td>\n",
       "      <td>anka6054</td>\n",
       "      <td>No</td>\n",
       "    </tr>\n",
       "    <tr>\n",
       "      <th>2996</th>\n",
       "      <td>1598032338323214338</td>\n",
       "      <td>atamabekleyenbahceci</td>\n",
       "      <td>atamabekleyenzz</td>\n",
       "      <td></td>\n",
       "      <td></td>\n",
       "      <td>173</td>\n",
       "      <td>367</td>\n",
       "      <td>0</td>\n",
       "      <td>0.320370</td>\n",
       "      <td>False</td>\n",
       "      <td>False</td>\n",
       "      <td>196</td>\n",
       "      <td>Wed Nov 30 19:13:03 +0000 2022</td>\n",
       "      <td>55 days</td>\n",
       "      <td>540</td>\n",
       "      <td>0.580000</td>\n",
       "      <td>0.0</td>\n",
       "      <td>200.0</td>\n",
       "      <td>atamabekleyenzz</td>\n",
       "      <td>No</td>\n",
       "    </tr>\n",
       "    <tr>\n",
       "      <th>2997</th>\n",
       "      <td>760235343966863360</td>\n",
       "      <td>Emrah İNCİ</td>\n",
       "      <td>memrahinci</td>\n",
       "      <td>Istanbul - Bayburt</td>\n",
       "      <td>Researcher | Middle East | Political Science |...</td>\n",
       "      <td>5863</td>\n",
       "      <td>5905</td>\n",
       "      <td>71</td>\n",
       "      <td>0.498215</td>\n",
       "      <td>False</td>\n",
       "      <td>True</td>\n",
       "      <td>725</td>\n",
       "      <td>Mon Aug 01 22:06:45 +0000 2016</td>\n",
       "      <td>2367 days</td>\n",
       "      <td>11768</td>\n",
       "      <td>0.040000</td>\n",
       "      <td>36.0</td>\n",
       "      <td>200.0</td>\n",
       "      <td>memrahinci</td>\n",
       "      <td>No</td>\n",
       "    </tr>\n",
       "    <tr>\n",
       "      <th>2998</th>\n",
       "      <td>1553973684100124672</td>\n",
       "      <td>Murat Kkk</td>\n",
       "      <td>muratkkk18</td>\n",
       "      <td></td>\n",
       "      <td>Normal sıradan bir insanım</td>\n",
       "      <td>1</td>\n",
       "      <td>10</td>\n",
       "      <td>26</td>\n",
       "      <td>0.090909</td>\n",
       "      <td>False</td>\n",
       "      <td>False</td>\n",
       "      <td>38</td>\n",
       "      <td>Mon Aug 01 05:19:56 +0000 2022</td>\n",
       "      <td>176 days</td>\n",
       "      <td>11</td>\n",
       "      <td>0.769231</td>\n",
       "      <td>0.0</td>\n",
       "      <td>13.0</td>\n",
       "      <td>muratkkk18</td>\n",
       "      <td>No</td>\n",
       "    </tr>\n",
       "    <tr>\n",
       "      <th>2999</th>\n",
       "      <td>1392390985645281283</td>\n",
       "      <td>Münferit Fenerbahçeliler</td>\n",
       "      <td>mnferitfenerba1</td>\n",
       "      <td></td>\n",
       "      <td>Fenerbahçe S.K. Kongre Üyesi Kırmızı çizgileri...</td>\n",
       "      <td>281</td>\n",
       "      <td>270</td>\n",
       "      <td>156</td>\n",
       "      <td>0.509982</td>\n",
       "      <td>False</td>\n",
       "      <td>True</td>\n",
       "      <td>4106</td>\n",
       "      <td>Wed May 12 08:08:04 +0000 2021</td>\n",
       "      <td>622 days</td>\n",
       "      <td>551</td>\n",
       "      <td>0.045000</td>\n",
       "      <td>1.0</td>\n",
       "      <td>200.0</td>\n",
       "      <td>mnferitfenerba1</td>\n",
       "      <td>No</td>\n",
       "    </tr>\n",
       "  </tbody>\n",
       "</table>\n",
       "<p>3000 rows × 20 columns</p>\n",
       "</div>\n",
       "      <button class=\"colab-df-convert\" onclick=\"convertToInteractive('df-921f8d58-972c-46cf-bec2-6dc3c123eae8')\"\n",
       "              title=\"Convert this dataframe to an interactive table.\"\n",
       "              style=\"display:none;\">\n",
       "        \n",
       "  <svg xmlns=\"http://www.w3.org/2000/svg\" height=\"24px\"viewBox=\"0 0 24 24\"\n",
       "       width=\"24px\">\n",
       "    <path d=\"M0 0h24v24H0V0z\" fill=\"none\"/>\n",
       "    <path d=\"M18.56 5.44l.94 2.06.94-2.06 2.06-.94-2.06-.94-.94-2.06-.94 2.06-2.06.94zm-11 1L8.5 8.5l.94-2.06 2.06-.94-2.06-.94L8.5 2.5l-.94 2.06-2.06.94zm10 10l.94 2.06.94-2.06 2.06-.94-2.06-.94-.94-2.06-.94 2.06-2.06.94z\"/><path d=\"M17.41 7.96l-1.37-1.37c-.4-.4-.92-.59-1.43-.59-.52 0-1.04.2-1.43.59L10.3 9.45l-7.72 7.72c-.78.78-.78 2.05 0 2.83L4 21.41c.39.39.9.59 1.41.59.51 0 1.02-.2 1.41-.59l7.78-7.78 2.81-2.81c.8-.78.8-2.07 0-2.86zM5.41 20L4 18.59l7.72-7.72 1.47 1.35L5.41 20z\"/>\n",
       "  </svg>\n",
       "      </button>\n",
       "      \n",
       "  <style>\n",
       "    .colab-df-container {\n",
       "      display:flex;\n",
       "      flex-wrap:wrap;\n",
       "      gap: 12px;\n",
       "    }\n",
       "\n",
       "    .colab-df-convert {\n",
       "      background-color: #E8F0FE;\n",
       "      border: none;\n",
       "      border-radius: 50%;\n",
       "      cursor: pointer;\n",
       "      display: none;\n",
       "      fill: #1967D2;\n",
       "      height: 32px;\n",
       "      padding: 0 0 0 0;\n",
       "      width: 32px;\n",
       "    }\n",
       "\n",
       "    .colab-df-convert:hover {\n",
       "      background-color: #E2EBFA;\n",
       "      box-shadow: 0px 1px 2px rgba(60, 64, 67, 0.3), 0px 1px 3px 1px rgba(60, 64, 67, 0.15);\n",
       "      fill: #174EA6;\n",
       "    }\n",
       "\n",
       "    [theme=dark] .colab-df-convert {\n",
       "      background-color: #3B4455;\n",
       "      fill: #D2E3FC;\n",
       "    }\n",
       "\n",
       "    [theme=dark] .colab-df-convert:hover {\n",
       "      background-color: #434B5C;\n",
       "      box-shadow: 0px 1px 3px 1px rgba(0, 0, 0, 0.15);\n",
       "      filter: drop-shadow(0px 1px 2px rgba(0, 0, 0, 0.3));\n",
       "      fill: #FFFFFF;\n",
       "    }\n",
       "  </style>\n",
       "\n",
       "      <script>\n",
       "        const buttonEl =\n",
       "          document.querySelector('#df-921f8d58-972c-46cf-bec2-6dc3c123eae8 button.colab-df-convert');\n",
       "        buttonEl.style.display =\n",
       "          google.colab.kernel.accessAllowed ? 'block' : 'none';\n",
       "\n",
       "        async function convertToInteractive(key) {\n",
       "          const element = document.querySelector('#df-921f8d58-972c-46cf-bec2-6dc3c123eae8');\n",
       "          const dataTable =\n",
       "            await google.colab.kernel.invokeFunction('convertToInteractive',\n",
       "                                                     [key], {});\n",
       "          if (!dataTable) return;\n",
       "\n",
       "          const docLinkHtml = 'Like what you see? Visit the ' +\n",
       "            '<a target=\"_blank\" href=https://colab.research.google.com/notebooks/data_table.ipynb>data table notebook</a>'\n",
       "            + ' to learn more about interactive tables.';\n",
       "          element.innerHTML = '';\n",
       "          dataTable['output_type'] = 'display_data';\n",
       "          await google.colab.output.renderOutput(dataTable, element);\n",
       "          const docLink = document.createElement('div');\n",
       "          docLink.innerHTML = docLinkHtml;\n",
       "          element.appendChild(docLink);\n",
       "        }\n",
       "      </script>\n",
       "    </div>\n",
       "  </div>\n",
       "  "
      ],
      "text/plain": [
       "                  user_id                 user_name user_screen_name  \\\n",
       "0     1512081815292432394                    sezgin  sezgin953116371   \n",
       "1     1425452291428077571                  Adem Koç       gogoadem61   \n",
       "2               328164303         Necmettin Balıkçı         dewil511   \n",
       "3     1343666971368431622              Night Bird⁷🦉   midnight__bird   \n",
       "4     1240932880488038400             Samed Pınarcı     samedpinarci   \n",
       "...                   ...                       ...              ...   \n",
       "2995  1286770207134973954            Hamide Arabacı         anka6054   \n",
       "2996  1598032338323214338      atamabekleyenbahceci  atamabekleyenzz   \n",
       "2997   760235343966863360                Emrah İNCİ       memrahinci   \n",
       "2998  1553973684100124672                 Murat Kkk       muratkkk18   \n",
       "2999  1392390985645281283  Münferit Fenerbahçeliler  mnferitfenerba1   \n",
       "\n",
       "           user_location                                   user_description  \\\n",
       "0                                                                             \n",
       "1                                                                             \n",
       "2                                                                             \n",
       "3                          La vie est un sommeil, l’amour en est le rêve...   \n",
       "4                         Orman Mühendisi - Orman İşletme Şefi - Orman G...   \n",
       "...                  ...                                                ...   \n",
       "2995                                                                          \n",
       "2996                                                                          \n",
       "2997  Istanbul - Bayburt  Researcher | Middle East | Political Science |...   \n",
       "2998                                             Normal sıradan bir insanım   \n",
       "2999                      Fenerbahçe S.K. Kongre Üyesi Kırmızı çizgileri...   \n",
       "\n",
       "      user_followers_count  user_friends_count  description_len  \\\n",
       "0                       46                 430                0   \n",
       "1                       14                 171                0   \n",
       "2                       21                  49                0   \n",
       "3                      422                 260               48   \n",
       "4                      133                 202               60   \n",
       "...                    ...                 ...              ...   \n",
       "2995                   151                  61                0   \n",
       "2996                   173                 367                0   \n",
       "2997                  5863                5905               71   \n",
       "2998                     1                  10               26   \n",
       "2999                   281                 270              156   \n",
       "\n",
       "      followers_to_all_ratio  verified  geo_enabled  favourites_count  \\\n",
       "0                   0.096639     False        False              9627   \n",
       "1                   0.075676     False        False                74   \n",
       "2                   0.300000     False        False                25   \n",
       "3                   0.618768     False        False             84933   \n",
       "4                   0.397015     False         True             15783   \n",
       "...                      ...       ...          ...               ...   \n",
       "2995                0.712264     False        False              5347   \n",
       "2996                0.320370     False        False               196   \n",
       "2997                0.498215     False         True               725   \n",
       "2998                0.090909     False        False                38   \n",
       "2999                0.509982     False         True              4106   \n",
       "\n",
       "                          created_at account_age_days  network  \\\n",
       "0     Thu Apr 07 14:56:21 +0000 2022         292 days      476   \n",
       "1     Wed Aug 11 13:42:03 +0000 2021         531 days      185   \n",
       "2     Sat Jul 02 21:19:26 +0000 2011        4224 days       70   \n",
       "3     Mon Dec 28 21:16:19 +0000 2020         757 days      682   \n",
       "4     Fri Mar 20 09:27:20 +0000 2020        1040 days      335   \n",
       "...                              ...              ...      ...   \n",
       "2995  Fri Jul 24 21:08:34 +0000 2020         914 days      212   \n",
       "2996  Wed Nov 30 19:13:03 +0000 2022          55 days      540   \n",
       "2997  Mon Aug 01 22:06:45 +0000 2016        2367 days    11768   \n",
       "2998  Mon Aug 01 05:19:56 +0000 2022         176 days       11   \n",
       "2999  Wed May 12 08:08:04 +0000 2021         622 days      551   \n",
       "\n",
       "      retweet_total_ratio  num_median_favorites  num_of_tweets  \\\n",
       "0                0.050251                   0.0          199.0   \n",
       "1                0.761062                   0.0          113.0   \n",
       "2                0.010101                   0.0          198.0   \n",
       "3                0.085000                   1.0          200.0   \n",
       "4                0.780000                   0.0          200.0   \n",
       "...                   ...                   ...            ...   \n",
       "2995             0.000000                   1.0          200.0   \n",
       "2996             0.580000                   0.0          200.0   \n",
       "2997             0.040000                  36.0          200.0   \n",
       "2998             0.769231                   0.0           13.0   \n",
       "2999             0.045000                   1.0          200.0   \n",
       "\n",
       "          screen_name isBot  \n",
       "0     sezgin953116371    No  \n",
       "1          gogoadem61    No  \n",
       "2            dewil511   Yes  \n",
       "3      midnight__bird    No  \n",
       "4        samedpinarci    No  \n",
       "...               ...   ...  \n",
       "2995         anka6054    No  \n",
       "2996  atamabekleyenzz    No  \n",
       "2997       memrahinci    No  \n",
       "2998       muratkkk18    No  \n",
       "2999  mnferitfenerba1    No  \n",
       "\n",
       "[3000 rows x 20 columns]"
      ]
     },
     "execution_count": 50,
     "metadata": {},
     "output_type": "execute_result"
    }
   ],
   "source": [
    "dfBotAll_train = dfBotAll.merge(trainingUserDf,\n",
    "                               left_on='user_screen_name',\n",
    "                               right_on='screen_name')\n",
    "\n",
    "dfBotAll_train"
   ]
  },
  {
   "cell_type": "code",
   "execution_count": null,
   "metadata": {
    "ExecuteTime": {
     "end_time": "2022-12-29T20:01:21.419283Z",
     "start_time": "2022-12-29T20:01:21.380530Z"
    },
    "colab": {
     "base_uri": "https://localhost:8080/"
    },
    "id": "MDuzoN9GFwZy",
    "outputId": "fbc33c16-ed13-40aa-9fc6-5bf0b929a451",
    "scrolled": true
   },
   "outputs": [
    {
     "data": {
      "text/plain": [
       "No     2424\n",
       "Yes     576\n",
       "Name: isBot, dtype: int64"
      ]
     },
     "execution_count": 51,
     "metadata": {},
     "output_type": "execute_result"
    }
   ],
   "source": [
    "trainingUserDf.isBot.value_counts()"
   ]
  },
  {
   "cell_type": "code",
   "execution_count": null,
   "metadata": {
    "id": "HjxPZct3n8GZ"
   },
   "outputs": [],
   "source": [
    "dfBotAll_train['isBot'] =dfBotAll_train['isBot'].apply(lambda x: 1 if x=='Yes' else 0)\n",
    "dfBotAll_train['verified'] = dfBotAll_train['verified'].apply(lambda x: 1 if x==True else 0)\n",
    "dfBotAll_train['geo_enabled'] = dfBotAll_train['geo_enabled'].apply(lambda x: 1 if x==True else 0)\n",
    "dfBotAll_train['verified'] = dfBotAll_train['verified'].apply(lambda x: 1 if x==True else 0)\n"
   ]
  },
  {
   "cell_type": "code",
   "execution_count": null,
   "metadata": {
    "id": "BahbBk4krM_3"
   },
   "outputs": [],
   "source": [
    "dfBotAll_train[\"account_age_days\"] = dfBotAll_train[\"account_age_days\"].dt.days.astype('int16')"
   ]
  },
  {
   "cell_type": "code",
   "execution_count": null,
   "metadata": {
    "colab": {
     "base_uri": "https://localhost:8080/",
     "height": 835
    },
    "id": "bXsV1VW5rjvD",
    "outputId": "369f01d3-6899-436d-99c8-88a57ed8203f"
   },
   "outputs": [
    {
     "data": {
      "text/html": [
       "\n",
       "  <div id=\"df-eeb8f280-9ab7-481a-b78f-efe0093168a1\">\n",
       "    <div class=\"colab-df-container\">\n",
       "      <div>\n",
       "<style scoped>\n",
       "    .dataframe tbody tr th:only-of-type {\n",
       "        vertical-align: middle;\n",
       "    }\n",
       "\n",
       "    .dataframe tbody tr th {\n",
       "        vertical-align: top;\n",
       "    }\n",
       "\n",
       "    .dataframe thead th {\n",
       "        text-align: right;\n",
       "    }\n",
       "</style>\n",
       "<table border=\"1\" class=\"dataframe\">\n",
       "  <thead>\n",
       "    <tr style=\"text-align: right;\">\n",
       "      <th></th>\n",
       "      <th>user_id</th>\n",
       "      <th>user_name</th>\n",
       "      <th>user_screen_name</th>\n",
       "      <th>user_location</th>\n",
       "      <th>user_description</th>\n",
       "      <th>user_followers_count</th>\n",
       "      <th>user_friends_count</th>\n",
       "      <th>description_len</th>\n",
       "      <th>followers_to_all_ratio</th>\n",
       "      <th>verified</th>\n",
       "      <th>geo_enabled</th>\n",
       "      <th>favourites_count</th>\n",
       "      <th>created_at</th>\n",
       "      <th>account_age_days</th>\n",
       "      <th>network</th>\n",
       "      <th>retweet_total_ratio</th>\n",
       "      <th>num_median_favorites</th>\n",
       "      <th>num_of_tweets</th>\n",
       "      <th>screen_name</th>\n",
       "      <th>isBot</th>\n",
       "    </tr>\n",
       "  </thead>\n",
       "  <tbody>\n",
       "    <tr>\n",
       "      <th>0</th>\n",
       "      <td>1512081815292432394</td>\n",
       "      <td>sezgin</td>\n",
       "      <td>sezgin953116371</td>\n",
       "      <td></td>\n",
       "      <td></td>\n",
       "      <td>46</td>\n",
       "      <td>430</td>\n",
       "      <td>0</td>\n",
       "      <td>0.096639</td>\n",
       "      <td>0</td>\n",
       "      <td>0</td>\n",
       "      <td>9627</td>\n",
       "      <td>Thu Apr 07 14:56:21 +0000 2022</td>\n",
       "      <td>292</td>\n",
       "      <td>476</td>\n",
       "      <td>0.050251</td>\n",
       "      <td>0.0</td>\n",
       "      <td>199.0</td>\n",
       "      <td>sezgin953116371</td>\n",
       "      <td>0</td>\n",
       "    </tr>\n",
       "    <tr>\n",
       "      <th>1</th>\n",
       "      <td>1425452291428077571</td>\n",
       "      <td>Adem Koç</td>\n",
       "      <td>gogoadem61</td>\n",
       "      <td></td>\n",
       "      <td></td>\n",
       "      <td>14</td>\n",
       "      <td>171</td>\n",
       "      <td>0</td>\n",
       "      <td>0.075676</td>\n",
       "      <td>0</td>\n",
       "      <td>0</td>\n",
       "      <td>74</td>\n",
       "      <td>Wed Aug 11 13:42:03 +0000 2021</td>\n",
       "      <td>531</td>\n",
       "      <td>185</td>\n",
       "      <td>0.761062</td>\n",
       "      <td>0.0</td>\n",
       "      <td>113.0</td>\n",
       "      <td>gogoadem61</td>\n",
       "      <td>0</td>\n",
       "    </tr>\n",
       "    <tr>\n",
       "      <th>2</th>\n",
       "      <td>328164303</td>\n",
       "      <td>Necmettin Balıkçı</td>\n",
       "      <td>dewil511</td>\n",
       "      <td></td>\n",
       "      <td></td>\n",
       "      <td>21</td>\n",
       "      <td>49</td>\n",
       "      <td>0</td>\n",
       "      <td>0.300000</td>\n",
       "      <td>0</td>\n",
       "      <td>0</td>\n",
       "      <td>25</td>\n",
       "      <td>Sat Jul 02 21:19:26 +0000 2011</td>\n",
       "      <td>4224</td>\n",
       "      <td>70</td>\n",
       "      <td>0.010101</td>\n",
       "      <td>0.0</td>\n",
       "      <td>198.0</td>\n",
       "      <td>dewil511</td>\n",
       "      <td>1</td>\n",
       "    </tr>\n",
       "    <tr>\n",
       "      <th>3</th>\n",
       "      <td>1343666971368431622</td>\n",
       "      <td>Night Bird⁷🦉</td>\n",
       "      <td>midnight__bird</td>\n",
       "      <td></td>\n",
       "      <td>La vie est un sommeil, l’amour en est le rêve...</td>\n",
       "      <td>422</td>\n",
       "      <td>260</td>\n",
       "      <td>48</td>\n",
       "      <td>0.618768</td>\n",
       "      <td>0</td>\n",
       "      <td>0</td>\n",
       "      <td>84933</td>\n",
       "      <td>Mon Dec 28 21:16:19 +0000 2020</td>\n",
       "      <td>757</td>\n",
       "      <td>682</td>\n",
       "      <td>0.085000</td>\n",
       "      <td>1.0</td>\n",
       "      <td>200.0</td>\n",
       "      <td>midnight__bird</td>\n",
       "      <td>0</td>\n",
       "    </tr>\n",
       "    <tr>\n",
       "      <th>4</th>\n",
       "      <td>1240932880488038400</td>\n",
       "      <td>Samed Pınarcı</td>\n",
       "      <td>samedpinarci</td>\n",
       "      <td></td>\n",
       "      <td>Orman Mühendisi - Orman İşletme Şefi - Orman G...</td>\n",
       "      <td>133</td>\n",
       "      <td>202</td>\n",
       "      <td>60</td>\n",
       "      <td>0.397015</td>\n",
       "      <td>0</td>\n",
       "      <td>1</td>\n",
       "      <td>15783</td>\n",
       "      <td>Fri Mar 20 09:27:20 +0000 2020</td>\n",
       "      <td>1040</td>\n",
       "      <td>335</td>\n",
       "      <td>0.780000</td>\n",
       "      <td>0.0</td>\n",
       "      <td>200.0</td>\n",
       "      <td>samedpinarci</td>\n",
       "      <td>0</td>\n",
       "    </tr>\n",
       "    <tr>\n",
       "      <th>...</th>\n",
       "      <td>...</td>\n",
       "      <td>...</td>\n",
       "      <td>...</td>\n",
       "      <td>...</td>\n",
       "      <td>...</td>\n",
       "      <td>...</td>\n",
       "      <td>...</td>\n",
       "      <td>...</td>\n",
       "      <td>...</td>\n",
       "      <td>...</td>\n",
       "      <td>...</td>\n",
       "      <td>...</td>\n",
       "      <td>...</td>\n",
       "      <td>...</td>\n",
       "      <td>...</td>\n",
       "      <td>...</td>\n",
       "      <td>...</td>\n",
       "      <td>...</td>\n",
       "      <td>...</td>\n",
       "      <td>...</td>\n",
       "    </tr>\n",
       "    <tr>\n",
       "      <th>2995</th>\n",
       "      <td>1286770207134973954</td>\n",
       "      <td>Hamide Arabacı</td>\n",
       "      <td>anka6054</td>\n",
       "      <td></td>\n",
       "      <td></td>\n",
       "      <td>151</td>\n",
       "      <td>61</td>\n",
       "      <td>0</td>\n",
       "      <td>0.712264</td>\n",
       "      <td>0</td>\n",
       "      <td>0</td>\n",
       "      <td>5347</td>\n",
       "      <td>Fri Jul 24 21:08:34 +0000 2020</td>\n",
       "      <td>914</td>\n",
       "      <td>212</td>\n",
       "      <td>0.000000</td>\n",
       "      <td>1.0</td>\n",
       "      <td>200.0</td>\n",
       "      <td>anka6054</td>\n",
       "      <td>0</td>\n",
       "    </tr>\n",
       "    <tr>\n",
       "      <th>2996</th>\n",
       "      <td>1598032338323214338</td>\n",
       "      <td>atamabekleyenbahceci</td>\n",
       "      <td>atamabekleyenzz</td>\n",
       "      <td></td>\n",
       "      <td></td>\n",
       "      <td>173</td>\n",
       "      <td>367</td>\n",
       "      <td>0</td>\n",
       "      <td>0.320370</td>\n",
       "      <td>0</td>\n",
       "      <td>0</td>\n",
       "      <td>196</td>\n",
       "      <td>Wed Nov 30 19:13:03 +0000 2022</td>\n",
       "      <td>55</td>\n",
       "      <td>540</td>\n",
       "      <td>0.580000</td>\n",
       "      <td>0.0</td>\n",
       "      <td>200.0</td>\n",
       "      <td>atamabekleyenzz</td>\n",
       "      <td>0</td>\n",
       "    </tr>\n",
       "    <tr>\n",
       "      <th>2997</th>\n",
       "      <td>760235343966863360</td>\n",
       "      <td>Emrah İNCİ</td>\n",
       "      <td>memrahinci</td>\n",
       "      <td>Istanbul - Bayburt</td>\n",
       "      <td>Researcher | Middle East | Political Science |...</td>\n",
       "      <td>5863</td>\n",
       "      <td>5905</td>\n",
       "      <td>71</td>\n",
       "      <td>0.498215</td>\n",
       "      <td>0</td>\n",
       "      <td>1</td>\n",
       "      <td>725</td>\n",
       "      <td>Mon Aug 01 22:06:45 +0000 2016</td>\n",
       "      <td>2367</td>\n",
       "      <td>11768</td>\n",
       "      <td>0.040000</td>\n",
       "      <td>36.0</td>\n",
       "      <td>200.0</td>\n",
       "      <td>memrahinci</td>\n",
       "      <td>0</td>\n",
       "    </tr>\n",
       "    <tr>\n",
       "      <th>2998</th>\n",
       "      <td>1553973684100124672</td>\n",
       "      <td>Murat Kkk</td>\n",
       "      <td>muratkkk18</td>\n",
       "      <td></td>\n",
       "      <td>Normal sıradan bir insanım</td>\n",
       "      <td>1</td>\n",
       "      <td>10</td>\n",
       "      <td>26</td>\n",
       "      <td>0.090909</td>\n",
       "      <td>0</td>\n",
       "      <td>0</td>\n",
       "      <td>38</td>\n",
       "      <td>Mon Aug 01 05:19:56 +0000 2022</td>\n",
       "      <td>176</td>\n",
       "      <td>11</td>\n",
       "      <td>0.769231</td>\n",
       "      <td>0.0</td>\n",
       "      <td>13.0</td>\n",
       "      <td>muratkkk18</td>\n",
       "      <td>0</td>\n",
       "    </tr>\n",
       "    <tr>\n",
       "      <th>2999</th>\n",
       "      <td>1392390985645281283</td>\n",
       "      <td>Münferit Fenerbahçeliler</td>\n",
       "      <td>mnferitfenerba1</td>\n",
       "      <td></td>\n",
       "      <td>Fenerbahçe S.K. Kongre Üyesi Kırmızı çizgileri...</td>\n",
       "      <td>281</td>\n",
       "      <td>270</td>\n",
       "      <td>156</td>\n",
       "      <td>0.509982</td>\n",
       "      <td>0</td>\n",
       "      <td>1</td>\n",
       "      <td>4106</td>\n",
       "      <td>Wed May 12 08:08:04 +0000 2021</td>\n",
       "      <td>622</td>\n",
       "      <td>551</td>\n",
       "      <td>0.045000</td>\n",
       "      <td>1.0</td>\n",
       "      <td>200.0</td>\n",
       "      <td>mnferitfenerba1</td>\n",
       "      <td>0</td>\n",
       "    </tr>\n",
       "  </tbody>\n",
       "</table>\n",
       "<p>3000 rows × 20 columns</p>\n",
       "</div>\n",
       "      <button class=\"colab-df-convert\" onclick=\"convertToInteractive('df-eeb8f280-9ab7-481a-b78f-efe0093168a1')\"\n",
       "              title=\"Convert this dataframe to an interactive table.\"\n",
       "              style=\"display:none;\">\n",
       "        \n",
       "  <svg xmlns=\"http://www.w3.org/2000/svg\" height=\"24px\"viewBox=\"0 0 24 24\"\n",
       "       width=\"24px\">\n",
       "    <path d=\"M0 0h24v24H0V0z\" fill=\"none\"/>\n",
       "    <path d=\"M18.56 5.44l.94 2.06.94-2.06 2.06-.94-2.06-.94-.94-2.06-.94 2.06-2.06.94zm-11 1L8.5 8.5l.94-2.06 2.06-.94-2.06-.94L8.5 2.5l-.94 2.06-2.06.94zm10 10l.94 2.06.94-2.06 2.06-.94-2.06-.94-.94-2.06-.94 2.06-2.06.94z\"/><path d=\"M17.41 7.96l-1.37-1.37c-.4-.4-.92-.59-1.43-.59-.52 0-1.04.2-1.43.59L10.3 9.45l-7.72 7.72c-.78.78-.78 2.05 0 2.83L4 21.41c.39.39.9.59 1.41.59.51 0 1.02-.2 1.41-.59l7.78-7.78 2.81-2.81c.8-.78.8-2.07 0-2.86zM5.41 20L4 18.59l7.72-7.72 1.47 1.35L5.41 20z\"/>\n",
       "  </svg>\n",
       "      </button>\n",
       "      \n",
       "  <style>\n",
       "    .colab-df-container {\n",
       "      display:flex;\n",
       "      flex-wrap:wrap;\n",
       "      gap: 12px;\n",
       "    }\n",
       "\n",
       "    .colab-df-convert {\n",
       "      background-color: #E8F0FE;\n",
       "      border: none;\n",
       "      border-radius: 50%;\n",
       "      cursor: pointer;\n",
       "      display: none;\n",
       "      fill: #1967D2;\n",
       "      height: 32px;\n",
       "      padding: 0 0 0 0;\n",
       "      width: 32px;\n",
       "    }\n",
       "\n",
       "    .colab-df-convert:hover {\n",
       "      background-color: #E2EBFA;\n",
       "      box-shadow: 0px 1px 2px rgba(60, 64, 67, 0.3), 0px 1px 3px 1px rgba(60, 64, 67, 0.15);\n",
       "      fill: #174EA6;\n",
       "    }\n",
       "\n",
       "    [theme=dark] .colab-df-convert {\n",
       "      background-color: #3B4455;\n",
       "      fill: #D2E3FC;\n",
       "    }\n",
       "\n",
       "    [theme=dark] .colab-df-convert:hover {\n",
       "      background-color: #434B5C;\n",
       "      box-shadow: 0px 1px 3px 1px rgba(0, 0, 0, 0.15);\n",
       "      filter: drop-shadow(0px 1px 2px rgba(0, 0, 0, 0.3));\n",
       "      fill: #FFFFFF;\n",
       "    }\n",
       "  </style>\n",
       "\n",
       "      <script>\n",
       "        const buttonEl =\n",
       "          document.querySelector('#df-eeb8f280-9ab7-481a-b78f-efe0093168a1 button.colab-df-convert');\n",
       "        buttonEl.style.display =\n",
       "          google.colab.kernel.accessAllowed ? 'block' : 'none';\n",
       "\n",
       "        async function convertToInteractive(key) {\n",
       "          const element = document.querySelector('#df-eeb8f280-9ab7-481a-b78f-efe0093168a1');\n",
       "          const dataTable =\n",
       "            await google.colab.kernel.invokeFunction('convertToInteractive',\n",
       "                                                     [key], {});\n",
       "          if (!dataTable) return;\n",
       "\n",
       "          const docLinkHtml = 'Like what you see? Visit the ' +\n",
       "            '<a target=\"_blank\" href=https://colab.research.google.com/notebooks/data_table.ipynb>data table notebook</a>'\n",
       "            + ' to learn more about interactive tables.';\n",
       "          element.innerHTML = '';\n",
       "          dataTable['output_type'] = 'display_data';\n",
       "          await google.colab.output.renderOutput(dataTable, element);\n",
       "          const docLink = document.createElement('div');\n",
       "          docLink.innerHTML = docLinkHtml;\n",
       "          element.appendChild(docLink);\n",
       "        }\n",
       "      </script>\n",
       "    </div>\n",
       "  </div>\n",
       "  "
      ],
      "text/plain": [
       "                  user_id                 user_name user_screen_name  \\\n",
       "0     1512081815292432394                    sezgin  sezgin953116371   \n",
       "1     1425452291428077571                  Adem Koç       gogoadem61   \n",
       "2               328164303         Necmettin Balıkçı         dewil511   \n",
       "3     1343666971368431622              Night Bird⁷🦉   midnight__bird   \n",
       "4     1240932880488038400             Samed Pınarcı     samedpinarci   \n",
       "...                   ...                       ...              ...   \n",
       "2995  1286770207134973954            Hamide Arabacı         anka6054   \n",
       "2996  1598032338323214338      atamabekleyenbahceci  atamabekleyenzz   \n",
       "2997   760235343966863360                Emrah İNCİ       memrahinci   \n",
       "2998  1553973684100124672                 Murat Kkk       muratkkk18   \n",
       "2999  1392390985645281283  Münferit Fenerbahçeliler  mnferitfenerba1   \n",
       "\n",
       "           user_location                                   user_description  \\\n",
       "0                                                                             \n",
       "1                                                                             \n",
       "2                                                                             \n",
       "3                          La vie est un sommeil, l’amour en est le rêve...   \n",
       "4                         Orman Mühendisi - Orman İşletme Şefi - Orman G...   \n",
       "...                  ...                                                ...   \n",
       "2995                                                                          \n",
       "2996                                                                          \n",
       "2997  Istanbul - Bayburt  Researcher | Middle East | Political Science |...   \n",
       "2998                                             Normal sıradan bir insanım   \n",
       "2999                      Fenerbahçe S.K. Kongre Üyesi Kırmızı çizgileri...   \n",
       "\n",
       "      user_followers_count  user_friends_count  description_len  \\\n",
       "0                       46                 430                0   \n",
       "1                       14                 171                0   \n",
       "2                       21                  49                0   \n",
       "3                      422                 260               48   \n",
       "4                      133                 202               60   \n",
       "...                    ...                 ...              ...   \n",
       "2995                   151                  61                0   \n",
       "2996                   173                 367                0   \n",
       "2997                  5863                5905               71   \n",
       "2998                     1                  10               26   \n",
       "2999                   281                 270              156   \n",
       "\n",
       "      followers_to_all_ratio  verified  geo_enabled  favourites_count  \\\n",
       "0                   0.096639         0            0              9627   \n",
       "1                   0.075676         0            0                74   \n",
       "2                   0.300000         0            0                25   \n",
       "3                   0.618768         0            0             84933   \n",
       "4                   0.397015         0            1             15783   \n",
       "...                      ...       ...          ...               ...   \n",
       "2995                0.712264         0            0              5347   \n",
       "2996                0.320370         0            0               196   \n",
       "2997                0.498215         0            1               725   \n",
       "2998                0.090909         0            0                38   \n",
       "2999                0.509982         0            1              4106   \n",
       "\n",
       "                          created_at  account_age_days  network  \\\n",
       "0     Thu Apr 07 14:56:21 +0000 2022               292      476   \n",
       "1     Wed Aug 11 13:42:03 +0000 2021               531      185   \n",
       "2     Sat Jul 02 21:19:26 +0000 2011              4224       70   \n",
       "3     Mon Dec 28 21:16:19 +0000 2020               757      682   \n",
       "4     Fri Mar 20 09:27:20 +0000 2020              1040      335   \n",
       "...                              ...               ...      ...   \n",
       "2995  Fri Jul 24 21:08:34 +0000 2020               914      212   \n",
       "2996  Wed Nov 30 19:13:03 +0000 2022                55      540   \n",
       "2997  Mon Aug 01 22:06:45 +0000 2016              2367    11768   \n",
       "2998  Mon Aug 01 05:19:56 +0000 2022               176       11   \n",
       "2999  Wed May 12 08:08:04 +0000 2021               622      551   \n",
       "\n",
       "      retweet_total_ratio  num_median_favorites  num_of_tweets  \\\n",
       "0                0.050251                   0.0          199.0   \n",
       "1                0.761062                   0.0          113.0   \n",
       "2                0.010101                   0.0          198.0   \n",
       "3                0.085000                   1.0          200.0   \n",
       "4                0.780000                   0.0          200.0   \n",
       "...                   ...                   ...            ...   \n",
       "2995             0.000000                   1.0          200.0   \n",
       "2996             0.580000                   0.0          200.0   \n",
       "2997             0.040000                  36.0          200.0   \n",
       "2998             0.769231                   0.0           13.0   \n",
       "2999             0.045000                   1.0          200.0   \n",
       "\n",
       "          screen_name  isBot  \n",
       "0     sezgin953116371      0  \n",
       "1          gogoadem61      0  \n",
       "2            dewil511      1  \n",
       "3      midnight__bird      0  \n",
       "4        samedpinarci      0  \n",
       "...               ...    ...  \n",
       "2995         anka6054      0  \n",
       "2996  atamabekleyenzz      0  \n",
       "2997       memrahinci      0  \n",
       "2998       muratkkk18      0  \n",
       "2999  mnferitfenerba1      0  \n",
       "\n",
       "[3000 rows x 20 columns]"
      ]
     },
     "execution_count": 54,
     "metadata": {},
     "output_type": "execute_result"
    }
   ],
   "source": [
    "dfBotAll_train"
   ]
  },
  {
   "cell_type": "markdown",
   "metadata": {
    "id": "qq6wCVglFwZy"
   },
   "source": [
    "### 2.2.2. Separate X and y values\n",
    "We use only 4 features here to create a baseline model. However, it is not enough to get good results."
   ]
  },
  {
   "cell_type": "code",
   "execution_count": null,
   "metadata": {
    "id": "xFIL6bF4pgS7"
   },
   "outputs": [],
   "source": [
    "dfBotAll_train.drop([\"user_id\",\"user_name\",\"user_screen_name\",\"user_location\",\"user_description\",\"created_at\",\"screen_name\"],axis=1,inplace=True)"
   ]
  },
  {
   "cell_type": "code",
   "execution_count": null,
   "metadata": {
    "colab": {
     "base_uri": "https://localhost:8080/"
    },
    "id": "qCWADdukHo6r",
    "outputId": "e350faf1-88b6-43da-ad87-2389d77f6c8a"
   },
   "outputs": [
    {
     "data": {
      "text/plain": [
       "['user_followers_count',\n",
       " 'user_friends_count',\n",
       " 'description_len',\n",
       " 'followers_to_all_ratio',\n",
       " 'verified',\n",
       " 'geo_enabled',\n",
       " 'favourites_count',\n",
       " 'account_age_days',\n",
       " 'network',\n",
       " 'retweet_total_ratio',\n",
       " 'num_median_favorites',\n",
       " 'num_of_tweets',\n",
       " 'isBot']"
      ]
     },
     "execution_count": 56,
     "metadata": {},
     "output_type": "execute_result"
    }
   ],
   "source": [
    "list(dfBotAll_train.columns)"
   ]
  },
  {
   "cell_type": "code",
   "execution_count": null,
   "metadata": {
    "ExecuteTime": {
     "end_time": "2022-12-29T20:01:23.353587Z",
     "start_time": "2022-12-29T20:01:23.320196Z"
    },
    "collapsed": true,
    "id": "P_PsDneQFwZy"
   },
   "outputs": [],
   "source": [
    "X_bot = dfBotAll_train.drop(\"isBot\",axis=1)\n",
    "y_bot = dfBotAll_train['isBot']"
   ]
  },
  {
   "cell_type": "markdown",
   "metadata": {
    "id": "gNUsIUQ2FwZz"
   },
   "source": [
    "### 2.2.3. Train-test split"
   ]
  },
  {
   "cell_type": "code",
   "execution_count": null,
   "metadata": {
    "id": "AL6UncTHqq_S"
   },
   "outputs": [],
   "source": [
    "#while submitting use this cell dont split data\n",
    "\n",
    "X_train_bot= X_bot\n",
    "y_train_bot= y_bot\n",
    "\n",
    "scaler = StandardScaler()\n",
    "X_train_bot = scaler.fit_transform(X_train_bot)\n"
   ]
  },
  {
   "cell_type": "code",
   "execution_count": null,
   "metadata": {
    "ExecuteTime": {
     "end_time": "2022-12-29T20:01:25.431157Z",
     "start_time": "2022-12-29T20:01:25.394434Z"
    },
    "collapsed": true,
    "id": "zBJjxRcnFwZz"
   },
   "outputs": [],
   "source": [
    "#while submitting, comment this cell, dont split data\n",
    "\"\"\"from sklearn.model_selection import train_test_split\n",
    "\n",
    "X_train_bot, X_val_bot, y_train_bot, y_val_bot = train_test_split(X_bot, y_bot, test_size=0.20, random_state=42)\n",
    "scaler = StandardScaler()\n",
    "X_train_bot = scaler.fit_transform(X_train_bot)\n",
    "X_val_bot = scaler.fit_transform(X_val_bot)\"\"\""
   ]
  },
  {
   "cell_type": "markdown",
   "metadata": {
    "id": "ejWXbMAXFwZz"
   },
   "source": [
    "### 2.2.4. Train the model"
   ]
  },
  {
   "cell_type": "code",
   "execution_count": null,
   "metadata": {
    "id": "9egy6G3RbnQO"
   },
   "outputs": [],
   "source": [
    "import xgboost as xgb\n",
    "from xgboost import XGBClassifier\n",
    "from sklearn.model_selection import GridSearchCV"
   ]
  },
  {
   "cell_type": "code",
   "execution_count": null,
   "metadata": {
    "colab": {
     "base_uri": "https://localhost:8080/"
    },
    "id": "meiy1lITbrz-",
    "outputId": "843edbde-2b96-4596-99af-e7327dc39466"
   },
   "outputs": [
    {
     "name": "stdout",
     "output_type": "stream",
     "text": [
      "Fitting 5 folds for each of 2160 candidates, totalling 10800 fits\n"
     ]
    },
    {
     "data": {
      "text/plain": [
       "{'colsample_bytree': 0.7,\n",
       " 'gamma': 0.1,\n",
       " 'learning_rate:': 0.001,\n",
       " 'max_depth': 5,\n",
       " 'min_child_weight': 3,\n",
       " 'subsample': 0.8}"
      ]
     },
     "execution_count": 37,
     "metadata": {},
     "output_type": "execute_result"
    }
   ],
   "source": [
    "\"\"\"params = {\n",
    "    'learning_rate:': [0.001, 0.01, 0.1],\n",
    "    'n_estimators':\n",
    "    'max_depth': range(1, 7, 2),\n",
    "    \"min_child_weight\": [3, 5, 7],\n",
    "    'subsample':[i/10.0 for i in range(6,10)],\n",
    "    'colsample_bytree':[i/10.0 for i in range(6,10)],\n",
    "    'gamma':[i/10.0 for i in range(0,5)]\n",
    "}\n",
    "xgb = GridSearchCV(XGBClassifier(), params, cv=5,scoring = 'accuracy', \n",
    "                   return_train_score=False, \n",
    "                    verbose=1, \n",
    "                    refit=True,\n",
    "                    n_jobs=-1)\n",
    "xgb.fit(X_train_bot, y_train_bot)\n",
    "xgb.best_params_\"\"\""
   ]
  },
  {
   "cell_type": "code",
   "execution_count": null,
   "metadata": {
    "id": "6i-Veeec-TS9"
   },
   "outputs": [],
   "source": [
    "best_param_bot= {'colsample_bytree': 0.7,\n",
    " 'gamma': 0.1,\n",
    " 'n_estimators': 100,\n",
    " 'learning_rate:': 0.001,\n",
    " 'max_depth': 5,\n",
    " 'min_child_weight': 3,\n",
    " 'subsample': 0.8}"
   ]
  },
  {
   "cell_type": "code",
   "execution_count": null,
   "metadata": {
    "id": "9zUh7HiI-y5O"
   },
   "outputs": [],
   "source": [
    "from sklearn.metrics import accuracy_score, confusion_matrix, mean_squared_error"
   ]
  },
  {
   "cell_type": "code",
   "execution_count": null,
   "metadata": {
    "colab": {
     "base_uri": "https://localhost:8080/"
    },
    "id": "HoEh-X7eDz1x",
    "outputId": "368f8f2e-808a-4da6-8c92-46a2ef1a819a"
   },
   "outputs": [
    {
     "data": {
      "text/plain": [
       "XGBClassifier(colsample_bytree=0.7, gamma=0.1, learning_rate=0.01, max_depth=5,\n",
       "              min_child_weight=3, subsample=0.8)"
      ]
     },
     "execution_count": 60,
     "metadata": {},
     "output_type": "execute_result"
    }
   ],
   "source": [
    "#while submitting\n",
    "model_bot= XGBClassifier(learning_rate= 0.01, min_child_weight = 3, n_estimators= 100, colsample_bytree=0.7, gamma=0.1, max_depth=5, subsample=0.8)\n",
    "model_bot.fit(X_train_bot, y_train_bot)"
   ]
  },
  {
   "cell_type": "markdown",
   "metadata": {
    "id": "kgu9t5zVE0g1"
   },
   "source": [
    "Validation"
   ]
  },
  {
   "cell_type": "code",
   "execution_count": null,
   "metadata": {
    "colab": {
     "base_uri": "https://localhost:8080/"
    },
    "id": "EbkcHPmvfK_F",
    "outputId": "27935ddd-1dc1-4673-ec48-1d15496bd81f"
   },
   "outputs": [
    {
     "name": "stdout",
     "output_type": "stream",
     "text": [
      "MSE: 0.17333333333333334 \n",
      " Accuracy Score: 0.8266666666666667 \n",
      " Confusion Matrix: \n",
      " [[472  21]\n",
      " [ 83  24]]\n"
     ]
    }
   ],
   "source": [
    "\"\"\"xgb_classifier= XGBClassifier(learning_rate= 0.01, min_child_weight = 3, n_estimators= 100, colsample_bytree=0.7, gamma=0.1, max_depth=5, subsample=0.8)\n",
    "xgb_classifier.fit(X_train_bot, y_train_bot)\n",
    "preds = xgb_classifier.predict(X_val_bot)\n",
    "\n",
    "# evaluate on validation set\n",
    "acc_score = accuracy_score(y_val_bot, preds)\n",
    "confusion = confusion_matrix(y_val_bot, preds)\n",
    "mse = mean_squared_error(y_val_bot, preds)\n",
    "\n",
    "print(\"MSE:\", mse, \"\\n\",\n",
    "      \"Accuracy Score:\", acc_score, \"\\n\",\n",
    "      \"Confusion Matrix:\", \"\\n\", confusion)\"\"\""
   ]
  }
 ],
 "metadata": {
  "colab": {
   "provenance": []
  },
  "kernelspec": {
   "display_name": "Python 3 (ipykernel)",
   "language": "python",
   "name": "python3"
  },
  "language_info": {
   "codemirror_mode": {
    "name": "ipython",
    "version": 3
   },
   "file_extension": ".py",
   "mimetype": "text/x-python",
   "name": "python",
   "nbconvert_exporter": "python",
   "pygments_lexer": "ipython3",
   "version": "3.10.4"
  }
 },
 "nbformat": 4,
 "nbformat_minor": 1
}
